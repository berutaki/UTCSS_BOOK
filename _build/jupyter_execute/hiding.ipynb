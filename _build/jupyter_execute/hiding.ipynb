{
 "cells": [
  {
   "cell_type": "markdown",
   "id": "9066a48b",
   "metadata": {},
   "source": [
    "# Hiding cell contents\n",
    "\n",
    "You can use Jupyter Notebook **cell tags** to control some of the behavior of\n",
    "the rendered notebook. This uses the [**`sphinx-togglebutton`**](https://sphinx-togglebutton.readthedocs.io/en/latest/)\n",
    "package to add a little button that toggles the visibility of content.[^download]\n",
    "\n",
    "[^download]: This notebook can be downloaded as\n",
    "            **{jupyter-download:notebook}`hiding`** and {download}`hiding.md`\n",
    "\n",
    "(use/hiding/code)=\n",
    "\n",
    "## Hiding code cells\n",
    "\n",
    "You can use **cell tags** to control the content hidden with code cells.\n",
    "Add the following tags to a cell's metadata to control\n",
    "what to hide in code cells:\n",
    "\n",
    "* **`hide-input`** tag to hide the cell inputs\n",
    "* **`hide-output`** to hide the cell outputs\n",
    "* **`hide-cell`** to hide the entire cell\n",
    "\n",
    "For example, we'll show cells with each below."
   ]
  },
  {
   "cell_type": "code",
   "execution_count": 1,
   "id": "fde953f4",
   "metadata": {
    "tags": [
     "remove-cell"
    ]
   },
   "outputs": [
    {
     "ename": "ModuleNotFoundError",
     "evalue": "No module named 'matplotlib'",
     "output_type": "error",
     "traceback": [
      "\u001b[0;31m---------------------------------------------------------------------------\u001b[0m",
      "\u001b[0;31mModuleNotFoundError\u001b[0m                       Traceback (most recent call last)",
      "Cell \u001b[0;32mIn[1], line 1\u001b[0m\n\u001b[0;32m----> 1\u001b[0m \u001b[38;5;28;01mimport\u001b[39;00m \u001b[38;5;21;01mmatplotlib\u001b[39;00m\u001b[38;5;21;01m.\u001b[39;00m\u001b[38;5;21;01mpyplot\u001b[39;00m \u001b[38;5;28;01mas\u001b[39;00m \u001b[38;5;21;01mplt\u001b[39;00m\n\u001b[1;32m      2\u001b[0m \u001b[38;5;28;01mimport\u001b[39;00m \u001b[38;5;21;01mnumpy\u001b[39;00m \u001b[38;5;28;01mas\u001b[39;00m \u001b[38;5;21;01mnp\u001b[39;00m\n\u001b[1;32m      3\u001b[0m data \u001b[38;5;241m=\u001b[39m np\u001b[38;5;241m.\u001b[39mrandom\u001b[38;5;241m.\u001b[39mrand(\u001b[38;5;241m2\u001b[39m, \u001b[38;5;241m100\u001b[39m) \u001b[38;5;241m*\u001b[39m \u001b[38;5;241m100\u001b[39m\n",
      "\u001b[0;31mModuleNotFoundError\u001b[0m: No module named 'matplotlib'"
     ]
    }
   ],
   "source": [
    "import matplotlib.pyplot as plt\n",
    "import numpy as np\n",
    "data = np.random.rand(2, 100) * 100"
   ]
  },
  {
   "cell_type": "markdown",
   "id": "4d99881f",
   "metadata": {},
   "source": [
    "Here is a cell with a `hide-input` tag. Click the \"toggle\" button to the\n",
    "right to show it."
   ]
  },
  {
   "cell_type": "code",
   "execution_count": null,
   "id": "3f839b79",
   "metadata": {
    "tags": [
     "hide-input"
    ]
   },
   "outputs": [],
   "source": [
    "# This cell has a hide-input tag\n",
    "fig, ax = plt.subplots()\n",
    "points =ax.scatter(*data, c=data[0], s=data[0])"
   ]
  },
  {
   "cell_type": "markdown",
   "id": "b6e35eac",
   "metadata": {},
   "source": [
    "Here's a cell with a `hide-output` tag:"
   ]
  },
  {
   "cell_type": "code",
   "execution_count": null,
   "id": "203ff70e",
   "metadata": {
    "tags": [
     "hide-output"
    ]
   },
   "outputs": [],
   "source": [
    "# This cell has a hide-output tag\n",
    "fig, ax = plt.subplots()\n",
    "points =ax.scatter(*data, c=data[0], s=data[0])"
   ]
  },
  {
   "cell_type": "markdown",
   "id": "3bcfaec5",
   "metadata": {},
   "source": [
    "And the following cell has a `hide-cell` tag:"
   ]
  },
  {
   "cell_type": "code",
   "execution_count": null,
   "id": "a12e5a80",
   "metadata": {
    "tags": [
     "hide-cell"
    ]
   },
   "outputs": [],
   "source": [
    "# This cell has a hide-cell tag\n",
    "fig, ax = plt.subplots()\n",
    "points =ax.scatter(*data, c=data[0], s=data[0])"
   ]
  },
  {
   "cell_type": "markdown",
   "id": "0c4de00e",
   "metadata": {},
   "source": [
    "(use/hiding/markdown)=\n",
    "\n",
    "## Hiding markdown cells\n",
    "\n",
    "There are two ways to hide markdown cells. First, **you can add the `hide-input`**\n",
    "cell metadata. This triggers the same hiding behavior described above for\n",
    "code cells."
   ]
  },
  {
   "cell_type": "markdown",
   "id": "385e60d3",
   "metadata": {
    "tags": [
     "hide-input"
    ]
   },
   "source": [
    "```{note}\n",
    "This cell was hidden by adding a `hide-input` tag to it!\n",
    "```"
   ]
  },
  {
   "cell_type": "markdown",
   "id": "10462372",
   "metadata": {},
   "source": [
    "You may also **use a Sphinx directive** to hide specific markdown content. This\n",
    "is possible by adding the **`.toggle`** class to any block-level directive\n",
    "that will allow for classes. For example, to the `container`, `note`, or `admonition`\n",
    "directives.\n",
    "\n",
    "For example, the hidden block below\n",
    "\n",
    "```{admonition} This cell was hidden with the toggle class\n",
    ":class: toggle\n",
    "Wow, a hidden block! ✨✨\n",
    "```\n",
    "\n",
    "Is generated with the following code:\n",
    "\n",
    "````\n",
    "```{admonition} This cell was hidden with the toggle class\n",
    ":class: toggle\n",
    "Wow, a hidden block! ✨✨\n",
    "```\n",
    "````\n",
    "\n",
    "\n",
    "`````{admonition} Don't add headings to toggle-able sections\n",
    "\n",
    "Note that containers for markdown (like notes, or this `container`\n",
    "directive) cannot have their own headings (ie, lines that start\n",
    "with `#`. If you'd like to use headings, do one of the following:\n",
    "\n",
    "* Use **bolded text** if you want to highlight sections of a\n",
    "  toggle-able section.\n",
    "* Use an **admonition** directive to control the title of the\n",
    "  message box (that's what this message box uses). Like so:\n",
    "  ````\n",
    "  ```{admonition} my admonition title\n",
    "  My admonition content\n",
    "  ```\n",
    "  ````\n",
    "`````"
   ]
  },
  {
   "cell_type": "markdown",
   "id": "29029917",
   "metadata": {},
   "source": [
    "(use/removing)=\n",
    "\n",
    "## Removing parts of cells\n",
    "\n",
    "Sometimes, you want to entirely remove parts of a cell so that it doesn't make it\n",
    "into the output at all. To do this, you can use the same tag pattern described above,\n",
    "but with the word `remove_` instead of `hide_`. Use the following tags:\n",
    "\n",
    "* **`remove-input`** tag to remove the cell inputs\n",
    "* **`remove-output`** to remove the cell outputs\n",
    "* **`remove-cell`** to remove the entire cell"
   ]
  },
  {
   "cell_type": "markdown",
   "id": "aae0185b",
   "metadata": {},
   "source": [
    "Here is a cell with a `remove-input` tag. The inputs will not make it into\n",
    "the page at all."
   ]
  },
  {
   "cell_type": "code",
   "execution_count": null,
   "id": "ade482ef",
   "metadata": {
    "tags": [
     "remove-input"
    ]
   },
   "outputs": [],
   "source": [
    "# This cell has a remove-input tag\n",
    "fig, ax = plt.subplots()\n",
    "points =ax.scatter(*data, c=data[0], s=data[0])"
   ]
  },
  {
   "cell_type": "markdown",
   "id": "3ea3cacf",
   "metadata": {},
   "source": [
    "Here's a cell with a `remove-output` tag:"
   ]
  },
  {
   "cell_type": "code",
   "execution_count": null,
   "id": "288e6281",
   "metadata": {
    "tags": [
     "remove-output"
    ]
   },
   "outputs": [],
   "source": [
    "# This cell has a remove-output tag\n",
    "fig, ax = plt.subplots()\n",
    "points = ax.scatter(*data, c=data[0], s=data[0])"
   ]
  },
  {
   "cell_type": "markdown",
   "id": "262e69aa",
   "metadata": {},
   "source": [
    "And the following cell has a `remove-cell` tag (there should be nothing\n",
    "below, since the cell will be gone)."
   ]
  },
  {
   "cell_type": "code",
   "execution_count": null,
   "id": "4d790bfa",
   "metadata": {
    "tags": [
     "remove-cell"
    ]
   },
   "outputs": [],
   "source": [
    "# This cell has a remove-cell tag\n",
    "fig, ax = plt.subplots()\n",
    "points = ax.scatter(*data, c=data[0], s=data[0])"
   ]
  }
 ],
 "metadata": {
  "jupytext": {
   "text_representation": {
    "extension": ".md",
    "format_name": "myst",
    "format_version": "0.8",
    "jupytext_version": "1.4.1"
   }
  },
  "kernelspec": {
   "display_name": "Python 3",
   "language": "python",
   "name": "python3"
  },
  "language_info": {
   "codemirror_mode": {
    "name": "ipython",
    "version": 3
   },
   "file_extension": ".py",
   "mimetype": "text/x-python",
   "name": "python",
   "nbconvert_exporter": "python",
   "pygments_lexer": "ipython3",
   "version": "3.9.19"
  },
  "source_map": [
   12,
   37,
   43,
   48,
   54,
   58,
   64,
   68,
   74,
   84,
   90,
   131,
   145,
   150,
   156,
   160,
   166,
   171
  ]
 },
 "nbformat": 4,
 "nbformat_minor": 5
}