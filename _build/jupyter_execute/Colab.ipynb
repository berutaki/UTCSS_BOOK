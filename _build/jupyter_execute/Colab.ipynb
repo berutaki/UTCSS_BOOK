{
 "cells": [
  {
   "cell_type": "markdown",
   "metadata": {},
   "source": [
    "- このセミナーでは、Google Colaboratoryの使用を推奨します。"
   ]
  },
  {
   "cell_type": "markdown",
   "metadata": {},
   "source": [
    "## Colabについて\n",
    "- Pythonコードを記述し、実行できるインタラクティブな環境\n",
    "- ipynbファイルを開いて、操作できる\n"
   ]
  },
  {
   "cell_type": "markdown",
   "metadata": {},
   "source": [
    "### セルとモード\n",
    "- セル：Colabの基本要素。コードとテキストの２種類がある。\n",
    "- モード：エディットモード（ダブルクリックかEnter）とコマンドモード（Esc）\n"
   ]
  },
  {
   "cell_type": "markdown",
   "metadata": {},
   "source": [
    "### ショートカット\n",
    "#### エディットモードで\n",
    "- 実行：Shift + Enter\n",
    "\n",
    "#### コマンドモードで\n",
    "- 上にセルを作る：Cmd + M A\n",
    "- 下にセルを作る：Cmd + M B\n",
    "- セルをコードに：Cmd + M Y\n",
    "- セルをテキストに：Cmd + M M\n",
    "- セルの切り取り：Cmd + M D\n",
    "- セルのコピー：（Cmd + M C）ツール＞キーボードショートカットから設定 \n",
    "- セルの貼り付け：Cmd + V\n",
    "\n"
   ]
  },
  {
   "cell_type": "markdown",
   "metadata": {},
   "source": [
    "### タブ補完\n",
    "- 関数やメソッド、変数名などを途中まで書いてタブを押すと補完されます。\n",
    "\n",
    "### その他\n",
    "- 関数などの先頭に?として実行するとヘルプを読むことができます（後で説明）。\n",
    "- プログラムのバグなどで実行が終わらないときは、ツールバーからKernel -> Interruptで止めることができます。\n",
    "\n",
    "### 資料についての注意\n",
    "- 問題作成の一部にはchatGPT(GPT-4)を用いています。"
   ]
  }
 ],
 "metadata": {
  "language_info": {
   "name": "python"
  }
 },
 "nbformat": 4,
 "nbformat_minor": 2
}