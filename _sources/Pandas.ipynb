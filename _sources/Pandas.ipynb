{
 "cells": [
  {
   "cell_type": "code",
   "execution_count": 1,
   "metadata": {
    "colab": {
     "base_uri": "https://localhost:8080/"
    },
    "id": "vRkMp0_kIMlq",
    "outputId": "6ed090ff-7100-493c-d042-9c49c9b793c1"
   },
   "outputs": [],
   "source": [
    "#from google.colab import drive\n",
    "#drive.mount('/content/drive')"
   ]
  },
  {
   "cell_type": "code",
   "execution_count": 2,
   "metadata": {
    "colab": {
     "base_uri": "https://localhost:8080/"
    },
    "id": "kf2XiE9MIPf6",
    "outputId": "fde8948a-e6ba-44a0-8733-6c864e822c7c"
   },
   "outputs": [
    {
     "name": "stdout",
     "output_type": "stream",
     "text": [
      "[Errno 2] No such file or directory: '/content/drive/MyDrive/cssws2023'\n",
      "/Users/hirokitakikawa/Library/CloudStorage/Dropbox/UT_nlp_workshop/workshop2024\n"
     ]
    }
   ],
   "source": [
    "#%cd /content/drive/MyDrive/cssws2023"
   ]
  },
  {
   "cell_type": "markdown",
   "metadata": {
    "id": "voML8jlM-gnr"
   },
   "source": [
    "# pandas入門\n",
    "## pandasについて\n",
    "- pandasはRのデータフレームの思想を引き継いだデータ処理のためのモジュールです。\n",
    "- Rのデータフレームと同じく，データを表形式で操作できます。データ処理、分析のためには必須のモジュールといえます。\n",
    "\n",
    "\n"
   ]
  },
  {
   "cell_type": "code",
   "execution_count": 3,
   "metadata": {},
   "outputs": [],
   "source": [
    "import pandas as pd\n",
    "import plotly.express as px#練習用のデータフレームを用いるためにplotyもimportします。"
   ]
  },
  {
   "cell_type": "markdown",
   "metadata": {
    "id": "6Ew2u-ymDI0P"
   },
   "source": [
    "### データフレームの構造\n",
    "- データフレームは次のようなindexとcolumnsをもつ構造となっています。\n",
    "\n",
    "<img src=\"https://raw.githubusercontent.com/berutaki/github.io/main/2-0.png\" width=\"500\">\n",
    "\n"
   ]
  },
  {
   "cell_type": "markdown",
   "metadata": {},
   "source": [
    "- plotlyのサンプルtipsを実際に読み込んでみます。"
   ]
  },
  {
   "cell_type": "code",
   "execution_count": 4,
   "metadata": {
    "executionInfo": {
     "elapsed": 271,
     "status": "ok",
     "timestamp": 1682748684274,
     "user": {
      "displayName": "瀧川裕貴",
      "userId": "05752887510241032794"
     },
     "user_tz": -540
    },
    "id": "gLquR0N5j6gg"
   },
   "outputs": [],
   "source": [
    "tips = px.data.tips()"
   ]
  },
  {
   "cell_type": "code",
   "execution_count": 5,
   "metadata": {
    "colab": {
     "base_uri": "https://localhost:8080/",
     "height": 206
    },
    "executionInfo": {
     "elapsed": 478,
     "status": "ok",
     "timestamp": 1682748696800,
     "user": {
      "displayName": "瀧川裕貴",
      "userId": "05752887510241032794"
     },
     "user_tz": -540
    },
    "id": "Zz0tx-SGki2m",
    "outputId": "081716f0-86e6-4675-e8fb-0827d41c9ff2"
   },
   "outputs": [
    {
     "data": {
      "text/html": [
       "<div>\n",
       "<style scoped>\n",
       "    .dataframe tbody tr th:only-of-type {\n",
       "        vertical-align: middle;\n",
       "    }\n",
       "\n",
       "    .dataframe tbody tr th {\n",
       "        vertical-align: top;\n",
       "    }\n",
       "\n",
       "    .dataframe thead th {\n",
       "        text-align: right;\n",
       "    }\n",
       "</style>\n",
       "<table border=\"1\" class=\"dataframe\">\n",
       "  <thead>\n",
       "    <tr style=\"text-align: right;\">\n",
       "      <th></th>\n",
       "      <th>total_bill</th>\n",
       "      <th>tip</th>\n",
       "      <th>sex</th>\n",
       "      <th>smoker</th>\n",
       "      <th>day</th>\n",
       "      <th>time</th>\n",
       "      <th>size</th>\n",
       "    </tr>\n",
       "  </thead>\n",
       "  <tbody>\n",
       "    <tr>\n",
       "      <th>0</th>\n",
       "      <td>16.99</td>\n",
       "      <td>1.01</td>\n",
       "      <td>Female</td>\n",
       "      <td>No</td>\n",
       "      <td>Sun</td>\n",
       "      <td>Dinner</td>\n",
       "      <td>2</td>\n",
       "    </tr>\n",
       "    <tr>\n",
       "      <th>1</th>\n",
       "      <td>10.34</td>\n",
       "      <td>1.66</td>\n",
       "      <td>Male</td>\n",
       "      <td>No</td>\n",
       "      <td>Sun</td>\n",
       "      <td>Dinner</td>\n",
       "      <td>3</td>\n",
       "    </tr>\n",
       "    <tr>\n",
       "      <th>2</th>\n",
       "      <td>21.01</td>\n",
       "      <td>3.50</td>\n",
       "      <td>Male</td>\n",
       "      <td>No</td>\n",
       "      <td>Sun</td>\n",
       "      <td>Dinner</td>\n",
       "      <td>3</td>\n",
       "    </tr>\n",
       "    <tr>\n",
       "      <th>3</th>\n",
       "      <td>23.68</td>\n",
       "      <td>3.31</td>\n",
       "      <td>Male</td>\n",
       "      <td>No</td>\n",
       "      <td>Sun</td>\n",
       "      <td>Dinner</td>\n",
       "      <td>2</td>\n",
       "    </tr>\n",
       "    <tr>\n",
       "      <th>4</th>\n",
       "      <td>24.59</td>\n",
       "      <td>3.61</td>\n",
       "      <td>Female</td>\n",
       "      <td>No</td>\n",
       "      <td>Sun</td>\n",
       "      <td>Dinner</td>\n",
       "      <td>4</td>\n",
       "    </tr>\n",
       "  </tbody>\n",
       "</table>\n",
       "</div>"
      ],
      "text/plain": [
       "   total_bill   tip     sex smoker  day    time  size\n",
       "0       16.99  1.01  Female     No  Sun  Dinner     2\n",
       "1       10.34  1.66    Male     No  Sun  Dinner     3\n",
       "2       21.01  3.50    Male     No  Sun  Dinner     3\n",
       "3       23.68  3.31    Male     No  Sun  Dinner     2\n",
       "4       24.59  3.61  Female     No  Sun  Dinner     4"
      ]
     },
     "execution_count": 5,
     "metadata": {},
     "output_type": "execute_result"
    }
   ],
   "source": [
    "tips.head()"
   ]
  },
  {
   "cell_type": "markdown",
   "metadata": {},
   "source": [
    "- 列名は.columnsに格納されています。"
   ]
  },
  {
   "cell_type": "code",
   "execution_count": 6,
   "metadata": {},
   "outputs": [
    {
     "data": {
      "text/plain": [
       "Index(['total_bill', 'tip', 'sex', 'smoker', 'day', 'time', 'size'], dtype='object')"
      ]
     },
     "execution_count": 6,
     "metadata": {},
     "output_type": "execute_result"
    }
   ],
   "source": [
    "tips.columns"
   ]
  },
  {
   "cell_type": "markdown",
   "metadata": {},
   "source": [
    "- 各列を一列として取り出すとシリーズというオブジェクトになります。\n"
   ]
  },
  {
   "cell_type": "markdown",
   "metadata": {},
   "source": [
    "```{note}\n",
    "シリーズはindexはもちますが、columnsはもちません。\n"
   ]
  },
  {
   "cell_type": "code",
   "execution_count": 7,
   "metadata": {
    "colab": {
     "base_uri": "https://localhost:8080/"
    },
    "executionInfo": {
     "elapsed": 581,
     "status": "ok",
     "timestamp": 1682748746196,
     "user": {
      "displayName": "瀧川裕貴",
      "userId": "05752887510241032794"
     },
     "user_tz": -540
    },
    "id": "cXlNRfMpmzpV",
    "outputId": "481f8a88-f4c7-4bab-83f1-d7ffa1da4796"
   },
   "outputs": [
    {
     "data": {
      "text/plain": [
       "0      16.99\n",
       "1      10.34\n",
       "2      21.01\n",
       "3      23.68\n",
       "4      24.59\n",
       "       ...  \n",
       "239    29.03\n",
       "240    27.18\n",
       "241    22.67\n",
       "242    17.82\n",
       "243    18.78\n",
       "Name: total_bill, Length: 244, dtype: float64"
      ]
     },
     "execution_count": 7,
     "metadata": {},
     "output_type": "execute_result"
    }
   ],
   "source": [
    "tips.total_bill"
   ]
  },
  {
   "cell_type": "code",
   "execution_count": 8,
   "metadata": {},
   "outputs": [
    {
     "data": {
      "text/plain": [
       "RangeIndex(start=0, stop=244, step=1)"
      ]
     },
     "execution_count": 8,
     "metadata": {},
     "output_type": "execute_result"
    }
   ],
   "source": [
    "tips.total_bill.index"
   ]
  },
  {
   "cell_type": "markdown",
   "metadata": {},
   "source": [
    "```{tip}\n",
    "- シリーズの中身の値をとり出したい場合は.valuesに格納されています。"
   ]
  },
  {
   "cell_type": "code",
   "execution_count": 9,
   "metadata": {},
   "outputs": [
    {
     "data": {
      "text/plain": [
       "array([  0,   1,   2,   3,   4,   5,   6,   7,   8,   9,  10,  11,  12,\n",
       "        13,  14,  15,  16,  17,  18,  19,  20,  21,  22,  23,  24,  25,\n",
       "        26,  27,  28,  29,  30,  31,  32,  33,  34,  35,  36,  37,  38,\n",
       "        39,  40,  41,  42,  43,  44,  45,  46,  47,  48,  49,  50,  51,\n",
       "        52,  53,  54,  55,  56,  57,  58,  59,  60,  61,  62,  63,  64,\n",
       "        65,  66,  67,  68,  69,  70,  71,  72,  73,  74,  75,  76,  77,\n",
       "        78,  79,  80,  81,  82,  83,  84,  85,  86,  87,  88,  89,  90,\n",
       "        91,  92,  93,  94,  95,  96,  97,  98,  99, 100, 101, 102, 103,\n",
       "       104, 105, 106, 107, 108, 109, 110, 111, 112, 113, 114, 115, 116,\n",
       "       117, 118, 119, 120, 121, 122, 123, 124, 125, 126, 127, 128, 129,\n",
       "       130, 131, 132, 133, 134, 135, 136, 137, 138, 139, 140, 141, 142,\n",
       "       143, 144, 145, 146, 147, 148, 149, 150, 151, 152, 153, 154, 155,\n",
       "       156, 157, 158, 159, 160, 161, 162, 163, 164, 165, 166, 167, 168,\n",
       "       169, 170, 171, 172, 173, 174, 175, 176, 177, 178, 179, 180, 181,\n",
       "       182, 183, 184, 185, 186, 187, 188, 189, 190, 191, 192, 193, 194,\n",
       "       195, 196, 197, 198, 199, 200, 201, 202, 203, 204, 205, 206, 207,\n",
       "       208, 209, 210, 211, 212, 213, 214, 215, 216, 217, 218, 219, 220,\n",
       "       221, 222, 223, 224, 225, 226, 227, 228, 229, 230, 231, 232, 233,\n",
       "       234, 235, 236, 237, 238, 239, 240, 241, 242, 243])"
      ]
     },
     "execution_count": 9,
     "metadata": {},
     "output_type": "execute_result"
    }
   ],
   "source": [
    "tips.index.values"
   ]
  },
  {
   "cell_type": "markdown",
   "metadata": {
    "id": "-uzJaVetVSIQ"
   },
   "source": [
    "### データの確認\n",
    "- データの中身を確認するいくつかのメソッドを紹介します。\n",
    "- shapeには（行数,列数）がタプル型で格納されています。\n"
   ]
  },
  {
   "cell_type": "code",
   "execution_count": 10,
   "metadata": {
    "colab": {
     "base_uri": "https://localhost:8080/"
    },
    "executionInfo": {
     "elapsed": 289,
     "status": "ok",
     "timestamp": 1682748837979,
     "user": {
      "displayName": "瀧川裕貴",
      "userId": "05752887510241032794"
     },
     "user_tz": -540
    },
    "id": "NQzJ6_QRVRi7",
    "outputId": "1e053430-1f47-4abe-8a80-8f9e2886902d"
   },
   "outputs": [
    {
     "data": {
      "text/plain": [
       "(244, 7)"
      ]
     },
     "execution_count": 10,
     "metadata": {},
     "output_type": "execute_result"
    }
   ],
   "source": [
    "tips.shape"
   ]
  },
  {
   "cell_type": "markdown",
   "metadata": {},
   "source": [
    "- describe()は要約統計量を出力します。\n"
   ]
  },
  {
   "cell_type": "code",
   "execution_count": 11,
   "metadata": {
    "colab": {
     "base_uri": "https://localhost:8080/",
     "height": 300
    },
    "executionInfo": {
     "elapsed": 275,
     "status": "ok",
     "timestamp": 1682748853085,
     "user": {
      "displayName": "瀧川裕貴",
      "userId": "05752887510241032794"
     },
     "user_tz": -540
    },
    "id": "gR1zSMH9WY2F",
    "outputId": "4088bed8-b88f-469a-b63f-451674af52d3"
   },
   "outputs": [
    {
     "data": {
      "text/html": [
       "<div>\n",
       "<style scoped>\n",
       "    .dataframe tbody tr th:only-of-type {\n",
       "        vertical-align: middle;\n",
       "    }\n",
       "\n",
       "    .dataframe tbody tr th {\n",
       "        vertical-align: top;\n",
       "    }\n",
       "\n",
       "    .dataframe thead th {\n",
       "        text-align: right;\n",
       "    }\n",
       "</style>\n",
       "<table border=\"1\" class=\"dataframe\">\n",
       "  <thead>\n",
       "    <tr style=\"text-align: right;\">\n",
       "      <th></th>\n",
       "      <th>total_bill</th>\n",
       "      <th>tip</th>\n",
       "      <th>size</th>\n",
       "    </tr>\n",
       "  </thead>\n",
       "  <tbody>\n",
       "    <tr>\n",
       "      <th>count</th>\n",
       "      <td>244.000000</td>\n",
       "      <td>244.000000</td>\n",
       "      <td>244.000000</td>\n",
       "    </tr>\n",
       "    <tr>\n",
       "      <th>mean</th>\n",
       "      <td>19.785943</td>\n",
       "      <td>2.998279</td>\n",
       "      <td>2.569672</td>\n",
       "    </tr>\n",
       "    <tr>\n",
       "      <th>std</th>\n",
       "      <td>8.902412</td>\n",
       "      <td>1.383638</td>\n",
       "      <td>0.951100</td>\n",
       "    </tr>\n",
       "    <tr>\n",
       "      <th>min</th>\n",
       "      <td>3.070000</td>\n",
       "      <td>1.000000</td>\n",
       "      <td>1.000000</td>\n",
       "    </tr>\n",
       "    <tr>\n",
       "      <th>25%</th>\n",
       "      <td>13.347500</td>\n",
       "      <td>2.000000</td>\n",
       "      <td>2.000000</td>\n",
       "    </tr>\n",
       "    <tr>\n",
       "      <th>50%</th>\n",
       "      <td>17.795000</td>\n",
       "      <td>2.900000</td>\n",
       "      <td>2.000000</td>\n",
       "    </tr>\n",
       "    <tr>\n",
       "      <th>75%</th>\n",
       "      <td>24.127500</td>\n",
       "      <td>3.562500</td>\n",
       "      <td>3.000000</td>\n",
       "    </tr>\n",
       "    <tr>\n",
       "      <th>max</th>\n",
       "      <td>50.810000</td>\n",
       "      <td>10.000000</td>\n",
       "      <td>6.000000</td>\n",
       "    </tr>\n",
       "  </tbody>\n",
       "</table>\n",
       "</div>"
      ],
      "text/plain": [
       "       total_bill         tip        size\n",
       "count  244.000000  244.000000  244.000000\n",
       "mean    19.785943    2.998279    2.569672\n",
       "std      8.902412    1.383638    0.951100\n",
       "min      3.070000    1.000000    1.000000\n",
       "25%     13.347500    2.000000    2.000000\n",
       "50%     17.795000    2.900000    2.000000\n",
       "75%     24.127500    3.562500    3.000000\n",
       "max     50.810000   10.000000    6.000000"
      ]
     },
     "execution_count": 11,
     "metadata": {},
     "output_type": "execute_result"
    }
   ],
   "source": [
    "tips.describe()"
   ]
  },
  {
   "cell_type": "code",
   "execution_count": 12,
   "metadata": {
    "colab": {
     "base_uri": "https://localhost:8080/"
    },
    "executionInfo": {
     "elapsed": 260,
     "status": "ok",
     "timestamp": 1682748879859,
     "user": {
      "displayName": "瀧川裕貴",
      "userId": "05752887510241032794"
     },
     "user_tz": -540
    },
    "id": "pMia7wxqWx5y",
    "outputId": "47a6ea9c-96db-46e1-ce3b-d51670de1531"
   },
   "outputs": [
    {
     "data": {
      "text/plain": [
       "count    244.000000\n",
       "mean      19.785943\n",
       "std        8.902412\n",
       "min        3.070000\n",
       "25%       13.347500\n",
       "50%       17.795000\n",
       "75%       24.127500\n",
       "max       50.810000\n",
       "Name: total_bill, dtype: float64"
      ]
     },
     "execution_count": 12,
     "metadata": {},
     "output_type": "execute_result"
    }
   ],
   "source": [
    "tips.total_bill.describe()"
   ]
  },
  {
   "cell_type": "markdown",
   "metadata": {},
   "source": [
    "- value_counts()はカテゴリ変数のカテゴリ数を数えます。\n"
   ]
  },
  {
   "cell_type": "code",
   "execution_count": 13,
   "metadata": {
    "colab": {
     "base_uri": "https://localhost:8080/"
    },
    "executionInfo": {
     "elapsed": 256,
     "status": "ok",
     "timestamp": 1682748888632,
     "user": {
      "displayName": "瀧川裕貴",
      "userId": "05752887510241032794"
     },
     "user_tz": -540
    },
    "id": "M0hLYWvMW1T_",
    "outputId": "f652da53-eed0-4a82-bf72-f42fbe396763"
   },
   "outputs": [
    {
     "data": {
      "text/plain": [
       "sex\n",
       "Male      157\n",
       "Female     87\n",
       "Name: count, dtype: int64"
      ]
     },
     "execution_count": 13,
     "metadata": {},
     "output_type": "execute_result"
    }
   ],
   "source": [
    "tips.sex.value_counts()"
   ]
  },
  {
   "cell_type": "markdown",
   "metadata": {},
   "source": [
    "- unique()はユニークな値を返します。"
   ]
  },
  {
   "cell_type": "code",
   "execution_count": 14,
   "metadata": {
    "colab": {
     "base_uri": "https://localhost:8080/"
    },
    "executionInfo": {
     "elapsed": 287,
     "status": "ok",
     "timestamp": 1682748898926,
     "user": {
      "displayName": "瀧川裕貴",
      "userId": "05752887510241032794"
     },
     "user_tz": -540
    },
    "id": "1rinNzshXeBE",
    "outputId": "b1a290ff-5282-48ae-bde6-87c26168bfb7"
   },
   "outputs": [
    {
     "data": {
      "text/plain": [
       "array(['Sun', 'Sat', 'Thur', 'Fri'], dtype=object)"
      ]
     },
     "execution_count": 14,
     "metadata": {},
     "output_type": "execute_result"
    }
   ],
   "source": [
    "tips.day.unique()"
   ]
  },
  {
   "cell_type": "markdown",
   "metadata": {
    "id": "7M3kE-ennOmp"
   },
   "source": [
    "## データフレームの基本的操作\n",
    "- データフレームの操作の基本は以下の5つにまとめることができます。\n",
    "  1. データ選択・条件によるフィルタリング\n",
    "  2. 変数の追加・リコード\n",
    "  3. ソート\n",
    "  4. フィルタリング\n",
    "  5. groupby"
   ]
  },
  {
   "cell_type": "markdown",
   "metadata": {
    "id": "r4VQ2PLioMBZ"
   },
   "source": [
    "### データ選択\n",
    "- 列の選択はhoge.列名かhoge['列名']で行います。\n"
   ]
  },
  {
   "cell_type": "code",
   "execution_count": 15,
   "metadata": {
    "colab": {
     "base_uri": "https://localhost:8080/"
    },
    "executionInfo": {
     "elapsed": 296,
     "status": "ok",
     "timestamp": 1682748986207,
     "user": {
      "displayName": "瀧川裕貴",
      "userId": "05752887510241032794"
     },
     "user_tz": -540
    },
    "id": "XFUI3eOboTMf",
    "outputId": "55992c89-de29-4faf-acca-adb2b093441e"
   },
   "outputs": [
    {
     "data": {
      "text/plain": [
       "0      16.99\n",
       "1      10.34\n",
       "2      21.01\n",
       "3      23.68\n",
       "4      24.59\n",
       "       ...  \n",
       "239    29.03\n",
       "240    27.18\n",
       "241    22.67\n",
       "242    17.82\n",
       "243    18.78\n",
       "Name: total_bill, Length: 244, dtype: float64"
      ]
     },
     "execution_count": 15,
     "metadata": {},
     "output_type": "execute_result"
    }
   ],
   "source": [
    "tips.total_bill"
   ]
  },
  {
   "cell_type": "code",
   "execution_count": 16,
   "metadata": {
    "colab": {
     "base_uri": "https://localhost:8080/"
    },
    "executionInfo": {
     "elapsed": 376,
     "status": "ok",
     "timestamp": 1682748993721,
     "user": {
      "displayName": "瀧川裕貴",
      "userId": "05752887510241032794"
     },
     "user_tz": -540
    },
    "id": "yL-7eZUnoy90",
    "outputId": "9ed0fe37-3ea9-4ed0-8a7b-1a50b8415c0e"
   },
   "outputs": [
    {
     "data": {
      "text/plain": [
       "0      16.99\n",
       "1      10.34\n",
       "2      21.01\n",
       "3      23.68\n",
       "4      24.59\n",
       "       ...  \n",
       "239    29.03\n",
       "240    27.18\n",
       "241    22.67\n",
       "242    17.82\n",
       "243    18.78\n",
       "Name: total_bill, Length: 244, dtype: float64"
      ]
     },
     "execution_count": 16,
     "metadata": {},
     "output_type": "execute_result"
    }
   ],
   "source": [
    "tips['total_bill']"
   ]
  },
  {
   "cell_type": "markdown",
   "metadata": {},
   "source": [
    "- 二列以上の選択は、リストを使って、hoge[['列名1','列名2']]とします。\n"
   ]
  },
  {
   "cell_type": "code",
   "execution_count": 17,
   "metadata": {
    "colab": {
     "base_uri": "https://localhost:8080/",
     "height": 423
    },
    "executionInfo": {
     "elapsed": 313,
     "status": "ok",
     "timestamp": 1682749008501,
     "user": {
      "displayName": "瀧川裕貴",
      "userId": "05752887510241032794"
     },
     "user_tz": -540
    },
    "id": "ZLwNwrK-pHlQ",
    "outputId": "6523cdc4-e8bb-4d97-f4ff-a40d52b8b692"
   },
   "outputs": [
    {
     "data": {
      "text/html": [
       "<div>\n",
       "<style scoped>\n",
       "    .dataframe tbody tr th:only-of-type {\n",
       "        vertical-align: middle;\n",
       "    }\n",
       "\n",
       "    .dataframe tbody tr th {\n",
       "        vertical-align: top;\n",
       "    }\n",
       "\n",
       "    .dataframe thead th {\n",
       "        text-align: right;\n",
       "    }\n",
       "</style>\n",
       "<table border=\"1\" class=\"dataframe\">\n",
       "  <thead>\n",
       "    <tr style=\"text-align: right;\">\n",
       "      <th></th>\n",
       "      <th>total_bill</th>\n",
       "      <th>tip</th>\n",
       "    </tr>\n",
       "  </thead>\n",
       "  <tbody>\n",
       "    <tr>\n",
       "      <th>0</th>\n",
       "      <td>16.99</td>\n",
       "      <td>1.01</td>\n",
       "    </tr>\n",
       "    <tr>\n",
       "      <th>1</th>\n",
       "      <td>10.34</td>\n",
       "      <td>1.66</td>\n",
       "    </tr>\n",
       "    <tr>\n",
       "      <th>2</th>\n",
       "      <td>21.01</td>\n",
       "      <td>3.50</td>\n",
       "    </tr>\n",
       "    <tr>\n",
       "      <th>3</th>\n",
       "      <td>23.68</td>\n",
       "      <td>3.31</td>\n",
       "    </tr>\n",
       "    <tr>\n",
       "      <th>4</th>\n",
       "      <td>24.59</td>\n",
       "      <td>3.61</td>\n",
       "    </tr>\n",
       "    <tr>\n",
       "      <th>...</th>\n",
       "      <td>...</td>\n",
       "      <td>...</td>\n",
       "    </tr>\n",
       "    <tr>\n",
       "      <th>239</th>\n",
       "      <td>29.03</td>\n",
       "      <td>5.92</td>\n",
       "    </tr>\n",
       "    <tr>\n",
       "      <th>240</th>\n",
       "      <td>27.18</td>\n",
       "      <td>2.00</td>\n",
       "    </tr>\n",
       "    <tr>\n",
       "      <th>241</th>\n",
       "      <td>22.67</td>\n",
       "      <td>2.00</td>\n",
       "    </tr>\n",
       "    <tr>\n",
       "      <th>242</th>\n",
       "      <td>17.82</td>\n",
       "      <td>1.75</td>\n",
       "    </tr>\n",
       "    <tr>\n",
       "      <th>243</th>\n",
       "      <td>18.78</td>\n",
       "      <td>3.00</td>\n",
       "    </tr>\n",
       "  </tbody>\n",
       "</table>\n",
       "<p>244 rows × 2 columns</p>\n",
       "</div>"
      ],
      "text/plain": [
       "     total_bill   tip\n",
       "0         16.99  1.01\n",
       "1         10.34  1.66\n",
       "2         21.01  3.50\n",
       "3         23.68  3.31\n",
       "4         24.59  3.61\n",
       "..          ...   ...\n",
       "239       29.03  5.92\n",
       "240       27.18  2.00\n",
       "241       22.67  2.00\n",
       "242       17.82  1.75\n",
       "243       18.78  3.00\n",
       "\n",
       "[244 rows x 2 columns]"
      ]
     },
     "execution_count": 17,
     "metadata": {},
     "output_type": "execute_result"
    }
   ],
   "source": [
    "tips[['total_bill','tip']]"
   ]
  },
  {
   "cell_type": "markdown",
   "metadata": {},
   "source": [
    "- 行の選択はhoge[2:3]のように範囲で指定します。\n"
   ]
  },
  {
   "cell_type": "code",
   "execution_count": 18,
   "metadata": {
    "colab": {
     "base_uri": "https://localhost:8080/",
     "height": 81
    },
    "executionInfo": {
     "elapsed": 294,
     "status": "ok",
     "timestamp": 1682749062696,
     "user": {
      "displayName": "瀧川裕貴",
      "userId": "05752887510241032794"
     },
     "user_tz": -540
    },
    "id": "cYUmbOOGEbvd",
    "outputId": "e8cb7795-400b-4d1f-b339-ca66c4333c31"
   },
   "outputs": [
    {
     "data": {
      "text/html": [
       "<div>\n",
       "<style scoped>\n",
       "    .dataframe tbody tr th:only-of-type {\n",
       "        vertical-align: middle;\n",
       "    }\n",
       "\n",
       "    .dataframe tbody tr th {\n",
       "        vertical-align: top;\n",
       "    }\n",
       "\n",
       "    .dataframe thead th {\n",
       "        text-align: right;\n",
       "    }\n",
       "</style>\n",
       "<table border=\"1\" class=\"dataframe\">\n",
       "  <thead>\n",
       "    <tr style=\"text-align: right;\">\n",
       "      <th></th>\n",
       "      <th>total_bill</th>\n",
       "      <th>tip</th>\n",
       "      <th>sex</th>\n",
       "      <th>smoker</th>\n",
       "      <th>day</th>\n",
       "      <th>time</th>\n",
       "      <th>size</th>\n",
       "    </tr>\n",
       "  </thead>\n",
       "  <tbody>\n",
       "    <tr>\n",
       "      <th>1</th>\n",
       "      <td>10.34</td>\n",
       "      <td>1.66</td>\n",
       "      <td>Male</td>\n",
       "      <td>No</td>\n",
       "      <td>Sun</td>\n",
       "      <td>Dinner</td>\n",
       "      <td>3</td>\n",
       "    </tr>\n",
       "  </tbody>\n",
       "</table>\n",
       "</div>"
      ],
      "text/plain": [
       "   total_bill   tip   sex smoker  day    time  size\n",
       "1       10.34  1.66  Male     No  Sun  Dinner     3"
      ]
     },
     "execution_count": 18,
     "metadata": {},
     "output_type": "execute_result"
    }
   ],
   "source": [
    "tips[1:2]"
   ]
  },
  {
   "cell_type": "markdown",
   "metadata": {},
   "source": [
    "```{error}\n",
    "- 範囲を指定しないとエラーが出るので注意してください。例えば、1行目を取り出したいからとhoge[1]のようにするとエラーとなります。"
   ]
  },
  {
   "cell_type": "code",
   "execution_count": 20,
   "metadata": {},
   "outputs": [
    {
     "ename": "KeyError",
     "evalue": "1",
     "output_type": "error",
     "traceback": [
      "\u001b[0;31m---------------------------------------------------------------------------\u001b[0m",
      "\u001b[0;31mKeyError\u001b[0m                                  Traceback (most recent call last)",
      "File \u001b[0;32m~/miniforge3/envs/cssworkshop/lib/python3.9/site-packages/pandas/core/indexes/base.py:3790\u001b[0m, in \u001b[0;36mIndex.get_loc\u001b[0;34m(self, key)\u001b[0m\n\u001b[1;32m   3789\u001b[0m \u001b[38;5;28;01mtry\u001b[39;00m:\n\u001b[0;32m-> 3790\u001b[0m     \u001b[38;5;28;01mreturn\u001b[39;00m \u001b[38;5;28;43mself\u001b[39;49m\u001b[38;5;241;43m.\u001b[39;49m\u001b[43m_engine\u001b[49m\u001b[38;5;241;43m.\u001b[39;49m\u001b[43mget_loc\u001b[49m\u001b[43m(\u001b[49m\u001b[43mcasted_key\u001b[49m\u001b[43m)\u001b[49m\n\u001b[1;32m   3791\u001b[0m \u001b[38;5;28;01mexcept\u001b[39;00m \u001b[38;5;167;01mKeyError\u001b[39;00m \u001b[38;5;28;01mas\u001b[39;00m err:\n",
      "File \u001b[0;32mindex.pyx:152\u001b[0m, in \u001b[0;36mpandas._libs.index.IndexEngine.get_loc\u001b[0;34m()\u001b[0m\n",
      "File \u001b[0;32mindex.pyx:181\u001b[0m, in \u001b[0;36mpandas._libs.index.IndexEngine.get_loc\u001b[0;34m()\u001b[0m\n",
      "File \u001b[0;32mpandas/_libs/hashtable_class_helper.pxi:7080\u001b[0m, in \u001b[0;36mpandas._libs.hashtable.PyObjectHashTable.get_item\u001b[0;34m()\u001b[0m\n",
      "File \u001b[0;32mpandas/_libs/hashtable_class_helper.pxi:7088\u001b[0m, in \u001b[0;36mpandas._libs.hashtable.PyObjectHashTable.get_item\u001b[0;34m()\u001b[0m\n",
      "\u001b[0;31mKeyError\u001b[0m: 1",
      "\nThe above exception was the direct cause of the following exception:\n",
      "\u001b[0;31mKeyError\u001b[0m                                  Traceback (most recent call last)",
      "Cell \u001b[0;32mIn[20], line 1\u001b[0m\n\u001b[0;32m----> 1\u001b[0m \u001b[43mtips\u001b[49m\u001b[43m[\u001b[49m\u001b[38;5;241;43m1\u001b[39;49m\u001b[43m]\u001b[49m\n",
      "File \u001b[0;32m~/miniforge3/envs/cssworkshop/lib/python3.9/site-packages/pandas/core/frame.py:3896\u001b[0m, in \u001b[0;36mDataFrame.__getitem__\u001b[0;34m(self, key)\u001b[0m\n\u001b[1;32m   3894\u001b[0m \u001b[38;5;28;01mif\u001b[39;00m \u001b[38;5;28mself\u001b[39m\u001b[38;5;241m.\u001b[39mcolumns\u001b[38;5;241m.\u001b[39mnlevels \u001b[38;5;241m>\u001b[39m \u001b[38;5;241m1\u001b[39m:\n\u001b[1;32m   3895\u001b[0m     \u001b[38;5;28;01mreturn\u001b[39;00m \u001b[38;5;28mself\u001b[39m\u001b[38;5;241m.\u001b[39m_getitem_multilevel(key)\n\u001b[0;32m-> 3896\u001b[0m indexer \u001b[38;5;241m=\u001b[39m \u001b[38;5;28;43mself\u001b[39;49m\u001b[38;5;241;43m.\u001b[39;49m\u001b[43mcolumns\u001b[49m\u001b[38;5;241;43m.\u001b[39;49m\u001b[43mget_loc\u001b[49m\u001b[43m(\u001b[49m\u001b[43mkey\u001b[49m\u001b[43m)\u001b[49m\n\u001b[1;32m   3897\u001b[0m \u001b[38;5;28;01mif\u001b[39;00m is_integer(indexer):\n\u001b[1;32m   3898\u001b[0m     indexer \u001b[38;5;241m=\u001b[39m [indexer]\n",
      "File \u001b[0;32m~/miniforge3/envs/cssworkshop/lib/python3.9/site-packages/pandas/core/indexes/base.py:3797\u001b[0m, in \u001b[0;36mIndex.get_loc\u001b[0;34m(self, key)\u001b[0m\n\u001b[1;32m   3792\u001b[0m     \u001b[38;5;28;01mif\u001b[39;00m \u001b[38;5;28misinstance\u001b[39m(casted_key, \u001b[38;5;28mslice\u001b[39m) \u001b[38;5;129;01mor\u001b[39;00m (\n\u001b[1;32m   3793\u001b[0m         \u001b[38;5;28misinstance\u001b[39m(casted_key, abc\u001b[38;5;241m.\u001b[39mIterable)\n\u001b[1;32m   3794\u001b[0m         \u001b[38;5;129;01mand\u001b[39;00m \u001b[38;5;28many\u001b[39m(\u001b[38;5;28misinstance\u001b[39m(x, \u001b[38;5;28mslice\u001b[39m) \u001b[38;5;28;01mfor\u001b[39;00m x \u001b[38;5;129;01min\u001b[39;00m casted_key)\n\u001b[1;32m   3795\u001b[0m     ):\n\u001b[1;32m   3796\u001b[0m         \u001b[38;5;28;01mraise\u001b[39;00m InvalidIndexError(key)\n\u001b[0;32m-> 3797\u001b[0m     \u001b[38;5;28;01mraise\u001b[39;00m \u001b[38;5;167;01mKeyError\u001b[39;00m(key) \u001b[38;5;28;01mfrom\u001b[39;00m \u001b[38;5;21;01merr\u001b[39;00m\n\u001b[1;32m   3798\u001b[0m \u001b[38;5;28;01mexcept\u001b[39;00m \u001b[38;5;167;01mTypeError\u001b[39;00m:\n\u001b[1;32m   3799\u001b[0m     \u001b[38;5;66;03m# If we have a listlike key, _check_indexing_error will raise\u001b[39;00m\n\u001b[1;32m   3800\u001b[0m     \u001b[38;5;66;03m#  InvalidIndexError. Otherwise we fall through and re-raise\u001b[39;00m\n\u001b[1;32m   3801\u001b[0m     \u001b[38;5;66;03m#  the TypeError.\u001b[39;00m\n\u001b[1;32m   3802\u001b[0m     \u001b[38;5;28mself\u001b[39m\u001b[38;5;241m.\u001b[39m_check_indexing_error(key)\n",
      "\u001b[0;31mKeyError\u001b[0m: 1"
     ]
    }
   ],
   "source": [
    "tips[1]"
   ]
  },
  {
   "cell_type": "markdown",
   "metadata": {},
   "source": [
    "#### iloc()とloc()\n",
    "- 選択には他に、iloc()とloc()という紛らわしいメソッドがあります。\n",
    "- まず.iloc()はindex（行）番号と列番号の両方を指定して選択します。\n"
   ]
  },
  {
   "cell_type": "code",
   "execution_count": 21,
   "metadata": {
    "colab": {
     "base_uri": "https://localhost:8080/",
     "height": 35
    },
    "executionInfo": {
     "elapsed": 295,
     "status": "ok",
     "timestamp": 1682749103712,
     "user": {
      "displayName": "瀧川裕貴",
      "userId": "05752887510241032794"
     },
     "user_tz": -540
    },
    "id": "kIavvyQS7yHb",
    "outputId": "56072f79-3d65-4895-da05-1f7470757ced"
   },
   "outputs": [
    {
     "data": {
      "text/plain": [
       "'Male'"
      ]
     },
     "execution_count": 21,
     "metadata": {},
     "output_type": "execute_result"
    }
   ],
   "source": [
    "#以後、iloc\n",
    "tips.iloc[10,2]"
   ]
  },
  {
   "cell_type": "code",
   "execution_count": 22,
   "metadata": {
    "colab": {
     "base_uri": "https://localhost:8080/",
     "height": 423
    },
    "executionInfo": {
     "elapsed": 284,
     "status": "ok",
     "timestamp": 1682749141818,
     "user": {
      "displayName": "瀧川裕貴",
      "userId": "05752887510241032794"
     },
     "user_tz": -540
    },
    "id": "cYf-dvOY-CQK",
    "outputId": "65a55af9-20f4-4fd7-9628-4cb0e48beeaa"
   },
   "outputs": [
    {
     "data": {
      "text/html": [
       "<div>\n",
       "<style scoped>\n",
       "    .dataframe tbody tr th:only-of-type {\n",
       "        vertical-align: middle;\n",
       "    }\n",
       "\n",
       "    .dataframe tbody tr th {\n",
       "        vertical-align: top;\n",
       "    }\n",
       "\n",
       "    .dataframe thead th {\n",
       "        text-align: right;\n",
       "    }\n",
       "</style>\n",
       "<table border=\"1\" class=\"dataframe\">\n",
       "  <thead>\n",
       "    <tr style=\"text-align: right;\">\n",
       "      <th></th>\n",
       "      <th>total_bill</th>\n",
       "      <th>tip</th>\n",
       "      <th>sex</th>\n",
       "      <th>smoker</th>\n",
       "    </tr>\n",
       "  </thead>\n",
       "  <tbody>\n",
       "    <tr>\n",
       "      <th>2</th>\n",
       "      <td>21.01</td>\n",
       "      <td>3.50</td>\n",
       "      <td>Male</td>\n",
       "      <td>No</td>\n",
       "    </tr>\n",
       "    <tr>\n",
       "      <th>3</th>\n",
       "      <td>23.68</td>\n",
       "      <td>3.31</td>\n",
       "      <td>Male</td>\n",
       "      <td>No</td>\n",
       "    </tr>\n",
       "    <tr>\n",
       "      <th>4</th>\n",
       "      <td>24.59</td>\n",
       "      <td>3.61</td>\n",
       "      <td>Female</td>\n",
       "      <td>No</td>\n",
       "    </tr>\n",
       "    <tr>\n",
       "      <th>5</th>\n",
       "      <td>25.29</td>\n",
       "      <td>4.71</td>\n",
       "      <td>Male</td>\n",
       "      <td>No</td>\n",
       "    </tr>\n",
       "    <tr>\n",
       "      <th>6</th>\n",
       "      <td>8.77</td>\n",
       "      <td>2.00</td>\n",
       "      <td>Male</td>\n",
       "      <td>No</td>\n",
       "    </tr>\n",
       "    <tr>\n",
       "      <th>...</th>\n",
       "      <td>...</td>\n",
       "      <td>...</td>\n",
       "      <td>...</td>\n",
       "      <td>...</td>\n",
       "    </tr>\n",
       "    <tr>\n",
       "      <th>239</th>\n",
       "      <td>29.03</td>\n",
       "      <td>5.92</td>\n",
       "      <td>Male</td>\n",
       "      <td>No</td>\n",
       "    </tr>\n",
       "    <tr>\n",
       "      <th>240</th>\n",
       "      <td>27.18</td>\n",
       "      <td>2.00</td>\n",
       "      <td>Female</td>\n",
       "      <td>Yes</td>\n",
       "    </tr>\n",
       "    <tr>\n",
       "      <th>241</th>\n",
       "      <td>22.67</td>\n",
       "      <td>2.00</td>\n",
       "      <td>Male</td>\n",
       "      <td>Yes</td>\n",
       "    </tr>\n",
       "    <tr>\n",
       "      <th>242</th>\n",
       "      <td>17.82</td>\n",
       "      <td>1.75</td>\n",
       "      <td>Male</td>\n",
       "      <td>No</td>\n",
       "    </tr>\n",
       "    <tr>\n",
       "      <th>243</th>\n",
       "      <td>18.78</td>\n",
       "      <td>3.00</td>\n",
       "      <td>Female</td>\n",
       "      <td>No</td>\n",
       "    </tr>\n",
       "  </tbody>\n",
       "</table>\n",
       "<p>242 rows × 4 columns</p>\n",
       "</div>"
      ],
      "text/plain": [
       "     total_bill   tip     sex smoker\n",
       "2         21.01  3.50    Male     No\n",
       "3         23.68  3.31    Male     No\n",
       "4         24.59  3.61  Female     No\n",
       "5         25.29  4.71    Male     No\n",
       "6          8.77  2.00    Male     No\n",
       "..          ...   ...     ...    ...\n",
       "239       29.03  5.92    Male     No\n",
       "240       27.18  2.00  Female    Yes\n",
       "241       22.67  2.00    Male    Yes\n",
       "242       17.82  1.75    Male     No\n",
       "243       18.78  3.00  Female     No\n",
       "\n",
       "[242 rows x 4 columns]"
      ]
     },
     "execution_count": 22,
     "metadata": {},
     "output_type": "execute_result"
    }
   ],
   "source": [
    "tips.iloc[2:,:4]#[2]行目以降、最初から[3]列目まで"
   ]
  },
  {
   "cell_type": "code",
   "execution_count": 23,
   "metadata": {
    "colab": {
     "base_uri": "https://localhost:8080/",
     "height": 423
    },
    "executionInfo": {
     "elapsed": 314,
     "status": "ok",
     "timestamp": 1682749159588,
     "user": {
      "displayName": "瀧川裕貴",
      "userId": "05752887510241032794"
     },
     "user_tz": -540
    },
    "id": "yBNdoq66_IGZ",
    "outputId": "d1253e0e-29bc-4a4e-88ec-e1fe4223b3fe"
   },
   "outputs": [
    {
     "data": {
      "text/html": [
       "<div>\n",
       "<style scoped>\n",
       "    .dataframe tbody tr th:only-of-type {\n",
       "        vertical-align: middle;\n",
       "    }\n",
       "\n",
       "    .dataframe tbody tr th {\n",
       "        vertical-align: top;\n",
       "    }\n",
       "\n",
       "    .dataframe thead th {\n",
       "        text-align: right;\n",
       "    }\n",
       "</style>\n",
       "<table border=\"1\" class=\"dataframe\">\n",
       "  <thead>\n",
       "    <tr style=\"text-align: right;\">\n",
       "      <th></th>\n",
       "      <th>total_bill</th>\n",
       "      <th>tip</th>\n",
       "      <th>sex</th>\n",
       "      <th>smoker</th>\n",
       "    </tr>\n",
       "  </thead>\n",
       "  <tbody>\n",
       "    <tr>\n",
       "      <th>0</th>\n",
       "      <td>16.99</td>\n",
       "      <td>1.01</td>\n",
       "      <td>Female</td>\n",
       "      <td>No</td>\n",
       "    </tr>\n",
       "    <tr>\n",
       "      <th>1</th>\n",
       "      <td>10.34</td>\n",
       "      <td>1.66</td>\n",
       "      <td>Male</td>\n",
       "      <td>No</td>\n",
       "    </tr>\n",
       "    <tr>\n",
       "      <th>2</th>\n",
       "      <td>21.01</td>\n",
       "      <td>3.50</td>\n",
       "      <td>Male</td>\n",
       "      <td>No</td>\n",
       "    </tr>\n",
       "    <tr>\n",
       "      <th>3</th>\n",
       "      <td>23.68</td>\n",
       "      <td>3.31</td>\n",
       "      <td>Male</td>\n",
       "      <td>No</td>\n",
       "    </tr>\n",
       "    <tr>\n",
       "      <th>4</th>\n",
       "      <td>24.59</td>\n",
       "      <td>3.61</td>\n",
       "      <td>Female</td>\n",
       "      <td>No</td>\n",
       "    </tr>\n",
       "    <tr>\n",
       "      <th>...</th>\n",
       "      <td>...</td>\n",
       "      <td>...</td>\n",
       "      <td>...</td>\n",
       "      <td>...</td>\n",
       "    </tr>\n",
       "    <tr>\n",
       "      <th>239</th>\n",
       "      <td>29.03</td>\n",
       "      <td>5.92</td>\n",
       "      <td>Male</td>\n",
       "      <td>No</td>\n",
       "    </tr>\n",
       "    <tr>\n",
       "      <th>240</th>\n",
       "      <td>27.18</td>\n",
       "      <td>2.00</td>\n",
       "      <td>Female</td>\n",
       "      <td>Yes</td>\n",
       "    </tr>\n",
       "    <tr>\n",
       "      <th>241</th>\n",
       "      <td>22.67</td>\n",
       "      <td>2.00</td>\n",
       "      <td>Male</td>\n",
       "      <td>Yes</td>\n",
       "    </tr>\n",
       "    <tr>\n",
       "      <th>242</th>\n",
       "      <td>17.82</td>\n",
       "      <td>1.75</td>\n",
       "      <td>Male</td>\n",
       "      <td>No</td>\n",
       "    </tr>\n",
       "    <tr>\n",
       "      <th>243</th>\n",
       "      <td>18.78</td>\n",
       "      <td>3.00</td>\n",
       "      <td>Female</td>\n",
       "      <td>No</td>\n",
       "    </tr>\n",
       "  </tbody>\n",
       "</table>\n",
       "<p>244 rows × 4 columns</p>\n",
       "</div>"
      ],
      "text/plain": [
       "     total_bill   tip     sex smoker\n",
       "0         16.99  1.01  Female     No\n",
       "1         10.34  1.66    Male     No\n",
       "2         21.01  3.50    Male     No\n",
       "3         23.68  3.31    Male     No\n",
       "4         24.59  3.61  Female     No\n",
       "..          ...   ...     ...    ...\n",
       "239       29.03  5.92    Male     No\n",
       "240       27.18  2.00  Female    Yes\n",
       "241       22.67  2.00    Male    Yes\n",
       "242       17.82  1.75    Male     No\n",
       "243       18.78  3.00  Female     No\n",
       "\n",
       "[244 rows x 4 columns]"
      ]
     },
     "execution_count": 23,
     "metadata": {},
     "output_type": "execute_result"
    }
   ],
   "source": [
    "tips.iloc[:,:4]"
   ]
  },
  {
   "cell_type": "markdown",
   "metadata": {},
   "source": [
    "```{note}\n",
    "- indexの数字のみを指定すると、該当行がシリーズで取得されます。\n"
   ]
  },
  {
   "cell_type": "code",
   "execution_count": 24,
   "metadata": {
    "colab": {
     "base_uri": "https://localhost:8080/"
    },
    "executionInfo": {
     "elapsed": 457,
     "status": "ok",
     "timestamp": 1682749172004,
     "user": {
      "displayName": "瀧川裕貴",
      "userId": "05752887510241032794"
     },
     "user_tz": -540
    },
    "id": "C7VTG17UiOop",
    "outputId": "ba6025e7-75ec-4353-d7b8-d13d94561c57"
   },
   "outputs": [
    {
     "data": {
      "text/plain": [
       "total_bill     10.34\n",
       "tip             1.66\n",
       "sex             Male\n",
       "smoker            No\n",
       "day              Sun\n",
       "time          Dinner\n",
       "size               3\n",
       "Name: 1, dtype: object"
      ]
     },
     "execution_count": 24,
     "metadata": {},
     "output_type": "execute_result"
    }
   ],
   "source": [
    "tips.iloc[1]"
   ]
  },
  {
   "cell_type": "markdown",
   "metadata": {},
   "source": [
    "- loc()はindex番号（or index名）と列名で選択。"
   ]
  },
  {
   "cell_type": "markdown",
   "metadata": {},
   "source": [
    "```{attention}\n",
    "- つまりiloc()は列番号、loc()は列名で指定するという違いです。"
   ]
  },
  {
   "cell_type": "code",
   "execution_count": 25,
   "metadata": {
    "colab": {
     "base_uri": "https://localhost:8080/"
    },
    "executionInfo": {
     "elapsed": 250,
     "status": "ok",
     "timestamp": 1682749212788,
     "user": {
      "displayName": "瀧川裕貴",
      "userId": "05752887510241032794"
     },
     "user_tz": -540
    },
    "id": "WISlhsmJ_pNc",
    "outputId": "0937454f-8769-4f3e-d372-2c0a27b6261a"
   },
   "outputs": [
    {
     "data": {
      "text/plain": [
       "0      Female\n",
       "1        Male\n",
       "2        Male\n",
       "3        Male\n",
       "4      Female\n",
       "        ...  \n",
       "239      Male\n",
       "240    Female\n",
       "241      Male\n",
       "242      Male\n",
       "243    Female\n",
       "Name: sex, Length: 244, dtype: object"
      ]
     },
     "execution_count": 25,
     "metadata": {},
     "output_type": "execute_result"
    }
   ],
   "source": [
    "#以後loc\n",
    "tips.loc[:,'sex']"
   ]
  },
  {
   "cell_type": "code",
   "execution_count": 26,
   "metadata": {
    "colab": {
     "base_uri": "https://localhost:8080/",
     "height": 206
    },
    "executionInfo": {
     "elapsed": 278,
     "status": "ok",
     "timestamp": 1682749219482,
     "user": {
      "displayName": "瀧川裕貴",
      "userId": "05752887510241032794"
     },
     "user_tz": -540
    },
    "id": "kxho5kX__s7c",
    "outputId": "3039e05e-15a3-4a6d-c4b3-1d5251570187"
   },
   "outputs": [
    {
     "data": {
      "text/html": [
       "<div>\n",
       "<style scoped>\n",
       "    .dataframe tbody tr th:only-of-type {\n",
       "        vertical-align: middle;\n",
       "    }\n",
       "\n",
       "    .dataframe tbody tr th {\n",
       "        vertical-align: top;\n",
       "    }\n",
       "\n",
       "    .dataframe thead th {\n",
       "        text-align: right;\n",
       "    }\n",
       "</style>\n",
       "<table border=\"1\" class=\"dataframe\">\n",
       "  <thead>\n",
       "    <tr style=\"text-align: right;\">\n",
       "      <th></th>\n",
       "      <th>sex</th>\n",
       "      <th>smoker</th>\n",
       "    </tr>\n",
       "  </thead>\n",
       "  <tbody>\n",
       "    <tr>\n",
       "      <th>0</th>\n",
       "      <td>Female</td>\n",
       "      <td>No</td>\n",
       "    </tr>\n",
       "    <tr>\n",
       "      <th>1</th>\n",
       "      <td>Male</td>\n",
       "      <td>No</td>\n",
       "    </tr>\n",
       "    <tr>\n",
       "      <th>2</th>\n",
       "      <td>Male</td>\n",
       "      <td>No</td>\n",
       "    </tr>\n",
       "    <tr>\n",
       "      <th>3</th>\n",
       "      <td>Male</td>\n",
       "      <td>No</td>\n",
       "    </tr>\n",
       "    <tr>\n",
       "      <th>4</th>\n",
       "      <td>Female</td>\n",
       "      <td>No</td>\n",
       "    </tr>\n",
       "  </tbody>\n",
       "</table>\n",
       "</div>"
      ],
      "text/plain": [
       "      sex smoker\n",
       "0  Female     No\n",
       "1    Male     No\n",
       "2    Male     No\n",
       "3    Male     No\n",
       "4  Female     No"
      ]
     },
     "execution_count": 26,
     "metadata": {},
     "output_type": "execute_result"
    }
   ],
   "source": [
    "tips.loc[:4,['sex','smoker']]"
   ]
  },
  {
   "cell_type": "markdown",
   "metadata": {},
   "source": [
    "```{note}\n",
    "- loc()の場合も同じく、indexの数字のみを指定すると、該当行がシリーズで取得されます。\n"
   ]
  },
  {
   "cell_type": "code",
   "execution_count": 27,
   "metadata": {},
   "outputs": [
    {
     "data": {
      "text/plain": [
       "total_bill     10.34\n",
       "tip             1.66\n",
       "sex             Male\n",
       "smoker            No\n",
       "day              Sun\n",
       "time          Dinner\n",
       "size               3\n",
       "Name: 1, dtype: object"
      ]
     },
     "execution_count": 27,
     "metadata": {},
     "output_type": "execute_result"
    }
   ],
   "source": [
    "tips.loc[1]"
   ]
  },
  {
   "cell_type": "markdown",
   "metadata": {
    "id": "4LfWiK0R-gnx"
   },
   "source": [
    "### 変数の追加、削除\n",
    "- 変数の追加はdf['変数名'] = hogeとします。\n"
   ]
  },
  {
   "cell_type": "code",
   "execution_count": 28,
   "metadata": {
    "executionInfo": {
     "elapsed": 370,
     "status": "ok",
     "timestamp": 1682749260698,
     "user": {
      "displayName": "瀧川裕貴",
      "userId": "05752887510241032794"
     },
     "user_tz": -540
    },
    "id": "NAO0cvhvFjKR"
   },
   "outputs": [],
   "source": [
    "tips['test'] = 'test'"
   ]
  },
  {
   "cell_type": "code",
   "execution_count": 29,
   "metadata": {
    "colab": {
     "base_uri": "https://localhost:8080/",
     "height": 206
    },
    "executionInfo": {
     "elapsed": 354,
     "status": "ok",
     "timestamp": 1682749272086,
     "user": {
      "displayName": "瀧川裕貴",
      "userId": "05752887510241032794"
     },
     "user_tz": -540
    },
    "id": "TLBMEfbIFpNJ",
    "outputId": "ac1764f1-fa9e-4691-8c1e-e93db36ed365"
   },
   "outputs": [
    {
     "data": {
      "text/html": [
       "<div>\n",
       "<style scoped>\n",
       "    .dataframe tbody tr th:only-of-type {\n",
       "        vertical-align: middle;\n",
       "    }\n",
       "\n",
       "    .dataframe tbody tr th {\n",
       "        vertical-align: top;\n",
       "    }\n",
       "\n",
       "    .dataframe thead th {\n",
       "        text-align: right;\n",
       "    }\n",
       "</style>\n",
       "<table border=\"1\" class=\"dataframe\">\n",
       "  <thead>\n",
       "    <tr style=\"text-align: right;\">\n",
       "      <th></th>\n",
       "      <th>total_bill</th>\n",
       "      <th>tip</th>\n",
       "      <th>sex</th>\n",
       "      <th>smoker</th>\n",
       "      <th>day</th>\n",
       "      <th>time</th>\n",
       "      <th>size</th>\n",
       "      <th>test</th>\n",
       "    </tr>\n",
       "  </thead>\n",
       "  <tbody>\n",
       "    <tr>\n",
       "      <th>0</th>\n",
       "      <td>16.99</td>\n",
       "      <td>1.01</td>\n",
       "      <td>Female</td>\n",
       "      <td>No</td>\n",
       "      <td>Sun</td>\n",
       "      <td>Dinner</td>\n",
       "      <td>2</td>\n",
       "      <td>test</td>\n",
       "    </tr>\n",
       "    <tr>\n",
       "      <th>1</th>\n",
       "      <td>10.34</td>\n",
       "      <td>1.66</td>\n",
       "      <td>Male</td>\n",
       "      <td>No</td>\n",
       "      <td>Sun</td>\n",
       "      <td>Dinner</td>\n",
       "      <td>3</td>\n",
       "      <td>test</td>\n",
       "    </tr>\n",
       "    <tr>\n",
       "      <th>2</th>\n",
       "      <td>21.01</td>\n",
       "      <td>3.50</td>\n",
       "      <td>Male</td>\n",
       "      <td>No</td>\n",
       "      <td>Sun</td>\n",
       "      <td>Dinner</td>\n",
       "      <td>3</td>\n",
       "      <td>test</td>\n",
       "    </tr>\n",
       "    <tr>\n",
       "      <th>3</th>\n",
       "      <td>23.68</td>\n",
       "      <td>3.31</td>\n",
       "      <td>Male</td>\n",
       "      <td>No</td>\n",
       "      <td>Sun</td>\n",
       "      <td>Dinner</td>\n",
       "      <td>2</td>\n",
       "      <td>test</td>\n",
       "    </tr>\n",
       "    <tr>\n",
       "      <th>4</th>\n",
       "      <td>24.59</td>\n",
       "      <td>3.61</td>\n",
       "      <td>Female</td>\n",
       "      <td>No</td>\n",
       "      <td>Sun</td>\n",
       "      <td>Dinner</td>\n",
       "      <td>4</td>\n",
       "      <td>test</td>\n",
       "    </tr>\n",
       "  </tbody>\n",
       "</table>\n",
       "</div>"
      ],
      "text/plain": [
       "   total_bill   tip     sex smoker  day    time  size  test\n",
       "0       16.99  1.01  Female     No  Sun  Dinner     2  test\n",
       "1       10.34  1.66    Male     No  Sun  Dinner     3  test\n",
       "2       21.01  3.50    Male     No  Sun  Dinner     3  test\n",
       "3       23.68  3.31    Male     No  Sun  Dinner     2  test\n",
       "4       24.59  3.61  Female     No  Sun  Dinner     4  test"
      ]
     },
     "execution_count": 29,
     "metadata": {},
     "output_type": "execute_result"
    }
   ],
   "source": [
    "tips.head()#testが追加されている"
   ]
  },
  {
   "cell_type": "markdown",
   "metadata": {},
   "source": [
    "- 削除したい場合は、tips.drop('変数名', axis = 1)とします。"
   ]
  },
  {
   "cell_type": "code",
   "execution_count": 30,
   "metadata": {
    "executionInfo": {
     "elapsed": 364,
     "status": "ok",
     "timestamp": 1682749288121,
     "user": {
      "displayName": "瀧川裕貴",
      "userId": "05752887510241032794"
     },
     "user_tz": -540
    },
    "id": "8l86pN8CGT35"
   },
   "outputs": [],
   "source": [
    "tips = tips.drop('test', axis = 1)#axis = 1は列を指す，0は行。"
   ]
  },
  {
   "cell_type": "code",
   "execution_count": 31,
   "metadata": {
    "colab": {
     "base_uri": "https://localhost:8080/",
     "height": 206
    },
    "executionInfo": {
     "elapsed": 5,
     "status": "ok",
     "timestamp": 1682749290336,
     "user": {
      "displayName": "瀧川裕貴",
      "userId": "05752887510241032794"
     },
     "user_tz": -540
    },
    "id": "uQ6YCZQ1Gc6L",
    "outputId": "22593628-96d1-4178-bc56-2ad2fb853833"
   },
   "outputs": [
    {
     "data": {
      "text/html": [
       "<div>\n",
       "<style scoped>\n",
       "    .dataframe tbody tr th:only-of-type {\n",
       "        vertical-align: middle;\n",
       "    }\n",
       "\n",
       "    .dataframe tbody tr th {\n",
       "        vertical-align: top;\n",
       "    }\n",
       "\n",
       "    .dataframe thead th {\n",
       "        text-align: right;\n",
       "    }\n",
       "</style>\n",
       "<table border=\"1\" class=\"dataframe\">\n",
       "  <thead>\n",
       "    <tr style=\"text-align: right;\">\n",
       "      <th></th>\n",
       "      <th>total_bill</th>\n",
       "      <th>tip</th>\n",
       "      <th>sex</th>\n",
       "      <th>smoker</th>\n",
       "      <th>day</th>\n",
       "      <th>time</th>\n",
       "      <th>size</th>\n",
       "    </tr>\n",
       "  </thead>\n",
       "  <tbody>\n",
       "    <tr>\n",
       "      <th>0</th>\n",
       "      <td>16.99</td>\n",
       "      <td>1.01</td>\n",
       "      <td>Female</td>\n",
       "      <td>No</td>\n",
       "      <td>Sun</td>\n",
       "      <td>Dinner</td>\n",
       "      <td>2</td>\n",
       "    </tr>\n",
       "    <tr>\n",
       "      <th>1</th>\n",
       "      <td>10.34</td>\n",
       "      <td>1.66</td>\n",
       "      <td>Male</td>\n",
       "      <td>No</td>\n",
       "      <td>Sun</td>\n",
       "      <td>Dinner</td>\n",
       "      <td>3</td>\n",
       "    </tr>\n",
       "    <tr>\n",
       "      <th>2</th>\n",
       "      <td>21.01</td>\n",
       "      <td>3.50</td>\n",
       "      <td>Male</td>\n",
       "      <td>No</td>\n",
       "      <td>Sun</td>\n",
       "      <td>Dinner</td>\n",
       "      <td>3</td>\n",
       "    </tr>\n",
       "    <tr>\n",
       "      <th>3</th>\n",
       "      <td>23.68</td>\n",
       "      <td>3.31</td>\n",
       "      <td>Male</td>\n",
       "      <td>No</td>\n",
       "      <td>Sun</td>\n",
       "      <td>Dinner</td>\n",
       "      <td>2</td>\n",
       "    </tr>\n",
       "    <tr>\n",
       "      <th>4</th>\n",
       "      <td>24.59</td>\n",
       "      <td>3.61</td>\n",
       "      <td>Female</td>\n",
       "      <td>No</td>\n",
       "      <td>Sun</td>\n",
       "      <td>Dinner</td>\n",
       "      <td>4</td>\n",
       "    </tr>\n",
       "  </tbody>\n",
       "</table>\n",
       "</div>"
      ],
      "text/plain": [
       "   total_bill   tip     sex smoker  day    time  size\n",
       "0       16.99  1.01  Female     No  Sun  Dinner     2\n",
       "1       10.34  1.66    Male     No  Sun  Dinner     3\n",
       "2       21.01  3.50    Male     No  Sun  Dinner     3\n",
       "3       23.68  3.31    Male     No  Sun  Dinner     2\n",
       "4       24.59  3.61  Female     No  Sun  Dinner     4"
      ]
     },
     "execution_count": 31,
     "metadata": {},
     "output_type": "execute_result"
    }
   ],
   "source": [
    "tips.head()#testが削除されている"
   ]
  },
  {
   "cell_type": "markdown",
   "metadata": {
    "id": "C7oXR_YhHD8D"
   },
   "source": [
    "### 変数の値のリコード\n",
    "- リコードとは、変数の値のラベルを変えたり、カテゴリ化したりすることです。\n"
   ]
  },
  {
   "cell_type": "markdown",
   "metadata": {},
   "source": [
    "- カテゴリの値のラベルを変えるにはreplace()を使います。\n"
   ]
  },
  {
   "cell_type": "code",
   "execution_count": 32,
   "metadata": {
    "executionInfo": {
     "elapsed": 244,
     "status": "ok",
     "timestamp": 1682749348208,
     "user": {
      "displayName": "瀧川裕貴",
      "userId": "05752887510241032794"
     },
     "user_tz": -540
    },
    "id": "N4KM9SNZHLES"
   },
   "outputs": [],
   "source": [
    "tips['weekend'] = tips.day.replace({'Sun':'weekend', 'Sat':'weekend', 'Thur':'weekday','Fri':'weekday'})#replaceメソッドを使って、day列の値を置換しています。"
   ]
  },
  {
   "cell_type": "code",
   "execution_count": 33,
   "metadata": {
    "colab": {
     "base_uri": "https://localhost:8080/"
    },
    "executionInfo": {
     "elapsed": 3,
     "status": "ok",
     "timestamp": 1682749349143,
     "user": {
      "displayName": "瀧川裕貴",
      "userId": "05752887510241032794"
     },
     "user_tz": -540
    },
    "id": "wUdXUeScINqp",
    "outputId": "74683fed-34b3-4879-965e-0f930e19c1be"
   },
   "outputs": [
    {
     "data": {
      "text/plain": [
       "weekend\n",
       "weekend    163\n",
       "weekday     81\n",
       "Name: count, dtype: int64"
      ]
     },
     "execution_count": 33,
     "metadata": {},
     "output_type": "execute_result"
    }
   ],
   "source": [
    "tips.weekend.value_counts()#weekendとweekdayの数を数える"
   ]
  },
  {
   "cell_type": "markdown",
   "metadata": {},
   "source": [
    "```{tip}\n",
    "map()を使っても同じことができます。"
   ]
  },
  {
   "cell_type": "code",
   "execution_count": 34,
   "metadata": {},
   "outputs": [],
   "source": [
    "#mapメソッドを使って、day列の値を置換しています。\n",
    "tips['weekend'] = tips.day.map({'Sun':'weekend', 'Sat':'weekend', 'Thur':'weekday','Fri':'weekday'})"
   ]
  },
  {
   "cell_type": "markdown",
   "metadata": {},
   "source": [
    "- 連続変数のカテゴリ化にはcut()を使います。\n"
   ]
  },
  {
   "cell_type": "code",
   "execution_count": 35,
   "metadata": {
    "executionInfo": {
     "elapsed": 271,
     "status": "ok",
     "timestamp": 1682749414029,
     "user": {
      "displayName": "瀧川裕貴",
      "userId": "05752887510241032794"
     },
     "user_tz": -540
    },
    "id": "Gx3Ern_pJ18_"
   },
   "outputs": [],
   "source": [
    "bins = [0,10,20,30,40,100]\n",
    "labels = ['0-10','11-20','21-30','31-40','41+']\n",
    "tips['bill_cat'] = pd.cut(tips.total_bill,bins = bins,labels = labels)\n"
   ]
  },
  {
   "cell_type": "code",
   "execution_count": 36,
   "metadata": {
    "colab": {
     "base_uri": "https://localhost:8080/"
    },
    "executionInfo": {
     "elapsed": 247,
     "status": "ok",
     "timestamp": 1682749421125,
     "user": {
      "displayName": "瀧川裕貴",
      "userId": "05752887510241032794"
     },
     "user_tz": -540
    },
    "id": "rB_emjPLKeFI",
    "outputId": "3edf52ff-ef29-46c7-db94-5df91f71b256"
   },
   "outputs": [
    {
     "data": {
      "text/plain": [
       "bill_cat\n",
       "11-20    130\n",
       "21-30     65\n",
       "31-40     22\n",
       "0-10      17\n",
       "41+       10\n",
       "Name: count, dtype: int64"
      ]
     },
     "execution_count": 36,
     "metadata": {},
     "output_type": "execute_result"
    }
   ],
   "source": [
    "tips['bill_cat'].value_counts()"
   ]
  },
  {
   "cell_type": "markdown",
   "metadata": {},
   "source": [
    "- apply()で列の各値に関数を適用できます。\n",
    "- 例えば、float64となっているtip列の型変換をしたいとします。\n"
   ]
  },
  {
   "cell_type": "code",
   "execution_count": 37,
   "metadata": {
    "colab": {
     "base_uri": "https://localhost:8080/"
    },
    "executionInfo": {
     "elapsed": 522,
     "status": "ok",
     "timestamp": 1682749466364,
     "user": {
      "displayName": "瀧川裕貴",
      "userId": "05752887510241032794"
     },
     "user_tz": -540
    },
    "id": "j-eKad8Hrx3Y",
    "outputId": "010ccdec-09fc-448a-ba0e-ee0cc34348d8"
   },
   "outputs": [
    {
     "data": {
      "text/plain": [
       "0      1.01\n",
       "1      1.66\n",
       "2      3.50\n",
       "3      3.31\n",
       "4      3.61\n",
       "       ... \n",
       "239    5.92\n",
       "240    2.00\n",
       "241    2.00\n",
       "242    1.75\n",
       "243    3.00\n",
       "Name: tip, Length: 244, dtype: float64"
      ]
     },
     "execution_count": 37,
     "metadata": {},
     "output_type": "execute_result"
    }
   ],
   "source": [
    "tips.tip"
   ]
  },
  {
   "cell_type": "markdown",
   "metadata": {},
   "source": [
    "- apply()でround関数を適用します。"
   ]
  },
  {
   "cell_type": "code",
   "execution_count": 38,
   "metadata": {
    "colab": {
     "base_uri": "https://localhost:8080/"
    },
    "executionInfo": {
     "elapsed": 342,
     "status": "ok",
     "timestamp": 1682749456660,
     "user": {
      "displayName": "瀧川裕貴",
      "userId": "05752887510241032794"
     },
     "user_tz": -540
    },
    "id": "4LgsHkCiLZY5",
    "outputId": "b97fea4b-4b1e-439c-8914-0744124d9f20"
   },
   "outputs": [
    {
     "data": {
      "text/plain": [
       "0      1\n",
       "1      2\n",
       "2      4\n",
       "3      3\n",
       "4      4\n",
       "      ..\n",
       "239    6\n",
       "240    2\n",
       "241    2\n",
       "242    2\n",
       "243    3\n",
       "Name: tip, Length: 244, dtype: int64"
      ]
     },
     "execution_count": 38,
     "metadata": {},
     "output_type": "execute_result"
    }
   ],
   "source": [
    "tips.tip.apply(round)#シリーズの個々の値に適用し、int64が返される。"
   ]
  },
  {
   "cell_type": "code",
   "execution_count": 39,
   "metadata": {
    "colab": {
     "base_uri": "https://localhost:8080/"
    },
    "id": "D9OkMybDMTQ0",
    "outputId": "f20e008f-99d9-44e9-ab50-6c35d270ed4a"
   },
   "outputs": [
    {
     "data": {
      "text/plain": [
       "0      1.0\n",
       "1      2.0\n",
       "2      4.0\n",
       "3      3.0\n",
       "4      4.0\n",
       "      ... \n",
       "239    6.0\n",
       "240    2.0\n",
       "241    2.0\n",
       "242    2.0\n",
       "243    3.0\n",
       "Name: tip, Length: 244, dtype: float64"
      ]
     },
     "execution_count": 39,
     "metadata": {},
     "output_type": "execute_result"
    }
   ],
   "source": [
    "round(tips.tip)#これでも動くが、シリーズの元のtypeが維持されてfloat64となる。"
   ]
  },
  {
   "cell_type": "code",
   "execution_count": 40,
   "metadata": {
    "colab": {
     "base_uri": "https://localhost:8080/"
    },
    "executionInfo": {
     "elapsed": 251,
     "status": "ok",
     "timestamp": 1682749492208,
     "user": {
      "displayName": "瀧川裕貴",
      "userId": "05752887510241032794"
     },
     "user_tz": -540
    },
    "id": "Jta6xguhNnNJ",
    "outputId": "7da34625-35d0-4e76-895b-0bb6dfada709"
   },
   "outputs": [
    {
     "data": {
      "text/plain": [
       "0      1\n",
       "1      1\n",
       "2      3\n",
       "3      3\n",
       "4      3\n",
       "      ..\n",
       "239    5\n",
       "240    2\n",
       "241    2\n",
       "242    1\n",
       "243    3\n",
       "Name: tip, Length: 244, dtype: int64"
      ]
     },
     "execution_count": 40,
     "metadata": {},
     "output_type": "execute_result"
    }
   ],
   "source": [
    "tips.tip.apply(int)"
   ]
  },
  {
   "cell_type": "markdown",
   "metadata": {},
   "source": [
    "```{error}\n",
    "- tips.tipはシリーズなので直接intなどとして型変換をすることはできません。"
   ]
  },
  {
   "cell_type": "code",
   "execution_count": 41,
   "metadata": {
    "colab": {
     "base_uri": "https://localhost:8080/",
     "height": 297
    },
    "executionInfo": {
     "elapsed": 530,
     "status": "error",
     "timestamp": 1682749500495,
     "user": {
      "displayName": "瀧川裕貴",
      "userId": "05752887510241032794"
     },
     "user_tz": -540
    },
    "id": "P4uqF1IcNeay",
    "outputId": "7653dfa0-93b4-4420-9fc9-7e4a177b3f0f"
   },
   "outputs": [
    {
     "ename": "TypeError",
     "evalue": "cannot convert the series to <class 'int'>",
     "output_type": "error",
     "traceback": [
      "\u001b[0;31m---------------------------------------------------------------------------\u001b[0m",
      "\u001b[0;31mTypeError\u001b[0m                                 Traceback (most recent call last)",
      "Cell \u001b[0;32mIn[41], line 1\u001b[0m\n\u001b[0;32m----> 1\u001b[0m \u001b[38;5;28;43mint\u001b[39;49m\u001b[43m(\u001b[49m\u001b[43mtips\u001b[49m\u001b[38;5;241;43m.\u001b[39;49m\u001b[43mtip\u001b[49m\u001b[43m)\u001b[49m\u001b[38;5;66;03m#これはできない\u001b[39;00m\n",
      "File \u001b[0;32m~/miniforge3/envs/cssworkshop/lib/python3.9/site-packages/pandas/core/series.py:230\u001b[0m, in \u001b[0;36m_coerce_method.<locals>.wrapper\u001b[0;34m(self)\u001b[0m\n\u001b[1;32m    222\u001b[0m     warnings\u001b[38;5;241m.\u001b[39mwarn(\n\u001b[1;32m    223\u001b[0m         \u001b[38;5;124mf\u001b[39m\u001b[38;5;124m\"\u001b[39m\u001b[38;5;124mCalling \u001b[39m\u001b[38;5;132;01m{\u001b[39;00mconverter\u001b[38;5;241m.\u001b[39m\u001b[38;5;18m__name__\u001b[39m\u001b[38;5;132;01m}\u001b[39;00m\u001b[38;5;124m on a single element Series is \u001b[39m\u001b[38;5;124m\"\u001b[39m\n\u001b[1;32m    224\u001b[0m         \u001b[38;5;124m\"\u001b[39m\u001b[38;5;124mdeprecated and will raise a TypeError in the future. \u001b[39m\u001b[38;5;124m\"\u001b[39m\n\u001b[0;32m   (...)\u001b[0m\n\u001b[1;32m    227\u001b[0m         stacklevel\u001b[38;5;241m=\u001b[39mfind_stack_level(),\n\u001b[1;32m    228\u001b[0m     )\n\u001b[1;32m    229\u001b[0m     \u001b[38;5;28;01mreturn\u001b[39;00m converter(\u001b[38;5;28mself\u001b[39m\u001b[38;5;241m.\u001b[39miloc[\u001b[38;5;241m0\u001b[39m])\n\u001b[0;32m--> 230\u001b[0m \u001b[38;5;28;01mraise\u001b[39;00m \u001b[38;5;167;01mTypeError\u001b[39;00m(\u001b[38;5;124mf\u001b[39m\u001b[38;5;124m\"\u001b[39m\u001b[38;5;124mcannot convert the series to \u001b[39m\u001b[38;5;132;01m{\u001b[39;00mconverter\u001b[38;5;132;01m}\u001b[39;00m\u001b[38;5;124m\"\u001b[39m)\n",
      "\u001b[0;31mTypeError\u001b[0m: cannot convert the series to <class 'int'>"
     ]
    }
   ],
   "source": [
    "int(tips.tip)#これはできない"
   ]
  },
  {
   "cell_type": "markdown",
   "metadata": {},
   "source": [
    "- 型変換についてはapply()ではなく、astype()というメソッドを用いても可能です。"
   ]
  },
  {
   "cell_type": "code",
   "execution_count": 42,
   "metadata": {
    "colab": {
     "base_uri": "https://localhost:8080/"
    },
    "id": "I6qKLGHsNvXN",
    "outputId": "0a1f770d-16e9-486c-9d5b-3736ecebc283"
   },
   "outputs": [
    {
     "data": {
      "text/plain": [
       "0      1\n",
       "1      1\n",
       "2      3\n",
       "3      3\n",
       "4      3\n",
       "      ..\n",
       "239    5\n",
       "240    2\n",
       "241    2\n",
       "242    1\n",
       "243    3\n",
       "Name: tip, Length: 244, dtype: int64"
      ]
     },
     "execution_count": 42,
     "metadata": {},
     "output_type": "execute_result"
    }
   ],
   "source": [
    "tips.tip.astype(int)#型変換のためのメソッドastype()がある。"
   ]
  },
  {
   "cell_type": "markdown",
   "metadata": {
    "id": "vBd2iNFVVLs4"
   },
   "source": [
    "### 変数のソート"
   ]
  },
  {
   "cell_type": "markdown",
   "metadata": {
    "id": "ROR6kqcPYZ3U"
   },
   "source": [
    "- ソートにはsort_values()として引数にソートの基準としたい変数名を入れます。"
   ]
  },
  {
   "cell_type": "code",
   "execution_count": 43,
   "metadata": {
    "colab": {
     "base_uri": "https://localhost:8080/",
     "height": 423
    },
    "executionInfo": {
     "elapsed": 10,
     "status": "ok",
     "timestamp": 1682749572249,
     "user": {
      "displayName": "瀧川裕貴",
      "userId": "05752887510241032794"
     },
     "user_tz": -540
    },
    "id": "IdpElsRqX7kX",
    "outputId": "ca743fcd-505e-4b57-8f68-a08506bb9e22"
   },
   "outputs": [
    {
     "data": {
      "text/html": [
       "<div>\n",
       "<style scoped>\n",
       "    .dataframe tbody tr th:only-of-type {\n",
       "        vertical-align: middle;\n",
       "    }\n",
       "\n",
       "    .dataframe tbody tr th {\n",
       "        vertical-align: top;\n",
       "    }\n",
       "\n",
       "    .dataframe thead th {\n",
       "        text-align: right;\n",
       "    }\n",
       "</style>\n",
       "<table border=\"1\" class=\"dataframe\">\n",
       "  <thead>\n",
       "    <tr style=\"text-align: right;\">\n",
       "      <th></th>\n",
       "      <th>total_bill</th>\n",
       "      <th>tip</th>\n",
       "      <th>sex</th>\n",
       "      <th>smoker</th>\n",
       "      <th>day</th>\n",
       "      <th>time</th>\n",
       "      <th>size</th>\n",
       "      <th>weekend</th>\n",
       "      <th>bill_cat</th>\n",
       "    </tr>\n",
       "  </thead>\n",
       "  <tbody>\n",
       "    <tr>\n",
       "      <th>170</th>\n",
       "      <td>50.81</td>\n",
       "      <td>10.00</td>\n",
       "      <td>Male</td>\n",
       "      <td>Yes</td>\n",
       "      <td>Sat</td>\n",
       "      <td>Dinner</td>\n",
       "      <td>3</td>\n",
       "      <td>weekend</td>\n",
       "      <td>41+</td>\n",
       "    </tr>\n",
       "    <tr>\n",
       "      <th>212</th>\n",
       "      <td>48.33</td>\n",
       "      <td>9.00</td>\n",
       "      <td>Male</td>\n",
       "      <td>No</td>\n",
       "      <td>Sat</td>\n",
       "      <td>Dinner</td>\n",
       "      <td>4</td>\n",
       "      <td>weekend</td>\n",
       "      <td>41+</td>\n",
       "    </tr>\n",
       "    <tr>\n",
       "      <th>59</th>\n",
       "      <td>48.27</td>\n",
       "      <td>6.73</td>\n",
       "      <td>Male</td>\n",
       "      <td>No</td>\n",
       "      <td>Sat</td>\n",
       "      <td>Dinner</td>\n",
       "      <td>4</td>\n",
       "      <td>weekend</td>\n",
       "      <td>41+</td>\n",
       "    </tr>\n",
       "    <tr>\n",
       "      <th>156</th>\n",
       "      <td>48.17</td>\n",
       "      <td>5.00</td>\n",
       "      <td>Male</td>\n",
       "      <td>No</td>\n",
       "      <td>Sun</td>\n",
       "      <td>Dinner</td>\n",
       "      <td>6</td>\n",
       "      <td>weekend</td>\n",
       "      <td>41+</td>\n",
       "    </tr>\n",
       "    <tr>\n",
       "      <th>182</th>\n",
       "      <td>45.35</td>\n",
       "      <td>3.50</td>\n",
       "      <td>Male</td>\n",
       "      <td>Yes</td>\n",
       "      <td>Sun</td>\n",
       "      <td>Dinner</td>\n",
       "      <td>3</td>\n",
       "      <td>weekend</td>\n",
       "      <td>41+</td>\n",
       "    </tr>\n",
       "    <tr>\n",
       "      <th>...</th>\n",
       "      <td>...</td>\n",
       "      <td>...</td>\n",
       "      <td>...</td>\n",
       "      <td>...</td>\n",
       "      <td>...</td>\n",
       "      <td>...</td>\n",
       "      <td>...</td>\n",
       "      <td>...</td>\n",
       "      <td>...</td>\n",
       "    </tr>\n",
       "    <tr>\n",
       "      <th>149</th>\n",
       "      <td>7.51</td>\n",
       "      <td>2.00</td>\n",
       "      <td>Male</td>\n",
       "      <td>No</td>\n",
       "      <td>Thur</td>\n",
       "      <td>Lunch</td>\n",
       "      <td>2</td>\n",
       "      <td>weekday</td>\n",
       "      <td>0-10</td>\n",
       "    </tr>\n",
       "    <tr>\n",
       "      <th>111</th>\n",
       "      <td>7.25</td>\n",
       "      <td>1.00</td>\n",
       "      <td>Female</td>\n",
       "      <td>No</td>\n",
       "      <td>Sat</td>\n",
       "      <td>Dinner</td>\n",
       "      <td>1</td>\n",
       "      <td>weekend</td>\n",
       "      <td>0-10</td>\n",
       "    </tr>\n",
       "    <tr>\n",
       "      <th>172</th>\n",
       "      <td>7.25</td>\n",
       "      <td>5.15</td>\n",
       "      <td>Male</td>\n",
       "      <td>Yes</td>\n",
       "      <td>Sun</td>\n",
       "      <td>Dinner</td>\n",
       "      <td>2</td>\n",
       "      <td>weekend</td>\n",
       "      <td>0-10</td>\n",
       "    </tr>\n",
       "    <tr>\n",
       "      <th>92</th>\n",
       "      <td>5.75</td>\n",
       "      <td>1.00</td>\n",
       "      <td>Female</td>\n",
       "      <td>Yes</td>\n",
       "      <td>Fri</td>\n",
       "      <td>Dinner</td>\n",
       "      <td>2</td>\n",
       "      <td>weekday</td>\n",
       "      <td>0-10</td>\n",
       "    </tr>\n",
       "    <tr>\n",
       "      <th>67</th>\n",
       "      <td>3.07</td>\n",
       "      <td>1.00</td>\n",
       "      <td>Female</td>\n",
       "      <td>Yes</td>\n",
       "      <td>Sat</td>\n",
       "      <td>Dinner</td>\n",
       "      <td>1</td>\n",
       "      <td>weekend</td>\n",
       "      <td>0-10</td>\n",
       "    </tr>\n",
       "  </tbody>\n",
       "</table>\n",
       "<p>244 rows × 9 columns</p>\n",
       "</div>"
      ],
      "text/plain": [
       "     total_bill    tip     sex smoker   day    time  size  weekend bill_cat\n",
       "170       50.81  10.00    Male    Yes   Sat  Dinner     3  weekend      41+\n",
       "212       48.33   9.00    Male     No   Sat  Dinner     4  weekend      41+\n",
       "59        48.27   6.73    Male     No   Sat  Dinner     4  weekend      41+\n",
       "156       48.17   5.00    Male     No   Sun  Dinner     6  weekend      41+\n",
       "182       45.35   3.50    Male    Yes   Sun  Dinner     3  weekend      41+\n",
       "..          ...    ...     ...    ...   ...     ...   ...      ...      ...\n",
       "149        7.51   2.00    Male     No  Thur   Lunch     2  weekday     0-10\n",
       "111        7.25   1.00  Female     No   Sat  Dinner     1  weekend     0-10\n",
       "172        7.25   5.15    Male    Yes   Sun  Dinner     2  weekend     0-10\n",
       "92         5.75   1.00  Female    Yes   Fri  Dinner     2  weekday     0-10\n",
       "67         3.07   1.00  Female    Yes   Sat  Dinner     1  weekend     0-10\n",
       "\n",
       "[244 rows x 9 columns]"
      ]
     },
     "execution_count": 43,
     "metadata": {},
     "output_type": "execute_result"
    }
   ],
   "source": [
    "tips.sort_values(\"total_bill\",ascending=False)"
   ]
  },
  {
   "cell_type": "markdown",
   "metadata": {},
   "source": [
    "- nlargest(10,\"変数名\")とすると指定した変数のトップ10を抽出できる。"
   ]
  },
  {
   "cell_type": "code",
   "execution_count": 44,
   "metadata": {
    "colab": {
     "base_uri": "https://localhost:8080/",
     "height": 363
    },
    "executionInfo": {
     "elapsed": 413,
     "status": "ok",
     "timestamp": 1682749588397,
     "user": {
      "displayName": "瀧川裕貴",
      "userId": "05752887510241032794"
     },
     "user_tz": -540
    },
    "id": "74JkXrB7qqDH",
    "outputId": "52fb8cc4-4572-411f-cb9a-3a8059cb1077"
   },
   "outputs": [
    {
     "data": {
      "text/html": [
       "<div>\n",
       "<style scoped>\n",
       "    .dataframe tbody tr th:only-of-type {\n",
       "        vertical-align: middle;\n",
       "    }\n",
       "\n",
       "    .dataframe tbody tr th {\n",
       "        vertical-align: top;\n",
       "    }\n",
       "\n",
       "    .dataframe thead th {\n",
       "        text-align: right;\n",
       "    }\n",
       "</style>\n",
       "<table border=\"1\" class=\"dataframe\">\n",
       "  <thead>\n",
       "    <tr style=\"text-align: right;\">\n",
       "      <th></th>\n",
       "      <th>total_bill</th>\n",
       "      <th>tip</th>\n",
       "      <th>sex</th>\n",
       "      <th>smoker</th>\n",
       "      <th>day</th>\n",
       "      <th>time</th>\n",
       "      <th>size</th>\n",
       "      <th>weekend</th>\n",
       "      <th>bill_cat</th>\n",
       "    </tr>\n",
       "  </thead>\n",
       "  <tbody>\n",
       "    <tr>\n",
       "      <th>170</th>\n",
       "      <td>50.81</td>\n",
       "      <td>10.00</td>\n",
       "      <td>Male</td>\n",
       "      <td>Yes</td>\n",
       "      <td>Sat</td>\n",
       "      <td>Dinner</td>\n",
       "      <td>3</td>\n",
       "      <td>weekend</td>\n",
       "      <td>41+</td>\n",
       "    </tr>\n",
       "    <tr>\n",
       "      <th>212</th>\n",
       "      <td>48.33</td>\n",
       "      <td>9.00</td>\n",
       "      <td>Male</td>\n",
       "      <td>No</td>\n",
       "      <td>Sat</td>\n",
       "      <td>Dinner</td>\n",
       "      <td>4</td>\n",
       "      <td>weekend</td>\n",
       "      <td>41+</td>\n",
       "    </tr>\n",
       "    <tr>\n",
       "      <th>59</th>\n",
       "      <td>48.27</td>\n",
       "      <td>6.73</td>\n",
       "      <td>Male</td>\n",
       "      <td>No</td>\n",
       "      <td>Sat</td>\n",
       "      <td>Dinner</td>\n",
       "      <td>4</td>\n",
       "      <td>weekend</td>\n",
       "      <td>41+</td>\n",
       "    </tr>\n",
       "    <tr>\n",
       "      <th>156</th>\n",
       "      <td>48.17</td>\n",
       "      <td>5.00</td>\n",
       "      <td>Male</td>\n",
       "      <td>No</td>\n",
       "      <td>Sun</td>\n",
       "      <td>Dinner</td>\n",
       "      <td>6</td>\n",
       "      <td>weekend</td>\n",
       "      <td>41+</td>\n",
       "    </tr>\n",
       "    <tr>\n",
       "      <th>182</th>\n",
       "      <td>45.35</td>\n",
       "      <td>3.50</td>\n",
       "      <td>Male</td>\n",
       "      <td>Yes</td>\n",
       "      <td>Sun</td>\n",
       "      <td>Dinner</td>\n",
       "      <td>3</td>\n",
       "      <td>weekend</td>\n",
       "      <td>41+</td>\n",
       "    </tr>\n",
       "    <tr>\n",
       "      <th>102</th>\n",
       "      <td>44.30</td>\n",
       "      <td>2.50</td>\n",
       "      <td>Female</td>\n",
       "      <td>Yes</td>\n",
       "      <td>Sat</td>\n",
       "      <td>Dinner</td>\n",
       "      <td>3</td>\n",
       "      <td>weekend</td>\n",
       "      <td>41+</td>\n",
       "    </tr>\n",
       "    <tr>\n",
       "      <th>197</th>\n",
       "      <td>43.11</td>\n",
       "      <td>5.00</td>\n",
       "      <td>Female</td>\n",
       "      <td>Yes</td>\n",
       "      <td>Thur</td>\n",
       "      <td>Lunch</td>\n",
       "      <td>4</td>\n",
       "      <td>weekday</td>\n",
       "      <td>41+</td>\n",
       "    </tr>\n",
       "    <tr>\n",
       "      <th>142</th>\n",
       "      <td>41.19</td>\n",
       "      <td>5.00</td>\n",
       "      <td>Male</td>\n",
       "      <td>No</td>\n",
       "      <td>Thur</td>\n",
       "      <td>Lunch</td>\n",
       "      <td>5</td>\n",
       "      <td>weekday</td>\n",
       "      <td>41+</td>\n",
       "    </tr>\n",
       "    <tr>\n",
       "      <th>184</th>\n",
       "      <td>40.55</td>\n",
       "      <td>3.00</td>\n",
       "      <td>Male</td>\n",
       "      <td>Yes</td>\n",
       "      <td>Sun</td>\n",
       "      <td>Dinner</td>\n",
       "      <td>2</td>\n",
       "      <td>weekend</td>\n",
       "      <td>41+</td>\n",
       "    </tr>\n",
       "    <tr>\n",
       "      <th>95</th>\n",
       "      <td>40.17</td>\n",
       "      <td>4.73</td>\n",
       "      <td>Male</td>\n",
       "      <td>Yes</td>\n",
       "      <td>Fri</td>\n",
       "      <td>Dinner</td>\n",
       "      <td>4</td>\n",
       "      <td>weekday</td>\n",
       "      <td>41+</td>\n",
       "    </tr>\n",
       "  </tbody>\n",
       "</table>\n",
       "</div>"
      ],
      "text/plain": [
       "     total_bill    tip     sex smoker   day    time  size  weekend bill_cat\n",
       "170       50.81  10.00    Male    Yes   Sat  Dinner     3  weekend      41+\n",
       "212       48.33   9.00    Male     No   Sat  Dinner     4  weekend      41+\n",
       "59        48.27   6.73    Male     No   Sat  Dinner     4  weekend      41+\n",
       "156       48.17   5.00    Male     No   Sun  Dinner     6  weekend      41+\n",
       "182       45.35   3.50    Male    Yes   Sun  Dinner     3  weekend      41+\n",
       "102       44.30   2.50  Female    Yes   Sat  Dinner     3  weekend      41+\n",
       "197       43.11   5.00  Female    Yes  Thur   Lunch     4  weekday      41+\n",
       "142       41.19   5.00    Male     No  Thur   Lunch     5  weekday      41+\n",
       "184       40.55   3.00    Male    Yes   Sun  Dinner     2  weekend      41+\n",
       "95        40.17   4.73    Male    Yes   Fri  Dinner     4  weekday      41+"
      ]
     },
     "execution_count": 44,
     "metadata": {},
     "output_type": "execute_result"
    }
   ],
   "source": [
    "tips.nlargest(10,\"total_bill\")"
   ]
  },
  {
   "cell_type": "markdown",
   "metadata": {
    "id": "TEubAaRilj3A"
   },
   "source": [
    "### 問題1\n",
    "\n",
    "- gapminderデータセットを使ってデータ選択や変数のリコードの問題を解きます。"
   ]
  },
  {
   "cell_type": "code",
   "execution_count": 45,
   "metadata": {
    "executionInfo": {
     "elapsed": 420,
     "status": "ok",
     "timestamp": 1682749630319,
     "user": {
      "displayName": "瀧川裕貴",
      "userId": "05752887510241032794"
     },
     "user_tz": -540
    },
    "id": "QGvQH4zAluMu"
   },
   "outputs": [],
   "source": [
    "gapminder = px.data.gapminder()"
   ]
  },
  {
   "cell_type": "markdown",
   "metadata": {
    "id": "3bgNjMsEmKLu"
   },
   "source": [
    "#### 問題1-1\n",
    "- データフレームgapminderから、最初の5行を選択して表示してください。\n"
   ]
  },
  {
   "cell_type": "code",
   "execution_count": 46,
   "metadata": {
    "colab": {
     "base_uri": "https://localhost:8080/",
     "height": 206
    },
    "executionInfo": {
     "elapsed": 279,
     "status": "ok",
     "timestamp": 1682750242659,
     "user": {
      "displayName": "瀧川裕貴",
      "userId": "05752887510241032794"
     },
     "user_tz": -540
    },
    "id": "M82IkLRVutkP",
    "outputId": "1a098f38-3573-42aa-d1c9-f5efaee7f2dc",
    "tags": [
     "remove-input"
    ]
   },
   "outputs": [
    {
     "data": {
      "text/html": [
       "<div>\n",
       "<style scoped>\n",
       "    .dataframe tbody tr th:only-of-type {\n",
       "        vertical-align: middle;\n",
       "    }\n",
       "\n",
       "    .dataframe tbody tr th {\n",
       "        vertical-align: top;\n",
       "    }\n",
       "\n",
       "    .dataframe thead th {\n",
       "        text-align: right;\n",
       "    }\n",
       "</style>\n",
       "<table border=\"1\" class=\"dataframe\">\n",
       "  <thead>\n",
       "    <tr style=\"text-align: right;\">\n",
       "      <th></th>\n",
       "      <th>country</th>\n",
       "      <th>continent</th>\n",
       "      <th>year</th>\n",
       "      <th>lifeExp</th>\n",
       "      <th>pop</th>\n",
       "      <th>gdpPercap</th>\n",
       "      <th>iso_alpha</th>\n",
       "      <th>iso_num</th>\n",
       "    </tr>\n",
       "  </thead>\n",
       "  <tbody>\n",
       "    <tr>\n",
       "      <th>0</th>\n",
       "      <td>Afghanistan</td>\n",
       "      <td>Asia</td>\n",
       "      <td>1952</td>\n",
       "      <td>28.801</td>\n",
       "      <td>8425333</td>\n",
       "      <td>779.445314</td>\n",
       "      <td>AFG</td>\n",
       "      <td>4</td>\n",
       "    </tr>\n",
       "    <tr>\n",
       "      <th>1</th>\n",
       "      <td>Afghanistan</td>\n",
       "      <td>Asia</td>\n",
       "      <td>1957</td>\n",
       "      <td>30.332</td>\n",
       "      <td>9240934</td>\n",
       "      <td>820.853030</td>\n",
       "      <td>AFG</td>\n",
       "      <td>4</td>\n",
       "    </tr>\n",
       "    <tr>\n",
       "      <th>2</th>\n",
       "      <td>Afghanistan</td>\n",
       "      <td>Asia</td>\n",
       "      <td>1962</td>\n",
       "      <td>31.997</td>\n",
       "      <td>10267083</td>\n",
       "      <td>853.100710</td>\n",
       "      <td>AFG</td>\n",
       "      <td>4</td>\n",
       "    </tr>\n",
       "    <tr>\n",
       "      <th>3</th>\n",
       "      <td>Afghanistan</td>\n",
       "      <td>Asia</td>\n",
       "      <td>1967</td>\n",
       "      <td>34.020</td>\n",
       "      <td>11537966</td>\n",
       "      <td>836.197138</td>\n",
       "      <td>AFG</td>\n",
       "      <td>4</td>\n",
       "    </tr>\n",
       "    <tr>\n",
       "      <th>4</th>\n",
       "      <td>Afghanistan</td>\n",
       "      <td>Asia</td>\n",
       "      <td>1972</td>\n",
       "      <td>36.088</td>\n",
       "      <td>13079460</td>\n",
       "      <td>739.981106</td>\n",
       "      <td>AFG</td>\n",
       "      <td>4</td>\n",
       "    </tr>\n",
       "  </tbody>\n",
       "</table>\n",
       "</div>"
      ],
      "text/plain": [
       "       country continent  year  lifeExp       pop   gdpPercap iso_alpha  \\\n",
       "0  Afghanistan      Asia  1952   28.801   8425333  779.445314       AFG   \n",
       "1  Afghanistan      Asia  1957   30.332   9240934  820.853030       AFG   \n",
       "2  Afghanistan      Asia  1962   31.997  10267083  853.100710       AFG   \n",
       "3  Afghanistan      Asia  1967   34.020  11537966  836.197138       AFG   \n",
       "4  Afghanistan      Asia  1972   36.088  13079460  739.981106       AFG   \n",
       "\n",
       "   iso_num  \n",
       "0        4  \n",
       "1        4  \n",
       "2        4  \n",
       "3        4  \n",
       "4        4  "
      ]
     },
     "execution_count": 46,
     "metadata": {},
     "output_type": "execute_result"
    }
   ],
   "source": [
    "gapminder.head(5)"
   ]
  },
  {
   "cell_type": "markdown",
   "metadata": {},
   "source": [
    "- データフレームgapminderから、カラム 'country' と 'continent' のみを選択して表示してください。\n"
   ]
  },
  {
   "cell_type": "code",
   "execution_count": 47,
   "metadata": {
    "colab": {
     "base_uri": "https://localhost:8080/",
     "height": 423
    },
    "executionInfo": {
     "elapsed": 281,
     "status": "ok",
     "timestamp": 1682750275716,
     "user": {
      "displayName": "瀧川裕貴",
      "userId": "05752887510241032794"
     },
     "user_tz": -540
    },
    "id": "pK4vUKmuuxIg",
    "outputId": "77abb6b1-2976-4099-a5cb-3cfeb7113d54",
    "tags": [
     "remove-input"
    ]
   },
   "outputs": [
    {
     "data": {
      "text/html": [
       "<div>\n",
       "<style scoped>\n",
       "    .dataframe tbody tr th:only-of-type {\n",
       "        vertical-align: middle;\n",
       "    }\n",
       "\n",
       "    .dataframe tbody tr th {\n",
       "        vertical-align: top;\n",
       "    }\n",
       "\n",
       "    .dataframe thead th {\n",
       "        text-align: right;\n",
       "    }\n",
       "</style>\n",
       "<table border=\"1\" class=\"dataframe\">\n",
       "  <thead>\n",
       "    <tr style=\"text-align: right;\">\n",
       "      <th></th>\n",
       "      <th>country</th>\n",
       "      <th>continent</th>\n",
       "    </tr>\n",
       "  </thead>\n",
       "  <tbody>\n",
       "    <tr>\n",
       "      <th>0</th>\n",
       "      <td>Afghanistan</td>\n",
       "      <td>Asia</td>\n",
       "    </tr>\n",
       "    <tr>\n",
       "      <th>1</th>\n",
       "      <td>Afghanistan</td>\n",
       "      <td>Asia</td>\n",
       "    </tr>\n",
       "    <tr>\n",
       "      <th>2</th>\n",
       "      <td>Afghanistan</td>\n",
       "      <td>Asia</td>\n",
       "    </tr>\n",
       "    <tr>\n",
       "      <th>3</th>\n",
       "      <td>Afghanistan</td>\n",
       "      <td>Asia</td>\n",
       "    </tr>\n",
       "    <tr>\n",
       "      <th>4</th>\n",
       "      <td>Afghanistan</td>\n",
       "      <td>Asia</td>\n",
       "    </tr>\n",
       "    <tr>\n",
       "      <th>...</th>\n",
       "      <td>...</td>\n",
       "      <td>...</td>\n",
       "    </tr>\n",
       "    <tr>\n",
       "      <th>1699</th>\n",
       "      <td>Zimbabwe</td>\n",
       "      <td>Africa</td>\n",
       "    </tr>\n",
       "    <tr>\n",
       "      <th>1700</th>\n",
       "      <td>Zimbabwe</td>\n",
       "      <td>Africa</td>\n",
       "    </tr>\n",
       "    <tr>\n",
       "      <th>1701</th>\n",
       "      <td>Zimbabwe</td>\n",
       "      <td>Africa</td>\n",
       "    </tr>\n",
       "    <tr>\n",
       "      <th>1702</th>\n",
       "      <td>Zimbabwe</td>\n",
       "      <td>Africa</td>\n",
       "    </tr>\n",
       "    <tr>\n",
       "      <th>1703</th>\n",
       "      <td>Zimbabwe</td>\n",
       "      <td>Africa</td>\n",
       "    </tr>\n",
       "  </tbody>\n",
       "</table>\n",
       "<p>1704 rows × 2 columns</p>\n",
       "</div>"
      ],
      "text/plain": [
       "          country continent\n",
       "0     Afghanistan      Asia\n",
       "1     Afghanistan      Asia\n",
       "2     Afghanistan      Asia\n",
       "3     Afghanistan      Asia\n",
       "4     Afghanistan      Asia\n",
       "...           ...       ...\n",
       "1699     Zimbabwe    Africa\n",
       "1700     Zimbabwe    Africa\n",
       "1701     Zimbabwe    Africa\n",
       "1702     Zimbabwe    Africa\n",
       "1703     Zimbabwe    Africa\n",
       "\n",
       "[1704 rows x 2 columns]"
      ]
     },
     "execution_count": 47,
     "metadata": {},
     "output_type": "execute_result"
    }
   ],
   "source": [
    "gapminder[['country','continent']]"
   ]
  },
  {
   "cell_type": "markdown",
   "metadata": {},
   "source": [
    "- データフレームgapminderから、インデックス番号10から19までの行を選択して表示してください。\n"
   ]
  },
  {
   "cell_type": "code",
   "execution_count": 48,
   "metadata": {
    "colab": {
     "base_uri": "https://localhost:8080/",
     "height": 363
    },
    "executionInfo": {
     "elapsed": 263,
     "status": "ok",
     "timestamp": 1682750325545,
     "user": {
      "displayName": "瀧川裕貴",
      "userId": "05752887510241032794"
     },
     "user_tz": -540
    },
    "id": "U-JId4rRu5vH",
    "outputId": "392ea303-6196-4e5b-84ef-314d498114de",
    "tags": [
     "remove-input"
    ]
   },
   "outputs": [
    {
     "data": {
      "text/html": [
       "<div>\n",
       "<style scoped>\n",
       "    .dataframe tbody tr th:only-of-type {\n",
       "        vertical-align: middle;\n",
       "    }\n",
       "\n",
       "    .dataframe tbody tr th {\n",
       "        vertical-align: top;\n",
       "    }\n",
       "\n",
       "    .dataframe thead th {\n",
       "        text-align: right;\n",
       "    }\n",
       "</style>\n",
       "<table border=\"1\" class=\"dataframe\">\n",
       "  <thead>\n",
       "    <tr style=\"text-align: right;\">\n",
       "      <th></th>\n",
       "      <th>country</th>\n",
       "      <th>continent</th>\n",
       "      <th>year</th>\n",
       "      <th>lifeExp</th>\n",
       "      <th>pop</th>\n",
       "      <th>gdpPercap</th>\n",
       "      <th>iso_alpha</th>\n",
       "      <th>iso_num</th>\n",
       "    </tr>\n",
       "  </thead>\n",
       "  <tbody>\n",
       "    <tr>\n",
       "      <th>10</th>\n",
       "      <td>Afghanistan</td>\n",
       "      <td>Asia</td>\n",
       "      <td>2002</td>\n",
       "      <td>42.129</td>\n",
       "      <td>25268405</td>\n",
       "      <td>726.734055</td>\n",
       "      <td>AFG</td>\n",
       "      <td>4</td>\n",
       "    </tr>\n",
       "    <tr>\n",
       "      <th>11</th>\n",
       "      <td>Afghanistan</td>\n",
       "      <td>Asia</td>\n",
       "      <td>2007</td>\n",
       "      <td>43.828</td>\n",
       "      <td>31889923</td>\n",
       "      <td>974.580338</td>\n",
       "      <td>AFG</td>\n",
       "      <td>4</td>\n",
       "    </tr>\n",
       "    <tr>\n",
       "      <th>12</th>\n",
       "      <td>Albania</td>\n",
       "      <td>Europe</td>\n",
       "      <td>1952</td>\n",
       "      <td>55.230</td>\n",
       "      <td>1282697</td>\n",
       "      <td>1601.056136</td>\n",
       "      <td>ALB</td>\n",
       "      <td>8</td>\n",
       "    </tr>\n",
       "    <tr>\n",
       "      <th>13</th>\n",
       "      <td>Albania</td>\n",
       "      <td>Europe</td>\n",
       "      <td>1957</td>\n",
       "      <td>59.280</td>\n",
       "      <td>1476505</td>\n",
       "      <td>1942.284244</td>\n",
       "      <td>ALB</td>\n",
       "      <td>8</td>\n",
       "    </tr>\n",
       "    <tr>\n",
       "      <th>14</th>\n",
       "      <td>Albania</td>\n",
       "      <td>Europe</td>\n",
       "      <td>1962</td>\n",
       "      <td>64.820</td>\n",
       "      <td>1728137</td>\n",
       "      <td>2312.888958</td>\n",
       "      <td>ALB</td>\n",
       "      <td>8</td>\n",
       "    </tr>\n",
       "    <tr>\n",
       "      <th>15</th>\n",
       "      <td>Albania</td>\n",
       "      <td>Europe</td>\n",
       "      <td>1967</td>\n",
       "      <td>66.220</td>\n",
       "      <td>1984060</td>\n",
       "      <td>2760.196931</td>\n",
       "      <td>ALB</td>\n",
       "      <td>8</td>\n",
       "    </tr>\n",
       "    <tr>\n",
       "      <th>16</th>\n",
       "      <td>Albania</td>\n",
       "      <td>Europe</td>\n",
       "      <td>1972</td>\n",
       "      <td>67.690</td>\n",
       "      <td>2263554</td>\n",
       "      <td>3313.422188</td>\n",
       "      <td>ALB</td>\n",
       "      <td>8</td>\n",
       "    </tr>\n",
       "    <tr>\n",
       "      <th>17</th>\n",
       "      <td>Albania</td>\n",
       "      <td>Europe</td>\n",
       "      <td>1977</td>\n",
       "      <td>68.930</td>\n",
       "      <td>2509048</td>\n",
       "      <td>3533.003910</td>\n",
       "      <td>ALB</td>\n",
       "      <td>8</td>\n",
       "    </tr>\n",
       "    <tr>\n",
       "      <th>18</th>\n",
       "      <td>Albania</td>\n",
       "      <td>Europe</td>\n",
       "      <td>1982</td>\n",
       "      <td>70.420</td>\n",
       "      <td>2780097</td>\n",
       "      <td>3630.880722</td>\n",
       "      <td>ALB</td>\n",
       "      <td>8</td>\n",
       "    </tr>\n",
       "    <tr>\n",
       "      <th>19</th>\n",
       "      <td>Albania</td>\n",
       "      <td>Europe</td>\n",
       "      <td>1987</td>\n",
       "      <td>72.000</td>\n",
       "      <td>3075321</td>\n",
       "      <td>3738.932735</td>\n",
       "      <td>ALB</td>\n",
       "      <td>8</td>\n",
       "    </tr>\n",
       "  </tbody>\n",
       "</table>\n",
       "</div>"
      ],
      "text/plain": [
       "        country continent  year  lifeExp       pop    gdpPercap iso_alpha  \\\n",
       "10  Afghanistan      Asia  2002   42.129  25268405   726.734055       AFG   \n",
       "11  Afghanistan      Asia  2007   43.828  31889923   974.580338       AFG   \n",
       "12      Albania    Europe  1952   55.230   1282697  1601.056136       ALB   \n",
       "13      Albania    Europe  1957   59.280   1476505  1942.284244       ALB   \n",
       "14      Albania    Europe  1962   64.820   1728137  2312.888958       ALB   \n",
       "15      Albania    Europe  1967   66.220   1984060  2760.196931       ALB   \n",
       "16      Albania    Europe  1972   67.690   2263554  3313.422188       ALB   \n",
       "17      Albania    Europe  1977   68.930   2509048  3533.003910       ALB   \n",
       "18      Albania    Europe  1982   70.420   2780097  3630.880722       ALB   \n",
       "19      Albania    Europe  1987   72.000   3075321  3738.932735       ALB   \n",
       "\n",
       "    iso_num  \n",
       "10        4  \n",
       "11        4  \n",
       "12        8  \n",
       "13        8  \n",
       "14        8  \n",
       "15        8  \n",
       "16        8  \n",
       "17        8  \n",
       "18        8  \n",
       "19        8  "
      ]
     },
     "execution_count": 48,
     "metadata": {},
     "output_type": "execute_result"
    }
   ],
   "source": [
    "gapminder.iloc[10:20]"
   ]
  },
  {
   "cell_type": "markdown",
   "metadata": {
    "id": "hGOzFopPnfUu"
   },
   "source": [
    "#### 問題1-2\n",
    "- データフレームgapminderの'country'カラム内の 'United States' を 'USA' に置き換えてください。\n",
    "  - \"pd.options.display.max_rows = None\"とすると全行表示可能\n"
   ]
  },
  {
   "cell_type": "code",
   "execution_count": 49,
   "metadata": {
    "id": "ReUWr4aGvFy9",
    "tags": [
     "remove-input",
     "remove-output"
    ]
   },
   "outputs": [
    {
     "name": "stdout",
     "output_type": "stream",
     "text": [
      "                       country continent  year   lifeExp         pop  \\\n",
      "0                  Afghanistan      Asia  1952  28.80100     8425333   \n",
      "1                  Afghanistan      Asia  1957  30.33200     9240934   \n",
      "2                  Afghanistan      Asia  1962  31.99700    10267083   \n",
      "3                  Afghanistan      Asia  1967  34.02000    11537966   \n",
      "4                  Afghanistan      Asia  1972  36.08800    13079460   \n",
      "5                  Afghanistan      Asia  1977  38.43800    14880372   \n",
      "6                  Afghanistan      Asia  1982  39.85400    12881816   \n",
      "7                  Afghanistan      Asia  1987  40.82200    13867957   \n",
      "8                  Afghanistan      Asia  1992  41.67400    16317921   \n",
      "9                  Afghanistan      Asia  1997  41.76300    22227415   \n",
      "10                 Afghanistan      Asia  2002  42.12900    25268405   \n",
      "11                 Afghanistan      Asia  2007  43.82800    31889923   \n",
      "12                     Albania    Europe  1952  55.23000     1282697   \n",
      "13                     Albania    Europe  1957  59.28000     1476505   \n",
      "14                     Albania    Europe  1962  64.82000     1728137   \n",
      "15                     Albania    Europe  1967  66.22000     1984060   \n",
      "16                     Albania    Europe  1972  67.69000     2263554   \n",
      "17                     Albania    Europe  1977  68.93000     2509048   \n",
      "18                     Albania    Europe  1982  70.42000     2780097   \n",
      "19                     Albania    Europe  1987  72.00000     3075321   \n",
      "20                     Albania    Europe  1992  71.58100     3326498   \n",
      "21                     Albania    Europe  1997  72.95000     3428038   \n",
      "22                     Albania    Europe  2002  75.65100     3508512   \n",
      "23                     Albania    Europe  2007  76.42300     3600523   \n",
      "24                     Algeria    Africa  1952  43.07700     9279525   \n",
      "25                     Algeria    Africa  1957  45.68500    10270856   \n",
      "26                     Algeria    Africa  1962  48.30300    11000948   \n",
      "27                     Algeria    Africa  1967  51.40700    12760499   \n",
      "28                     Algeria    Africa  1972  54.51800    14760787   \n",
      "29                     Algeria    Africa  1977  58.01400    17152804   \n",
      "30                     Algeria    Africa  1982  61.36800    20033753   \n",
      "31                     Algeria    Africa  1987  65.79900    23254956   \n",
      "32                     Algeria    Africa  1992  67.74400    26298373   \n",
      "33                     Algeria    Africa  1997  69.15200    29072015   \n",
      "34                     Algeria    Africa  2002  70.99400    31287142   \n",
      "35                     Algeria    Africa  2007  72.30100    33333216   \n",
      "36                      Angola    Africa  1952  30.01500     4232095   \n",
      "37                      Angola    Africa  1957  31.99900     4561361   \n",
      "38                      Angola    Africa  1962  34.00000     4826015   \n",
      "39                      Angola    Africa  1967  35.98500     5247469   \n",
      "40                      Angola    Africa  1972  37.92800     5894858   \n",
      "41                      Angola    Africa  1977  39.48300     6162675   \n",
      "42                      Angola    Africa  1982  39.94200     7016384   \n",
      "43                      Angola    Africa  1987  39.90600     7874230   \n",
      "44                      Angola    Africa  1992  40.64700     8735988   \n",
      "45                      Angola    Africa  1997  40.96300     9875024   \n",
      "46                      Angola    Africa  2002  41.00300    10866106   \n",
      "47                      Angola    Africa  2007  42.73100    12420476   \n",
      "48                   Argentina  Americas  1952  62.48500    17876956   \n",
      "49                   Argentina  Americas  1957  64.39900    19610538   \n",
      "50                   Argentina  Americas  1962  65.14200    21283783   \n",
      "51                   Argentina  Americas  1967  65.63400    22934225   \n",
      "52                   Argentina  Americas  1972  67.06500    24779799   \n",
      "53                   Argentina  Americas  1977  68.48100    26983828   \n",
      "54                   Argentina  Americas  1982  69.94200    29341374   \n",
      "55                   Argentina  Americas  1987  70.77400    31620918   \n",
      "56                   Argentina  Americas  1992  71.86800    33958947   \n",
      "57                   Argentina  Americas  1997  73.27500    36203463   \n",
      "58                   Argentina  Americas  2002  74.34000    38331121   \n",
      "59                   Argentina  Americas  2007  75.32000    40301927   \n",
      "60                   Australia   Oceania  1952  69.12000     8691212   \n",
      "61                   Australia   Oceania  1957  70.33000     9712569   \n",
      "62                   Australia   Oceania  1962  70.93000    10794968   \n",
      "63                   Australia   Oceania  1967  71.10000    11872264   \n",
      "64                   Australia   Oceania  1972  71.93000    13177000   \n",
      "65                   Australia   Oceania  1977  73.49000    14074100   \n",
      "66                   Australia   Oceania  1982  74.74000    15184200   \n",
      "67                   Australia   Oceania  1987  76.32000    16257249   \n",
      "68                   Australia   Oceania  1992  77.56000    17481977   \n",
      "69                   Australia   Oceania  1997  78.83000    18565243   \n",
      "70                   Australia   Oceania  2002  80.37000    19546792   \n",
      "71                   Australia   Oceania  2007  81.23500    20434176   \n",
      "72                     Austria    Europe  1952  66.80000     6927772   \n",
      "73                     Austria    Europe  1957  67.48000     6965860   \n",
      "74                     Austria    Europe  1962  69.54000     7129864   \n",
      "75                     Austria    Europe  1967  70.14000     7376998   \n",
      "76                     Austria    Europe  1972  70.63000     7544201   \n",
      "77                     Austria    Europe  1977  72.17000     7568430   \n",
      "78                     Austria    Europe  1982  73.18000     7574613   \n",
      "79                     Austria    Europe  1987  74.94000     7578903   \n",
      "80                     Austria    Europe  1992  76.04000     7914969   \n",
      "81                     Austria    Europe  1997  77.51000     8069876   \n",
      "82                     Austria    Europe  2002  78.98000     8148312   \n",
      "83                     Austria    Europe  2007  79.82900     8199783   \n",
      "84                     Bahrain      Asia  1952  50.93900      120447   \n",
      "85                     Bahrain      Asia  1957  53.83200      138655   \n",
      "86                     Bahrain      Asia  1962  56.92300      171863   \n",
      "87                     Bahrain      Asia  1967  59.92300      202182   \n",
      "88                     Bahrain      Asia  1972  63.30000      230800   \n",
      "89                     Bahrain      Asia  1977  65.59300      297410   \n",
      "90                     Bahrain      Asia  1982  69.05200      377967   \n",
      "91                     Bahrain      Asia  1987  70.75000      454612   \n",
      "92                     Bahrain      Asia  1992  72.60100      529491   \n",
      "93                     Bahrain      Asia  1997  73.92500      598561   \n",
      "94                     Bahrain      Asia  2002  74.79500      656397   \n",
      "95                     Bahrain      Asia  2007  75.63500      708573   \n",
      "96                  Bangladesh      Asia  1952  37.48400    46886859   \n",
      "97                  Bangladesh      Asia  1957  39.34800    51365468   \n",
      "98                  Bangladesh      Asia  1962  41.21600    56839289   \n",
      "99                  Bangladesh      Asia  1967  43.45300    62821884   \n",
      "100                 Bangladesh      Asia  1972  45.25200    70759295   \n",
      "101                 Bangladesh      Asia  1977  46.92300    80428306   \n",
      "102                 Bangladesh      Asia  1982  50.00900    93074406   \n",
      "103                 Bangladesh      Asia  1987  52.81900   103764241   \n",
      "104                 Bangladesh      Asia  1992  56.01800   113704579   \n",
      "105                 Bangladesh      Asia  1997  59.41200   123315288   \n",
      "106                 Bangladesh      Asia  2002  62.01300   135656790   \n",
      "107                 Bangladesh      Asia  2007  64.06200   150448339   \n",
      "108                    Belgium    Europe  1952  68.00000     8730405   \n",
      "109                    Belgium    Europe  1957  69.24000     8989111   \n",
      "110                    Belgium    Europe  1962  70.25000     9218400   \n",
      "111                    Belgium    Europe  1967  70.94000     9556500   \n",
      "112                    Belgium    Europe  1972  71.44000     9709100   \n",
      "113                    Belgium    Europe  1977  72.80000     9821800   \n",
      "114                    Belgium    Europe  1982  73.93000     9856303   \n",
      "115                    Belgium    Europe  1987  75.35000     9870200   \n",
      "116                    Belgium    Europe  1992  76.46000    10045622   \n",
      "117                    Belgium    Europe  1997  77.53000    10199787   \n",
      "118                    Belgium    Europe  2002  78.32000    10311970   \n",
      "119                    Belgium    Europe  2007  79.44100    10392226   \n",
      "120                      Benin    Africa  1952  38.22300     1738315   \n",
      "121                      Benin    Africa  1957  40.35800     1925173   \n",
      "122                      Benin    Africa  1962  42.61800     2151895   \n",
      "123                      Benin    Africa  1967  44.88500     2427334   \n",
      "124                      Benin    Africa  1972  47.01400     2761407   \n",
      "125                      Benin    Africa  1977  49.19000     3168267   \n",
      "126                      Benin    Africa  1982  50.90400     3641603   \n",
      "127                      Benin    Africa  1987  52.33700     4243788   \n",
      "128                      Benin    Africa  1992  53.91900     4981671   \n",
      "129                      Benin    Africa  1997  54.77700     6066080   \n",
      "130                      Benin    Africa  2002  54.40600     7026113   \n",
      "131                      Benin    Africa  2007  56.72800     8078314   \n",
      "132                    Bolivia  Americas  1952  40.41400     2883315   \n",
      "133                    Bolivia  Americas  1957  41.89000     3211738   \n",
      "134                    Bolivia  Americas  1962  43.42800     3593918   \n",
      "135                    Bolivia  Americas  1967  45.03200     4040665   \n",
      "136                    Bolivia  Americas  1972  46.71400     4565872   \n",
      "137                    Bolivia  Americas  1977  50.02300     5079716   \n",
      "138                    Bolivia  Americas  1982  53.85900     5642224   \n",
      "139                    Bolivia  Americas  1987  57.25100     6156369   \n",
      "140                    Bolivia  Americas  1992  59.95700     6893451   \n",
      "141                    Bolivia  Americas  1997  62.05000     7693188   \n",
      "142                    Bolivia  Americas  2002  63.88300     8445134   \n",
      "143                    Bolivia  Americas  2007  65.55400     9119152   \n",
      "144     Bosnia and Herzegovina    Europe  1952  53.82000     2791000   \n",
      "145     Bosnia and Herzegovina    Europe  1957  58.45000     3076000   \n",
      "146     Bosnia and Herzegovina    Europe  1962  61.93000     3349000   \n",
      "147     Bosnia and Herzegovina    Europe  1967  64.79000     3585000   \n",
      "148     Bosnia and Herzegovina    Europe  1972  67.45000     3819000   \n",
      "149     Bosnia and Herzegovina    Europe  1977  69.86000     4086000   \n",
      "150     Bosnia and Herzegovina    Europe  1982  70.69000     4172693   \n",
      "151     Bosnia and Herzegovina    Europe  1987  71.14000     4338977   \n",
      "152     Bosnia and Herzegovina    Europe  1992  72.17800     4256013   \n",
      "153     Bosnia and Herzegovina    Europe  1997  73.24400     3607000   \n",
      "154     Bosnia and Herzegovina    Europe  2002  74.09000     4165416   \n",
      "155     Bosnia and Herzegovina    Europe  2007  74.85200     4552198   \n",
      "156                   Botswana    Africa  1952  47.62200      442308   \n",
      "157                   Botswana    Africa  1957  49.61800      474639   \n",
      "158                   Botswana    Africa  1962  51.52000      512764   \n",
      "159                   Botswana    Africa  1967  53.29800      553541   \n",
      "160                   Botswana    Africa  1972  56.02400      619351   \n",
      "161                   Botswana    Africa  1977  59.31900      781472   \n",
      "162                   Botswana    Africa  1982  61.48400      970347   \n",
      "163                   Botswana    Africa  1987  63.62200     1151184   \n",
      "164                   Botswana    Africa  1992  62.74500     1342614   \n",
      "165                   Botswana    Africa  1997  52.55600     1536536   \n",
      "166                   Botswana    Africa  2002  46.63400     1630347   \n",
      "167                   Botswana    Africa  2007  50.72800     1639131   \n",
      "168                     Brazil  Americas  1952  50.91700    56602560   \n",
      "169                     Brazil  Americas  1957  53.28500    65551171   \n",
      "170                     Brazil  Americas  1962  55.66500    76039390   \n",
      "171                     Brazil  Americas  1967  57.63200    88049823   \n",
      "172                     Brazil  Americas  1972  59.50400   100840058   \n",
      "173                     Brazil  Americas  1977  61.48900   114313951   \n",
      "174                     Brazil  Americas  1982  63.33600   128962939   \n",
      "175                     Brazil  Americas  1987  65.20500   142938076   \n",
      "176                     Brazil  Americas  1992  67.05700   155975974   \n",
      "177                     Brazil  Americas  1997  69.38800   168546719   \n",
      "178                     Brazil  Americas  2002  71.00600   179914212   \n",
      "179                     Brazil  Americas  2007  72.39000   190010647   \n",
      "180                   Bulgaria    Europe  1952  59.60000     7274900   \n",
      "181                   Bulgaria    Europe  1957  66.61000     7651254   \n",
      "182                   Bulgaria    Europe  1962  69.51000     8012946   \n",
      "183                   Bulgaria    Europe  1967  70.42000     8310226   \n",
      "184                   Bulgaria    Europe  1972  70.90000     8576200   \n",
      "185                   Bulgaria    Europe  1977  70.81000     8797022   \n",
      "186                   Bulgaria    Europe  1982  71.08000     8892098   \n",
      "187                   Bulgaria    Europe  1987  71.34000     8971958   \n",
      "188                   Bulgaria    Europe  1992  71.19000     8658506   \n",
      "189                   Bulgaria    Europe  1997  70.32000     8066057   \n",
      "190                   Bulgaria    Europe  2002  72.14000     7661799   \n",
      "191                   Bulgaria    Europe  2007  73.00500     7322858   \n",
      "192               Burkina Faso    Africa  1952  31.97500     4469979   \n",
      "193               Burkina Faso    Africa  1957  34.90600     4713416   \n",
      "194               Burkina Faso    Africa  1962  37.81400     4919632   \n",
      "195               Burkina Faso    Africa  1967  40.69700     5127935   \n",
      "196               Burkina Faso    Africa  1972  43.59100     5433886   \n",
      "197               Burkina Faso    Africa  1977  46.13700     5889574   \n",
      "198               Burkina Faso    Africa  1982  48.12200     6634596   \n",
      "199               Burkina Faso    Africa  1987  49.55700     7586551   \n",
      "200               Burkina Faso    Africa  1992  50.26000     8878303   \n",
      "201               Burkina Faso    Africa  1997  50.32400    10352843   \n",
      "202               Burkina Faso    Africa  2002  50.65000    12251209   \n",
      "203               Burkina Faso    Africa  2007  52.29500    14326203   \n",
      "204                    Burundi    Africa  1952  39.03100     2445618   \n",
      "205                    Burundi    Africa  1957  40.53300     2667518   \n",
      "206                    Burundi    Africa  1962  42.04500     2961915   \n",
      "207                    Burundi    Africa  1967  43.54800     3330989   \n",
      "208                    Burundi    Africa  1972  44.05700     3529983   \n",
      "209                    Burundi    Africa  1977  45.91000     3834415   \n",
      "210                    Burundi    Africa  1982  47.47100     4580410   \n",
      "211                    Burundi    Africa  1987  48.21100     5126023   \n",
      "212                    Burundi    Africa  1992  44.73600     5809236   \n",
      "213                    Burundi    Africa  1997  45.32600     6121610   \n",
      "214                    Burundi    Africa  2002  47.36000     7021078   \n",
      "215                    Burundi    Africa  2007  49.58000     8390505   \n",
      "216                   Cambodia      Asia  1952  39.41700     4693836   \n",
      "217                   Cambodia      Asia  1957  41.36600     5322536   \n",
      "218                   Cambodia      Asia  1962  43.41500     6083619   \n",
      "219                   Cambodia      Asia  1967  45.41500     6960067   \n",
      "220                   Cambodia      Asia  1972  40.31700     7450606   \n",
      "221                   Cambodia      Asia  1977  31.22000     6978607   \n",
      "222                   Cambodia      Asia  1982  50.95700     7272485   \n",
      "223                   Cambodia      Asia  1987  53.91400     8371791   \n",
      "224                   Cambodia      Asia  1992  55.80300    10150094   \n",
      "225                   Cambodia      Asia  1997  56.53400    11782962   \n",
      "226                   Cambodia      Asia  2002  56.75200    12926707   \n",
      "227                   Cambodia      Asia  2007  59.72300    14131858   \n",
      "228                   Cameroon    Africa  1952  38.52300     5009067   \n",
      "229                   Cameroon    Africa  1957  40.42800     5359923   \n",
      "230                   Cameroon    Africa  1962  42.64300     5793633   \n",
      "231                   Cameroon    Africa  1967  44.79900     6335506   \n",
      "232                   Cameroon    Africa  1972  47.04900     7021028   \n",
      "233                   Cameroon    Africa  1977  49.35500     7959865   \n",
      "234                   Cameroon    Africa  1982  52.96100     9250831   \n",
      "235                   Cameroon    Africa  1987  54.98500    10780667   \n",
      "236                   Cameroon    Africa  1992  54.31400    12467171   \n",
      "237                   Cameroon    Africa  1997  52.19900    14195809   \n",
      "238                   Cameroon    Africa  2002  49.85600    15929988   \n",
      "239                   Cameroon    Africa  2007  50.43000    17696293   \n",
      "240                     Canada  Americas  1952  68.75000    14785584   \n",
      "241                     Canada  Americas  1957  69.96000    17010154   \n",
      "242                     Canada  Americas  1962  71.30000    18985849   \n",
      "243                     Canada  Americas  1967  72.13000    20819767   \n",
      "244                     Canada  Americas  1972  72.88000    22284500   \n",
      "245                     Canada  Americas  1977  74.21000    23796400   \n",
      "246                     Canada  Americas  1982  75.76000    25201900   \n",
      "247                     Canada  Americas  1987  76.86000    26549700   \n",
      "248                     Canada  Americas  1992  77.95000    28523502   \n",
      "249                     Canada  Americas  1997  78.61000    30305843   \n",
      "250                     Canada  Americas  2002  79.77000    31902268   \n",
      "251                     Canada  Americas  2007  80.65300    33390141   \n",
      "252   Central African Republic    Africa  1952  35.46300     1291695   \n",
      "253   Central African Republic    Africa  1957  37.46400     1392284   \n",
      "254   Central African Republic    Africa  1962  39.47500     1523478   \n",
      "255   Central African Republic    Africa  1967  41.47800     1733638   \n",
      "256   Central African Republic    Africa  1972  43.45700     1927260   \n",
      "257   Central African Republic    Africa  1977  46.77500     2167533   \n",
      "258   Central African Republic    Africa  1982  48.29500     2476971   \n",
      "259   Central African Republic    Africa  1987  50.48500     2840009   \n",
      "260   Central African Republic    Africa  1992  49.39600     3265124   \n",
      "261   Central African Republic    Africa  1997  46.06600     3696513   \n",
      "262   Central African Republic    Africa  2002  43.30800     4048013   \n",
      "263   Central African Republic    Africa  2007  44.74100     4369038   \n",
      "264                       Chad    Africa  1952  38.09200     2682462   \n",
      "265                       Chad    Africa  1957  39.88100     2894855   \n",
      "266                       Chad    Africa  1962  41.71600     3150417   \n",
      "267                       Chad    Africa  1967  43.60100     3495967   \n",
      "268                       Chad    Africa  1972  45.56900     3899068   \n",
      "269                       Chad    Africa  1977  47.38300     4388260   \n",
      "270                       Chad    Africa  1982  49.51700     4875118   \n",
      "271                       Chad    Africa  1987  51.05100     5498955   \n",
      "272                       Chad    Africa  1992  51.72400     6429417   \n",
      "273                       Chad    Africa  1997  51.57300     7562011   \n",
      "274                       Chad    Africa  2002  50.52500     8835739   \n",
      "275                       Chad    Africa  2007  50.65100    10238807   \n",
      "276                      Chile  Americas  1952  54.74500     6377619   \n",
      "277                      Chile  Americas  1957  56.07400     7048426   \n",
      "278                      Chile  Americas  1962  57.92400     7961258   \n",
      "279                      Chile  Americas  1967  60.52300     8858908   \n",
      "280                      Chile  Americas  1972  63.44100     9717524   \n",
      "281                      Chile  Americas  1977  67.05200    10599793   \n",
      "282                      Chile  Americas  1982  70.56500    11487112   \n",
      "283                      Chile  Americas  1987  72.49200    12463354   \n",
      "284                      Chile  Americas  1992  74.12600    13572994   \n",
      "285                      Chile  Americas  1997  75.81600    14599929   \n",
      "286                      Chile  Americas  2002  77.86000    15497046   \n",
      "287                      Chile  Americas  2007  78.55300    16284741   \n",
      "288                      China      Asia  1952  44.00000   556263527   \n",
      "289                      China      Asia  1957  50.54896   637408000   \n",
      "290                      China      Asia  1962  44.50136   665770000   \n",
      "291                      China      Asia  1967  58.38112   754550000   \n",
      "292                      China      Asia  1972  63.11888   862030000   \n",
      "293                      China      Asia  1977  63.96736   943455000   \n",
      "294                      China      Asia  1982  65.52500  1000281000   \n",
      "295                      China      Asia  1987  67.27400  1084035000   \n",
      "296                      China      Asia  1992  68.69000  1164970000   \n",
      "297                      China      Asia  1997  70.42600  1230075000   \n",
      "298                      China      Asia  2002  72.02800  1280400000   \n",
      "299                      China      Asia  2007  72.96100  1318683096   \n",
      "300                   Colombia  Americas  1952  50.64300    12350771   \n",
      "301                   Colombia  Americas  1957  55.11800    14485993   \n",
      "302                   Colombia  Americas  1962  57.86300    17009885   \n",
      "303                   Colombia  Americas  1967  59.96300    19764027   \n",
      "304                   Colombia  Americas  1972  61.62300    22542890   \n",
      "305                   Colombia  Americas  1977  63.83700    25094412   \n",
      "306                   Colombia  Americas  1982  66.65300    27764644   \n",
      "307                   Colombia  Americas  1987  67.76800    30964245   \n",
      "308                   Colombia  Americas  1992  68.42100    34202721   \n",
      "309                   Colombia  Americas  1997  70.31300    37657830   \n",
      "310                   Colombia  Americas  2002  71.68200    41008227   \n",
      "311                   Colombia  Americas  2007  72.88900    44227550   \n",
      "312                    Comoros    Africa  1952  40.71500      153936   \n",
      "313                    Comoros    Africa  1957  42.46000      170928   \n",
      "314                    Comoros    Africa  1962  44.46700      191689   \n",
      "315                    Comoros    Africa  1967  46.47200      217378   \n",
      "316                    Comoros    Africa  1972  48.94400      250027   \n",
      "317                    Comoros    Africa  1977  50.93900      304739   \n",
      "318                    Comoros    Africa  1982  52.93300      348643   \n",
      "319                    Comoros    Africa  1987  54.92600      395114   \n",
      "320                    Comoros    Africa  1992  57.93900      454429   \n",
      "321                    Comoros    Africa  1997  60.66000      527982   \n",
      "322                    Comoros    Africa  2002  62.97400      614382   \n",
      "323                    Comoros    Africa  2007  65.15200      710960   \n",
      "324           Congo, Dem. Rep.    Africa  1952  39.14300    14100005   \n",
      "325           Congo, Dem. Rep.    Africa  1957  40.65200    15577932   \n",
      "326           Congo, Dem. Rep.    Africa  1962  42.12200    17486434   \n",
      "327           Congo, Dem. Rep.    Africa  1967  44.05600    19941073   \n",
      "328           Congo, Dem. Rep.    Africa  1972  45.98900    23007669   \n",
      "329           Congo, Dem. Rep.    Africa  1977  47.80400    26480870   \n",
      "330           Congo, Dem. Rep.    Africa  1982  47.78400    30646495   \n",
      "331           Congo, Dem. Rep.    Africa  1987  47.41200    35481645   \n",
      "332           Congo, Dem. Rep.    Africa  1992  45.54800    41672143   \n",
      "333           Congo, Dem. Rep.    Africa  1997  42.58700    47798986   \n",
      "334           Congo, Dem. Rep.    Africa  2002  44.96600    55379852   \n",
      "335           Congo, Dem. Rep.    Africa  2007  46.46200    64606759   \n",
      "336                Congo, Rep.    Africa  1952  42.11100      854885   \n",
      "337                Congo, Rep.    Africa  1957  45.05300      940458   \n",
      "338                Congo, Rep.    Africa  1962  48.43500     1047924   \n",
      "339                Congo, Rep.    Africa  1967  52.04000     1179760   \n",
      "340                Congo, Rep.    Africa  1972  54.90700     1340458   \n",
      "341                Congo, Rep.    Africa  1977  55.62500     1536769   \n",
      "342                Congo, Rep.    Africa  1982  56.69500     1774735   \n",
      "343                Congo, Rep.    Africa  1987  57.47000     2064095   \n",
      "344                Congo, Rep.    Africa  1992  56.43300     2409073   \n",
      "345                Congo, Rep.    Africa  1997  52.96200     2800947   \n",
      "346                Congo, Rep.    Africa  2002  52.97000     3328795   \n",
      "347                Congo, Rep.    Africa  2007  55.32200     3800610   \n",
      "348                 Costa Rica  Americas  1952  57.20600      926317   \n",
      "349                 Costa Rica  Americas  1957  60.02600     1112300   \n",
      "350                 Costa Rica  Americas  1962  62.84200     1345187   \n",
      "351                 Costa Rica  Americas  1967  65.42400     1588717   \n",
      "352                 Costa Rica  Americas  1972  67.84900     1834796   \n",
      "353                 Costa Rica  Americas  1977  70.75000     2108457   \n",
      "354                 Costa Rica  Americas  1982  73.45000     2424367   \n",
      "355                 Costa Rica  Americas  1987  74.75200     2799811   \n",
      "356                 Costa Rica  Americas  1992  75.71300     3173216   \n",
      "357                 Costa Rica  Americas  1997  77.26000     3518107   \n",
      "358                 Costa Rica  Americas  2002  78.12300     3834934   \n",
      "359                 Costa Rica  Americas  2007  78.78200     4133884   \n",
      "360              Cote d'Ivoire    Africa  1952  40.47700     2977019   \n",
      "361              Cote d'Ivoire    Africa  1957  42.46900     3300000   \n",
      "362              Cote d'Ivoire    Africa  1962  44.93000     3832408   \n",
      "363              Cote d'Ivoire    Africa  1967  47.35000     4744870   \n",
      "364              Cote d'Ivoire    Africa  1972  49.80100     6071696   \n",
      "365              Cote d'Ivoire    Africa  1977  52.37400     7459574   \n",
      "366              Cote d'Ivoire    Africa  1982  53.98300     9025951   \n",
      "367              Cote d'Ivoire    Africa  1987  54.65500    10761098   \n",
      "368              Cote d'Ivoire    Africa  1992  52.04400    12772596   \n",
      "369              Cote d'Ivoire    Africa  1997  47.99100    14625967   \n",
      "370              Cote d'Ivoire    Africa  2002  46.83200    16252726   \n",
      "371              Cote d'Ivoire    Africa  2007  48.32800    18013409   \n",
      "372                    Croatia    Europe  1952  61.21000     3882229   \n",
      "373                    Croatia    Europe  1957  64.77000     3991242   \n",
      "374                    Croatia    Europe  1962  67.13000     4076557   \n",
      "375                    Croatia    Europe  1967  68.50000     4174366   \n",
      "376                    Croatia    Europe  1972  69.61000     4225310   \n",
      "377                    Croatia    Europe  1977  70.64000     4318673   \n",
      "378                    Croatia    Europe  1982  70.46000     4413368   \n",
      "379                    Croatia    Europe  1987  71.52000     4484310   \n",
      "380                    Croatia    Europe  1992  72.52700     4494013   \n",
      "381                    Croatia    Europe  1997  73.68000     4444595   \n",
      "382                    Croatia    Europe  2002  74.87600     4481020   \n",
      "383                    Croatia    Europe  2007  75.74800     4493312   \n",
      "384                       Cuba  Americas  1952  59.42100     6007797   \n",
      "385                       Cuba  Americas  1957  62.32500     6640752   \n",
      "386                       Cuba  Americas  1962  65.24600     7254373   \n",
      "387                       Cuba  Americas  1967  68.29000     8139332   \n",
      "388                       Cuba  Americas  1972  70.72300     8831348   \n",
      "389                       Cuba  Americas  1977  72.64900     9537988   \n",
      "390                       Cuba  Americas  1982  73.71700     9789224   \n",
      "391                       Cuba  Americas  1987  74.17400    10239839   \n",
      "392                       Cuba  Americas  1992  74.41400    10723260   \n",
      "393                       Cuba  Americas  1997  76.15100    10983007   \n",
      "394                       Cuba  Americas  2002  77.15800    11226999   \n",
      "395                       Cuba  Americas  2007  78.27300    11416987   \n",
      "396             Czech Republic    Europe  1952  66.87000     9125183   \n",
      "397             Czech Republic    Europe  1957  69.03000     9513758   \n",
      "398             Czech Republic    Europe  1962  69.90000     9620282   \n",
      "399             Czech Republic    Europe  1967  70.38000     9835109   \n",
      "400             Czech Republic    Europe  1972  70.29000     9862158   \n",
      "401             Czech Republic    Europe  1977  70.71000    10161915   \n",
      "402             Czech Republic    Europe  1982  70.96000    10303704   \n",
      "403             Czech Republic    Europe  1987  71.58000    10311597   \n",
      "404             Czech Republic    Europe  1992  72.40000    10315702   \n",
      "405             Czech Republic    Europe  1997  74.01000    10300707   \n",
      "406             Czech Republic    Europe  2002  75.51000    10256295   \n",
      "407             Czech Republic    Europe  2007  76.48600    10228744   \n",
      "408                    Denmark    Europe  1952  70.78000     4334000   \n",
      "409                    Denmark    Europe  1957  71.81000     4487831   \n",
      "410                    Denmark    Europe  1962  72.35000     4646899   \n",
      "411                    Denmark    Europe  1967  72.96000     4838800   \n",
      "412                    Denmark    Europe  1972  73.47000     4991596   \n",
      "413                    Denmark    Europe  1977  74.69000     5088419   \n",
      "414                    Denmark    Europe  1982  74.63000     5117810   \n",
      "415                    Denmark    Europe  1987  74.80000     5127024   \n",
      "416                    Denmark    Europe  1992  75.33000     5171393   \n",
      "417                    Denmark    Europe  1997  76.11000     5283663   \n",
      "418                    Denmark    Europe  2002  77.18000     5374693   \n",
      "419                    Denmark    Europe  2007  78.33200     5468120   \n",
      "420                   Djibouti    Africa  1952  34.81200       63149   \n",
      "421                   Djibouti    Africa  1957  37.32800       71851   \n",
      "422                   Djibouti    Africa  1962  39.69300       89898   \n",
      "423                   Djibouti    Africa  1967  42.07400      127617   \n",
      "424                   Djibouti    Africa  1972  44.36600      178848   \n",
      "425                   Djibouti    Africa  1977  46.51900      228694   \n",
      "426                   Djibouti    Africa  1982  48.81200      305991   \n",
      "427                   Djibouti    Africa  1987  50.04000      311025   \n",
      "428                   Djibouti    Africa  1992  51.60400      384156   \n",
      "429                   Djibouti    Africa  1997  53.15700      417908   \n",
      "430                   Djibouti    Africa  2002  53.37300      447416   \n",
      "431                   Djibouti    Africa  2007  54.79100      496374   \n",
      "432         Dominican Republic  Americas  1952  45.92800     2491346   \n",
      "433         Dominican Republic  Americas  1957  49.82800     2923186   \n",
      "434         Dominican Republic  Americas  1962  53.45900     3453434   \n",
      "435         Dominican Republic  Americas  1967  56.75100     4049146   \n",
      "436         Dominican Republic  Americas  1972  59.63100     4671329   \n",
      "437         Dominican Republic  Americas  1977  61.78800     5302800   \n",
      "438         Dominican Republic  Americas  1982  63.72700     5968349   \n",
      "439         Dominican Republic  Americas  1987  66.04600     6655297   \n",
      "440         Dominican Republic  Americas  1992  68.45700     7351181   \n",
      "441         Dominican Republic  Americas  1997  69.95700     7992357   \n",
      "442         Dominican Republic  Americas  2002  70.84700     8650322   \n",
      "443         Dominican Republic  Americas  2007  72.23500     9319622   \n",
      "444                    Ecuador  Americas  1952  48.35700     3548753   \n",
      "445                    Ecuador  Americas  1957  51.35600     4058385   \n",
      "446                    Ecuador  Americas  1962  54.64000     4681707   \n",
      "447                    Ecuador  Americas  1967  56.67800     5432424   \n",
      "448                    Ecuador  Americas  1972  58.79600     6298651   \n",
      "449                    Ecuador  Americas  1977  61.31000     7278866   \n",
      "450                    Ecuador  Americas  1982  64.34200     8365850   \n",
      "451                    Ecuador  Americas  1987  67.23100     9545158   \n",
      "452                    Ecuador  Americas  1992  69.61300    10748394   \n",
      "453                    Ecuador  Americas  1997  72.31200    11911819   \n",
      "454                    Ecuador  Americas  2002  74.17300    12921234   \n",
      "455                    Ecuador  Americas  2007  74.99400    13755680   \n",
      "456                      Egypt    Africa  1952  41.89300    22223309   \n",
      "457                      Egypt    Africa  1957  44.44400    25009741   \n",
      "458                      Egypt    Africa  1962  46.99200    28173309   \n",
      "459                      Egypt    Africa  1967  49.29300    31681188   \n",
      "460                      Egypt    Africa  1972  51.13700    34807417   \n",
      "461                      Egypt    Africa  1977  53.31900    38783863   \n",
      "462                      Egypt    Africa  1982  56.00600    45681811   \n",
      "463                      Egypt    Africa  1987  59.79700    52799062   \n",
      "464                      Egypt    Africa  1992  63.67400    59402198   \n",
      "465                      Egypt    Africa  1997  67.21700    66134291   \n",
      "466                      Egypt    Africa  2002  69.80600    73312559   \n",
      "467                      Egypt    Africa  2007  71.33800    80264543   \n",
      "468                El Salvador  Americas  1952  45.26200     2042865   \n",
      "469                El Salvador  Americas  1957  48.57000     2355805   \n",
      "470                El Salvador  Americas  1962  52.30700     2747687   \n",
      "471                El Salvador  Americas  1967  55.85500     3232927   \n",
      "472                El Salvador  Americas  1972  58.20700     3790903   \n",
      "473                El Salvador  Americas  1977  56.69600     4282586   \n",
      "474                El Salvador  Americas  1982  56.60400     4474873   \n",
      "475                El Salvador  Americas  1987  63.15400     4842194   \n",
      "476                El Salvador  Americas  1992  66.79800     5274649   \n",
      "477                El Salvador  Americas  1997  69.53500     5783439   \n",
      "478                El Salvador  Americas  2002  70.73400     6353681   \n",
      "479                El Salvador  Americas  2007  71.87800     6939688   \n",
      "480          Equatorial Guinea    Africa  1952  34.48200      216964   \n",
      "481          Equatorial Guinea    Africa  1957  35.98300      232922   \n",
      "482          Equatorial Guinea    Africa  1962  37.48500      249220   \n",
      "483          Equatorial Guinea    Africa  1967  38.98700      259864   \n",
      "484          Equatorial Guinea    Africa  1972  40.51600      277603   \n",
      "485          Equatorial Guinea    Africa  1977  42.02400      192675   \n",
      "486          Equatorial Guinea    Africa  1982  43.66200      285483   \n",
      "487          Equatorial Guinea    Africa  1987  45.66400      341244   \n",
      "488          Equatorial Guinea    Africa  1992  47.54500      387838   \n",
      "489          Equatorial Guinea    Africa  1997  48.24500      439971   \n",
      "490          Equatorial Guinea    Africa  2002  49.34800      495627   \n",
      "491          Equatorial Guinea    Africa  2007  51.57900      551201   \n",
      "492                    Eritrea    Africa  1952  35.92800     1438760   \n",
      "493                    Eritrea    Africa  1957  38.04700     1542611   \n",
      "494                    Eritrea    Africa  1962  40.15800     1666618   \n",
      "495                    Eritrea    Africa  1967  42.18900     1820319   \n",
      "496                    Eritrea    Africa  1972  44.14200     2260187   \n",
      "497                    Eritrea    Africa  1977  44.53500     2512642   \n",
      "498                    Eritrea    Africa  1982  43.89000     2637297   \n",
      "499                    Eritrea    Africa  1987  46.45300     2915959   \n",
      "500                    Eritrea    Africa  1992  49.99100     3668440   \n",
      "501                    Eritrea    Africa  1997  53.37800     4058319   \n",
      "502                    Eritrea    Africa  2002  55.24000     4414865   \n",
      "503                    Eritrea    Africa  2007  58.04000     4906585   \n",
      "504                   Ethiopia    Africa  1952  34.07800    20860941   \n",
      "505                   Ethiopia    Africa  1957  36.66700    22815614   \n",
      "506                   Ethiopia    Africa  1962  40.05900    25145372   \n",
      "507                   Ethiopia    Africa  1967  42.11500    27860297   \n",
      "508                   Ethiopia    Africa  1972  43.51500    30770372   \n",
      "509                   Ethiopia    Africa  1977  44.51000    34617799   \n",
      "510                   Ethiopia    Africa  1982  44.91600    38111756   \n",
      "511                   Ethiopia    Africa  1987  46.68400    42999530   \n",
      "512                   Ethiopia    Africa  1992  48.09100    52088559   \n",
      "513                   Ethiopia    Africa  1997  49.40200    59861301   \n",
      "514                   Ethiopia    Africa  2002  50.72500    67946797   \n",
      "515                   Ethiopia    Africa  2007  52.94700    76511887   \n",
      "516                    Finland    Europe  1952  66.55000     4090500   \n",
      "517                    Finland    Europe  1957  67.49000     4324000   \n",
      "518                    Finland    Europe  1962  68.75000     4491443   \n",
      "519                    Finland    Europe  1967  69.83000     4605744   \n",
      "520                    Finland    Europe  1972  70.87000     4639657   \n",
      "521                    Finland    Europe  1977  72.52000     4738902   \n",
      "522                    Finland    Europe  1982  74.55000     4826933   \n",
      "523                    Finland    Europe  1987  74.83000     4931729   \n",
      "524                    Finland    Europe  1992  75.70000     5041039   \n",
      "525                    Finland    Europe  1997  77.13000     5134406   \n",
      "526                    Finland    Europe  2002  78.37000     5193039   \n",
      "527                    Finland    Europe  2007  79.31300     5238460   \n",
      "528                     France    Europe  1952  67.41000    42459667   \n",
      "529                     France    Europe  1957  68.93000    44310863   \n",
      "530                     France    Europe  1962  70.51000    47124000   \n",
      "531                     France    Europe  1967  71.55000    49569000   \n",
      "532                     France    Europe  1972  72.38000    51732000   \n",
      "533                     France    Europe  1977  73.83000    53165019   \n",
      "534                     France    Europe  1982  74.89000    54433565   \n",
      "535                     France    Europe  1987  76.34000    55630100   \n",
      "536                     France    Europe  1992  77.46000    57374179   \n",
      "537                     France    Europe  1997  78.64000    58623428   \n",
      "538                     France    Europe  2002  79.59000    59925035   \n",
      "539                     France    Europe  2007  80.65700    61083916   \n",
      "540                      Gabon    Africa  1952  37.00300      420702   \n",
      "541                      Gabon    Africa  1957  38.99900      434904   \n",
      "542                      Gabon    Africa  1962  40.48900      455661   \n",
      "543                      Gabon    Africa  1967  44.59800      489004   \n",
      "544                      Gabon    Africa  1972  48.69000      537977   \n",
      "545                      Gabon    Africa  1977  52.79000      706367   \n",
      "546                      Gabon    Africa  1982  56.56400      753874   \n",
      "547                      Gabon    Africa  1987  60.19000      880397   \n",
      "548                      Gabon    Africa  1992  61.36600      985739   \n",
      "549                      Gabon    Africa  1997  60.46100     1126189   \n",
      "550                      Gabon    Africa  2002  56.76100     1299304   \n",
      "551                      Gabon    Africa  2007  56.73500     1454867   \n",
      "552                     Gambia    Africa  1952  30.00000      284320   \n",
      "553                     Gambia    Africa  1957  32.06500      323150   \n",
      "554                     Gambia    Africa  1962  33.89600      374020   \n",
      "555                     Gambia    Africa  1967  35.85700      439593   \n",
      "556                     Gambia    Africa  1972  38.30800      517101   \n",
      "557                     Gambia    Africa  1977  41.84200      608274   \n",
      "558                     Gambia    Africa  1982  45.58000      715523   \n",
      "559                     Gambia    Africa  1987  49.26500      848406   \n",
      "560                     Gambia    Africa  1992  52.64400     1025384   \n",
      "561                     Gambia    Africa  1997  55.86100     1235767   \n",
      "562                     Gambia    Africa  2002  58.04100     1457766   \n",
      "563                     Gambia    Africa  2007  59.44800     1688359   \n",
      "564                    Germany    Europe  1952  67.50000    69145952   \n",
      "565                    Germany    Europe  1957  69.10000    71019069   \n",
      "566                    Germany    Europe  1962  70.30000    73739117   \n",
      "567                    Germany    Europe  1967  70.80000    76368453   \n",
      "568                    Germany    Europe  1972  71.00000    78717088   \n",
      "569                    Germany    Europe  1977  72.50000    78160773   \n",
      "570                    Germany    Europe  1982  73.80000    78335266   \n",
      "571                    Germany    Europe  1987  74.84700    77718298   \n",
      "572                    Germany    Europe  1992  76.07000    80597764   \n",
      "573                    Germany    Europe  1997  77.34000    82011073   \n",
      "574                    Germany    Europe  2002  78.67000    82350671   \n",
      "575                    Germany    Europe  2007  79.40600    82400996   \n",
      "576                      Ghana    Africa  1952  43.14900     5581001   \n",
      "577                      Ghana    Africa  1957  44.77900     6391288   \n",
      "578                      Ghana    Africa  1962  46.45200     7355248   \n",
      "579                      Ghana    Africa  1967  48.07200     8490213   \n",
      "580                      Ghana    Africa  1972  49.87500     9354120   \n",
      "581                      Ghana    Africa  1977  51.75600    10538093   \n",
      "582                      Ghana    Africa  1982  53.74400    11400338   \n",
      "583                      Ghana    Africa  1987  55.72900    14168101   \n",
      "584                      Ghana    Africa  1992  57.50100    16278738   \n",
      "585                      Ghana    Africa  1997  58.55600    18418288   \n",
      "586                      Ghana    Africa  2002  58.45300    20550751   \n",
      "587                      Ghana    Africa  2007  60.02200    22873338   \n",
      "588                     Greece    Europe  1952  65.86000     7733250   \n",
      "589                     Greece    Europe  1957  67.86000     8096218   \n",
      "590                     Greece    Europe  1962  69.51000     8448233   \n",
      "591                     Greece    Europe  1967  71.00000     8716441   \n",
      "592                     Greece    Europe  1972  72.34000     8888628   \n",
      "593                     Greece    Europe  1977  73.68000     9308479   \n",
      "594                     Greece    Europe  1982  75.24000     9786480   \n",
      "595                     Greece    Europe  1987  76.67000     9974490   \n",
      "596                     Greece    Europe  1992  77.03000    10325429   \n",
      "597                     Greece    Europe  1997  77.86900    10502372   \n",
      "598                     Greece    Europe  2002  78.25600    10603863   \n",
      "599                     Greece    Europe  2007  79.48300    10706290   \n",
      "600                  Guatemala  Americas  1952  42.02300     3146381   \n",
      "601                  Guatemala  Americas  1957  44.14200     3640876   \n",
      "602                  Guatemala  Americas  1962  46.95400     4208858   \n",
      "603                  Guatemala  Americas  1967  50.01600     4690773   \n",
      "604                  Guatemala  Americas  1972  53.73800     5149581   \n",
      "605                  Guatemala  Americas  1977  56.02900     5703430   \n",
      "606                  Guatemala  Americas  1982  58.13700     6395630   \n",
      "607                  Guatemala  Americas  1987  60.78200     7326406   \n",
      "608                  Guatemala  Americas  1992  63.37300     8486949   \n",
      "609                  Guatemala  Americas  1997  66.32200     9803875   \n",
      "610                  Guatemala  Americas  2002  68.97800    11178650   \n",
      "611                  Guatemala  Americas  2007  70.25900    12572928   \n",
      "612                     Guinea    Africa  1952  33.60900     2664249   \n",
      "613                     Guinea    Africa  1957  34.55800     2876726   \n",
      "614                     Guinea    Africa  1962  35.75300     3140003   \n",
      "615                     Guinea    Africa  1967  37.19700     3451418   \n",
      "616                     Guinea    Africa  1972  38.84200     3811387   \n",
      "617                     Guinea    Africa  1977  40.76200     4227026   \n",
      "618                     Guinea    Africa  1982  42.89100     4710497   \n",
      "619                     Guinea    Africa  1987  45.55200     5650262   \n",
      "620                     Guinea    Africa  1992  48.57600     6990574   \n",
      "621                     Guinea    Africa  1997  51.45500     8048834   \n",
      "622                     Guinea    Africa  2002  53.67600     8807818   \n",
      "623                     Guinea    Africa  2007  56.00700     9947814   \n",
      "624              Guinea-Bissau    Africa  1952  32.50000      580653   \n",
      "625              Guinea-Bissau    Africa  1957  33.48900      601095   \n",
      "626              Guinea-Bissau    Africa  1962  34.48800      627820   \n",
      "627              Guinea-Bissau    Africa  1967  35.49200      601287   \n",
      "628              Guinea-Bissau    Africa  1972  36.48600      625361   \n",
      "629              Guinea-Bissau    Africa  1977  37.46500      745228   \n",
      "630              Guinea-Bissau    Africa  1982  39.32700      825987   \n",
      "631              Guinea-Bissau    Africa  1987  41.24500      927524   \n",
      "632              Guinea-Bissau    Africa  1992  43.26600     1050938   \n",
      "633              Guinea-Bissau    Africa  1997  44.87300     1193708   \n",
      "634              Guinea-Bissau    Africa  2002  45.50400     1332459   \n",
      "635              Guinea-Bissau    Africa  2007  46.38800     1472041   \n",
      "636                      Haiti  Americas  1952  37.57900     3201488   \n",
      "637                      Haiti  Americas  1957  40.69600     3507701   \n",
      "638                      Haiti  Americas  1962  43.59000     3880130   \n",
      "639                      Haiti  Americas  1967  46.24300     4318137   \n",
      "640                      Haiti  Americas  1972  48.04200     4698301   \n",
      "641                      Haiti  Americas  1977  49.92300     4908554   \n",
      "642                      Haiti  Americas  1982  51.46100     5198399   \n",
      "643                      Haiti  Americas  1987  53.63600     5756203   \n",
      "644                      Haiti  Americas  1992  55.08900     6326682   \n",
      "645                      Haiti  Americas  1997  56.67100     6913545   \n",
      "646                      Haiti  Americas  2002  58.13700     7607651   \n",
      "647                      Haiti  Americas  2007  60.91600     8502814   \n",
      "648                   Honduras  Americas  1952  41.91200     1517453   \n",
      "649                   Honduras  Americas  1957  44.66500     1770390   \n",
      "650                   Honduras  Americas  1962  48.04100     2090162   \n",
      "651                   Honduras  Americas  1967  50.92400     2500689   \n",
      "652                   Honduras  Americas  1972  53.88400     2965146   \n",
      "653                   Honduras  Americas  1977  57.40200     3055235   \n",
      "654                   Honduras  Americas  1982  60.90900     3669448   \n",
      "655                   Honduras  Americas  1987  64.49200     4372203   \n",
      "656                   Honduras  Americas  1992  66.39900     5077347   \n",
      "657                   Honduras  Americas  1997  67.65900     5867957   \n",
      "658                   Honduras  Americas  2002  68.56500     6677328   \n",
      "659                   Honduras  Americas  2007  70.19800     7483763   \n",
      "660           Hong Kong, China      Asia  1952  60.96000     2125900   \n",
      "661           Hong Kong, China      Asia  1957  64.75000     2736300   \n",
      "662           Hong Kong, China      Asia  1962  67.65000     3305200   \n",
      "663           Hong Kong, China      Asia  1967  70.00000     3722800   \n",
      "664           Hong Kong, China      Asia  1972  72.00000     4115700   \n",
      "665           Hong Kong, China      Asia  1977  73.60000     4583700   \n",
      "666           Hong Kong, China      Asia  1982  75.45000     5264500   \n",
      "667           Hong Kong, China      Asia  1987  76.20000     5584510   \n",
      "668           Hong Kong, China      Asia  1992  77.60100     5829696   \n",
      "669           Hong Kong, China      Asia  1997  80.00000     6495918   \n",
      "670           Hong Kong, China      Asia  2002  81.49500     6762476   \n",
      "671           Hong Kong, China      Asia  2007  82.20800     6980412   \n",
      "672                    Hungary    Europe  1952  64.03000     9504000   \n",
      "673                    Hungary    Europe  1957  66.41000     9839000   \n",
      "674                    Hungary    Europe  1962  67.96000    10063000   \n",
      "675                    Hungary    Europe  1967  69.50000    10223422   \n",
      "676                    Hungary    Europe  1972  69.76000    10394091   \n",
      "677                    Hungary    Europe  1977  69.95000    10637171   \n",
      "678                    Hungary    Europe  1982  69.39000    10705535   \n",
      "679                    Hungary    Europe  1987  69.58000    10612740   \n",
      "680                    Hungary    Europe  1992  69.17000    10348684   \n",
      "681                    Hungary    Europe  1997  71.04000    10244684   \n",
      "682                    Hungary    Europe  2002  72.59000    10083313   \n",
      "683                    Hungary    Europe  2007  73.33800     9956108   \n",
      "684                    Iceland    Europe  1952  72.49000      147962   \n",
      "685                    Iceland    Europe  1957  73.47000      165110   \n",
      "686                    Iceland    Europe  1962  73.68000      182053   \n",
      "687                    Iceland    Europe  1967  73.73000      198676   \n",
      "688                    Iceland    Europe  1972  74.46000      209275   \n",
      "689                    Iceland    Europe  1977  76.11000      221823   \n",
      "690                    Iceland    Europe  1982  76.99000      233997   \n",
      "691                    Iceland    Europe  1987  77.23000      244676   \n",
      "692                    Iceland    Europe  1992  78.77000      259012   \n",
      "693                    Iceland    Europe  1997  78.95000      271192   \n",
      "694                    Iceland    Europe  2002  80.50000      288030   \n",
      "695                    Iceland    Europe  2007  81.75700      301931   \n",
      "696                      India      Asia  1952  37.37300   372000000   \n",
      "697                      India      Asia  1957  40.24900   409000000   \n",
      "698                      India      Asia  1962  43.60500   454000000   \n",
      "699                      India      Asia  1967  47.19300   506000000   \n",
      "700                      India      Asia  1972  50.65100   567000000   \n",
      "701                      India      Asia  1977  54.20800   634000000   \n",
      "702                      India      Asia  1982  56.59600   708000000   \n",
      "703                      India      Asia  1987  58.55300   788000000   \n",
      "704                      India      Asia  1992  60.22300   872000000   \n",
      "705                      India      Asia  1997  61.76500   959000000   \n",
      "706                      India      Asia  2002  62.87900  1034172547   \n",
      "707                      India      Asia  2007  64.69800  1110396331   \n",
      "708                  Indonesia      Asia  1952  37.46800    82052000   \n",
      "709                  Indonesia      Asia  1957  39.91800    90124000   \n",
      "710                  Indonesia      Asia  1962  42.51800    99028000   \n",
      "711                  Indonesia      Asia  1967  45.96400   109343000   \n",
      "712                  Indonesia      Asia  1972  49.20300   121282000   \n",
      "713                  Indonesia      Asia  1977  52.70200   136725000   \n",
      "714                  Indonesia      Asia  1982  56.15900   153343000   \n",
      "715                  Indonesia      Asia  1987  60.13700   169276000   \n",
      "716                  Indonesia      Asia  1992  62.68100   184816000   \n",
      "717                  Indonesia      Asia  1997  66.04100   199278000   \n",
      "718                  Indonesia      Asia  2002  68.58800   211060000   \n",
      "719                  Indonesia      Asia  2007  70.65000   223547000   \n",
      "720                       Iran      Asia  1952  44.86900    17272000   \n",
      "721                       Iran      Asia  1957  47.18100    19792000   \n",
      "722                       Iran      Asia  1962  49.32500    22874000   \n",
      "723                       Iran      Asia  1967  52.46900    26538000   \n",
      "724                       Iran      Asia  1972  55.23400    30614000   \n",
      "725                       Iran      Asia  1977  57.70200    35480679   \n",
      "726                       Iran      Asia  1982  59.62000    43072751   \n",
      "727                       Iran      Asia  1987  63.04000    51889696   \n",
      "728                       Iran      Asia  1992  65.74200    60397973   \n",
      "729                       Iran      Asia  1997  68.04200    63327987   \n",
      "730                       Iran      Asia  2002  69.45100    66907826   \n",
      "731                       Iran      Asia  2007  70.96400    69453570   \n",
      "732                       Iraq      Asia  1952  45.32000     5441766   \n",
      "733                       Iraq      Asia  1957  48.43700     6248643   \n",
      "734                       Iraq      Asia  1962  51.45700     7240260   \n",
      "735                       Iraq      Asia  1967  54.45900     8519282   \n",
      "736                       Iraq      Asia  1972  56.95000    10061506   \n",
      "737                       Iraq      Asia  1977  60.41300    11882916   \n",
      "738                       Iraq      Asia  1982  62.03800    14173318   \n",
      "739                       Iraq      Asia  1987  65.04400    16543189   \n",
      "740                       Iraq      Asia  1992  59.46100    17861905   \n",
      "741                       Iraq      Asia  1997  58.81100    20775703   \n",
      "742                       Iraq      Asia  2002  57.04600    24001816   \n",
      "743                       Iraq      Asia  2007  59.54500    27499638   \n",
      "744                    Ireland    Europe  1952  66.91000     2952156   \n",
      "745                    Ireland    Europe  1957  68.90000     2878220   \n",
      "746                    Ireland    Europe  1962  70.29000     2830000   \n",
      "747                    Ireland    Europe  1967  71.08000     2900100   \n",
      "748                    Ireland    Europe  1972  71.28000     3024400   \n",
      "749                    Ireland    Europe  1977  72.03000     3271900   \n",
      "750                    Ireland    Europe  1982  73.10000     3480000   \n",
      "751                    Ireland    Europe  1987  74.36000     3539900   \n",
      "752                    Ireland    Europe  1992  75.46700     3557761   \n",
      "753                    Ireland    Europe  1997  76.12200     3667233   \n",
      "754                    Ireland    Europe  2002  77.78300     3879155   \n",
      "755                    Ireland    Europe  2007  78.88500     4109086   \n",
      "756                     Israel      Asia  1952  65.39000     1620914   \n",
      "757                     Israel      Asia  1957  67.84000     1944401   \n",
      "758                     Israel      Asia  1962  69.39000     2310904   \n",
      "759                     Israel      Asia  1967  70.75000     2693585   \n",
      "760                     Israel      Asia  1972  71.63000     3095893   \n",
      "761                     Israel      Asia  1977  73.06000     3495918   \n",
      "762                     Israel      Asia  1982  74.45000     3858421   \n",
      "763                     Israel      Asia  1987  75.60000     4203148   \n",
      "764                     Israel      Asia  1992  76.93000     4936550   \n",
      "765                     Israel      Asia  1997  78.26900     5531387   \n",
      "766                     Israel      Asia  2002  79.69600     6029529   \n",
      "767                     Israel      Asia  2007  80.74500     6426679   \n",
      "768                      Italy    Europe  1952  65.94000    47666000   \n",
      "769                      Italy    Europe  1957  67.81000    49182000   \n",
      "770                      Italy    Europe  1962  69.24000    50843200   \n",
      "771                      Italy    Europe  1967  71.06000    52667100   \n",
      "772                      Italy    Europe  1972  72.19000    54365564   \n",
      "773                      Italy    Europe  1977  73.48000    56059245   \n",
      "774                      Italy    Europe  1982  74.98000    56535636   \n",
      "775                      Italy    Europe  1987  76.42000    56729703   \n",
      "776                      Italy    Europe  1992  77.44000    56840847   \n",
      "777                      Italy    Europe  1997  78.82000    57479469   \n",
      "778                      Italy    Europe  2002  80.24000    57926999   \n",
      "779                      Italy    Europe  2007  80.54600    58147733   \n",
      "780                    Jamaica  Americas  1952  58.53000     1426095   \n",
      "781                    Jamaica  Americas  1957  62.61000     1535090   \n",
      "782                    Jamaica  Americas  1962  65.61000     1665128   \n",
      "783                    Jamaica  Americas  1967  67.51000     1861096   \n",
      "784                    Jamaica  Americas  1972  69.00000     1997616   \n",
      "785                    Jamaica  Americas  1977  70.11000     2156814   \n",
      "786                    Jamaica  Americas  1982  71.21000     2298309   \n",
      "787                    Jamaica  Americas  1987  71.77000     2326606   \n",
      "788                    Jamaica  Americas  1992  71.76600     2378618   \n",
      "789                    Jamaica  Americas  1997  72.26200     2531311   \n",
      "790                    Jamaica  Americas  2002  72.04700     2664659   \n",
      "791                    Jamaica  Americas  2007  72.56700     2780132   \n",
      "792                      Japan      Asia  1952  63.03000    86459025   \n",
      "793                      Japan      Asia  1957  65.50000    91563009   \n",
      "794                      Japan      Asia  1962  68.73000    95831757   \n",
      "795                      Japan      Asia  1967  71.43000   100825279   \n",
      "796                      Japan      Asia  1972  73.42000   107188273   \n",
      "797                      Japan      Asia  1977  75.38000   113872473   \n",
      "798                      Japan      Asia  1982  77.11000   118454974   \n",
      "799                      Japan      Asia  1987  78.67000   122091325   \n",
      "800                      Japan      Asia  1992  79.36000   124329269   \n",
      "801                      Japan      Asia  1997  80.69000   125956499   \n",
      "802                      Japan      Asia  2002  82.00000   127065841   \n",
      "803                      Japan      Asia  2007  82.60300   127467972   \n",
      "804                     Jordan      Asia  1952  43.15800      607914   \n",
      "805                     Jordan      Asia  1957  45.66900      746559   \n",
      "806                     Jordan      Asia  1962  48.12600      933559   \n",
      "807                     Jordan      Asia  1967  51.62900     1255058   \n",
      "808                     Jordan      Asia  1972  56.52800     1613551   \n",
      "809                     Jordan      Asia  1977  61.13400     1937652   \n",
      "810                     Jordan      Asia  1982  63.73900     2347031   \n",
      "811                     Jordan      Asia  1987  65.86900     2820042   \n",
      "812                     Jordan      Asia  1992  68.01500     3867409   \n",
      "813                     Jordan      Asia  1997  69.77200     4526235   \n",
      "814                     Jordan      Asia  2002  71.26300     5307470   \n",
      "815                     Jordan      Asia  2007  72.53500     6053193   \n",
      "816                      Kenya    Africa  1952  42.27000     6464046   \n",
      "817                      Kenya    Africa  1957  44.68600     7454779   \n",
      "818                      Kenya    Africa  1962  47.94900     8678557   \n",
      "819                      Kenya    Africa  1967  50.65400    10191512   \n",
      "820                      Kenya    Africa  1972  53.55900    12044785   \n",
      "821                      Kenya    Africa  1977  56.15500    14500404   \n",
      "822                      Kenya    Africa  1982  58.76600    17661452   \n",
      "823                      Kenya    Africa  1987  59.33900    21198082   \n",
      "824                      Kenya    Africa  1992  59.28500    25020539   \n",
      "825                      Kenya    Africa  1997  54.40700    28263827   \n",
      "826                      Kenya    Africa  2002  50.99200    31386842   \n",
      "827                      Kenya    Africa  2007  54.11000    35610177   \n",
      "828           Korea, Dem. Rep.      Asia  1952  50.05600     8865488   \n",
      "829           Korea, Dem. Rep.      Asia  1957  54.08100     9411381   \n",
      "830           Korea, Dem. Rep.      Asia  1962  56.65600    10917494   \n",
      "831           Korea, Dem. Rep.      Asia  1967  59.94200    12617009   \n",
      "832           Korea, Dem. Rep.      Asia  1972  63.98300    14781241   \n",
      "833           Korea, Dem. Rep.      Asia  1977  67.15900    16325320   \n",
      "834           Korea, Dem. Rep.      Asia  1982  69.10000    17647518   \n",
      "835           Korea, Dem. Rep.      Asia  1987  70.64700    19067554   \n",
      "836           Korea, Dem. Rep.      Asia  1992  69.97800    20711375   \n",
      "837           Korea, Dem. Rep.      Asia  1997  67.72700    21585105   \n",
      "838           Korea, Dem. Rep.      Asia  2002  66.66200    22215365   \n",
      "839           Korea, Dem. Rep.      Asia  2007  67.29700    23301725   \n",
      "840                Korea, Rep.      Asia  1952  47.45300    20947571   \n",
      "841                Korea, Rep.      Asia  1957  52.68100    22611552   \n",
      "842                Korea, Rep.      Asia  1962  55.29200    26420307   \n",
      "843                Korea, Rep.      Asia  1967  57.71600    30131000   \n",
      "844                Korea, Rep.      Asia  1972  62.61200    33505000   \n",
      "845                Korea, Rep.      Asia  1977  64.76600    36436000   \n",
      "846                Korea, Rep.      Asia  1982  67.12300    39326000   \n",
      "847                Korea, Rep.      Asia  1987  69.81000    41622000   \n",
      "848                Korea, Rep.      Asia  1992  72.24400    43805450   \n",
      "849                Korea, Rep.      Asia  1997  74.64700    46173816   \n",
      "850                Korea, Rep.      Asia  2002  77.04500    47969150   \n",
      "851                Korea, Rep.      Asia  2007  78.62300    49044790   \n",
      "852                     Kuwait      Asia  1952  55.56500      160000   \n",
      "853                     Kuwait      Asia  1957  58.03300      212846   \n",
      "854                     Kuwait      Asia  1962  60.47000      358266   \n",
      "855                     Kuwait      Asia  1967  64.62400      575003   \n",
      "856                     Kuwait      Asia  1972  67.71200      841934   \n",
      "857                     Kuwait      Asia  1977  69.34300     1140357   \n",
      "858                     Kuwait      Asia  1982  71.30900     1497494   \n",
      "859                     Kuwait      Asia  1987  74.17400     1891487   \n",
      "860                     Kuwait      Asia  1992  75.19000     1418095   \n",
      "861                     Kuwait      Asia  1997  76.15600     1765345   \n",
      "862                     Kuwait      Asia  2002  76.90400     2111561   \n",
      "863                     Kuwait      Asia  2007  77.58800     2505559   \n",
      "864                    Lebanon      Asia  1952  55.92800     1439529   \n",
      "865                    Lebanon      Asia  1957  59.48900     1647412   \n",
      "866                    Lebanon      Asia  1962  62.09400     1886848   \n",
      "867                    Lebanon      Asia  1967  63.87000     2186894   \n",
      "868                    Lebanon      Asia  1972  65.42100     2680018   \n",
      "869                    Lebanon      Asia  1977  66.09900     3115787   \n",
      "870                    Lebanon      Asia  1982  66.98300     3086876   \n",
      "871                    Lebanon      Asia  1987  67.92600     3089353   \n",
      "872                    Lebanon      Asia  1992  69.29200     3219994   \n",
      "873                    Lebanon      Asia  1997  70.26500     3430388   \n",
      "874                    Lebanon      Asia  2002  71.02800     3677780   \n",
      "875                    Lebanon      Asia  2007  71.99300     3921278   \n",
      "876                    Lesotho    Africa  1952  42.13800      748747   \n",
      "877                    Lesotho    Africa  1957  45.04700      813338   \n",
      "878                    Lesotho    Africa  1962  47.74700      893143   \n",
      "879                    Lesotho    Africa  1967  48.49200      996380   \n",
      "880                    Lesotho    Africa  1972  49.76700     1116779   \n",
      "881                    Lesotho    Africa  1977  52.20800     1251524   \n",
      "882                    Lesotho    Africa  1982  55.07800     1411807   \n",
      "883                    Lesotho    Africa  1987  57.18000     1599200   \n",
      "884                    Lesotho    Africa  1992  59.68500     1803195   \n",
      "885                    Lesotho    Africa  1997  55.55800     1982823   \n",
      "886                    Lesotho    Africa  2002  44.59300     2046772   \n",
      "887                    Lesotho    Africa  2007  42.59200     2012649   \n",
      "888                    Liberia    Africa  1952  38.48000      863308   \n",
      "889                    Liberia    Africa  1957  39.48600      975950   \n",
      "890                    Liberia    Africa  1962  40.50200     1112796   \n",
      "891                    Liberia    Africa  1967  41.53600     1279406   \n",
      "892                    Liberia    Africa  1972  42.61400     1482628   \n",
      "893                    Liberia    Africa  1977  43.76400     1703617   \n",
      "894                    Liberia    Africa  1982  44.85200     1956875   \n",
      "895                    Liberia    Africa  1987  46.02700     2269414   \n",
      "896                    Liberia    Africa  1992  40.80200     1912974   \n",
      "897                    Liberia    Africa  1997  42.22100     2200725   \n",
      "898                    Liberia    Africa  2002  43.75300     2814651   \n",
      "899                    Liberia    Africa  2007  45.67800     3193942   \n",
      "900                      Libya    Africa  1952  42.72300     1019729   \n",
      "901                      Libya    Africa  1957  45.28900     1201578   \n",
      "902                      Libya    Africa  1962  47.80800     1441863   \n",
      "903                      Libya    Africa  1967  50.22700     1759224   \n",
      "904                      Libya    Africa  1972  52.77300     2183877   \n",
      "905                      Libya    Africa  1977  57.44200     2721783   \n",
      "906                      Libya    Africa  1982  62.15500     3344074   \n",
      "907                      Libya    Africa  1987  66.23400     3799845   \n",
      "908                      Libya    Africa  1992  68.75500     4364501   \n",
      "909                      Libya    Africa  1997  71.55500     4759670   \n",
      "910                      Libya    Africa  2002  72.73700     5368585   \n",
      "911                      Libya    Africa  2007  73.95200     6036914   \n",
      "912                 Madagascar    Africa  1952  36.68100     4762912   \n",
      "913                 Madagascar    Africa  1957  38.86500     5181679   \n",
      "914                 Madagascar    Africa  1962  40.84800     5703324   \n",
      "915                 Madagascar    Africa  1967  42.88100     6334556   \n",
      "916                 Madagascar    Africa  1972  44.85100     7082430   \n",
      "917                 Madagascar    Africa  1977  46.88100     8007166   \n",
      "918                 Madagascar    Africa  1982  48.96900     9171477   \n",
      "919                 Madagascar    Africa  1987  49.35000    10568642   \n",
      "920                 Madagascar    Africa  1992  52.21400    12210395   \n",
      "921                 Madagascar    Africa  1997  54.97800    14165114   \n",
      "922                 Madagascar    Africa  2002  57.28600    16473477   \n",
      "923                 Madagascar    Africa  2007  59.44300    19167654   \n",
      "924                     Malawi    Africa  1952  36.25600     2917802   \n",
      "925                     Malawi    Africa  1957  37.20700     3221238   \n",
      "926                     Malawi    Africa  1962  38.41000     3628608   \n",
      "927                     Malawi    Africa  1967  39.48700     4147252   \n",
      "928                     Malawi    Africa  1972  41.76600     4730997   \n",
      "929                     Malawi    Africa  1977  43.76700     5637246   \n",
      "930                     Malawi    Africa  1982  45.64200     6502825   \n",
      "931                     Malawi    Africa  1987  47.45700     7824747   \n",
      "932                     Malawi    Africa  1992  49.42000    10014249   \n",
      "933                     Malawi    Africa  1997  47.49500    10419991   \n",
      "934                     Malawi    Africa  2002  45.00900    11824495   \n",
      "935                     Malawi    Africa  2007  48.30300    13327079   \n",
      "936                   Malaysia      Asia  1952  48.46300     6748378   \n",
      "937                   Malaysia      Asia  1957  52.10200     7739235   \n",
      "938                   Malaysia      Asia  1962  55.73700     8906385   \n",
      "939                   Malaysia      Asia  1967  59.37100    10154878   \n",
      "940                   Malaysia      Asia  1972  63.01000    11441462   \n",
      "941                   Malaysia      Asia  1977  65.25600    12845381   \n",
      "942                   Malaysia      Asia  1982  68.00000    14441916   \n",
      "943                   Malaysia      Asia  1987  69.50000    16331785   \n",
      "944                   Malaysia      Asia  1992  70.69300    18319502   \n",
      "945                   Malaysia      Asia  1997  71.93800    20476091   \n",
      "946                   Malaysia      Asia  2002  73.04400    22662365   \n",
      "947                   Malaysia      Asia  2007  74.24100    24821286   \n",
      "948                       Mali    Africa  1952  33.68500     3838168   \n",
      "949                       Mali    Africa  1957  35.30700     4241884   \n",
      "950                       Mali    Africa  1962  36.93600     4690372   \n",
      "951                       Mali    Africa  1967  38.48700     5212416   \n",
      "952                       Mali    Africa  1972  39.97700     5828158   \n",
      "953                       Mali    Africa  1977  41.71400     6491649   \n",
      "954                       Mali    Africa  1982  43.91600     6998256   \n",
      "955                       Mali    Africa  1987  46.36400     7634008   \n",
      "956                       Mali    Africa  1992  48.38800     8416215   \n",
      "957                       Mali    Africa  1997  49.90300     9384984   \n",
      "958                       Mali    Africa  2002  51.81800    10580176   \n",
      "959                       Mali    Africa  2007  54.46700    12031795   \n",
      "960                 Mauritania    Africa  1952  40.54300     1022556   \n",
      "961                 Mauritania    Africa  1957  42.33800     1076852   \n",
      "962                 Mauritania    Africa  1962  44.24800     1146757   \n",
      "963                 Mauritania    Africa  1967  46.28900     1230542   \n",
      "964                 Mauritania    Africa  1972  48.43700     1332786   \n",
      "965                 Mauritania    Africa  1977  50.85200     1456688   \n",
      "966                 Mauritania    Africa  1982  53.59900     1622136   \n",
      "967                 Mauritania    Africa  1987  56.14500     1841240   \n",
      "968                 Mauritania    Africa  1992  58.33300     2119465   \n",
      "969                 Mauritania    Africa  1997  60.43000     2444741   \n",
      "970                 Mauritania    Africa  2002  62.24700     2828858   \n",
      "971                 Mauritania    Africa  2007  64.16400     3270065   \n",
      "972                  Mauritius    Africa  1952  50.98600      516556   \n",
      "973                  Mauritius    Africa  1957  58.08900      609816   \n",
      "974                  Mauritius    Africa  1962  60.24600      701016   \n",
      "975                  Mauritius    Africa  1967  61.55700      789309   \n",
      "976                  Mauritius    Africa  1972  62.94400      851334   \n",
      "977                  Mauritius    Africa  1977  64.93000      913025   \n",
      "978                  Mauritius    Africa  1982  66.71100      992040   \n",
      "979                  Mauritius    Africa  1987  68.74000     1042663   \n",
      "980                  Mauritius    Africa  1992  69.74500     1096202   \n",
      "981                  Mauritius    Africa  1997  70.73600     1149818   \n",
      "982                  Mauritius    Africa  2002  71.95400     1200206   \n",
      "983                  Mauritius    Africa  2007  72.80100     1250882   \n",
      "984                     Mexico  Americas  1952  50.78900    30144317   \n",
      "985                     Mexico  Americas  1957  55.19000    35015548   \n",
      "986                     Mexico  Americas  1962  58.29900    41121485   \n",
      "987                     Mexico  Americas  1967  60.11000    47995559   \n",
      "988                     Mexico  Americas  1972  62.36100    55984294   \n",
      "989                     Mexico  Americas  1977  65.03200    63759976   \n",
      "990                     Mexico  Americas  1982  67.40500    71640904   \n",
      "991                     Mexico  Americas  1987  69.49800    80122492   \n",
      "992                     Mexico  Americas  1992  71.45500    88111030   \n",
      "993                     Mexico  Americas  1997  73.67000    95895146   \n",
      "994                     Mexico  Americas  2002  74.90200   102479927   \n",
      "995                     Mexico  Americas  2007  76.19500   108700891   \n",
      "996                   Mongolia      Asia  1952  42.24400      800663   \n",
      "997                   Mongolia      Asia  1957  45.24800      882134   \n",
      "998                   Mongolia      Asia  1962  48.25100     1010280   \n",
      "999                   Mongolia      Asia  1967  51.25300     1149500   \n",
      "1000                  Mongolia      Asia  1972  53.75400     1320500   \n",
      "1001                  Mongolia      Asia  1977  55.49100     1528000   \n",
      "1002                  Mongolia      Asia  1982  57.48900     1756032   \n",
      "1003                  Mongolia      Asia  1987  60.22200     2015133   \n",
      "1004                  Mongolia      Asia  1992  61.27100     2312802   \n",
      "1005                  Mongolia      Asia  1997  63.62500     2494803   \n",
      "1006                  Mongolia      Asia  2002  65.03300     2674234   \n",
      "1007                  Mongolia      Asia  2007  66.80300     2874127   \n",
      "1008                Montenegro    Europe  1952  59.16400      413834   \n",
      "1009                Montenegro    Europe  1957  61.44800      442829   \n",
      "1010                Montenegro    Europe  1962  63.72800      474528   \n",
      "1011                Montenegro    Europe  1967  67.17800      501035   \n",
      "1012                Montenegro    Europe  1972  70.63600      527678   \n",
      "1013                Montenegro    Europe  1977  73.06600      560073   \n",
      "1014                Montenegro    Europe  1982  74.10100      562548   \n",
      "1015                Montenegro    Europe  1987  74.86500      569473   \n",
      "1016                Montenegro    Europe  1992  75.43500      621621   \n",
      "1017                Montenegro    Europe  1997  75.44500      692651   \n",
      "1018                Montenegro    Europe  2002  73.98100      720230   \n",
      "1019                Montenegro    Europe  2007  74.54300      684736   \n",
      "1020                   Morocco    Africa  1952  42.87300     9939217   \n",
      "1021                   Morocco    Africa  1957  45.42300    11406350   \n",
      "1022                   Morocco    Africa  1962  47.92400    13056604   \n",
      "1023                   Morocco    Africa  1967  50.33500    14770296   \n",
      "1024                   Morocco    Africa  1972  52.86200    16660670   \n",
      "1025                   Morocco    Africa  1977  55.73000    18396941   \n",
      "1026                   Morocco    Africa  1982  59.65000    20198730   \n",
      "1027                   Morocco    Africa  1987  62.67700    22987397   \n",
      "1028                   Morocco    Africa  1992  65.39300    25798239   \n",
      "1029                   Morocco    Africa  1997  67.66000    28529501   \n",
      "1030                   Morocco    Africa  2002  69.61500    31167783   \n",
      "1031                   Morocco    Africa  2007  71.16400    33757175   \n",
      "1032                Mozambique    Africa  1952  31.28600     6446316   \n",
      "1033                Mozambique    Africa  1957  33.77900     7038035   \n",
      "1034                Mozambique    Africa  1962  36.16100     7788944   \n",
      "1035                Mozambique    Africa  1967  38.11300     8680909   \n",
      "1036                Mozambique    Africa  1972  40.32800     9809596   \n",
      "1037                Mozambique    Africa  1977  42.49500    11127868   \n",
      "1038                Mozambique    Africa  1982  42.79500    12587223   \n",
      "1039                Mozambique    Africa  1987  42.86100    12891952   \n",
      "1040                Mozambique    Africa  1992  44.28400    13160731   \n",
      "1041                Mozambique    Africa  1997  46.34400    16603334   \n",
      "1042                Mozambique    Africa  2002  44.02600    18473780   \n",
      "1043                Mozambique    Africa  2007  42.08200    19951656   \n",
      "1044                   Myanmar      Asia  1952  36.31900    20092996   \n",
      "1045                   Myanmar      Asia  1957  41.90500    21731844   \n",
      "1046                   Myanmar      Asia  1962  45.10800    23634436   \n",
      "1047                   Myanmar      Asia  1967  49.37900    25870271   \n",
      "1048                   Myanmar      Asia  1972  53.07000    28466390   \n",
      "1049                   Myanmar      Asia  1977  56.05900    31528087   \n",
      "1050                   Myanmar      Asia  1982  58.05600    34680442   \n",
      "1051                   Myanmar      Asia  1987  58.33900    38028578   \n",
      "1052                   Myanmar      Asia  1992  59.32000    40546538   \n",
      "1053                   Myanmar      Asia  1997  60.32800    43247867   \n",
      "1054                   Myanmar      Asia  2002  59.90800    45598081   \n",
      "1055                   Myanmar      Asia  2007  62.06900    47761980   \n",
      "1056                   Namibia    Africa  1952  41.72500      485831   \n",
      "1057                   Namibia    Africa  1957  45.22600      548080   \n",
      "1058                   Namibia    Africa  1962  48.38600      621392   \n",
      "1059                   Namibia    Africa  1967  51.15900      706640   \n",
      "1060                   Namibia    Africa  1972  53.86700      821782   \n",
      "1061                   Namibia    Africa  1977  56.43700      977026   \n",
      "1062                   Namibia    Africa  1982  58.96800     1099010   \n",
      "1063                   Namibia    Africa  1987  60.83500     1278184   \n",
      "1064                   Namibia    Africa  1992  61.99900     1554253   \n",
      "1065                   Namibia    Africa  1997  58.90900     1774766   \n",
      "1066                   Namibia    Africa  2002  51.47900     1972153   \n",
      "1067                   Namibia    Africa  2007  52.90600     2055080   \n",
      "1068                     Nepal      Asia  1952  36.15700     9182536   \n",
      "1069                     Nepal      Asia  1957  37.68600     9682338   \n",
      "1070                     Nepal      Asia  1962  39.39300    10332057   \n",
      "1071                     Nepal      Asia  1967  41.47200    11261690   \n",
      "1072                     Nepal      Asia  1972  43.97100    12412593   \n",
      "1073                     Nepal      Asia  1977  46.74800    13933198   \n",
      "1074                     Nepal      Asia  1982  49.59400    15796314   \n",
      "1075                     Nepal      Asia  1987  52.53700    17917180   \n",
      "1076                     Nepal      Asia  1992  55.72700    20326209   \n",
      "1077                     Nepal      Asia  1997  59.42600    23001113   \n",
      "1078                     Nepal      Asia  2002  61.34000    25873917   \n",
      "1079                     Nepal      Asia  2007  63.78500    28901790   \n",
      "1080               Netherlands    Europe  1952  72.13000    10381988   \n",
      "1081               Netherlands    Europe  1957  72.99000    11026383   \n",
      "1082               Netherlands    Europe  1962  73.23000    11805689   \n",
      "1083               Netherlands    Europe  1967  73.82000    12596822   \n",
      "1084               Netherlands    Europe  1972  73.75000    13329874   \n",
      "1085               Netherlands    Europe  1977  75.24000    13852989   \n",
      "1086               Netherlands    Europe  1982  76.05000    14310401   \n",
      "1087               Netherlands    Europe  1987  76.83000    14665278   \n",
      "1088               Netherlands    Europe  1992  77.42000    15174244   \n",
      "1089               Netherlands    Europe  1997  78.03000    15604464   \n",
      "1090               Netherlands    Europe  2002  78.53000    16122830   \n",
      "1091               Netherlands    Europe  2007  79.76200    16570613   \n",
      "1092               New Zealand   Oceania  1952  69.39000     1994794   \n",
      "1093               New Zealand   Oceania  1957  70.26000     2229407   \n",
      "1094               New Zealand   Oceania  1962  71.24000     2488550   \n",
      "1095               New Zealand   Oceania  1967  71.52000     2728150   \n",
      "1096               New Zealand   Oceania  1972  71.89000     2929100   \n",
      "1097               New Zealand   Oceania  1977  72.22000     3164900   \n",
      "1098               New Zealand   Oceania  1982  73.84000     3210650   \n",
      "1099               New Zealand   Oceania  1987  74.32000     3317166   \n",
      "1100               New Zealand   Oceania  1992  76.33000     3437674   \n",
      "1101               New Zealand   Oceania  1997  77.55000     3676187   \n",
      "1102               New Zealand   Oceania  2002  79.11000     3908037   \n",
      "1103               New Zealand   Oceania  2007  80.20400     4115771   \n",
      "1104                 Nicaragua  Americas  1952  42.31400     1165790   \n",
      "1105                 Nicaragua  Americas  1957  45.43200     1358828   \n",
      "1106                 Nicaragua  Americas  1962  48.63200     1590597   \n",
      "1107                 Nicaragua  Americas  1967  51.88400     1865490   \n",
      "1108                 Nicaragua  Americas  1972  55.15100     2182908   \n",
      "1109                 Nicaragua  Americas  1977  57.47000     2554598   \n",
      "1110                 Nicaragua  Americas  1982  59.29800     2979423   \n",
      "1111                 Nicaragua  Americas  1987  62.00800     3344353   \n",
      "1112                 Nicaragua  Americas  1992  65.84300     4017939   \n",
      "1113                 Nicaragua  Americas  1997  68.42600     4609572   \n",
      "1114                 Nicaragua  Americas  2002  70.83600     5146848   \n",
      "1115                 Nicaragua  Americas  2007  72.89900     5675356   \n",
      "1116                     Niger    Africa  1952  37.44400     3379468   \n",
      "1117                     Niger    Africa  1957  38.59800     3692184   \n",
      "1118                     Niger    Africa  1962  39.48700     4076008   \n",
      "1119                     Niger    Africa  1967  40.11800     4534062   \n",
      "1120                     Niger    Africa  1972  40.54600     5060262   \n",
      "1121                     Niger    Africa  1977  41.29100     5682086   \n",
      "1122                     Niger    Africa  1982  42.59800     6437188   \n",
      "1123                     Niger    Africa  1987  44.55500     7332638   \n",
      "1124                     Niger    Africa  1992  47.39100     8392818   \n",
      "1125                     Niger    Africa  1997  51.31300     9666252   \n",
      "1126                     Niger    Africa  2002  54.49600    11140655   \n",
      "1127                     Niger    Africa  2007  56.86700    12894865   \n",
      "1128                   Nigeria    Africa  1952  36.32400    33119096   \n",
      "1129                   Nigeria    Africa  1957  37.80200    37173340   \n",
      "1130                   Nigeria    Africa  1962  39.36000    41871351   \n",
      "1131                   Nigeria    Africa  1967  41.04000    47287752   \n",
      "1132                   Nigeria    Africa  1972  42.82100    53740085   \n",
      "1133                   Nigeria    Africa  1977  44.51400    62209173   \n",
      "1134                   Nigeria    Africa  1982  45.82600    73039376   \n",
      "1135                   Nigeria    Africa  1987  46.88600    81551520   \n",
      "1136                   Nigeria    Africa  1992  47.47200    93364244   \n",
      "1137                   Nigeria    Africa  1997  47.46400   106207839   \n",
      "1138                   Nigeria    Africa  2002  46.60800   119901274   \n",
      "1139                   Nigeria    Africa  2007  46.85900   135031164   \n",
      "1140                    Norway    Europe  1952  72.67000     3327728   \n",
      "1141                    Norway    Europe  1957  73.44000     3491938   \n",
      "1142                    Norway    Europe  1962  73.47000     3638919   \n",
      "1143                    Norway    Europe  1967  74.08000     3786019   \n",
      "1144                    Norway    Europe  1972  74.34000     3933004   \n",
      "1145                    Norway    Europe  1977  75.37000     4043205   \n",
      "1146                    Norway    Europe  1982  75.97000     4114787   \n",
      "1147                    Norway    Europe  1987  75.89000     4186147   \n",
      "1148                    Norway    Europe  1992  77.32000     4286357   \n",
      "1149                    Norway    Europe  1997  78.32000     4405672   \n",
      "1150                    Norway    Europe  2002  79.05000     4535591   \n",
      "1151                    Norway    Europe  2007  80.19600     4627926   \n",
      "1152                      Oman      Asia  1952  37.57800      507833   \n",
      "1153                      Oman      Asia  1957  40.08000      561977   \n",
      "1154                      Oman      Asia  1962  43.16500      628164   \n",
      "1155                      Oman      Asia  1967  46.98800      714775   \n",
      "1156                      Oman      Asia  1972  52.14300      829050   \n",
      "1157                      Oman      Asia  1977  57.36700     1004533   \n",
      "1158                      Oman      Asia  1982  62.72800     1301048   \n",
      "1159                      Oman      Asia  1987  67.73400     1593882   \n",
      "1160                      Oman      Asia  1992  71.19700     1915208   \n",
      "1161                      Oman      Asia  1997  72.49900     2283635   \n",
      "1162                      Oman      Asia  2002  74.19300     2713462   \n",
      "1163                      Oman      Asia  2007  75.64000     3204897   \n",
      "1164                  Pakistan      Asia  1952  43.43600    41346560   \n",
      "1165                  Pakistan      Asia  1957  45.55700    46679944   \n",
      "1166                  Pakistan      Asia  1962  47.67000    53100671   \n",
      "1167                  Pakistan      Asia  1967  49.80000    60641899   \n",
      "1168                  Pakistan      Asia  1972  51.92900    69325921   \n",
      "1169                  Pakistan      Asia  1977  54.04300    78152686   \n",
      "1170                  Pakistan      Asia  1982  56.15800    91462088   \n",
      "1171                  Pakistan      Asia  1987  58.24500   105186881   \n",
      "1172                  Pakistan      Asia  1992  60.83800   120065004   \n",
      "1173                  Pakistan      Asia  1997  61.81800   135564834   \n",
      "1174                  Pakistan      Asia  2002  63.61000   153403524   \n",
      "1175                  Pakistan      Asia  2007  65.48300   169270617   \n",
      "1176                    Panama  Americas  1952  55.19100      940080   \n",
      "1177                    Panama  Americas  1957  59.20100     1063506   \n",
      "1178                    Panama  Americas  1962  61.81700     1215725   \n",
      "1179                    Panama  Americas  1967  64.07100     1405486   \n",
      "1180                    Panama  Americas  1972  66.21600     1616384   \n",
      "1181                    Panama  Americas  1977  68.68100     1839782   \n",
      "1182                    Panama  Americas  1982  70.47200     2036305   \n",
      "1183                    Panama  Americas  1987  71.52300     2253639   \n",
      "1184                    Panama  Americas  1992  72.46200     2484997   \n",
      "1185                    Panama  Americas  1997  73.73800     2734531   \n",
      "1186                    Panama  Americas  2002  74.71200     2990875   \n",
      "1187                    Panama  Americas  2007  75.53700     3242173   \n",
      "1188                  Paraguay  Americas  1952  62.64900     1555876   \n",
      "1189                  Paraguay  Americas  1957  63.19600     1770902   \n",
      "1190                  Paraguay  Americas  1962  64.36100     2009813   \n",
      "1191                  Paraguay  Americas  1967  64.95100     2287985   \n",
      "1192                  Paraguay  Americas  1972  65.81500     2614104   \n",
      "1193                  Paraguay  Americas  1977  66.35300     2984494   \n",
      "1194                  Paraguay  Americas  1982  66.87400     3366439   \n",
      "1195                  Paraguay  Americas  1987  67.37800     3886512   \n",
      "1196                  Paraguay  Americas  1992  68.22500     4483945   \n",
      "1197                  Paraguay  Americas  1997  69.40000     5154123   \n",
      "1198                  Paraguay  Americas  2002  70.75500     5884491   \n",
      "1199                  Paraguay  Americas  2007  71.75200     6667147   \n",
      "1200                      Peru  Americas  1952  43.90200     8025700   \n",
      "1201                      Peru  Americas  1957  46.26300     9146100   \n",
      "1202                      Peru  Americas  1962  49.09600    10516500   \n",
      "1203                      Peru  Americas  1967  51.44500    12132200   \n",
      "1204                      Peru  Americas  1972  55.44800    13954700   \n",
      "1205                      Peru  Americas  1977  58.44700    15990099   \n",
      "1206                      Peru  Americas  1982  61.40600    18125129   \n",
      "1207                      Peru  Americas  1987  64.13400    20195924   \n",
      "1208                      Peru  Americas  1992  66.45800    22430449   \n",
      "1209                      Peru  Americas  1997  68.38600    24748122   \n",
      "1210                      Peru  Americas  2002  69.90600    26769436   \n",
      "1211                      Peru  Americas  2007  71.42100    28674757   \n",
      "1212               Philippines      Asia  1952  47.75200    22438691   \n",
      "1213               Philippines      Asia  1957  51.33400    26072194   \n",
      "1214               Philippines      Asia  1962  54.75700    30325264   \n",
      "1215               Philippines      Asia  1967  56.39300    35356600   \n",
      "1216               Philippines      Asia  1972  58.06500    40850141   \n",
      "1217               Philippines      Asia  1977  60.06000    46850962   \n",
      "1218               Philippines      Asia  1982  62.08200    53456774   \n",
      "1219               Philippines      Asia  1987  64.15100    60017788   \n",
      "1220               Philippines      Asia  1992  66.45800    67185766   \n",
      "1221               Philippines      Asia  1997  68.56400    75012988   \n",
      "1222               Philippines      Asia  2002  70.30300    82995088   \n",
      "1223               Philippines      Asia  2007  71.68800    91077287   \n",
      "1224                    Poland    Europe  1952  61.31000    25730551   \n",
      "1225                    Poland    Europe  1957  65.77000    28235346   \n",
      "1226                    Poland    Europe  1962  67.64000    30329617   \n",
      "1227                    Poland    Europe  1967  69.61000    31785378   \n",
      "1228                    Poland    Europe  1972  70.85000    33039545   \n",
      "1229                    Poland    Europe  1977  70.67000    34621254   \n",
      "1230                    Poland    Europe  1982  71.32000    36227381   \n",
      "1231                    Poland    Europe  1987  70.98000    37740710   \n",
      "1232                    Poland    Europe  1992  70.99000    38370697   \n",
      "1233                    Poland    Europe  1997  72.75000    38654957   \n",
      "1234                    Poland    Europe  2002  74.67000    38625976   \n",
      "1235                    Poland    Europe  2007  75.56300    38518241   \n",
      "1236                  Portugal    Europe  1952  59.82000     8526050   \n",
      "1237                  Portugal    Europe  1957  61.51000     8817650   \n",
      "1238                  Portugal    Europe  1962  64.39000     9019800   \n",
      "1239                  Portugal    Europe  1967  66.60000     9103000   \n",
      "1240                  Portugal    Europe  1972  69.26000     8970450   \n",
      "1241                  Portugal    Europe  1977  70.41000     9662600   \n",
      "1242                  Portugal    Europe  1982  72.77000     9859650   \n",
      "1243                  Portugal    Europe  1987  74.06000     9915289   \n",
      "1244                  Portugal    Europe  1992  74.86000     9927680   \n",
      "1245                  Portugal    Europe  1997  75.97000    10156415   \n",
      "1246                  Portugal    Europe  2002  77.29000    10433867   \n",
      "1247                  Portugal    Europe  2007  78.09800    10642836   \n",
      "1248               Puerto Rico  Americas  1952  64.28000     2227000   \n",
      "1249               Puerto Rico  Americas  1957  68.54000     2260000   \n",
      "1250               Puerto Rico  Americas  1962  69.62000     2448046   \n",
      "1251               Puerto Rico  Americas  1967  71.10000     2648961   \n",
      "1252               Puerto Rico  Americas  1972  72.16000     2847132   \n",
      "1253               Puerto Rico  Americas  1977  73.44000     3080828   \n",
      "1254               Puerto Rico  Americas  1982  73.75000     3279001   \n",
      "1255               Puerto Rico  Americas  1987  74.63000     3444468   \n",
      "1256               Puerto Rico  Americas  1992  73.91100     3585176   \n",
      "1257               Puerto Rico  Americas  1997  74.91700     3759430   \n",
      "1258               Puerto Rico  Americas  2002  77.77800     3859606   \n",
      "1259               Puerto Rico  Americas  2007  78.74600     3942491   \n",
      "1260                   Reunion    Africa  1952  52.72400      257700   \n",
      "1261                   Reunion    Africa  1957  55.09000      308700   \n",
      "1262                   Reunion    Africa  1962  57.66600      358900   \n",
      "1263                   Reunion    Africa  1967  60.54200      414024   \n",
      "1264                   Reunion    Africa  1972  64.27400      461633   \n",
      "1265                   Reunion    Africa  1977  67.06400      492095   \n",
      "1266                   Reunion    Africa  1982  69.88500      517810   \n",
      "1267                   Reunion    Africa  1987  71.91300      562035   \n",
      "1268                   Reunion    Africa  1992  73.61500      622191   \n",
      "1269                   Reunion    Africa  1997  74.77200      684810   \n",
      "1270                   Reunion    Africa  2002  75.74400      743981   \n",
      "1271                   Reunion    Africa  2007  76.44200      798094   \n",
      "1272                   Romania    Europe  1952  61.05000    16630000   \n",
      "1273                   Romania    Europe  1957  64.10000    17829327   \n",
      "1274                   Romania    Europe  1962  66.80000    18680721   \n",
      "1275                   Romania    Europe  1967  66.80000    19284814   \n",
      "1276                   Romania    Europe  1972  69.21000    20662648   \n",
      "1277                   Romania    Europe  1977  69.46000    21658597   \n",
      "1278                   Romania    Europe  1982  69.66000    22356726   \n",
      "1279                   Romania    Europe  1987  69.53000    22686371   \n",
      "1280                   Romania    Europe  1992  69.36000    22797027   \n",
      "1281                   Romania    Europe  1997  69.72000    22562458   \n",
      "1282                   Romania    Europe  2002  71.32200    22404337   \n",
      "1283                   Romania    Europe  2007  72.47600    22276056   \n",
      "1284                    Rwanda    Africa  1952  40.00000     2534927   \n",
      "1285                    Rwanda    Africa  1957  41.50000     2822082   \n",
      "1286                    Rwanda    Africa  1962  43.00000     3051242   \n",
      "1287                    Rwanda    Africa  1967  44.10000     3451079   \n",
      "1288                    Rwanda    Africa  1972  44.60000     3992121   \n",
      "1289                    Rwanda    Africa  1977  45.00000     4657072   \n",
      "1290                    Rwanda    Africa  1982  46.21800     5507565   \n",
      "1291                    Rwanda    Africa  1987  44.02000     6349365   \n",
      "1292                    Rwanda    Africa  1992  23.59900     7290203   \n",
      "1293                    Rwanda    Africa  1997  36.08700     7212583   \n",
      "1294                    Rwanda    Africa  2002  43.41300     7852401   \n",
      "1295                    Rwanda    Africa  2007  46.24200     8860588   \n",
      "1296     Sao Tome and Principe    Africa  1952  46.47100       60011   \n",
      "1297     Sao Tome and Principe    Africa  1957  48.94500       61325   \n",
      "1298     Sao Tome and Principe    Africa  1962  51.89300       65345   \n",
      "1299     Sao Tome and Principe    Africa  1967  54.42500       70787   \n",
      "1300     Sao Tome and Principe    Africa  1972  56.48000       76595   \n",
      "1301     Sao Tome and Principe    Africa  1977  58.55000       86796   \n",
      "1302     Sao Tome and Principe    Africa  1982  60.35100       98593   \n",
      "1303     Sao Tome and Principe    Africa  1987  61.72800      110812   \n",
      "1304     Sao Tome and Principe    Africa  1992  62.74200      125911   \n",
      "1305     Sao Tome and Principe    Africa  1997  63.30600      145608   \n",
      "1306     Sao Tome and Principe    Africa  2002  64.33700      170372   \n",
      "1307     Sao Tome and Principe    Africa  2007  65.52800      199579   \n",
      "1308              Saudi Arabia      Asia  1952  39.87500     4005677   \n",
      "1309              Saudi Arabia      Asia  1957  42.86800     4419650   \n",
      "1310              Saudi Arabia      Asia  1962  45.91400     4943029   \n",
      "1311              Saudi Arabia      Asia  1967  49.90100     5618198   \n",
      "1312              Saudi Arabia      Asia  1972  53.88600     6472756   \n",
      "1313              Saudi Arabia      Asia  1977  58.69000     8128505   \n",
      "1314              Saudi Arabia      Asia  1982  63.01200    11254672   \n",
      "1315              Saudi Arabia      Asia  1987  66.29500    14619745   \n",
      "1316              Saudi Arabia      Asia  1992  68.76800    16945857   \n",
      "1317              Saudi Arabia      Asia  1997  70.53300    21229759   \n",
      "1318              Saudi Arabia      Asia  2002  71.62600    24501530   \n",
      "1319              Saudi Arabia      Asia  2007  72.77700    27601038   \n",
      "1320                   Senegal    Africa  1952  37.27800     2755589   \n",
      "1321                   Senegal    Africa  1957  39.32900     3054547   \n",
      "1322                   Senegal    Africa  1962  41.45400     3430243   \n",
      "1323                   Senegal    Africa  1967  43.56300     3965841   \n",
      "1324                   Senegal    Africa  1972  45.81500     4588696   \n",
      "1325                   Senegal    Africa  1977  48.87900     5260855   \n",
      "1326                   Senegal    Africa  1982  52.37900     6147783   \n",
      "1327                   Senegal    Africa  1987  55.76900     7171347   \n",
      "1328                   Senegal    Africa  1992  58.19600     8307920   \n",
      "1329                   Senegal    Africa  1997  60.18700     9535314   \n",
      "1330                   Senegal    Africa  2002  61.60000    10870037   \n",
      "1331                   Senegal    Africa  2007  63.06200    12267493   \n",
      "1332                    Serbia    Europe  1952  57.99600     6860147   \n",
      "1333                    Serbia    Europe  1957  61.68500     7271135   \n",
      "1334                    Serbia    Europe  1962  64.53100     7616060   \n",
      "1335                    Serbia    Europe  1967  66.91400     7971222   \n",
      "1336                    Serbia    Europe  1972  68.70000     8313288   \n",
      "1337                    Serbia    Europe  1977  70.30000     8686367   \n",
      "1338                    Serbia    Europe  1982  70.16200     9032824   \n",
      "1339                    Serbia    Europe  1987  71.21800     9230783   \n",
      "1340                    Serbia    Europe  1992  71.65900     9826397   \n",
      "1341                    Serbia    Europe  1997  72.23200    10336594   \n",
      "1342                    Serbia    Europe  2002  73.21300    10111559   \n",
      "1343                    Serbia    Europe  2007  74.00200    10150265   \n",
      "1344              Sierra Leone    Africa  1952  30.33100     2143249   \n",
      "1345              Sierra Leone    Africa  1957  31.57000     2295678   \n",
      "1346              Sierra Leone    Africa  1962  32.76700     2467895   \n",
      "1347              Sierra Leone    Africa  1967  34.11300     2662190   \n",
      "1348              Sierra Leone    Africa  1972  35.40000     2879013   \n",
      "1349              Sierra Leone    Africa  1977  36.78800     3140897   \n",
      "1350              Sierra Leone    Africa  1982  38.44500     3464522   \n",
      "1351              Sierra Leone    Africa  1987  40.00600     3868905   \n",
      "1352              Sierra Leone    Africa  1992  38.33300     4260884   \n",
      "1353              Sierra Leone    Africa  1997  39.89700     4578212   \n",
      "1354              Sierra Leone    Africa  2002  41.01200     5359092   \n",
      "1355              Sierra Leone    Africa  2007  42.56800     6144562   \n",
      "1356                 Singapore      Asia  1952  60.39600     1127000   \n",
      "1357                 Singapore      Asia  1957  63.17900     1445929   \n",
      "1358                 Singapore      Asia  1962  65.79800     1750200   \n",
      "1359                 Singapore      Asia  1967  67.94600     1977600   \n",
      "1360                 Singapore      Asia  1972  69.52100     2152400   \n",
      "1361                 Singapore      Asia  1977  70.79500     2325300   \n",
      "1362                 Singapore      Asia  1982  71.76000     2651869   \n",
      "1363                 Singapore      Asia  1987  73.56000     2794552   \n",
      "1364                 Singapore      Asia  1992  75.78800     3235865   \n",
      "1365                 Singapore      Asia  1997  77.15800     3802309   \n",
      "1366                 Singapore      Asia  2002  78.77000     4197776   \n",
      "1367                 Singapore      Asia  2007  79.97200     4553009   \n",
      "1368           Slovak Republic    Europe  1952  64.36000     3558137   \n",
      "1369           Slovak Republic    Europe  1957  67.45000     3844277   \n",
      "1370           Slovak Republic    Europe  1962  70.33000     4237384   \n",
      "1371           Slovak Republic    Europe  1967  70.98000     4442238   \n",
      "1372           Slovak Republic    Europe  1972  70.35000     4593433   \n",
      "1373           Slovak Republic    Europe  1977  70.45000     4827803   \n",
      "1374           Slovak Republic    Europe  1982  70.80000     5048043   \n",
      "1375           Slovak Republic    Europe  1987  71.08000     5199318   \n",
      "1376           Slovak Republic    Europe  1992  71.38000     5302888   \n",
      "1377           Slovak Republic    Europe  1997  72.71000     5383010   \n",
      "1378           Slovak Republic    Europe  2002  73.80000     5410052   \n",
      "1379           Slovak Republic    Europe  2007  74.66300     5447502   \n",
      "1380                  Slovenia    Europe  1952  65.57000     1489518   \n",
      "1381                  Slovenia    Europe  1957  67.85000     1533070   \n",
      "1382                  Slovenia    Europe  1962  69.15000     1582962   \n",
      "1383                  Slovenia    Europe  1967  69.18000     1646912   \n",
      "1384                  Slovenia    Europe  1972  69.82000     1694510   \n",
      "1385                  Slovenia    Europe  1977  70.97000     1746919   \n",
      "1386                  Slovenia    Europe  1982  71.06300     1861252   \n",
      "1387                  Slovenia    Europe  1987  72.25000     1945870   \n",
      "1388                  Slovenia    Europe  1992  73.64000     1999210   \n",
      "1389                  Slovenia    Europe  1997  75.13000     2011612   \n",
      "1390                  Slovenia    Europe  2002  76.66000     2011497   \n",
      "1391                  Slovenia    Europe  2007  77.92600     2009245   \n",
      "1392                   Somalia    Africa  1952  32.97800     2526994   \n",
      "1393                   Somalia    Africa  1957  34.97700     2780415   \n",
      "1394                   Somalia    Africa  1962  36.98100     3080153   \n",
      "1395                   Somalia    Africa  1967  38.97700     3428839   \n",
      "1396                   Somalia    Africa  1972  40.97300     3840161   \n",
      "1397                   Somalia    Africa  1977  41.97400     4353666   \n",
      "1398                   Somalia    Africa  1982  42.95500     5828892   \n",
      "1399                   Somalia    Africa  1987  44.50100     6921858   \n",
      "1400                   Somalia    Africa  1992  39.65800     6099799   \n",
      "1401                   Somalia    Africa  1997  43.79500     6633514   \n",
      "1402                   Somalia    Africa  2002  45.93600     7753310   \n",
      "1403                   Somalia    Africa  2007  48.15900     9118773   \n",
      "1404              South Africa    Africa  1952  45.00900    14264935   \n",
      "1405              South Africa    Africa  1957  47.98500    16151549   \n",
      "1406              South Africa    Africa  1962  49.95100    18356657   \n",
      "1407              South Africa    Africa  1967  51.92700    20997321   \n",
      "1408              South Africa    Africa  1972  53.69600    23935810   \n",
      "1409              South Africa    Africa  1977  55.52700    27129932   \n",
      "1410              South Africa    Africa  1982  58.16100    31140029   \n",
      "1411              South Africa    Africa  1987  60.83400    35933379   \n",
      "1412              South Africa    Africa  1992  61.88800    39964159   \n",
      "1413              South Africa    Africa  1997  60.23600    42835005   \n",
      "1414              South Africa    Africa  2002  53.36500    44433622   \n",
      "1415              South Africa    Africa  2007  49.33900    43997828   \n",
      "1416                     Spain    Europe  1952  64.94000    28549870   \n",
      "1417                     Spain    Europe  1957  66.66000    29841614   \n",
      "1418                     Spain    Europe  1962  69.69000    31158061   \n",
      "1419                     Spain    Europe  1967  71.44000    32850275   \n",
      "1420                     Spain    Europe  1972  73.06000    34513161   \n",
      "1421                     Spain    Europe  1977  74.39000    36439000   \n",
      "1422                     Spain    Europe  1982  76.30000    37983310   \n",
      "1423                     Spain    Europe  1987  76.90000    38880702   \n",
      "1424                     Spain    Europe  1992  77.57000    39549438   \n",
      "1425                     Spain    Europe  1997  78.77000    39855442   \n",
      "1426                     Spain    Europe  2002  79.78000    40152517   \n",
      "1427                     Spain    Europe  2007  80.94100    40448191   \n",
      "1428                 Sri Lanka      Asia  1952  57.59300     7982342   \n",
      "1429                 Sri Lanka      Asia  1957  61.45600     9128546   \n",
      "1430                 Sri Lanka      Asia  1962  62.19200    10421936   \n",
      "1431                 Sri Lanka      Asia  1967  64.26600    11737396   \n",
      "1432                 Sri Lanka      Asia  1972  65.04200    13016733   \n",
      "1433                 Sri Lanka      Asia  1977  65.94900    14116836   \n",
      "1434                 Sri Lanka      Asia  1982  68.75700    15410151   \n",
      "1435                 Sri Lanka      Asia  1987  69.01100    16495304   \n",
      "1436                 Sri Lanka      Asia  1992  70.37900    17587060   \n",
      "1437                 Sri Lanka      Asia  1997  70.45700    18698655   \n",
      "1438                 Sri Lanka      Asia  2002  70.81500    19576783   \n",
      "1439                 Sri Lanka      Asia  2007  72.39600    20378239   \n",
      "1440                     Sudan    Africa  1952  38.63500     8504667   \n",
      "1441                     Sudan    Africa  1957  39.62400     9753392   \n",
      "1442                     Sudan    Africa  1962  40.87000    11183227   \n",
      "1443                     Sudan    Africa  1967  42.85800    12716129   \n",
      "1444                     Sudan    Africa  1972  45.08300    14597019   \n",
      "1445                     Sudan    Africa  1977  47.80000    17104986   \n",
      "1446                     Sudan    Africa  1982  50.33800    20367053   \n",
      "1447                     Sudan    Africa  1987  51.74400    24725960   \n",
      "1448                     Sudan    Africa  1992  53.55600    28227588   \n",
      "1449                     Sudan    Africa  1997  55.37300    32160729   \n",
      "1450                     Sudan    Africa  2002  56.36900    37090298   \n",
      "1451                     Sudan    Africa  2007  58.55600    42292929   \n",
      "1452                 Swaziland    Africa  1952  41.40700      290243   \n",
      "1453                 Swaziland    Africa  1957  43.42400      326741   \n",
      "1454                 Swaziland    Africa  1962  44.99200      370006   \n",
      "1455                 Swaziland    Africa  1967  46.63300      420690   \n",
      "1456                 Swaziland    Africa  1972  49.55200      480105   \n",
      "1457                 Swaziland    Africa  1977  52.53700      551425   \n",
      "1458                 Swaziland    Africa  1982  55.56100      649901   \n",
      "1459                 Swaziland    Africa  1987  57.67800      779348   \n",
      "1460                 Swaziland    Africa  1992  58.47400      962344   \n",
      "1461                 Swaziland    Africa  1997  54.28900     1054486   \n",
      "1462                 Swaziland    Africa  2002  43.86900     1130269   \n",
      "1463                 Swaziland    Africa  2007  39.61300     1133066   \n",
      "1464                    Sweden    Europe  1952  71.86000     7124673   \n",
      "1465                    Sweden    Europe  1957  72.49000     7363802   \n",
      "1466                    Sweden    Europe  1962  73.37000     7561588   \n",
      "1467                    Sweden    Europe  1967  74.16000     7867931   \n",
      "1468                    Sweden    Europe  1972  74.72000     8122293   \n",
      "1469                    Sweden    Europe  1977  75.44000     8251648   \n",
      "1470                    Sweden    Europe  1982  76.42000     8325260   \n",
      "1471                    Sweden    Europe  1987  77.19000     8421403   \n",
      "1472                    Sweden    Europe  1992  78.16000     8718867   \n",
      "1473                    Sweden    Europe  1997  79.39000     8897619   \n",
      "1474                    Sweden    Europe  2002  80.04000     8954175   \n",
      "1475                    Sweden    Europe  2007  80.88400     9031088   \n",
      "1476               Switzerland    Europe  1952  69.62000     4815000   \n",
      "1477               Switzerland    Europe  1957  70.56000     5126000   \n",
      "1478               Switzerland    Europe  1962  71.32000     5666000   \n",
      "1479               Switzerland    Europe  1967  72.77000     6063000   \n",
      "1480               Switzerland    Europe  1972  73.78000     6401400   \n",
      "1481               Switzerland    Europe  1977  75.39000     6316424   \n",
      "1482               Switzerland    Europe  1982  76.21000     6468126   \n",
      "1483               Switzerland    Europe  1987  77.41000     6649942   \n",
      "1484               Switzerland    Europe  1992  78.03000     6995447   \n",
      "1485               Switzerland    Europe  1997  79.37000     7193761   \n",
      "1486               Switzerland    Europe  2002  80.62000     7361757   \n",
      "1487               Switzerland    Europe  2007  81.70100     7554661   \n",
      "1488                     Syria      Asia  1952  45.88300     3661549   \n",
      "1489                     Syria      Asia  1957  48.28400     4149908   \n",
      "1490                     Syria      Asia  1962  50.30500     4834621   \n",
      "1491                     Syria      Asia  1967  53.65500     5680812   \n",
      "1492                     Syria      Asia  1972  57.29600     6701172   \n",
      "1493                     Syria      Asia  1977  61.19500     7932503   \n",
      "1494                     Syria      Asia  1982  64.59000     9410494   \n",
      "1495                     Syria      Asia  1987  66.97400    11242847   \n",
      "1496                     Syria      Asia  1992  69.24900    13219062   \n",
      "1497                     Syria      Asia  1997  71.52700    15081016   \n",
      "1498                     Syria      Asia  2002  73.05300    17155814   \n",
      "1499                     Syria      Asia  2007  74.14300    19314747   \n",
      "1500                    Taiwan      Asia  1952  58.50000     8550362   \n",
      "1501                    Taiwan      Asia  1957  62.40000    10164215   \n",
      "1502                    Taiwan      Asia  1962  65.20000    11918938   \n",
      "1503                    Taiwan      Asia  1967  67.50000    13648692   \n",
      "1504                    Taiwan      Asia  1972  69.39000    15226039   \n",
      "1505                    Taiwan      Asia  1977  70.59000    16785196   \n",
      "1506                    Taiwan      Asia  1982  72.16000    18501390   \n",
      "1507                    Taiwan      Asia  1987  73.40000    19757799   \n",
      "1508                    Taiwan      Asia  1992  74.26000    20686918   \n",
      "1509                    Taiwan      Asia  1997  75.25000    21628605   \n",
      "1510                    Taiwan      Asia  2002  76.99000    22454239   \n",
      "1511                    Taiwan      Asia  2007  78.40000    23174294   \n",
      "1512                  Tanzania    Africa  1952  41.21500     8322925   \n",
      "1513                  Tanzania    Africa  1957  42.97400     9452826   \n",
      "1514                  Tanzania    Africa  1962  44.24600    10863958   \n",
      "1515                  Tanzania    Africa  1967  45.75700    12607312   \n",
      "1516                  Tanzania    Africa  1972  47.62000    14706593   \n",
      "1517                  Tanzania    Africa  1977  49.91900    17129565   \n",
      "1518                  Tanzania    Africa  1982  50.60800    19844382   \n",
      "1519                  Tanzania    Africa  1987  51.53500    23040630   \n",
      "1520                  Tanzania    Africa  1992  50.44000    26605473   \n",
      "1521                  Tanzania    Africa  1997  48.46600    30686889   \n",
      "1522                  Tanzania    Africa  2002  49.65100    34593779   \n",
      "1523                  Tanzania    Africa  2007  52.51700    38139640   \n",
      "1524                  Thailand      Asia  1952  50.84800    21289402   \n",
      "1525                  Thailand      Asia  1957  53.63000    25041917   \n",
      "1526                  Thailand      Asia  1962  56.06100    29263397   \n",
      "1527                  Thailand      Asia  1967  58.28500    34024249   \n",
      "1528                  Thailand      Asia  1972  60.40500    39276153   \n",
      "1529                  Thailand      Asia  1977  62.49400    44148285   \n",
      "1530                  Thailand      Asia  1982  64.59700    48827160   \n",
      "1531                  Thailand      Asia  1987  66.08400    52910342   \n",
      "1532                  Thailand      Asia  1992  67.29800    56667095   \n",
      "1533                  Thailand      Asia  1997  67.52100    60216677   \n",
      "1534                  Thailand      Asia  2002  68.56400    62806748   \n",
      "1535                  Thailand      Asia  2007  70.61600    65068149   \n",
      "1536                      Togo    Africa  1952  38.59600     1219113   \n",
      "1537                      Togo    Africa  1957  41.20800     1357445   \n",
      "1538                      Togo    Africa  1962  43.92200     1528098   \n",
      "1539                      Togo    Africa  1967  46.76900     1735550   \n",
      "1540                      Togo    Africa  1972  49.75900     2056351   \n",
      "1541                      Togo    Africa  1977  52.88700     2308582   \n",
      "1542                      Togo    Africa  1982  55.47100     2644765   \n",
      "1543                      Togo    Africa  1987  56.94100     3154264   \n",
      "1544                      Togo    Africa  1992  58.06100     3747553   \n",
      "1545                      Togo    Africa  1997  58.39000     4320890   \n",
      "1546                      Togo    Africa  2002  57.56100     4977378   \n",
      "1547                      Togo    Africa  2007  58.42000     5701579   \n",
      "1548       Trinidad and Tobago  Americas  1952  59.10000      662850   \n",
      "1549       Trinidad and Tobago  Americas  1957  61.80000      764900   \n",
      "1550       Trinidad and Tobago  Americas  1962  64.90000      887498   \n",
      "1551       Trinidad and Tobago  Americas  1967  65.40000      960155   \n",
      "1552       Trinidad and Tobago  Americas  1972  65.90000      975199   \n",
      "1553       Trinidad and Tobago  Americas  1977  68.30000     1039009   \n",
      "1554       Trinidad and Tobago  Americas  1982  68.83200     1116479   \n",
      "1555       Trinidad and Tobago  Americas  1987  69.58200     1191336   \n",
      "1556       Trinidad and Tobago  Americas  1992  69.86200     1183669   \n",
      "1557       Trinidad and Tobago  Americas  1997  69.46500     1138101   \n",
      "1558       Trinidad and Tobago  Americas  2002  68.97600     1101832   \n",
      "1559       Trinidad and Tobago  Americas  2007  69.81900     1056608   \n",
      "1560                   Tunisia    Africa  1952  44.60000     3647735   \n",
      "1561                   Tunisia    Africa  1957  47.10000     3950849   \n",
      "1562                   Tunisia    Africa  1962  49.57900     4286552   \n",
      "1563                   Tunisia    Africa  1967  52.05300     4786986   \n",
      "1564                   Tunisia    Africa  1972  55.60200     5303507   \n",
      "1565                   Tunisia    Africa  1977  59.83700     6005061   \n",
      "1566                   Tunisia    Africa  1982  64.04800     6734098   \n",
      "1567                   Tunisia    Africa  1987  66.89400     7724976   \n",
      "1568                   Tunisia    Africa  1992  70.00100     8523077   \n",
      "1569                   Tunisia    Africa  1997  71.97300     9231669   \n",
      "1570                   Tunisia    Africa  2002  73.04200     9770575   \n",
      "1571                   Tunisia    Africa  2007  73.92300    10276158   \n",
      "1572                    Turkey    Europe  1952  43.58500    22235677   \n",
      "1573                    Turkey    Europe  1957  48.07900    25670939   \n",
      "1574                    Turkey    Europe  1962  52.09800    29788695   \n",
      "1575                    Turkey    Europe  1967  54.33600    33411317   \n",
      "1576                    Turkey    Europe  1972  57.00500    37492953   \n",
      "1577                    Turkey    Europe  1977  59.50700    42404033   \n",
      "1578                    Turkey    Europe  1982  61.03600    47328791   \n",
      "1579                    Turkey    Europe  1987  63.10800    52881328   \n",
      "1580                    Turkey    Europe  1992  66.14600    58179144   \n",
      "1581                    Turkey    Europe  1997  68.83500    63047647   \n",
      "1582                    Turkey    Europe  2002  70.84500    67308928   \n",
      "1583                    Turkey    Europe  2007  71.77700    71158647   \n",
      "1584                    Uganda    Africa  1952  39.97800     5824797   \n",
      "1585                    Uganda    Africa  1957  42.57100     6675501   \n",
      "1586                    Uganda    Africa  1962  45.34400     7688797   \n",
      "1587                    Uganda    Africa  1967  48.05100     8900294   \n",
      "1588                    Uganda    Africa  1972  51.01600    10190285   \n",
      "1589                    Uganda    Africa  1977  50.35000    11457758   \n",
      "1590                    Uganda    Africa  1982  49.84900    12939400   \n",
      "1591                    Uganda    Africa  1987  51.50900    15283050   \n",
      "1592                    Uganda    Africa  1992  48.82500    18252190   \n",
      "1593                    Uganda    Africa  1997  44.57800    21210254   \n",
      "1594                    Uganda    Africa  2002  47.81300    24739869   \n",
      "1595                    Uganda    Africa  2007  51.54200    29170398   \n",
      "1596            United Kingdom    Europe  1952  69.18000    50430000   \n",
      "1597            United Kingdom    Europe  1957  70.42000    51430000   \n",
      "1598            United Kingdom    Europe  1962  70.76000    53292000   \n",
      "1599            United Kingdom    Europe  1967  71.36000    54959000   \n",
      "1600            United Kingdom    Europe  1972  72.01000    56079000   \n",
      "1601            United Kingdom    Europe  1977  72.76000    56179000   \n",
      "1602            United Kingdom    Europe  1982  74.04000    56339704   \n",
      "1603            United Kingdom    Europe  1987  75.00700    56981620   \n",
      "1604            United Kingdom    Europe  1992  76.42000    57866349   \n",
      "1605            United Kingdom    Europe  1997  77.21800    58808266   \n",
      "1606            United Kingdom    Europe  2002  78.47100    59912431   \n",
      "1607            United Kingdom    Europe  2007  79.42500    60776238   \n",
      "1608                       USA  Americas  1952  68.44000   157553000   \n",
      "1609                       USA  Americas  1957  69.49000   171984000   \n",
      "1610                       USA  Americas  1962  70.21000   186538000   \n",
      "1611                       USA  Americas  1967  70.76000   198712000   \n",
      "1612                       USA  Americas  1972  71.34000   209896000   \n",
      "1613                       USA  Americas  1977  73.38000   220239000   \n",
      "1614                       USA  Americas  1982  74.65000   232187835   \n",
      "1615                       USA  Americas  1987  75.02000   242803533   \n",
      "1616                       USA  Americas  1992  76.09000   256894189   \n",
      "1617                       USA  Americas  1997  76.81000   272911760   \n",
      "1618                       USA  Americas  2002  77.31000   287675526   \n",
      "1619                       USA  Americas  2007  78.24200   301139947   \n",
      "1620                   Uruguay  Americas  1952  66.07100     2252965   \n",
      "1621                   Uruguay  Americas  1957  67.04400     2424959   \n",
      "1622                   Uruguay  Americas  1962  68.25300     2598466   \n",
      "1623                   Uruguay  Americas  1967  68.46800     2748579   \n",
      "1624                   Uruguay  Americas  1972  68.67300     2829526   \n",
      "1625                   Uruguay  Americas  1977  69.48100     2873520   \n",
      "1626                   Uruguay  Americas  1982  70.80500     2953997   \n",
      "1627                   Uruguay  Americas  1987  71.91800     3045153   \n",
      "1628                   Uruguay  Americas  1992  72.75200     3149262   \n",
      "1629                   Uruguay  Americas  1997  74.22300     3262838   \n",
      "1630                   Uruguay  Americas  2002  75.30700     3363085   \n",
      "1631                   Uruguay  Americas  2007  76.38400     3447496   \n",
      "1632                 Venezuela  Americas  1952  55.08800     5439568   \n",
      "1633                 Venezuela  Americas  1957  57.90700     6702668   \n",
      "1634                 Venezuela  Americas  1962  60.77000     8143375   \n",
      "1635                 Venezuela  Americas  1967  63.47900     9709552   \n",
      "1636                 Venezuela  Americas  1972  65.71200    11515649   \n",
      "1637                 Venezuela  Americas  1977  67.45600    13503563   \n",
      "1638                 Venezuela  Americas  1982  68.55700    15620766   \n",
      "1639                 Venezuela  Americas  1987  70.19000    17910182   \n",
      "1640                 Venezuela  Americas  1992  71.15000    20265563   \n",
      "1641                 Venezuela  Americas  1997  72.14600    22374398   \n",
      "1642                 Venezuela  Americas  2002  72.76600    24287670   \n",
      "1643                 Venezuela  Americas  2007  73.74700    26084662   \n",
      "1644                   Vietnam      Asia  1952  40.41200    26246839   \n",
      "1645                   Vietnam      Asia  1957  42.88700    28998543   \n",
      "1646                   Vietnam      Asia  1962  45.36300    33796140   \n",
      "1647                   Vietnam      Asia  1967  47.83800    39463910   \n",
      "1648                   Vietnam      Asia  1972  50.25400    44655014   \n",
      "1649                   Vietnam      Asia  1977  55.76400    50533506   \n",
      "1650                   Vietnam      Asia  1982  58.81600    56142181   \n",
      "1651                   Vietnam      Asia  1987  62.82000    62826491   \n",
      "1652                   Vietnam      Asia  1992  67.66200    69940728   \n",
      "1653                   Vietnam      Asia  1997  70.67200    76048996   \n",
      "1654                   Vietnam      Asia  2002  73.01700    80908147   \n",
      "1655                   Vietnam      Asia  2007  74.24900    85262356   \n",
      "1656        West Bank and Gaza      Asia  1952  43.16000     1030585   \n",
      "1657        West Bank and Gaza      Asia  1957  45.67100     1070439   \n",
      "1658        West Bank and Gaza      Asia  1962  48.12700     1133134   \n",
      "1659        West Bank and Gaza      Asia  1967  51.63100     1142636   \n",
      "1660        West Bank and Gaza      Asia  1972  56.53200     1089572   \n",
      "1661        West Bank and Gaza      Asia  1977  60.76500     1261091   \n",
      "1662        West Bank and Gaza      Asia  1982  64.40600     1425876   \n",
      "1663        West Bank and Gaza      Asia  1987  67.04600     1691210   \n",
      "1664        West Bank and Gaza      Asia  1992  69.71800     2104779   \n",
      "1665        West Bank and Gaza      Asia  1997  71.09600     2826046   \n",
      "1666        West Bank and Gaza      Asia  2002  72.37000     3389578   \n",
      "1667        West Bank and Gaza      Asia  2007  73.42200     4018332   \n",
      "1668               Yemen, Rep.      Asia  1952  32.54800     4963829   \n",
      "1669               Yemen, Rep.      Asia  1957  33.97000     5498090   \n",
      "1670               Yemen, Rep.      Asia  1962  35.18000     6120081   \n",
      "1671               Yemen, Rep.      Asia  1967  36.98400     6740785   \n",
      "1672               Yemen, Rep.      Asia  1972  39.84800     7407075   \n",
      "1673               Yemen, Rep.      Asia  1977  44.17500     8403990   \n",
      "1674               Yemen, Rep.      Asia  1982  49.11300     9657618   \n",
      "1675               Yemen, Rep.      Asia  1987  52.92200    11219340   \n",
      "1676               Yemen, Rep.      Asia  1992  55.59900    13367997   \n",
      "1677               Yemen, Rep.      Asia  1997  58.02000    15826497   \n",
      "1678               Yemen, Rep.      Asia  2002  60.30800    18701257   \n",
      "1679               Yemen, Rep.      Asia  2007  62.69800    22211743   \n",
      "1680                    Zambia    Africa  1952  42.03800     2672000   \n",
      "1681                    Zambia    Africa  1957  44.07700     3016000   \n",
      "1682                    Zambia    Africa  1962  46.02300     3421000   \n",
      "1683                    Zambia    Africa  1967  47.76800     3900000   \n",
      "1684                    Zambia    Africa  1972  50.10700     4506497   \n",
      "1685                    Zambia    Africa  1977  51.38600     5216550   \n",
      "1686                    Zambia    Africa  1982  51.82100     6100407   \n",
      "1687                    Zambia    Africa  1987  50.82100     7272406   \n",
      "1688                    Zambia    Africa  1992  46.10000     8381163   \n",
      "1689                    Zambia    Africa  1997  40.23800     9417789   \n",
      "1690                    Zambia    Africa  2002  39.19300    10595811   \n",
      "1691                    Zambia    Africa  2007  42.38400    11746035   \n",
      "1692                  Zimbabwe    Africa  1952  48.45100     3080907   \n",
      "1693                  Zimbabwe    Africa  1957  50.46900     3646340   \n",
      "1694                  Zimbabwe    Africa  1962  52.35800     4277736   \n",
      "1695                  Zimbabwe    Africa  1967  53.99500     4995432   \n",
      "1696                  Zimbabwe    Africa  1972  55.63500     5861135   \n",
      "1697                  Zimbabwe    Africa  1977  57.67400     6642107   \n",
      "1698                  Zimbabwe    Africa  1982  60.36300     7636524   \n",
      "1699                  Zimbabwe    Africa  1987  62.35100     9216418   \n",
      "1700                  Zimbabwe    Africa  1992  60.37700    10704340   \n",
      "1701                  Zimbabwe    Africa  1997  46.80900    11404948   \n",
      "1702                  Zimbabwe    Africa  2002  39.98900    11926563   \n",
      "1703                  Zimbabwe    Africa  2007  43.48700    12311143   \n",
      "\n",
      "          gdpPercap iso_alpha  iso_num  \n",
      "0        779.445314       AFG        4  \n",
      "1        820.853030       AFG        4  \n",
      "2        853.100710       AFG        4  \n",
      "3        836.197138       AFG        4  \n",
      "4        739.981106       AFG        4  \n",
      "5        786.113360       AFG        4  \n",
      "6        978.011439       AFG        4  \n",
      "7        852.395945       AFG        4  \n",
      "8        649.341395       AFG        4  \n",
      "9        635.341351       AFG        4  \n",
      "10       726.734055       AFG        4  \n",
      "11       974.580338       AFG        4  \n",
      "12      1601.056136       ALB        8  \n",
      "13      1942.284244       ALB        8  \n",
      "14      2312.888958       ALB        8  \n",
      "15      2760.196931       ALB        8  \n",
      "16      3313.422188       ALB        8  \n",
      "17      3533.003910       ALB        8  \n",
      "18      3630.880722       ALB        8  \n",
      "19      3738.932735       ALB        8  \n",
      "20      2497.437901       ALB        8  \n",
      "21      3193.054604       ALB        8  \n",
      "22      4604.211737       ALB        8  \n",
      "23      5937.029526       ALB        8  \n",
      "24      2449.008185       DZA       12  \n",
      "25      3013.976023       DZA       12  \n",
      "26      2550.816880       DZA       12  \n",
      "27      3246.991771       DZA       12  \n",
      "28      4182.663766       DZA       12  \n",
      "29      4910.416756       DZA       12  \n",
      "30      5745.160213       DZA       12  \n",
      "31      5681.358539       DZA       12  \n",
      "32      5023.216647       DZA       12  \n",
      "33      4797.295051       DZA       12  \n",
      "34      5288.040382       DZA       12  \n",
      "35      6223.367465       DZA       12  \n",
      "36      3520.610273       AGO       24  \n",
      "37      3827.940465       AGO       24  \n",
      "38      4269.276742       AGO       24  \n",
      "39      5522.776375       AGO       24  \n",
      "40      5473.288005       AGO       24  \n",
      "41      3008.647355       AGO       24  \n",
      "42      2756.953672       AGO       24  \n",
      "43      2430.208311       AGO       24  \n",
      "44      2627.845685       AGO       24  \n",
      "45      2277.140884       AGO       24  \n",
      "46      2773.287312       AGO       24  \n",
      "47      4797.231267       AGO       24  \n",
      "48      5911.315053       ARG       32  \n",
      "49      6856.856212       ARG       32  \n",
      "50      7133.166023       ARG       32  \n",
      "51      8052.953021       ARG       32  \n",
      "52      9443.038526       ARG       32  \n",
      "53     10079.026740       ARG       32  \n",
      "54      8997.897412       ARG       32  \n",
      "55      9139.671389       ARG       32  \n",
      "56      9308.418710       ARG       32  \n",
      "57     10967.281950       ARG       32  \n",
      "58      8797.640716       ARG       32  \n",
      "59     12779.379640       ARG       32  \n",
      "60     10039.595640       AUS       36  \n",
      "61     10949.649590       AUS       36  \n",
      "62     12217.226860       AUS       36  \n",
      "63     14526.124650       AUS       36  \n",
      "64     16788.629480       AUS       36  \n",
      "65     18334.197510       AUS       36  \n",
      "66     19477.009280       AUS       36  \n",
      "67     21888.889030       AUS       36  \n",
      "68     23424.766830       AUS       36  \n",
      "69     26997.936570       AUS       36  \n",
      "70     30687.754730       AUS       36  \n",
      "71     34435.367440       AUS       36  \n",
      "72      6137.076492       AUT       40  \n",
      "73      8842.598030       AUT       40  \n",
      "74     10750.721110       AUT       40  \n",
      "75     12834.602400       AUT       40  \n",
      "76     16661.625600       AUT       40  \n",
      "77     19749.422300       AUT       40  \n",
      "78     21597.083620       AUT       40  \n",
      "79     23687.826070       AUT       40  \n",
      "80     27042.018680       AUT       40  \n",
      "81     29095.920660       AUT       40  \n",
      "82     32417.607690       AUT       40  \n",
      "83     36126.492700       AUT       40  \n",
      "84      9867.084765       BHR       48  \n",
      "85     11635.799450       BHR       48  \n",
      "86     12753.275140       BHR       48  \n",
      "87     14804.672700       BHR       48  \n",
      "88     18268.658390       BHR       48  \n",
      "89     19340.101960       BHR       48  \n",
      "90     19211.147310       BHR       48  \n",
      "91     18524.024060       BHR       48  \n",
      "92     19035.579170       BHR       48  \n",
      "93     20292.016790       BHR       48  \n",
      "94     23403.559270       BHR       48  \n",
      "95     29796.048340       BHR       48  \n",
      "96       684.244172       BGD       50  \n",
      "97       661.637458       BGD       50  \n",
      "98       686.341554       BGD       50  \n",
      "99       721.186086       BGD       50  \n",
      "100      630.233627       BGD       50  \n",
      "101      659.877232       BGD       50  \n",
      "102      676.981866       BGD       50  \n",
      "103      751.979403       BGD       50  \n",
      "104      837.810164       BGD       50  \n",
      "105      972.770035       BGD       50  \n",
      "106     1136.390430       BGD       50  \n",
      "107     1391.253792       BGD       50  \n",
      "108     8343.105127       BEL       56  \n",
      "109     9714.960623       BEL       56  \n",
      "110    10991.206760       BEL       56  \n",
      "111    13149.041190       BEL       56  \n",
      "112    16672.143560       BEL       56  \n",
      "113    19117.974480       BEL       56  \n",
      "114    20979.845890       BEL       56  \n",
      "115    22525.563080       BEL       56  \n",
      "116    25575.570690       BEL       56  \n",
      "117    27561.196630       BEL       56  \n",
      "118    30485.883750       BEL       56  \n",
      "119    33692.605080       BEL       56  \n",
      "120     1062.752200       BEN      204  \n",
      "121      959.601080       BEN      204  \n",
      "122      949.499064       BEN      204  \n",
      "123     1035.831411       BEN      204  \n",
      "124     1085.796879       BEN      204  \n",
      "125     1029.161251       BEN      204  \n",
      "126     1277.897616       BEN      204  \n",
      "127     1225.856010       BEN      204  \n",
      "128     1191.207681       BEN      204  \n",
      "129     1232.975292       BEN      204  \n",
      "130     1372.877931       BEN      204  \n",
      "131     1441.284873       BEN      204  \n",
      "132     2677.326347       BOL       68  \n",
      "133     2127.686326       BOL       68  \n",
      "134     2180.972546       BOL       68  \n",
      "135     2586.886053       BOL       68  \n",
      "136     2980.331339       BOL       68  \n",
      "137     3548.097832       BOL       68  \n",
      "138     3156.510452       BOL       68  \n",
      "139     2753.691490       BOL       68  \n",
      "140     2961.699694       BOL       68  \n",
      "141     3326.143191       BOL       68  \n",
      "142     3413.262690       BOL       68  \n",
      "143     3822.137084       BOL       68  \n",
      "144      973.533195       BIH       70  \n",
      "145     1353.989176       BIH       70  \n",
      "146     1709.683679       BIH       70  \n",
      "147     2172.352423       BIH       70  \n",
      "148     2860.169750       BIH       70  \n",
      "149     3528.481305       BIH       70  \n",
      "150     4126.613157       BIH       70  \n",
      "151     4314.114757       BIH       70  \n",
      "152     2546.781445       BIH       70  \n",
      "153     4766.355904       BIH       70  \n",
      "154     6018.975239       BIH       70  \n",
      "155     7446.298803       BIH       70  \n",
      "156      851.241141       BWA       72  \n",
      "157      918.232535       BWA       72  \n",
      "158      983.653976       BWA       72  \n",
      "159     1214.709294       BWA       72  \n",
      "160     2263.611114       BWA       72  \n",
      "161     3214.857818       BWA       72  \n",
      "162     4551.142150       BWA       72  \n",
      "163     6205.883850       BWA       72  \n",
      "164     7954.111645       BWA       72  \n",
      "165     8647.142313       BWA       72  \n",
      "166    11003.605080       BWA       72  \n",
      "167    12569.851770       BWA       72  \n",
      "168     2108.944355       BRA       76  \n",
      "169     2487.365989       BRA       76  \n",
      "170     3336.585802       BRA       76  \n",
      "171     3429.864357       BRA       76  \n",
      "172     4985.711467       BRA       76  \n",
      "173     6660.118654       BRA       76  \n",
      "174     7030.835878       BRA       76  \n",
      "175     7807.095818       BRA       76  \n",
      "176     6950.283021       BRA       76  \n",
      "177     7957.980824       BRA       76  \n",
      "178     8131.212843       BRA       76  \n",
      "179     9065.800825       BRA       76  \n",
      "180     2444.286648       BGR      100  \n",
      "181     3008.670727       BGR      100  \n",
      "182     4254.337839       BGR      100  \n",
      "183     5577.002800       BGR      100  \n",
      "184     6597.494398       BGR      100  \n",
      "185     7612.240438       BGR      100  \n",
      "186     8224.191647       BGR      100  \n",
      "187     8239.854824       BGR      100  \n",
      "188     6302.623438       BGR      100  \n",
      "189     5970.388760       BGR      100  \n",
      "190     7696.777725       BGR      100  \n",
      "191    10680.792820       BGR      100  \n",
      "192      543.255241       BFA      854  \n",
      "193      617.183465       BFA      854  \n",
      "194      722.512021       BFA      854  \n",
      "195      794.826560       BFA      854  \n",
      "196      854.735976       BFA      854  \n",
      "197      743.387037       BFA      854  \n",
      "198      807.198586       BFA      854  \n",
      "199      912.063142       BFA      854  \n",
      "200      931.752773       BFA      854  \n",
      "201      946.294962       BFA      854  \n",
      "202     1037.645221       BFA      854  \n",
      "203     1217.032994       BFA      854  \n",
      "204      339.296459       BDI      108  \n",
      "205      379.564628       BDI      108  \n",
      "206      355.203227       BDI      108  \n",
      "207      412.977514       BDI      108  \n",
      "208      464.099504       BDI      108  \n",
      "209      556.103265       BDI      108  \n",
      "210      559.603231       BDI      108  \n",
      "211      621.818819       BDI      108  \n",
      "212      631.699878       BDI      108  \n",
      "213      463.115148       BDI      108  \n",
      "214      446.403513       BDI      108  \n",
      "215      430.070692       BDI      108  \n",
      "216      368.469286       KHM      116  \n",
      "217      434.038336       KHM      116  \n",
      "218      496.913648       KHM      116  \n",
      "219      523.432314       KHM      116  \n",
      "220      421.624026       KHM      116  \n",
      "221      524.972183       KHM      116  \n",
      "222      624.475478       KHM      116  \n",
      "223      683.895573       KHM      116  \n",
      "224      682.303175       KHM      116  \n",
      "225      734.285170       KHM      116  \n",
      "226      896.226015       KHM      116  \n",
      "227     1713.778686       KHM      116  \n",
      "228     1172.667655       CMR      120  \n",
      "229     1313.048099       CMR      120  \n",
      "230     1399.607441       CMR      120  \n",
      "231     1508.453148       CMR      120  \n",
      "232     1684.146528       CMR      120  \n",
      "233     1783.432873       CMR      120  \n",
      "234     2367.983282       CMR      120  \n",
      "235     2602.664206       CMR      120  \n",
      "236     1793.163278       CMR      120  \n",
      "237     1694.337469       CMR      120  \n",
      "238     1934.011449       CMR      120  \n",
      "239     2042.095240       CMR      120  \n",
      "240    11367.161120       CAN      124  \n",
      "241    12489.950060       CAN      124  \n",
      "242    13462.485550       CAN      124  \n",
      "243    16076.588030       CAN      124  \n",
      "244    18970.570860       CAN      124  \n",
      "245    22090.883060       CAN      124  \n",
      "246    22898.792140       CAN      124  \n",
      "247    26626.515030       CAN      124  \n",
      "248    26342.884260       CAN      124  \n",
      "249    28954.925890       CAN      124  \n",
      "250    33328.965070       CAN      124  \n",
      "251    36319.235010       CAN      124  \n",
      "252     1071.310713       CAF      140  \n",
      "253     1190.844328       CAF      140  \n",
      "254     1193.068753       CAF      140  \n",
      "255     1136.056615       CAF      140  \n",
      "256     1070.013275       CAF      140  \n",
      "257     1109.374338       CAF      140  \n",
      "258      956.752991       CAF      140  \n",
      "259      844.876350       CAF      140  \n",
      "260      747.905525       CAF      140  \n",
      "261      740.506332       CAF      140  \n",
      "262      738.690607       CAF      140  \n",
      "263      706.016537       CAF      140  \n",
      "264     1178.665927       TCD      148  \n",
      "265     1308.495577       TCD      148  \n",
      "266     1389.817618       TCD      148  \n",
      "267     1196.810565       TCD      148  \n",
      "268     1104.103987       TCD      148  \n",
      "269     1133.984950       TCD      148  \n",
      "270      797.908101       TCD      148  \n",
      "271      952.386129       TCD      148  \n",
      "272     1058.064300       TCD      148  \n",
      "273     1004.961353       TCD      148  \n",
      "274     1156.181860       TCD      148  \n",
      "275     1704.063724       TCD      148  \n",
      "276     3939.978789       CHL      152  \n",
      "277     4315.622723       CHL      152  \n",
      "278     4519.094331       CHL      152  \n",
      "279     5106.654313       CHL      152  \n",
      "280     5494.024437       CHL      152  \n",
      "281     4756.763836       CHL      152  \n",
      "282     5095.665738       CHL      152  \n",
      "283     5547.063754       CHL      152  \n",
      "284     7596.125964       CHL      152  \n",
      "285    10118.053180       CHL      152  \n",
      "286    10778.783850       CHL      152  \n",
      "287    13171.638850       CHL      152  \n",
      "288      400.448611       CHN      156  \n",
      "289      575.987001       CHN      156  \n",
      "290      487.674018       CHN      156  \n",
      "291      612.705693       CHN      156  \n",
      "292      676.900092       CHN      156  \n",
      "293      741.237470       CHN      156  \n",
      "294      962.421381       CHN      156  \n",
      "295     1378.904018       CHN      156  \n",
      "296     1655.784158       CHN      156  \n",
      "297     2289.234136       CHN      156  \n",
      "298     3119.280896       CHN      156  \n",
      "299     4959.114854       CHN      156  \n",
      "300     2144.115096       COL      170  \n",
      "301     2323.805581       COL      170  \n",
      "302     2492.351109       COL      170  \n",
      "303     2678.729839       COL      170  \n",
      "304     3264.660041       COL      170  \n",
      "305     3815.807870       COL      170  \n",
      "306     4397.575659       COL      170  \n",
      "307     4903.219100       COL      170  \n",
      "308     5444.648617       COL      170  \n",
      "309     6117.361746       COL      170  \n",
      "310     5755.259962       COL      170  \n",
      "311     7006.580419       COL      170  \n",
      "312     1102.990936       COM      174  \n",
      "313     1211.148548       COM      174  \n",
      "314     1406.648278       COM      174  \n",
      "315     1876.029643       COM      174  \n",
      "316     1937.577675       COM      174  \n",
      "317     1172.603047       COM      174  \n",
      "318     1267.100083       COM      174  \n",
      "319     1315.980812       COM      174  \n",
      "320     1246.907370       COM      174  \n",
      "321     1173.618235       COM      174  \n",
      "322     1075.811558       COM      174  \n",
      "323      986.147879       COM      174  \n",
      "324      780.542326       COD      180  \n",
      "325      905.860230       COD      180  \n",
      "326      896.314634       COD      180  \n",
      "327      861.593242       COD      180  \n",
      "328      904.896068       COD      180  \n",
      "329      795.757282       COD      180  \n",
      "330      673.747818       COD      180  \n",
      "331      672.774812       COD      180  \n",
      "332      457.719181       COD      180  \n",
      "333      312.188423       COD      180  \n",
      "334      241.165876       COD      180  \n",
      "335      277.551859       COD      180  \n",
      "336     2125.621418       COG      178  \n",
      "337     2315.056572       COG      178  \n",
      "338     2464.783157       COG      178  \n",
      "339     2677.939642       COG      178  \n",
      "340     3213.152683       COG      178  \n",
      "341     3259.178978       COG      178  \n",
      "342     4879.507522       COG      178  \n",
      "343     4201.194937       COG      178  \n",
      "344     4016.239529       COG      178  \n",
      "345     3484.164376       COG      178  \n",
      "346     3484.061970       COG      178  \n",
      "347     3632.557798       COG      178  \n",
      "348     2627.009471       CRI      188  \n",
      "349     2990.010802       CRI      188  \n",
      "350     3460.937025       CRI      188  \n",
      "351     4161.727834       CRI      188  \n",
      "352     5118.146939       CRI      188  \n",
      "353     5926.876967       CRI      188  \n",
      "354     5262.734751       CRI      188  \n",
      "355     5629.915318       CRI      188  \n",
      "356     6160.416317       CRI      188  \n",
      "357     6677.045314       CRI      188  \n",
      "358     7723.447195       CRI      188  \n",
      "359     9645.061420       CRI      188  \n",
      "360     1388.594732       CIV      384  \n",
      "361     1500.895925       CIV      384  \n",
      "362     1728.869428       CIV      384  \n",
      "363     2052.050473       CIV      384  \n",
      "364     2378.201111       CIV      384  \n",
      "365     2517.736547       CIV      384  \n",
      "366     2602.710169       CIV      384  \n",
      "367     2156.956069       CIV      384  \n",
      "368     1648.073791       CIV      384  \n",
      "369     1786.265407       CIV      384  \n",
      "370     1648.800823       CIV      384  \n",
      "371     1544.750112       CIV      384  \n",
      "372     3119.236520       HRV      191  \n",
      "373     4338.231617       HRV      191  \n",
      "374     5477.890018       HRV      191  \n",
      "375     6960.297861       HRV      191  \n",
      "376     9164.090127       HRV      191  \n",
      "377    11305.385170       HRV      191  \n",
      "378    13221.821840       HRV      191  \n",
      "379    13822.583940       HRV      191  \n",
      "380     8447.794873       HRV      191  \n",
      "381     9875.604515       HRV      191  \n",
      "382    11628.388950       HRV      191  \n",
      "383    14619.222720       HRV      191  \n",
      "384     5586.538780       CUB      192  \n",
      "385     6092.174359       CUB      192  \n",
      "386     5180.755910       CUB      192  \n",
      "387     5690.268015       CUB      192  \n",
      "388     5305.445256       CUB      192  \n",
      "389     6380.494966       CUB      192  \n",
      "390     7316.918107       CUB      192  \n",
      "391     7532.924763       CUB      192  \n",
      "392     5592.843963       CUB      192  \n",
      "393     5431.990415       CUB      192  \n",
      "394     6340.646683       CUB      192  \n",
      "395     8948.102923       CUB      192  \n",
      "396     6876.140250       CZE      203  \n",
      "397     8256.343918       CZE      203  \n",
      "398    10136.867130       CZE      203  \n",
      "399    11399.444890       CZE      203  \n",
      "400    13108.453600       CZE      203  \n",
      "401    14800.160620       CZE      203  \n",
      "402    15377.228550       CZE      203  \n",
      "403    16310.443400       CZE      203  \n",
      "404    14297.021220       CZE      203  \n",
      "405    16048.514240       CZE      203  \n",
      "406    17596.210220       CZE      203  \n",
      "407    22833.308510       CZE      203  \n",
      "408     9692.385245       DNK      208  \n",
      "409    11099.659350       DNK      208  \n",
      "410    13583.313510       DNK      208  \n",
      "411    15937.211230       DNK      208  \n",
      "412    18866.207210       DNK      208  \n",
      "413    20422.901500       DNK      208  \n",
      "414    21688.040480       DNK      208  \n",
      "415    25116.175810       DNK      208  \n",
      "416    26406.739850       DNK      208  \n",
      "417    29804.345670       DNK      208  \n",
      "418    32166.500060       DNK      208  \n",
      "419    35278.418740       DNK      208  \n",
      "420     2669.529475       DJI      262  \n",
      "421     2864.969076       DJI      262  \n",
      "422     3020.989263       DJI      262  \n",
      "423     3020.050513       DJI      262  \n",
      "424     3694.212352       DJI      262  \n",
      "425     3081.761022       DJI      262  \n",
      "426     2879.468067       DJI      262  \n",
      "427     2880.102568       DJI      262  \n",
      "428     2377.156192       DJI      262  \n",
      "429     1895.016984       DJI      262  \n",
      "430     1908.260867       DJI      262  \n",
      "431     2082.481567       DJI      262  \n",
      "432     1397.717137       DOM      214  \n",
      "433     1544.402995       DOM      214  \n",
      "434     1662.137359       DOM      214  \n",
      "435     1653.723003       DOM      214  \n",
      "436     2189.874499       DOM      214  \n",
      "437     2681.988900       DOM      214  \n",
      "438     2861.092386       DOM      214  \n",
      "439     2899.842175       DOM      214  \n",
      "440     3044.214214       DOM      214  \n",
      "441     3614.101285       DOM      214  \n",
      "442     4563.808154       DOM      214  \n",
      "443     6025.374752       DOM      214  \n",
      "444     3522.110717       ECU      218  \n",
      "445     3780.546651       ECU      218  \n",
      "446     4086.114078       ECU      218  \n",
      "447     4579.074215       ECU      218  \n",
      "448     5280.994710       ECU      218  \n",
      "449     6679.623260       ECU      218  \n",
      "450     7213.791267       ECU      218  \n",
      "451     6481.776993       ECU      218  \n",
      "452     7103.702595       ECU      218  \n",
      "453     7429.455877       ECU      218  \n",
      "454     5773.044512       ECU      218  \n",
      "455     6873.262326       ECU      218  \n",
      "456     1418.822445       EGY      818  \n",
      "457     1458.915272       EGY      818  \n",
      "458     1693.335853       EGY      818  \n",
      "459     1814.880728       EGY      818  \n",
      "460     2024.008147       EGY      818  \n",
      "461     2785.493582       EGY      818  \n",
      "462     3503.729636       EGY      818  \n",
      "463     3885.460710       EGY      818  \n",
      "464     3794.755195       EGY      818  \n",
      "465     4173.181797       EGY      818  \n",
      "466     4754.604414       EGY      818  \n",
      "467     5581.180998       EGY      818  \n",
      "468     3048.302900       SLV      222  \n",
      "469     3421.523218       SLV      222  \n",
      "470     3776.803627       SLV      222  \n",
      "471     4358.595393       SLV      222  \n",
      "472     4520.246008       SLV      222  \n",
      "473     5138.922374       SLV      222  \n",
      "474     4098.344175       SLV      222  \n",
      "475     4140.442097       SLV      222  \n",
      "476     4444.231700       SLV      222  \n",
      "477     5154.825496       SLV      222  \n",
      "478     5351.568666       SLV      222  \n",
      "479     5728.353514       SLV      222  \n",
      "480      375.643123       GNQ      226  \n",
      "481      426.096408       GNQ      226  \n",
      "482      582.841971       GNQ      226  \n",
      "483      915.596003       GNQ      226  \n",
      "484      672.412257       GNQ      226  \n",
      "485      958.566812       GNQ      226  \n",
      "486      927.825343       GNQ      226  \n",
      "487      966.896815       GNQ      226  \n",
      "488     1132.055034       GNQ      226  \n",
      "489     2814.480755       GNQ      226  \n",
      "490     7703.495900       GNQ      226  \n",
      "491    12154.089750       GNQ      226  \n",
      "492      328.940557       ERI      232  \n",
      "493      344.161886       ERI      232  \n",
      "494      380.995843       ERI      232  \n",
      "495      468.794970       ERI      232  \n",
      "496      514.324208       ERI      232  \n",
      "497      505.753808       ERI      232  \n",
      "498      524.875849       ERI      232  \n",
      "499      521.134133       ERI      232  \n",
      "500      582.858510       ERI      232  \n",
      "501      913.470790       ERI      232  \n",
      "502      765.350001       ERI      232  \n",
      "503      641.369524       ERI      232  \n",
      "504      362.146280       ETH      231  \n",
      "505      378.904163       ETH      231  \n",
      "506      419.456416       ETH      231  \n",
      "507      516.118644       ETH      231  \n",
      "508      566.243944       ETH      231  \n",
      "509      556.808383       ETH      231  \n",
      "510      577.860747       ETH      231  \n",
      "511      573.741314       ETH      231  \n",
      "512      421.353465       ETH      231  \n",
      "513      515.889401       ETH      231  \n",
      "514      530.053532       ETH      231  \n",
      "515      690.805576       ETH      231  \n",
      "516     6424.519071       FIN      246  \n",
      "517     7545.415386       FIN      246  \n",
      "518     9371.842561       FIN      246  \n",
      "519    10921.636260       FIN      246  \n",
      "520    14358.875900       FIN      246  \n",
      "521    15605.422830       FIN      246  \n",
      "522    18533.157610       FIN      246  \n",
      "523    21141.012230       FIN      246  \n",
      "524    20647.164990       FIN      246  \n",
      "525    23723.950200       FIN      246  \n",
      "526    28204.590570       FIN      246  \n",
      "527    33207.084400       FIN      246  \n",
      "528     7029.809327       FRA      250  \n",
      "529     8662.834898       FRA      250  \n",
      "530    10560.485530       FRA      250  \n",
      "531    12999.917660       FRA      250  \n",
      "532    16107.191710       FRA      250  \n",
      "533    18292.635140       FRA      250  \n",
      "534    20293.897460       FRA      250  \n",
      "535    22066.442140       FRA      250  \n",
      "536    24703.796150       FRA      250  \n",
      "537    25889.784870       FRA      250  \n",
      "538    28926.032340       FRA      250  \n",
      "539    30470.016700       FRA      250  \n",
      "540     4293.476475       GAB      266  \n",
      "541     4976.198099       GAB      266  \n",
      "542     6631.459222       GAB      266  \n",
      "543     8358.761987       GAB      266  \n",
      "544    11401.948410       GAB      266  \n",
      "545    21745.573280       GAB      266  \n",
      "546    15113.361940       GAB      266  \n",
      "547    11864.408440       GAB      266  \n",
      "548    13522.157520       GAB      266  \n",
      "549    14722.841880       GAB      266  \n",
      "550    12521.713920       GAB      266  \n",
      "551    13206.484520       GAB      266  \n",
      "552      485.230659       GMB      270  \n",
      "553      520.926711       GMB      270  \n",
      "554      599.650276       GMB      270  \n",
      "555      734.782912       GMB      270  \n",
      "556      756.086836       GMB      270  \n",
      "557      884.755251       GMB      270  \n",
      "558      835.809611       GMB      270  \n",
      "559      611.658861       GMB      270  \n",
      "560      665.624413       GMB      270  \n",
      "561      653.730170       GMB      270  \n",
      "562      660.585600       GMB      270  \n",
      "563      752.749726       GMB      270  \n",
      "564     7144.114393       DEU      276  \n",
      "565    10187.826650       DEU      276  \n",
      "566    12902.462910       DEU      276  \n",
      "567    14745.625610       DEU      276  \n",
      "568    18016.180270       DEU      276  \n",
      "569    20512.921230       DEU      276  \n",
      "570    22031.532740       DEU      276  \n",
      "571    24639.185660       DEU      276  \n",
      "572    26505.303170       DEU      276  \n",
      "573    27788.884160       DEU      276  \n",
      "574    30035.801980       DEU      276  \n",
      "575    32170.374420       DEU      276  \n",
      "576      911.298937       GHA      288  \n",
      "577     1043.561537       GHA      288  \n",
      "578     1190.041118       GHA      288  \n",
      "579     1125.697160       GHA      288  \n",
      "580     1178.223708       GHA      288  \n",
      "581      993.223957       GHA      288  \n",
      "582      876.032569       GHA      288  \n",
      "583      847.006113       GHA      288  \n",
      "584      925.060154       GHA      288  \n",
      "585     1005.245812       GHA      288  \n",
      "586     1111.984578       GHA      288  \n",
      "587     1327.608910       GHA      288  \n",
      "588     3530.690067       GRC      300  \n",
      "589     4916.299889       GRC      300  \n",
      "590     6017.190733       GRC      300  \n",
      "591     8513.097016       GRC      300  \n",
      "592    12724.829570       GRC      300  \n",
      "593    14195.524280       GRC      300  \n",
      "594    15268.420890       GRC      300  \n",
      "595    16120.528390       GRC      300  \n",
      "596    17541.496340       GRC      300  \n",
      "597    18747.698140       GRC      300  \n",
      "598    22514.254800       GRC      300  \n",
      "599    27538.411880       GRC      300  \n",
      "600     2428.237769       GTM      320  \n",
      "601     2617.155967       GTM      320  \n",
      "602     2750.364446       GTM      320  \n",
      "603     3242.531147       GTM      320  \n",
      "604     4031.408271       GTM      320  \n",
      "605     4879.992748       GTM      320  \n",
      "606     4820.494790       GTM      320  \n",
      "607     4246.485974       GTM      320  \n",
      "608     4439.450840       GTM      320  \n",
      "609     4684.313807       GTM      320  \n",
      "610     4858.347495       GTM      320  \n",
      "611     5186.050003       GTM      320  \n",
      "612      510.196492       GIN      324  \n",
      "613      576.267025       GIN      324  \n",
      "614      686.373674       GIN      324  \n",
      "615      708.759541       GIN      324  \n",
      "616      741.666231       GIN      324  \n",
      "617      874.685864       GIN      324  \n",
      "618      857.250358       GIN      324  \n",
      "619      805.572472       GIN      324  \n",
      "620      794.348438       GIN      324  \n",
      "621      869.449767       GIN      324  \n",
      "622      945.583584       GIN      324  \n",
      "623      942.654211       GIN      324  \n",
      "624      299.850319       GNB      624  \n",
      "625      431.790457       GNB      624  \n",
      "626      522.034373       GNB      624  \n",
      "627      715.580640       GNB      624  \n",
      "628      820.224588       GNB      624  \n",
      "629      764.725963       GNB      624  \n",
      "630      838.123967       GNB      624  \n",
      "631      736.415392       GNB      624  \n",
      "632      745.539871       GNB      624  \n",
      "633      796.664468       GNB      624  \n",
      "634      575.704718       GNB      624  \n",
      "635      579.231743       GNB      624  \n",
      "636     1840.366939       HTI      332  \n",
      "637     1726.887882       HTI      332  \n",
      "638     1796.589032       HTI      332  \n",
      "639     1452.057666       HTI      332  \n",
      "640     1654.456946       HTI      332  \n",
      "641     1874.298931       HTI      332  \n",
      "642     2011.159549       HTI      332  \n",
      "643     1823.015995       HTI      332  \n",
      "644     1456.309517       HTI      332  \n",
      "645     1341.726931       HTI      332  \n",
      "646     1270.364932       HTI      332  \n",
      "647     1201.637154       HTI      332  \n",
      "648     2194.926204       HND      340  \n",
      "649     2220.487682       HND      340  \n",
      "650     2291.156835       HND      340  \n",
      "651     2538.269358       HND      340  \n",
      "652     2529.842345       HND      340  \n",
      "653     3203.208066       HND      340  \n",
      "654     3121.760794       HND      340  \n",
      "655     3023.096699       HND      340  \n",
      "656     3081.694603       HND      340  \n",
      "657     3160.454906       HND      340  \n",
      "658     3099.728660       HND      340  \n",
      "659     3548.330846       HND      340  \n",
      "660     3054.421209       HKG      344  \n",
      "661     3629.076457       HKG      344  \n",
      "662     4692.648272       HKG      344  \n",
      "663     6197.962814       HKG      344  \n",
      "664     8315.928145       HKG      344  \n",
      "665    11186.141250       HKG      344  \n",
      "666    14560.530510       HKG      344  \n",
      "667    20038.472690       HKG      344  \n",
      "668    24757.603010       HKG      344  \n",
      "669    28377.632190       HKG      344  \n",
      "670    30209.015160       HKG      344  \n",
      "671    39724.978670       HKG      344  \n",
      "672     5263.673816       HUN      348  \n",
      "673     6040.180011       HUN      348  \n",
      "674     7550.359877       HUN      348  \n",
      "675     9326.644670       HUN      348  \n",
      "676    10168.656110       HUN      348  \n",
      "677    11674.837370       HUN      348  \n",
      "678    12545.990660       HUN      348  \n",
      "679    12986.479980       HUN      348  \n",
      "680    10535.628550       HUN      348  \n",
      "681    11712.776800       HUN      348  \n",
      "682    14843.935560       HUN      348  \n",
      "683    18008.944440       HUN      348  \n",
      "684     7267.688428       ISL      352  \n",
      "685     9244.001412       ISL      352  \n",
      "686    10350.159060       ISL      352  \n",
      "687    13319.895680       ISL      352  \n",
      "688    15798.063620       ISL      352  \n",
      "689    19654.962470       ISL      352  \n",
      "690    23269.607500       ISL      352  \n",
      "691    26923.206280       ISL      352  \n",
      "692    25144.392010       ISL      352  \n",
      "693    28061.099660       ISL      352  \n",
      "694    31163.201960       ISL      352  \n",
      "695    36180.789190       ISL      352  \n",
      "696      546.565749       IND      356  \n",
      "697      590.061996       IND      356  \n",
      "698      658.347151       IND      356  \n",
      "699      700.770611       IND      356  \n",
      "700      724.032527       IND      356  \n",
      "701      813.337323       IND      356  \n",
      "702      855.723538       IND      356  \n",
      "703      976.512676       IND      356  \n",
      "704     1164.406809       IND      356  \n",
      "705     1458.817442       IND      356  \n",
      "706     1746.769454       IND      356  \n",
      "707     2452.210407       IND      356  \n",
      "708      749.681655       IDN      360  \n",
      "709      858.900271       IDN      360  \n",
      "710      849.289770       IDN      360  \n",
      "711      762.431772       IDN      360  \n",
      "712     1111.107907       IDN      360  \n",
      "713     1382.702056       IDN      360  \n",
      "714     1516.872988       IDN      360  \n",
      "715     1748.356961       IDN      360  \n",
      "716     2383.140898       IDN      360  \n",
      "717     3119.335603       IDN      360  \n",
      "718     2873.912870       IDN      360  \n",
      "719     3540.651564       IDN      360  \n",
      "720     3035.326002       IRN      364  \n",
      "721     3290.257643       IRN      364  \n",
      "722     4187.329802       IRN      364  \n",
      "723     5906.731805       IRN      364  \n",
      "724     9613.818607       IRN      364  \n",
      "725    11888.595080       IRN      364  \n",
      "726     7608.334602       IRN      364  \n",
      "727     6642.881371       IRN      364  \n",
      "728     7235.653188       IRN      364  \n",
      "729     8263.590301       IRN      364  \n",
      "730     9240.761975       IRN      364  \n",
      "731    11605.714490       IRN      364  \n",
      "732     4129.766056       IRQ      368  \n",
      "733     6229.333562       IRQ      368  \n",
      "734     8341.737815       IRQ      368  \n",
      "735     8931.459811       IRQ      368  \n",
      "736     9576.037596       IRQ      368  \n",
      "737    14688.235070       IRQ      368  \n",
      "738    14517.907110       IRQ      368  \n",
      "739    11643.572680       IRQ      368  \n",
      "740     3745.640687       IRQ      368  \n",
      "741     3076.239795       IRQ      368  \n",
      "742     4390.717312       IRQ      368  \n",
      "743     4471.061906       IRQ      368  \n",
      "744     5210.280328       IRL      372  \n",
      "745     5599.077872       IRL      372  \n",
      "746     6631.597314       IRL      372  \n",
      "747     7655.568963       IRL      372  \n",
      "748     9530.772896       IRL      372  \n",
      "749    11150.981130       IRL      372  \n",
      "750    12618.321410       IRL      372  \n",
      "751    13872.866520       IRL      372  \n",
      "752    17558.815550       IRL      372  \n",
      "753    24521.947130       IRL      372  \n",
      "754    34077.049390       IRL      372  \n",
      "755    40675.996350       IRL      372  \n",
      "756     4086.522128       ISR      376  \n",
      "757     5385.278451       ISR      376  \n",
      "758     7105.630706       ISR      376  \n",
      "759     8393.741404       ISR      376  \n",
      "760    12786.932230       ISR      376  \n",
      "761    13306.619210       ISR      376  \n",
      "762    15367.029200       ISR      376  \n",
      "763    17122.479860       ISR      376  \n",
      "764    18051.522540       ISR      376  \n",
      "765    20896.609240       ISR      376  \n",
      "766    21905.595140       ISR      376  \n",
      "767    25523.277100       ISR      376  \n",
      "768     4931.404155       ITA      380  \n",
      "769     6248.656232       ITA      380  \n",
      "770     8243.582340       ITA      380  \n",
      "771    10022.401310       ITA      380  \n",
      "772    12269.273780       ITA      380  \n",
      "773    14255.984750       ITA      380  \n",
      "774    16537.483500       ITA      380  \n",
      "775    19207.234820       ITA      380  \n",
      "776    22013.644860       ITA      380  \n",
      "777    24675.024460       ITA      380  \n",
      "778    27968.098170       ITA      380  \n",
      "779    28569.719700       ITA      380  \n",
      "780     2898.530881       JAM      388  \n",
      "781     4756.525781       JAM      388  \n",
      "782     5246.107524       JAM      388  \n",
      "783     6124.703451       JAM      388  \n",
      "784     7433.889293       JAM      388  \n",
      "785     6650.195573       JAM      388  \n",
      "786     6068.051350       JAM      388  \n",
      "787     6351.237495       JAM      388  \n",
      "788     7404.923685       JAM      388  \n",
      "789     7121.924704       JAM      388  \n",
      "790     6994.774861       JAM      388  \n",
      "791     7320.880262       JAM      388  \n",
      "792     3216.956347       JPN      392  \n",
      "793     4317.694365       JPN      392  \n",
      "794     6576.649461       JPN      392  \n",
      "795     9847.788607       JPN      392  \n",
      "796    14778.786360       JPN      392  \n",
      "797    16610.377010       JPN      392  \n",
      "798    19384.105710       JPN      392  \n",
      "799    22375.941890       JPN      392  \n",
      "800    26824.895110       JPN      392  \n",
      "801    28816.584990       JPN      392  \n",
      "802    28604.591900       JPN      392  \n",
      "803    31656.068060       JPN      392  \n",
      "804     1546.907807       JOR      400  \n",
      "805     1886.080591       JOR      400  \n",
      "806     2348.009158       JOR      400  \n",
      "807     2741.796252       JOR      400  \n",
      "808     2110.856309       JOR      400  \n",
      "809     2852.351568       JOR      400  \n",
      "810     4161.415959       JOR      400  \n",
      "811     4448.679912       JOR      400  \n",
      "812     3431.593647       JOR      400  \n",
      "813     3645.379572       JOR      400  \n",
      "814     3844.917194       JOR      400  \n",
      "815     4519.461171       JOR      400  \n",
      "816      853.540919       KEN      404  \n",
      "817      944.438315       KEN      404  \n",
      "818      896.966373       KEN      404  \n",
      "819     1056.736457       KEN      404  \n",
      "820     1222.359968       KEN      404  \n",
      "821     1267.613204       KEN      404  \n",
      "822     1348.225791       KEN      404  \n",
      "823     1361.936856       KEN      404  \n",
      "824     1341.921721       KEN      404  \n",
      "825     1360.485021       KEN      404  \n",
      "826     1287.514732       KEN      404  \n",
      "827     1463.249282       KEN      404  \n",
      "828     1088.277758       KOR      410  \n",
      "829     1571.134655       KOR      410  \n",
      "830     1621.693598       KOR      410  \n",
      "831     2143.540609       KOR      410  \n",
      "832     3701.621503       KOR      410  \n",
      "833     4106.301249       KOR      410  \n",
      "834     4106.525293       KOR      410  \n",
      "835     4106.492315       KOR      410  \n",
      "836     3726.063507       KOR      410  \n",
      "837     1690.756814       KOR      410  \n",
      "838     1646.758151       KOR      410  \n",
      "839     1593.065480       KOR      410  \n",
      "840     1030.592226       KOR      410  \n",
      "841     1487.593537       KOR      410  \n",
      "842     1536.344387       KOR      410  \n",
      "843     2029.228142       KOR      410  \n",
      "844     3030.876650       KOR      410  \n",
      "845     4657.221020       KOR      410  \n",
      "846     5622.942464       KOR      410  \n",
      "847     8533.088805       KOR      410  \n",
      "848    12104.278720       KOR      410  \n",
      "849    15993.527960       KOR      410  \n",
      "850    19233.988180       KOR      410  \n",
      "851    23348.139730       KOR      410  \n",
      "852   108382.352900       KWT      414  \n",
      "853   113523.132900       KWT      414  \n",
      "854    95458.111760       KWT      414  \n",
      "855    80894.883260       KWT      414  \n",
      "856   109347.867000       KWT      414  \n",
      "857    59265.477140       KWT      414  \n",
      "858    31354.035730       KWT      414  \n",
      "859    28118.429980       KWT      414  \n",
      "860    34932.919590       KWT      414  \n",
      "861    40300.619960       KWT      414  \n",
      "862    35110.105660       KWT      414  \n",
      "863    47306.989780       KWT      414  \n",
      "864     4834.804067       LBN      422  \n",
      "865     6089.786934       LBN      422  \n",
      "866     5714.560611       LBN      422  \n",
      "867     6006.983042       LBN      422  \n",
      "868     7486.384341       LBN      422  \n",
      "869     8659.696836       LBN      422  \n",
      "870     7640.519521       LBN      422  \n",
      "871     5377.091329       LBN      422  \n",
      "872     6890.806854       LBN      422  \n",
      "873     8754.963850       LBN      422  \n",
      "874     9313.938830       LBN      422  \n",
      "875    10461.058680       LBN      422  \n",
      "876      298.846212       LSO      426  \n",
      "877      335.997115       LSO      426  \n",
      "878      411.800627       LSO      426  \n",
      "879      498.639026       LSO      426  \n",
      "880      496.581592       LSO      426  \n",
      "881      745.369541       LSO      426  \n",
      "882      797.263107       LSO      426  \n",
      "883      773.993214       LSO      426  \n",
      "884      977.486273       LSO      426  \n",
      "885     1186.147994       LSO      426  \n",
      "886     1275.184575       LSO      426  \n",
      "887     1569.331442       LSO      426  \n",
      "888      575.572996       LBR      430  \n",
      "889      620.969990       LBR      430  \n",
      "890      634.195163       LBR      430  \n",
      "891      713.603648       LBR      430  \n",
      "892      803.005454       LBR      430  \n",
      "893      640.322438       LBR      430  \n",
      "894      572.199569       LBR      430  \n",
      "895      506.113857       LBR      430  \n",
      "896      636.622919       LBR      430  \n",
      "897      609.173951       LBR      430  \n",
      "898      531.482368       LBR      430  \n",
      "899      414.507341       LBR      430  \n",
      "900     2387.548060       LBY      434  \n",
      "901     3448.284395       LBY      434  \n",
      "902     6757.030816       LBY      434  \n",
      "903    18772.751690       LBY      434  \n",
      "904    21011.497210       LBY      434  \n",
      "905    21951.211760       LBY      434  \n",
      "906    17364.275380       LBY      434  \n",
      "907    11770.589800       LBY      434  \n",
      "908     9640.138501       LBY      434  \n",
      "909     9467.446056       LBY      434  \n",
      "910     9534.677467       LBY      434  \n",
      "911    12057.499280       LBY      434  \n",
      "912     1443.011715       MDG      450  \n",
      "913     1589.202750       MDG      450  \n",
      "914     1643.387110       MDG      450  \n",
      "915     1634.047282       MDG      450  \n",
      "916     1748.562982       MDG      450  \n",
      "917     1544.228586       MDG      450  \n",
      "918     1302.878658       MDG      450  \n",
      "919     1155.441948       MDG      450  \n",
      "920     1040.676190       MDG      450  \n",
      "921      986.295896       MDG      450  \n",
      "922      894.637082       MDG      450  \n",
      "923     1044.770126       MDG      450  \n",
      "924      369.165080       MWI      454  \n",
      "925      416.369806       MWI      454  \n",
      "926      427.901086       MWI      454  \n",
      "927      495.514781       MWI      454  \n",
      "928      584.621971       MWI      454  \n",
      "929      663.223677       MWI      454  \n",
      "930      632.803921       MWI      454  \n",
      "931      635.517363       MWI      454  \n",
      "932      563.200014       MWI      454  \n",
      "933      692.275810       MWI      454  \n",
      "934      665.423119       MWI      454  \n",
      "935      759.349910       MWI      454  \n",
      "936     1831.132894       MYS      458  \n",
      "937     1810.066992       MYS      458  \n",
      "938     2036.884944       MYS      458  \n",
      "939     2277.742396       MYS      458  \n",
      "940     2849.094780       MYS      458  \n",
      "941     3827.921571       MYS      458  \n",
      "942     4920.355951       MYS      458  \n",
      "943     5249.802653       MYS      458  \n",
      "944     7277.912802       MYS      458  \n",
      "945    10132.909640       MYS      458  \n",
      "946    10206.977940       MYS      458  \n",
      "947    12451.655800       MYS      458  \n",
      "948      452.336981       MLI      466  \n",
      "949      490.382187       MLI      466  \n",
      "950      496.174343       MLI      466  \n",
      "951      545.009887       MLI      466  \n",
      "952      581.368876       MLI      466  \n",
      "953      686.395269       MLI      466  \n",
      "954      618.014064       MLI      466  \n",
      "955      684.171558       MLI      466  \n",
      "956      739.014375       MLI      466  \n",
      "957      790.257985       MLI      466  \n",
      "958      951.409752       MLI      466  \n",
      "959     1042.581557       MLI      466  \n",
      "960      743.115910       MRT      478  \n",
      "961      846.120261       MRT      478  \n",
      "962     1055.896036       MRT      478  \n",
      "963     1421.145193       MRT      478  \n",
      "964     1586.851781       MRT      478  \n",
      "965     1497.492223       MRT      478  \n",
      "966     1481.150189       MRT      478  \n",
      "967     1421.603576       MRT      478  \n",
      "968     1361.369784       MRT      478  \n",
      "969     1483.136136       MRT      478  \n",
      "970     1579.019543       MRT      478  \n",
      "971     1803.151496       MRT      478  \n",
      "972     1967.955707       MUS      480  \n",
      "973     2034.037981       MUS      480  \n",
      "974     2529.067487       MUS      480  \n",
      "975     2475.387562       MUS      480  \n",
      "976     2575.484158       MUS      480  \n",
      "977     3710.982963       MUS      480  \n",
      "978     3688.037739       MUS      480  \n",
      "979     4783.586903       MUS      480  \n",
      "980     6058.253846       MUS      480  \n",
      "981     7425.705295       MUS      480  \n",
      "982     9021.815894       MUS      480  \n",
      "983    10956.991120       MUS      480  \n",
      "984     3478.125529       MEX      484  \n",
      "985     4131.546641       MEX      484  \n",
      "986     4581.609385       MEX      484  \n",
      "987     5754.733883       MEX      484  \n",
      "988     6809.406690       MEX      484  \n",
      "989     7674.929108       MEX      484  \n",
      "990     9611.147541       MEX      484  \n",
      "991     8688.156003       MEX      484  \n",
      "992     9472.384295       MEX      484  \n",
      "993     9767.297530       MEX      484  \n",
      "994    10742.440530       MEX      484  \n",
      "995    11977.574960       MEX      484  \n",
      "996      786.566857       MNG      496  \n",
      "997      912.662609       MNG      496  \n",
      "998     1056.353958       MNG      496  \n",
      "999     1226.041130       MNG      496  \n",
      "1000    1421.741975       MNG      496  \n",
      "1001    1647.511665       MNG      496  \n",
      "1002    2000.603139       MNG      496  \n",
      "1003    2338.008304       MNG      496  \n",
      "1004    1785.402016       MNG      496  \n",
      "1005    1902.252100       MNG      496  \n",
      "1006    2140.739323       MNG      496  \n",
      "1007    3095.772271       MNG      496  \n",
      "1008    2647.585601       MNE      499  \n",
      "1009    3682.259903       MNE      499  \n",
      "1010    4649.593785       MNE      499  \n",
      "1011    5907.850937       MNE      499  \n",
      "1012    7778.414017       MNE      499  \n",
      "1013    9595.929905       MNE      499  \n",
      "1014   11222.587620       MNE      499  \n",
      "1015   11732.510170       MNE      499  \n",
      "1016    7003.339037       MNE      499  \n",
      "1017    6465.613349       MNE      499  \n",
      "1018    6557.194282       MNE      499  \n",
      "1019    9253.896111       MNE      499  \n",
      "1020    1688.203570       MAR      504  \n",
      "1021    1642.002314       MAR      504  \n",
      "1022    1566.353493       MAR      504  \n",
      "1023    1711.044770       MAR      504  \n",
      "1024    1930.194975       MAR      504  \n",
      "1025    2370.619976       MAR      504  \n",
      "1026    2702.620356       MAR      504  \n",
      "1027    2755.046991       MAR      504  \n",
      "1028    2948.047252       MAR      504  \n",
      "1029    2982.101858       MAR      504  \n",
      "1030    3258.495584       MAR      504  \n",
      "1031    3820.175230       MAR      504  \n",
      "1032     468.526038       MOZ      508  \n",
      "1033     495.586833       MOZ      508  \n",
      "1034     556.686354       MOZ      508  \n",
      "1035     566.669154       MOZ      508  \n",
      "1036     724.917804       MOZ      508  \n",
      "1037     502.319733       MOZ      508  \n",
      "1038     462.211415       MOZ      508  \n",
      "1039     389.876185       MOZ      508  \n",
      "1040     410.896824       MOZ      508  \n",
      "1041     472.346077       MOZ      508  \n",
      "1042     633.617947       MOZ      508  \n",
      "1043     823.685621       MOZ      508  \n",
      "1044     331.000000       MMR      104  \n",
      "1045     350.000000       MMR      104  \n",
      "1046     388.000000       MMR      104  \n",
      "1047     349.000000       MMR      104  \n",
      "1048     357.000000       MMR      104  \n",
      "1049     371.000000       MMR      104  \n",
      "1050     424.000000       MMR      104  \n",
      "1051     385.000000       MMR      104  \n",
      "1052     347.000000       MMR      104  \n",
      "1053     415.000000       MMR      104  \n",
      "1054     611.000000       MMR      104  \n",
      "1055     944.000000       MMR      104  \n",
      "1056    2423.780443       NAM      516  \n",
      "1057    2621.448058       NAM      516  \n",
      "1058    3173.215595       NAM      516  \n",
      "1059    3793.694753       NAM      516  \n",
      "1060    3746.080948       NAM      516  \n",
      "1061    3876.485958       NAM      516  \n",
      "1062    4191.100511       NAM      516  \n",
      "1063    3693.731337       NAM      516  \n",
      "1064    3804.537999       NAM      516  \n",
      "1065    3899.524260       NAM      516  \n",
      "1066    4072.324751       NAM      516  \n",
      "1067    4811.060429       NAM      516  \n",
      "1068     545.865723       NPL      524  \n",
      "1069     597.936356       NPL      524  \n",
      "1070     652.396859       NPL      524  \n",
      "1071     676.442225       NPL      524  \n",
      "1072     674.788130       NPL      524  \n",
      "1073     694.112440       NPL      524  \n",
      "1074     718.373095       NPL      524  \n",
      "1075     775.632450       NPL      524  \n",
      "1076     897.740360       NPL      524  \n",
      "1077    1010.892138       NPL      524  \n",
      "1078    1057.206311       NPL      524  \n",
      "1079    1091.359778       NPL      524  \n",
      "1080    8941.571858       NLD      528  \n",
      "1081   11276.193440       NLD      528  \n",
      "1082   12790.849560       NLD      528  \n",
      "1083   15363.251360       NLD      528  \n",
      "1084   18794.745670       NLD      528  \n",
      "1085   21209.059200       NLD      528  \n",
      "1086   21399.460460       NLD      528  \n",
      "1087   23651.323610       NLD      528  \n",
      "1088   26790.949610       NLD      528  \n",
      "1089   30246.130630       NLD      528  \n",
      "1090   33724.757780       NLD      528  \n",
      "1091   36797.933320       NLD      528  \n",
      "1092   10556.575660       NZL      554  \n",
      "1093   12247.395320       NZL      554  \n",
      "1094   13175.678000       NZL      554  \n",
      "1095   14463.918930       NZL      554  \n",
      "1096   16046.037280       NZL      554  \n",
      "1097   16233.717700       NZL      554  \n",
      "1098   17632.410400       NZL      554  \n",
      "1099   19007.191290       NZL      554  \n",
      "1100   18363.324940       NZL      554  \n",
      "1101   21050.413770       NZL      554  \n",
      "1102   23189.801350       NZL      554  \n",
      "1103   25185.009110       NZL      554  \n",
      "1104    3112.363948       NIC      558  \n",
      "1105    3457.415947       NIC      558  \n",
      "1106    3634.364406       NIC      558  \n",
      "1107    4643.393534       NIC      558  \n",
      "1108    4688.593267       NIC      558  \n",
      "1109    5486.371089       NIC      558  \n",
      "1110    3470.338156       NIC      558  \n",
      "1111    2955.984375       NIC      558  \n",
      "1112    2170.151724       NIC      558  \n",
      "1113    2253.023004       NIC      558  \n",
      "1114    2474.548819       NIC      558  \n",
      "1115    2749.320965       NIC      558  \n",
      "1116     761.879376       NER      562  \n",
      "1117     835.523403       NER      562  \n",
      "1118     997.766113       NER      562  \n",
      "1119    1054.384891       NER      562  \n",
      "1120     954.209236       NER      562  \n",
      "1121     808.897073       NER      562  \n",
      "1122     909.722135       NER      562  \n",
      "1123     668.300023       NER      562  \n",
      "1124     581.182725       NER      562  \n",
      "1125     580.305209       NER      562  \n",
      "1126     601.074501       NER      562  \n",
      "1127     619.676892       NER      562  \n",
      "1128    1077.281856       NGA      566  \n",
      "1129    1100.592563       NGA      566  \n",
      "1130    1150.927478       NGA      566  \n",
      "1131    1014.514104       NGA      566  \n",
      "1132    1698.388838       NGA      566  \n",
      "1133    1981.951806       NGA      566  \n",
      "1134    1576.973750       NGA      566  \n",
      "1135    1385.029563       NGA      566  \n",
      "1136    1619.848217       NGA      566  \n",
      "1137    1624.941275       NGA      566  \n",
      "1138    1615.286395       NGA      566  \n",
      "1139    2013.977305       NGA      566  \n",
      "1140   10095.421720       NOR      578  \n",
      "1141   11653.973040       NOR      578  \n",
      "1142   13450.401510       NOR      578  \n",
      "1143   16361.876470       NOR      578  \n",
      "1144   18965.055510       NOR      578  \n",
      "1145   23311.349390       NOR      578  \n",
      "1146   26298.635310       NOR      578  \n",
      "1147   31540.974800       NOR      578  \n",
      "1148   33965.661150       NOR      578  \n",
      "1149   41283.164330       NOR      578  \n",
      "1150   44683.975250       NOR      578  \n",
      "1151   49357.190170       NOR      578  \n",
      "1152    1828.230307       OMN      512  \n",
      "1153    2242.746551       OMN      512  \n",
      "1154    2924.638113       OMN      512  \n",
      "1155    4720.942687       OMN      512  \n",
      "1156   10618.038550       OMN      512  \n",
      "1157   11848.343920       OMN      512  \n",
      "1158   12954.791010       OMN      512  \n",
      "1159   18115.223130       OMN      512  \n",
      "1160   18616.706910       OMN      512  \n",
      "1161   19702.055810       OMN      512  \n",
      "1162   19774.836870       OMN      512  \n",
      "1163   22316.192870       OMN      512  \n",
      "1164     684.597144       PAK      586  \n",
      "1165     747.083529       PAK      586  \n",
      "1166     803.342742       PAK      586  \n",
      "1167     942.408259       PAK      586  \n",
      "1168    1049.938981       PAK      586  \n",
      "1169    1175.921193       PAK      586  \n",
      "1170    1443.429832       PAK      586  \n",
      "1171    1704.686583       PAK      586  \n",
      "1172    1971.829464       PAK      586  \n",
      "1173    2049.350521       PAK      586  \n",
      "1174    2092.712441       PAK      586  \n",
      "1175    2605.947580       PAK      586  \n",
      "1176    2480.380334       PAN      591  \n",
      "1177    2961.800905       PAN      591  \n",
      "1178    3536.540301       PAN      591  \n",
      "1179    4421.009084       PAN      591  \n",
      "1180    5364.249663       PAN      591  \n",
      "1181    5351.912144       PAN      591  \n",
      "1182    7009.601598       PAN      591  \n",
      "1183    7034.779161       PAN      591  \n",
      "1184    6618.743050       PAN      591  \n",
      "1185    7113.692252       PAN      591  \n",
      "1186    7356.031934       PAN      591  \n",
      "1187    9809.185636       PAN      591  \n",
      "1188    1952.308701       PRY      600  \n",
      "1189    2046.154706       PRY      600  \n",
      "1190    2148.027146       PRY      600  \n",
      "1191    2299.376311       PRY      600  \n",
      "1192    2523.337977       PRY      600  \n",
      "1193    3248.373311       PRY      600  \n",
      "1194    4258.503604       PRY      600  \n",
      "1195    3998.875695       PRY      600  \n",
      "1196    4196.411078       PRY      600  \n",
      "1197    4247.400261       PRY      600  \n",
      "1198    3783.674243       PRY      600  \n",
      "1199    4172.838464       PRY      600  \n",
      "1200    3758.523437       PER      604  \n",
      "1201    4245.256698       PER      604  \n",
      "1202    4957.037982       PER      604  \n",
      "1203    5788.093330       PER      604  \n",
      "1204    5937.827283       PER      604  \n",
      "1205    6281.290855       PER      604  \n",
      "1206    6434.501797       PER      604  \n",
      "1207    6360.943444       PER      604  \n",
      "1208    4446.380924       PER      604  \n",
      "1209    5838.347657       PER      604  \n",
      "1210    5909.020073       PER      604  \n",
      "1211    7408.905561       PER      604  \n",
      "1212    1272.880995       PHL      608  \n",
      "1213    1547.944844       PHL      608  \n",
      "1214    1649.552153       PHL      608  \n",
      "1215    1814.127430       PHL      608  \n",
      "1216    1989.374070       PHL      608  \n",
      "1217    2373.204287       PHL      608  \n",
      "1218    2603.273765       PHL      608  \n",
      "1219    2189.634995       PHL      608  \n",
      "1220    2279.324017       PHL      608  \n",
      "1221    2536.534925       PHL      608  \n",
      "1222    2650.921068       PHL      608  \n",
      "1223    3190.481016       PHL      608  \n",
      "1224    4029.329699       POL      616  \n",
      "1225    4734.253019       POL      616  \n",
      "1226    5338.752143       POL      616  \n",
      "1227    6557.152776       POL      616  \n",
      "1228    8006.506993       POL      616  \n",
      "1229    9508.141454       POL      616  \n",
      "1230    8451.531004       POL      616  \n",
      "1231    9082.351172       POL      616  \n",
      "1232    7738.881247       POL      616  \n",
      "1233   10159.583680       POL      616  \n",
      "1234   12002.239080       POL      616  \n",
      "1235   15389.924680       POL      616  \n",
      "1236    3068.319867       PRT      620  \n",
      "1237    3774.571743       PRT      620  \n",
      "1238    4727.954889       PRT      620  \n",
      "1239    6361.517993       PRT      620  \n",
      "1240    9022.247417       PRT      620  \n",
      "1241   10172.485720       PRT      620  \n",
      "1242   11753.842910       PRT      620  \n",
      "1243   13039.308760       PRT      620  \n",
      "1244   16207.266630       PRT      620  \n",
      "1245   17641.031560       PRT      620  \n",
      "1246   19970.907870       PRT      620  \n",
      "1247   20509.647770       PRT      620  \n",
      "1248    3081.959785       PRI      630  \n",
      "1249    3907.156189       PRI      630  \n",
      "1250    5108.344630       PRI      630  \n",
      "1251    6929.277714       PRI      630  \n",
      "1252    9123.041742       PRI      630  \n",
      "1253    9770.524921       PRI      630  \n",
      "1254   10330.989150       PRI      630  \n",
      "1255   12281.341910       PRI      630  \n",
      "1256   14641.587110       PRI      630  \n",
      "1257   16999.433300       PRI      630  \n",
      "1258   18855.606180       PRI      630  \n",
      "1259   19328.709010       PRI      630  \n",
      "1260    2718.885295       REU      638  \n",
      "1261    2769.451844       REU      638  \n",
      "1262    3173.723340       REU      638  \n",
      "1263    4021.175739       REU      638  \n",
      "1264    5047.658563       REU      638  \n",
      "1265    4319.804067       REU      638  \n",
      "1266    5267.219353       REU      638  \n",
      "1267    5303.377488       REU      638  \n",
      "1268    6101.255823       REU      638  \n",
      "1269    6071.941411       REU      638  \n",
      "1270    6316.165200       REU      638  \n",
      "1271    7670.122558       REU      638  \n",
      "1272    3144.613186       ROU      642  \n",
      "1273    3943.370225       ROU      642  \n",
      "1274    4734.997586       ROU      642  \n",
      "1275    6470.866545       ROU      642  \n",
      "1276    8011.414402       ROU      642  \n",
      "1277    9356.397240       ROU      642  \n",
      "1278    9605.314053       ROU      642  \n",
      "1279    9696.273295       ROU      642  \n",
      "1280    6598.409903       ROU      642  \n",
      "1281    7346.547557       ROU      642  \n",
      "1282    7885.360081       ROU      642  \n",
      "1283   10808.475610       ROU      642  \n",
      "1284     493.323875       RWA      646  \n",
      "1285     540.289398       RWA      646  \n",
      "1286     597.473073       RWA      646  \n",
      "1287     510.963714       RWA      646  \n",
      "1288     590.580664       RWA      646  \n",
      "1289     670.080601       RWA      646  \n",
      "1290     881.570647       RWA      646  \n",
      "1291     847.991217       RWA      646  \n",
      "1292     737.068595       RWA      646  \n",
      "1293     589.944505       RWA      646  \n",
      "1294     785.653765       RWA      646  \n",
      "1295     863.088464       RWA      646  \n",
      "1296     879.583586       STP      678  \n",
      "1297     860.736903       STP      678  \n",
      "1298    1071.551119       STP      678  \n",
      "1299    1384.840593       STP      678  \n",
      "1300    1532.985254       STP      678  \n",
      "1301    1737.561657       STP      678  \n",
      "1302    1890.218117       STP      678  \n",
      "1303    1516.525457       STP      678  \n",
      "1304    1428.777814       STP      678  \n",
      "1305    1339.076036       STP      678  \n",
      "1306    1353.092390       STP      678  \n",
      "1307    1598.435089       STP      678  \n",
      "1308    6459.554823       SAU      682  \n",
      "1309    8157.591248       SAU      682  \n",
      "1310   11626.419750       SAU      682  \n",
      "1311   16903.048860       SAU      682  \n",
      "1312   24837.428650       SAU      682  \n",
      "1313   34167.762600       SAU      682  \n",
      "1314   33693.175250       SAU      682  \n",
      "1315   21198.261360       SAU      682  \n",
      "1316   24841.617770       SAU      682  \n",
      "1317   20586.690190       SAU      682  \n",
      "1318   19014.541180       SAU      682  \n",
      "1319   21654.831940       SAU      682  \n",
      "1320    1450.356983       SEN      686  \n",
      "1321    1567.653006       SEN      686  \n",
      "1322    1654.988723       SEN      686  \n",
      "1323    1612.404632       SEN      686  \n",
      "1324    1597.712056       SEN      686  \n",
      "1325    1561.769116       SEN      686  \n",
      "1326    1518.479984       SEN      686  \n",
      "1327    1441.720720       SEN      686  \n",
      "1328    1367.899369       SEN      686  \n",
      "1329    1392.368347       SEN      686  \n",
      "1330    1519.635262       SEN      686  \n",
      "1331    1712.472136       SEN      686  \n",
      "1332    3581.459448       SRB      688  \n",
      "1333    4981.090891       SRB      688  \n",
      "1334    6289.629157       SRB      688  \n",
      "1335    7991.707066       SRB      688  \n",
      "1336   10522.067490       SRB      688  \n",
      "1337   12980.669560       SRB      688  \n",
      "1338   15181.092700       SRB      688  \n",
      "1339   15870.878510       SRB      688  \n",
      "1340    9325.068238       SRB      688  \n",
      "1341    7914.320304       SRB      688  \n",
      "1342    7236.075251       SRB      688  \n",
      "1343    9786.534714       SRB      688  \n",
      "1344     879.787736       SLE      694  \n",
      "1345    1004.484437       SLE      694  \n",
      "1346    1116.639877       SLE      694  \n",
      "1347    1206.043465       SLE      694  \n",
      "1348    1353.759762       SLE      694  \n",
      "1349    1348.285159       SLE      694  \n",
      "1350    1465.010784       SLE      694  \n",
      "1351    1294.447788       SLE      694  \n",
      "1352    1068.696278       SLE      694  \n",
      "1353     574.648158       SLE      694  \n",
      "1354     699.489713       SLE      694  \n",
      "1355     862.540756       SLE      694  \n",
      "1356    2315.138227       SGP      702  \n",
      "1357    2843.104409       SGP      702  \n",
      "1358    3674.735572       SGP      702  \n",
      "1359    4977.418540       SGP      702  \n",
      "1360    8597.756202       SGP      702  \n",
      "1361   11210.089480       SGP      702  \n",
      "1362   15169.161120       SGP      702  \n",
      "1363   18861.530810       SGP      702  \n",
      "1364   24769.891200       SGP      702  \n",
      "1365   33519.476600       SGP      702  \n",
      "1366   36023.105400       SGP      702  \n",
      "1367   47143.179640       SGP      702  \n",
      "1368    5074.659104       SVK      703  \n",
      "1369    6093.262980       SVK      703  \n",
      "1370    7481.107598       SVK      703  \n",
      "1371    8412.902397       SVK      703  \n",
      "1372    9674.167626       SVK      703  \n",
      "1373   10922.664040       SVK      703  \n",
      "1374   11348.545850       SVK      703  \n",
      "1375   12037.267580       SVK      703  \n",
      "1376    9498.467723       SVK      703  \n",
      "1377   12126.230650       SVK      703  \n",
      "1378   13638.778370       SVK      703  \n",
      "1379   18678.314350       SVK      703  \n",
      "1380    4215.041741       SVN      705  \n",
      "1381    5862.276629       SVN      705  \n",
      "1382    7402.303395       SVN      705  \n",
      "1383    9405.489397       SVN      705  \n",
      "1384   12383.486200       SVN      705  \n",
      "1385   15277.030170       SVN      705  \n",
      "1386   17866.721750       SVN      705  \n",
      "1387   18678.534920       SVN      705  \n",
      "1388   14214.716810       SVN      705  \n",
      "1389   17161.107350       SVN      705  \n",
      "1390   20660.019360       SVN      705  \n",
      "1391   25768.257590       SVN      705  \n",
      "1392    1135.749842       SOM      706  \n",
      "1393    1258.147413       SOM      706  \n",
      "1394    1369.488336       SOM      706  \n",
      "1395    1284.733180       SOM      706  \n",
      "1396    1254.576127       SOM      706  \n",
      "1397    1450.992513       SOM      706  \n",
      "1398    1176.807031       SOM      706  \n",
      "1399    1093.244963       SOM      706  \n",
      "1400     926.960296       SOM      706  \n",
      "1401     930.596428       SOM      706  \n",
      "1402     882.081822       SOM      706  \n",
      "1403     926.141068       SOM      706  \n",
      "1404    4725.295531       ZAF      710  \n",
      "1405    5487.104219       ZAF      710  \n",
      "1406    5768.729717       ZAF      710  \n",
      "1407    7114.477971       ZAF      710  \n",
      "1408    7765.962636       ZAF      710  \n",
      "1409    8028.651439       ZAF      710  \n",
      "1410    8568.266228       ZAF      710  \n",
      "1411    7825.823398       ZAF      710  \n",
      "1412    7225.069258       ZAF      710  \n",
      "1413    7479.188244       ZAF      710  \n",
      "1414    7710.946444       ZAF      710  \n",
      "1415    9269.657808       ZAF      710  \n",
      "1416    3834.034742       ESP      724  \n",
      "1417    4564.802410       ESP      724  \n",
      "1418    5693.843879       ESP      724  \n",
      "1419    7993.512294       ESP      724  \n",
      "1420   10638.751310       ESP      724  \n",
      "1421   13236.921170       ESP      724  \n",
      "1422   13926.169970       ESP      724  \n",
      "1423   15764.983130       ESP      724  \n",
      "1424   18603.064520       ESP      724  \n",
      "1425   20445.298960       ESP      724  \n",
      "1426   24835.471660       ESP      724  \n",
      "1427   28821.063700       ESP      724  \n",
      "1428    1083.532030       LKA      144  \n",
      "1429    1072.546602       LKA      144  \n",
      "1430    1074.471960       LKA      144  \n",
      "1431    1135.514326       LKA      144  \n",
      "1432    1213.395530       LKA      144  \n",
      "1433    1348.775651       LKA      144  \n",
      "1434    1648.079789       LKA      144  \n",
      "1435    1876.766827       LKA      144  \n",
      "1436    2153.739222       LKA      144  \n",
      "1437    2664.477257       LKA      144  \n",
      "1438    3015.378833       LKA      144  \n",
      "1439    3970.095407       LKA      144  \n",
      "1440    1615.991129       SDN      736  \n",
      "1441    1770.337074       SDN      736  \n",
      "1442    1959.593767       SDN      736  \n",
      "1443    1687.997641       SDN      736  \n",
      "1444    1659.652775       SDN      736  \n",
      "1445    2202.988423       SDN      736  \n",
      "1446    1895.544073       SDN      736  \n",
      "1447    1507.819159       SDN      736  \n",
      "1448    1492.197043       SDN      736  \n",
      "1449    1632.210764       SDN      736  \n",
      "1450    1993.398314       SDN      736  \n",
      "1451    2602.394995       SDN      736  \n",
      "1452    1148.376626       SWZ      748  \n",
      "1453    1244.708364       SWZ      748  \n",
      "1454    1856.182125       SWZ      748  \n",
      "1455    2613.101665       SWZ      748  \n",
      "1456    3364.836625       SWZ      748  \n",
      "1457    3781.410618       SWZ      748  \n",
      "1458    3895.384018       SWZ      748  \n",
      "1459    3984.839812       SWZ      748  \n",
      "1460    3553.022400       SWZ      748  \n",
      "1461    3876.768460       SWZ      748  \n",
      "1462    4128.116943       SWZ      748  \n",
      "1463    4513.480643       SWZ      748  \n",
      "1464    8527.844662       SWE      752  \n",
      "1465    9911.878226       SWE      752  \n",
      "1466   12329.441920       SWE      752  \n",
      "1467   15258.296970       SWE      752  \n",
      "1468   17832.024640       SWE      752  \n",
      "1469   18855.725210       SWE      752  \n",
      "1470   20667.381250       SWE      752  \n",
      "1471   23586.929270       SWE      752  \n",
      "1472   23880.016830       SWE      752  \n",
      "1473   25266.594990       SWE      752  \n",
      "1474   29341.630930       SWE      752  \n",
      "1475   33859.748350       SWE      752  \n",
      "1476   14734.232750       CHE      756  \n",
      "1477   17909.489730       CHE      756  \n",
      "1478   20431.092700       CHE      756  \n",
      "1479   22966.144320       CHE      756  \n",
      "1480   27195.113040       CHE      756  \n",
      "1481   26982.290520       CHE      756  \n",
      "1482   28397.715120       CHE      756  \n",
      "1483   30281.704590       CHE      756  \n",
      "1484   31871.530300       CHE      756  \n",
      "1485   32135.323010       CHE      756  \n",
      "1486   34480.957710       CHE      756  \n",
      "1487   37506.419070       CHE      756  \n",
      "1488    1643.485354       SYR      760  \n",
      "1489    2117.234893       SYR      760  \n",
      "1490    2193.037133       SYR      760  \n",
      "1491    1881.923632       SYR      760  \n",
      "1492    2571.423014       SYR      760  \n",
      "1493    3195.484582       SYR      760  \n",
      "1494    3761.837715       SYR      760  \n",
      "1495    3116.774285       SYR      760  \n",
      "1496    3340.542768       SYR      760  \n",
      "1497    4014.238972       SYR      760  \n",
      "1498    4090.925331       SYR      760  \n",
      "1499    4184.548089       SYR      760  \n",
      "1500    1206.947913       TWN      158  \n",
      "1501    1507.861290       TWN      158  \n",
      "1502    1822.879028       TWN      158  \n",
      "1503    2643.858681       TWN      158  \n",
      "1504    4062.523897       TWN      158  \n",
      "1505    5596.519826       TWN      158  \n",
      "1506    7426.354774       TWN      158  \n",
      "1507   11054.561750       TWN      158  \n",
      "1508   15215.657900       TWN      158  \n",
      "1509   20206.820980       TWN      158  \n",
      "1510   23235.423290       TWN      158  \n",
      "1511   28718.276840       TWN      158  \n",
      "1512     716.650072       TZA      834  \n",
      "1513     698.535607       TZA      834  \n",
      "1514     722.003807       TZA      834  \n",
      "1515     848.218657       TZA      834  \n",
      "1516     915.985059       TZA      834  \n",
      "1517     962.492293       TZA      834  \n",
      "1518     874.242607       TZA      834  \n",
      "1519     831.822079       TZA      834  \n",
      "1520     825.682454       TZA      834  \n",
      "1521     789.186223       TZA      834  \n",
      "1522     899.074211       TZA      834  \n",
      "1523    1107.482182       TZA      834  \n",
      "1524     757.797418       THA      764  \n",
      "1525     793.577415       THA      764  \n",
      "1526    1002.199172       THA      764  \n",
      "1527    1295.460660       THA      764  \n",
      "1528    1524.358936       THA      764  \n",
      "1529    1961.224635       THA      764  \n",
      "1530    2393.219781       THA      764  \n",
      "1531    2982.653773       THA      764  \n",
      "1532    4616.896545       THA      764  \n",
      "1533    5852.625497       THA      764  \n",
      "1534    5913.187529       THA      764  \n",
      "1535    7458.396327       THA      764  \n",
      "1536     859.808657       TGO      768  \n",
      "1537     925.908320       TGO      768  \n",
      "1538    1067.534810       TGO      768  \n",
      "1539    1477.596760       TGO      768  \n",
      "1540    1649.660188       TGO      768  \n",
      "1541    1532.776998       TGO      768  \n",
      "1542    1344.577953       TGO      768  \n",
      "1543    1202.201361       TGO      768  \n",
      "1544    1034.298904       TGO      768  \n",
      "1545     982.286924       TGO      768  \n",
      "1546     886.220577       TGO      768  \n",
      "1547     882.969944       TGO      768  \n",
      "1548    3023.271928       TTO      780  \n",
      "1549    4100.393400       TTO      780  \n",
      "1550    4997.523971       TTO      780  \n",
      "1551    5621.368472       TTO      780  \n",
      "1552    6619.551419       TTO      780  \n",
      "1553    7899.554209       TTO      780  \n",
      "1554    9119.528607       TTO      780  \n",
      "1555    7388.597823       TTO      780  \n",
      "1556    7370.990932       TTO      780  \n",
      "1557    8792.573126       TTO      780  \n",
      "1558   11460.600230       TTO      780  \n",
      "1559   18008.509240       TTO      780  \n",
      "1560    1468.475631       TUN      788  \n",
      "1561    1395.232468       TUN      788  \n",
      "1562    1660.303210       TUN      788  \n",
      "1563    1932.360167       TUN      788  \n",
      "1564    2753.285994       TUN      788  \n",
      "1565    3120.876811       TUN      788  \n",
      "1566    3560.233174       TUN      788  \n",
      "1567    3810.419296       TUN      788  \n",
      "1568    4332.720164       TUN      788  \n",
      "1569    4876.798614       TUN      788  \n",
      "1570    5722.895655       TUN      788  \n",
      "1571    7092.923025       TUN      788  \n",
      "1572    1969.100980       TUR      792  \n",
      "1573    2218.754257       TUR      792  \n",
      "1574    2322.869908       TUR      792  \n",
      "1575    2826.356387       TUR      792  \n",
      "1576    3450.696380       TUR      792  \n",
      "1577    4269.122326       TUR      792  \n",
      "1578    4241.356344       TUR      792  \n",
      "1579    5089.043686       TUR      792  \n",
      "1580    5678.348271       TUR      792  \n",
      "1581    6601.429915       TUR      792  \n",
      "1582    6508.085718       TUR      792  \n",
      "1583    8458.276384       TUR      792  \n",
      "1584     734.753484       UGA      800  \n",
      "1585     774.371069       UGA      800  \n",
      "1586     767.271740       UGA      800  \n",
      "1587     908.918522       UGA      800  \n",
      "1588     950.735869       UGA      800  \n",
      "1589     843.733137       UGA      800  \n",
      "1590     682.266227       UGA      800  \n",
      "1591     617.724406       UGA      800  \n",
      "1592     644.170797       UGA      800  \n",
      "1593     816.559081       UGA      800  \n",
      "1594     927.721002       UGA      800  \n",
      "1595    1056.380121       UGA      800  \n",
      "1596    9979.508487       GBR      826  \n",
      "1597   11283.177950       GBR      826  \n",
      "1598   12477.177070       GBR      826  \n",
      "1599   14142.850890       GBR      826  \n",
      "1600   15895.116410       GBR      826  \n",
      "1601   17428.748460       GBR      826  \n",
      "1602   18232.424520       GBR      826  \n",
      "1603   21664.787670       GBR      826  \n",
      "1604   22705.092540       GBR      826  \n",
      "1605   26074.531360       GBR      826  \n",
      "1606   29478.999190       GBR      826  \n",
      "1607   33203.261280       GBR      826  \n",
      "1608   13990.482080       USA      840  \n",
      "1609   14847.127120       USA      840  \n",
      "1610   16173.145860       USA      840  \n",
      "1611   19530.365570       USA      840  \n",
      "1612   21806.035940       USA      840  \n",
      "1613   24072.632130       USA      840  \n",
      "1614   25009.559140       USA      840  \n",
      "1615   29884.350410       USA      840  \n",
      "1616   32003.932240       USA      840  \n",
      "1617   35767.433030       USA      840  \n",
      "1618   39097.099550       USA      840  \n",
      "1619   42951.653090       USA      840  \n",
      "1620    5716.766744       URY      858  \n",
      "1621    6150.772969       URY      858  \n",
      "1622    5603.357717       URY      858  \n",
      "1623    5444.619620       URY      858  \n",
      "1624    5703.408898       URY      858  \n",
      "1625    6504.339663       URY      858  \n",
      "1626    6920.223051       URY      858  \n",
      "1627    7452.398969       URY      858  \n",
      "1628    8137.004775       URY      858  \n",
      "1629    9230.240708       URY      858  \n",
      "1630    7727.002004       URY      858  \n",
      "1631   10611.462990       URY      858  \n",
      "1632    7689.799761       VEN      862  \n",
      "1633    9802.466526       VEN      862  \n",
      "1634    8422.974165       VEN      862  \n",
      "1635    9541.474188       VEN      862  \n",
      "1636   10505.259660       VEN      862  \n",
      "1637   13143.950950       VEN      862  \n",
      "1638   11152.410110       VEN      862  \n",
      "1639    9883.584648       VEN      862  \n",
      "1640   10733.926310       VEN      862  \n",
      "1641   10165.495180       VEN      862  \n",
      "1642    8605.047831       VEN      862  \n",
      "1643   11415.805690       VEN      862  \n",
      "1644     605.066492       VNM      704  \n",
      "1645     676.285448       VNM      704  \n",
      "1646     772.049160       VNM      704  \n",
      "1647     637.123289       VNM      704  \n",
      "1648     699.501644       VNM      704  \n",
      "1649     713.537120       VNM      704  \n",
      "1650     707.235786       VNM      704  \n",
      "1651     820.799445       VNM      704  \n",
      "1652     989.023149       VNM      704  \n",
      "1653    1385.896769       VNM      704  \n",
      "1654    1764.456677       VNM      704  \n",
      "1655    2441.576404       VNM      704  \n",
      "1656    1515.592329       PSE      275  \n",
      "1657    1827.067742       PSE      275  \n",
      "1658    2198.956312       PSE      275  \n",
      "1659    2649.715007       PSE      275  \n",
      "1660    3133.409277       PSE      275  \n",
      "1661    3682.831494       PSE      275  \n",
      "1662    4336.032082       PSE      275  \n",
      "1663    5107.197384       PSE      275  \n",
      "1664    6017.654756       PSE      275  \n",
      "1665    7110.667619       PSE      275  \n",
      "1666    4515.487575       PSE      275  \n",
      "1667    3025.349798       PSE      275  \n",
      "1668     781.717576       YEM      887  \n",
      "1669     804.830455       YEM      887  \n",
      "1670     825.623201       YEM      887  \n",
      "1671     862.442146       YEM      887  \n",
      "1672    1265.047031       YEM      887  \n",
      "1673    1829.765177       YEM      887  \n",
      "1674    1977.557010       YEM      887  \n",
      "1675    1971.741538       YEM      887  \n",
      "1676    1879.496673       YEM      887  \n",
      "1677    2117.484526       YEM      887  \n",
      "1678    2234.820827       YEM      887  \n",
      "1679    2280.769906       YEM      887  \n",
      "1680    1147.388831       ZMB      894  \n",
      "1681    1311.956766       ZMB      894  \n",
      "1682    1452.725766       ZMB      894  \n",
      "1683    1777.077318       ZMB      894  \n",
      "1684    1773.498265       ZMB      894  \n",
      "1685    1588.688299       ZMB      894  \n",
      "1686    1408.678565       ZMB      894  \n",
      "1687    1213.315116       ZMB      894  \n",
      "1688    1210.884633       ZMB      894  \n",
      "1689    1071.353818       ZMB      894  \n",
      "1690    1071.613938       ZMB      894  \n",
      "1691    1271.211593       ZMB      894  \n",
      "1692     406.884115       ZWE      716  \n",
      "1693     518.764268       ZWE      716  \n",
      "1694     527.272182       ZWE      716  \n",
      "1695     569.795071       ZWE      716  \n",
      "1696     799.362176       ZWE      716  \n",
      "1697     685.587682       ZWE      716  \n",
      "1698     788.855041       ZWE      716  \n",
      "1699     706.157306       ZWE      716  \n",
      "1700     693.420786       ZWE      716  \n",
      "1701     792.449960       ZWE      716  \n",
      "1702     672.038623       ZWE      716  \n",
      "1703     469.709298       ZWE      716  \n"
     ]
    }
   ],
   "source": [
    "pd.options.display.max_rows = None\n",
    "gapminder[\"country\"] = gapminder[\"country\"].replace({\"United States\": \"USA\"})\n",
    "print(gapminder)"
   ]
  },
  {
   "cell_type": "markdown",
   "metadata": {
    "id": "WUoswYncnyYr"
   },
   "source": [
    "#### 問題1-3\n",
    "データフレームgapminderの'pop'カラムを、以下のようなカテゴリに分割してください。\n",
    "- 'Low': 0-10,000,000\n",
    "- 'Medium': 10,000,001-50,000,000\n",
    "- 'High': 50,000,001 以上"
   ]
  },
  {
   "cell_type": "code",
   "execution_count": 50,
   "metadata": {
    "colab": {
     "base_uri": "https://localhost:8080/"
    },
    "executionInfo": {
     "elapsed": 438,
     "status": "ok",
     "timestamp": 1682750801725,
     "user": {
      "displayName": "瀧川裕貴",
      "userId": "05752887510241032794"
     },
     "user_tz": -540
    },
    "id": "Lkc65ItuwW9P",
    "outputId": "f67ca8f8-0a1d-4c07-d197-30dbaebd0b22",
    "tags": [
     "remove-input",
     "remove-output"
    ]
   },
   "outputs": [
    {
     "name": "stdout",
     "output_type": "stream",
     "text": [
      "          country continent  year  lifeExp       pop   gdpPercap iso_alpha  \\\n",
      "0     Afghanistan      Asia  1952   28.801   8425333  779.445314       AFG   \n",
      "1     Afghanistan      Asia  1957   30.332   9240934  820.853030       AFG   \n",
      "2     Afghanistan      Asia  1962   31.997  10267083  853.100710       AFG   \n",
      "3     Afghanistan      Asia  1967   34.020  11537966  836.197138       AFG   \n",
      "4     Afghanistan      Asia  1972   36.088  13079460  739.981106       AFG   \n",
      "...           ...       ...   ...      ...       ...         ...       ...   \n",
      "1699     Zimbabwe    Africa  1987   62.351   9216418  706.157306       ZWE   \n",
      "1700     Zimbabwe    Africa  1992   60.377  10704340  693.420786       ZWE   \n",
      "1701     Zimbabwe    Africa  1997   46.809  11404948  792.449960       ZWE   \n",
      "1702     Zimbabwe    Africa  2002   39.989  11926563  672.038623       ZWE   \n",
      "1703     Zimbabwe    Africa  2007   43.487  12311143  469.709298       ZWE   \n",
      "\n",
      "      iso_num pop_cat  \n",
      "0           4     Low  \n",
      "1           4     Low  \n",
      "2           4  Medium  \n",
      "3           4  Medium  \n",
      "4           4  Medium  \n",
      "...       ...     ...  \n",
      "1699      716     Low  \n",
      "1700      716  Medium  \n",
      "1701      716  Medium  \n",
      "1702      716  Medium  \n",
      "1703      716  Medium  \n",
      "\n",
      "[1704 rows x 9 columns]\n"
     ]
    }
   ],
   "source": [
    "pd.options.display.max_rows = 10\n",
    "\n",
    "bins = [0,10000000,50000000,1000000000000000000]\n",
    "labels = ['Low', 'Medium', 'High']\n",
    "gapminder['pop_cat'] = pd.cut(gapminder['pop'], bins = bins, labels = labels)\n",
    "print(gapminder)"
   ]
  },
  {
   "cell_type": "markdown",
   "metadata": {
    "id": "ZOECVMwNo5k0"
   },
   "source": [
    "#### 問題1-4\n",
    "データフレームgapminderの'pop'カラムを、人口が1000万人以上の国に対してはその値を2倍にし、それ以外の国に対してはそのままの値を持つ新しいカラムを作成してください。\n",
    "\n"
   ]
  },
  {
   "cell_type": "code",
   "execution_count": 51,
   "metadata": {
    "executionInfo": {
     "elapsed": 319,
     "status": "ok",
     "timestamp": 1682750982058,
     "user": {
      "displayName": "瀧川裕貴",
      "userId": "05752887510241032794"
     },
     "user_tz": -540
    },
    "id": "6slO-Kpmw-pH",
    "tags": [
     "remove-input"
    ]
   },
   "outputs": [],
   "source": [
    "def double_large_population(pop):\n",
    "  if pop >=10000000:\n",
    "    return pop*2\n",
    "  else:\n",
    "    return pop\n",
    "\n",
    "gapminder['pop2'] = gapminder['pop'].apply(double_large_population)"
   ]
  },
  {
   "cell_type": "code",
   "execution_count": 52,
   "metadata": {
    "colab": {
     "base_uri": "https://localhost:8080/"
    },
    "executionInfo": {
     "elapsed": 260,
     "status": "ok",
     "timestamp": 1682750991282,
     "user": {
      "displayName": "瀧川裕貴",
      "userId": "05752887510241032794"
     },
     "user_tz": -540
    },
    "id": "ndn2K7lLxlF7",
    "outputId": "cf5afb82-654f-485c-d69c-53703d806f6c",
    "tags": [
     "remove-output"
    ]
   },
   "outputs": [
    {
     "name": "stdout",
     "output_type": "stream",
     "text": [
      "          country continent  year  lifeExp       pop   gdpPercap iso_alpha  \\\n",
      "0     Afghanistan      Asia  1952   28.801   8425333  779.445314       AFG   \n",
      "1     Afghanistan      Asia  1957   30.332   9240934  820.853030       AFG   \n",
      "2     Afghanistan      Asia  1962   31.997  10267083  853.100710       AFG   \n",
      "3     Afghanistan      Asia  1967   34.020  11537966  836.197138       AFG   \n",
      "4     Afghanistan      Asia  1972   36.088  13079460  739.981106       AFG   \n",
      "...           ...       ...   ...      ...       ...         ...       ...   \n",
      "1699     Zimbabwe    Africa  1987   62.351   9216418  706.157306       ZWE   \n",
      "1700     Zimbabwe    Africa  1992   60.377  10704340  693.420786       ZWE   \n",
      "1701     Zimbabwe    Africa  1997   46.809  11404948  792.449960       ZWE   \n",
      "1702     Zimbabwe    Africa  2002   39.989  11926563  672.038623       ZWE   \n",
      "1703     Zimbabwe    Africa  2007   43.487  12311143  469.709298       ZWE   \n",
      "\n",
      "      iso_num pop_cat      pop2  \n",
      "0           4     Low   8425333  \n",
      "1           4     Low   9240934  \n",
      "2           4  Medium  20534166  \n",
      "3           4  Medium  23075932  \n",
      "4           4  Medium  26158920  \n",
      "...       ...     ...       ...  \n",
      "1699      716     Low   9216418  \n",
      "1700      716  Medium  21408680  \n",
      "1701      716  Medium  22809896  \n",
      "1702      716  Medium  23853126  \n",
      "1703      716  Medium  24622286  \n",
      "\n",
      "[1704 rows x 10 columns]\n"
     ]
    }
   ],
   "source": [
    "print(gapminder)"
   ]
  },
  {
   "cell_type": "markdown",
   "metadata": {
    "id": "_FR9Bh77YtBZ"
   },
   "source": [
    "### フィルタリング1(queryメソッド)\n",
    "- .query('')で''の中に条件式を書くことで特定の条件を満たす行を抽出できます。\n"
   ]
  },
  {
   "cell_type": "code",
   "execution_count": 53,
   "metadata": {
    "colab": {
     "base_uri": "https://localhost:8080/",
     "height": 614
    },
    "executionInfo": {
     "elapsed": 415,
     "status": "ok",
     "timestamp": 1682751213116,
     "user": {
      "displayName": "瀧川裕貴",
      "userId": "05752887510241032794"
     },
     "user_tz": -540
    },
    "id": "m6yvJZg8Ysg1",
    "outputId": "fd4a18b6-a5d7-42a5-8af2-a575da8ca4e1"
   },
   "outputs": [
    {
     "name": "stdout",
     "output_type": "stream",
     "text": [
      "     total_bill   tip     sex smoker  day    time  size  weekend bill_cat\n",
      "23        39.42  7.58    Male     No  Sat  Dinner     4  weekend    31-40\n",
      "44        30.40  5.60    Male     No  Sun  Dinner     4  weekend    31-40\n",
      "47        32.40  6.00    Male     No  Sun  Dinner     4  weekend    31-40\n",
      "52        34.81  5.20  Female     No  Sun  Dinner     4  weekend    31-40\n",
      "59        48.27  6.73    Male     No  Sat  Dinner     4  weekend      41+\n",
      "..          ...   ...     ...    ...  ...     ...   ...      ...      ...\n",
      "183       23.17  6.50    Male    Yes  Sun  Dinner     4  weekend    21-30\n",
      "211       25.89  5.16    Male    Yes  Sat  Dinner     4  weekend    21-30\n",
      "212       48.33  9.00    Male     No  Sat  Dinner     4  weekend      41+\n",
      "214       28.17  6.50  Female    Yes  Sat  Dinner     3  weekend    21-30\n",
      "239       29.03  5.92    Male     No  Sat  Dinner     3  weekend    21-30\n",
      "\n",
      "[18 rows x 9 columns]\n"
     ]
    }
   ],
   "source": [
    "print(tips.query('tip > 5'))"
   ]
  },
  {
   "cell_type": "code",
   "execution_count": 54,
   "metadata": {
    "colab": {
     "base_uri": "https://localhost:8080/",
     "height": 425
    },
    "executionInfo": {
     "elapsed": 403,
     "status": "ok",
     "timestamp": 1682751256985,
     "user": {
      "displayName": "瀧川裕貴",
      "userId": "05752887510241032794"
     },
     "user_tz": -540
    },
    "id": "z9jtI4zKaeXw",
    "outputId": "68898500-8609-4c80-82e4-d958237f86d2"
   },
   "outputs": [
    {
     "data": {
      "text/html": [
       "<div>\n",
       "<style scoped>\n",
       "    .dataframe tbody tr th:only-of-type {\n",
       "        vertical-align: middle;\n",
       "    }\n",
       "\n",
       "    .dataframe tbody tr th {\n",
       "        vertical-align: top;\n",
       "    }\n",
       "\n",
       "    .dataframe thead th {\n",
       "        text-align: right;\n",
       "    }\n",
       "</style>\n",
       "<table border=\"1\" class=\"dataframe\">\n",
       "  <thead>\n",
       "    <tr style=\"text-align: right;\">\n",
       "      <th></th>\n",
       "      <th>total_bill</th>\n",
       "      <th>tip</th>\n",
       "      <th>sex</th>\n",
       "      <th>smoker</th>\n",
       "      <th>day</th>\n",
       "      <th>time</th>\n",
       "      <th>size</th>\n",
       "      <th>weekend</th>\n",
       "      <th>bill_cat</th>\n",
       "    </tr>\n",
       "  </thead>\n",
       "  <tbody>\n",
       "    <tr>\n",
       "      <th>23</th>\n",
       "      <td>39.42</td>\n",
       "      <td>7.58</td>\n",
       "      <td>Male</td>\n",
       "      <td>No</td>\n",
       "      <td>Sat</td>\n",
       "      <td>Dinner</td>\n",
       "      <td>4</td>\n",
       "      <td>weekend</td>\n",
       "      <td>31-40</td>\n",
       "    </tr>\n",
       "    <tr>\n",
       "      <th>44</th>\n",
       "      <td>30.40</td>\n",
       "      <td>5.60</td>\n",
       "      <td>Male</td>\n",
       "      <td>No</td>\n",
       "      <td>Sun</td>\n",
       "      <td>Dinner</td>\n",
       "      <td>4</td>\n",
       "      <td>weekend</td>\n",
       "      <td>31-40</td>\n",
       "    </tr>\n",
       "    <tr>\n",
       "      <th>47</th>\n",
       "      <td>32.40</td>\n",
       "      <td>6.00</td>\n",
       "      <td>Male</td>\n",
       "      <td>No</td>\n",
       "      <td>Sun</td>\n",
       "      <td>Dinner</td>\n",
       "      <td>4</td>\n",
       "      <td>weekend</td>\n",
       "      <td>31-40</td>\n",
       "    </tr>\n",
       "    <tr>\n",
       "      <th>52</th>\n",
       "      <td>34.81</td>\n",
       "      <td>5.20</td>\n",
       "      <td>Female</td>\n",
       "      <td>No</td>\n",
       "      <td>Sun</td>\n",
       "      <td>Dinner</td>\n",
       "      <td>4</td>\n",
       "      <td>weekend</td>\n",
       "      <td>31-40</td>\n",
       "    </tr>\n",
       "    <tr>\n",
       "      <th>59</th>\n",
       "      <td>48.27</td>\n",
       "      <td>6.73</td>\n",
       "      <td>Male</td>\n",
       "      <td>No</td>\n",
       "      <td>Sat</td>\n",
       "      <td>Dinner</td>\n",
       "      <td>4</td>\n",
       "      <td>weekend</td>\n",
       "      <td>41+</td>\n",
       "    </tr>\n",
       "    <tr>\n",
       "      <th>...</th>\n",
       "      <td>...</td>\n",
       "      <td>...</td>\n",
       "      <td>...</td>\n",
       "      <td>...</td>\n",
       "      <td>...</td>\n",
       "      <td>...</td>\n",
       "      <td>...</td>\n",
       "      <td>...</td>\n",
       "      <td>...</td>\n",
       "    </tr>\n",
       "    <tr>\n",
       "      <th>116</th>\n",
       "      <td>29.93</td>\n",
       "      <td>5.07</td>\n",
       "      <td>Male</td>\n",
       "      <td>No</td>\n",
       "      <td>Sun</td>\n",
       "      <td>Dinner</td>\n",
       "      <td>4</td>\n",
       "      <td>weekend</td>\n",
       "      <td>21-30</td>\n",
       "    </tr>\n",
       "    <tr>\n",
       "      <th>141</th>\n",
       "      <td>34.30</td>\n",
       "      <td>6.70</td>\n",
       "      <td>Male</td>\n",
       "      <td>No</td>\n",
       "      <td>Thur</td>\n",
       "      <td>Lunch</td>\n",
       "      <td>6</td>\n",
       "      <td>weekday</td>\n",
       "      <td>31-40</td>\n",
       "    </tr>\n",
       "    <tr>\n",
       "      <th>155</th>\n",
       "      <td>29.85</td>\n",
       "      <td>5.14</td>\n",
       "      <td>Female</td>\n",
       "      <td>No</td>\n",
       "      <td>Sun</td>\n",
       "      <td>Dinner</td>\n",
       "      <td>5</td>\n",
       "      <td>weekend</td>\n",
       "      <td>21-30</td>\n",
       "    </tr>\n",
       "    <tr>\n",
       "      <th>212</th>\n",
       "      <td>48.33</td>\n",
       "      <td>9.00</td>\n",
       "      <td>Male</td>\n",
       "      <td>No</td>\n",
       "      <td>Sat</td>\n",
       "      <td>Dinner</td>\n",
       "      <td>4</td>\n",
       "      <td>weekend</td>\n",
       "      <td>41+</td>\n",
       "    </tr>\n",
       "    <tr>\n",
       "      <th>239</th>\n",
       "      <td>29.03</td>\n",
       "      <td>5.92</td>\n",
       "      <td>Male</td>\n",
       "      <td>No</td>\n",
       "      <td>Sat</td>\n",
       "      <td>Dinner</td>\n",
       "      <td>3</td>\n",
       "      <td>weekend</td>\n",
       "      <td>21-30</td>\n",
       "    </tr>\n",
       "  </tbody>\n",
       "</table>\n",
       "<p>12 rows × 9 columns</p>\n",
       "</div>"
      ],
      "text/plain": [
       "     total_bill   tip     sex smoker   day    time  size  weekend bill_cat\n",
       "23        39.42  7.58    Male     No   Sat  Dinner     4  weekend    31-40\n",
       "44        30.40  5.60    Male     No   Sun  Dinner     4  weekend    31-40\n",
       "47        32.40  6.00    Male     No   Sun  Dinner     4  weekend    31-40\n",
       "52        34.81  5.20  Female     No   Sun  Dinner     4  weekend    31-40\n",
       "59        48.27  6.73    Male     No   Sat  Dinner     4  weekend      41+\n",
       "..          ...   ...     ...    ...   ...     ...   ...      ...      ...\n",
       "116       29.93  5.07    Male     No   Sun  Dinner     4  weekend    21-30\n",
       "141       34.30  6.70    Male     No  Thur   Lunch     6  weekday    31-40\n",
       "155       29.85  5.14  Female     No   Sun  Dinner     5  weekend    21-30\n",
       "212       48.33  9.00    Male     No   Sat  Dinner     4  weekend      41+\n",
       "239       29.03  5.92    Male     No   Sat  Dinner     3  weekend    21-30\n",
       "\n",
       "[12 rows x 9 columns]"
      ]
     },
     "execution_count": 54,
     "metadata": {},
     "output_type": "execute_result"
    }
   ],
   "source": [
    "tips.query('tip > 5 & smoker ==\"No\"')#文字列は\"\"で囲む"
   ]
  },
  {
   "cell_type": "markdown",
   "metadata": {},
   "source": [
    "- 文字列の条件はstr.hoge()を使います。\n",
    "    - 例えば、contains()は指定した文字（部分文字列）を含む文字列の値をもつ行を抽出します。"
   ]
  },
  {
   "cell_type": "markdown",
   "metadata": {},
   "source": [
    "```{important}\n",
    "- 文字列の条件を使う場合は末尾に、engine = \"python\"とする必要があります。"
   ]
  },
  {
   "cell_type": "code",
   "execution_count": 55,
   "metadata": {
    "colab": {
     "base_uri": "https://localhost:8080/",
     "height": 1000
    },
    "executionInfo": {
     "elapsed": 295,
     "status": "ok",
     "timestamp": 1682751309120,
     "user": {
      "displayName": "瀧川裕貴",
      "userId": "05752887510241032794"
     },
     "user_tz": -540
    },
    "id": "dYHagCfLbhwI",
    "outputId": "13f8d87c-3664-4556-b6c2-cf3b96f664d1"
   },
   "outputs": [
    {
     "name": "stdout",
     "output_type": "stream",
     "text": [
      "     total_bill   tip     sex smoker  day    time  size  weekend bill_cat\n",
      "0         16.99  1.01  Female     No  Sun  Dinner     2  weekend    11-20\n",
      "1         10.34  1.66    Male     No  Sun  Dinner     3  weekend    11-20\n",
      "2         21.01  3.50    Male     No  Sun  Dinner     3  weekend    21-30\n",
      "3         23.68  3.31    Male     No  Sun  Dinner     2  weekend    21-30\n",
      "4         24.59  3.61  Female     No  Sun  Dinner     4  weekend    21-30\n",
      "..          ...   ...     ...    ...  ...     ...   ...      ...      ...\n",
      "238       35.83  4.67  Female     No  Sat  Dinner     3  weekend    31-40\n",
      "239       29.03  5.92    Male     No  Sat  Dinner     3  weekend    21-30\n",
      "240       27.18  2.00  Female    Yes  Sat  Dinner     2  weekend    21-30\n",
      "241       22.67  2.00    Male    Yes  Sat  Dinner     2  weekend    21-30\n",
      "242       17.82  1.75    Male     No  Sat  Dinner     2  weekend    11-20\n",
      "\n",
      "[163 rows x 9 columns]\n"
     ]
    }
   ],
   "source": [
    "print(tips.query('day.str.contains(\"S\")', engine = \"python\"))#contains()は指定した文字（部分文字列）を含む文字列の値をもつ行を抽出"
   ]
  },
  {
   "cell_type": "markdown",
   "metadata": {
    "id": "TzycVM4Ib_eX"
   },
   "source": [
    "### フィルタリング2\n",
    "- query())を用いずにシリーズに条件式を適用し[]に入れる方法もあります。\n",
    "- 例えば、tipが5より大きいという条件の場合、次のようにします。\n"
   ]
  },
  {
   "cell_type": "code",
   "execution_count": 56,
   "metadata": {
    "colab": {
     "base_uri": "https://localhost:8080/",
     "height": 614
    },
    "executionInfo": {
     "elapsed": 257,
     "status": "ok",
     "timestamp": 1682751368888,
     "user": {
      "displayName": "瀧川裕貴",
      "userId": "05752887510241032794"
     },
     "user_tz": -540
    },
    "id": "Cfxi6BGCb-5F",
    "outputId": "bf6c15ca-ea40-446c-f93e-532af03c6fb4"
   },
   "outputs": [
    {
     "data": {
      "text/html": [
       "<div>\n",
       "<style scoped>\n",
       "    .dataframe tbody tr th:only-of-type {\n",
       "        vertical-align: middle;\n",
       "    }\n",
       "\n",
       "    .dataframe tbody tr th {\n",
       "        vertical-align: top;\n",
       "    }\n",
       "\n",
       "    .dataframe thead th {\n",
       "        text-align: right;\n",
       "    }\n",
       "</style>\n",
       "<table border=\"1\" class=\"dataframe\">\n",
       "  <thead>\n",
       "    <tr style=\"text-align: right;\">\n",
       "      <th></th>\n",
       "      <th>total_bill</th>\n",
       "      <th>tip</th>\n",
       "      <th>sex</th>\n",
       "      <th>smoker</th>\n",
       "      <th>day</th>\n",
       "      <th>time</th>\n",
       "      <th>size</th>\n",
       "      <th>weekend</th>\n",
       "      <th>bill_cat</th>\n",
       "    </tr>\n",
       "  </thead>\n",
       "  <tbody>\n",
       "    <tr>\n",
       "      <th>23</th>\n",
       "      <td>39.42</td>\n",
       "      <td>7.58</td>\n",
       "      <td>Male</td>\n",
       "      <td>No</td>\n",
       "      <td>Sat</td>\n",
       "      <td>Dinner</td>\n",
       "      <td>4</td>\n",
       "      <td>weekend</td>\n",
       "      <td>31-40</td>\n",
       "    </tr>\n",
       "    <tr>\n",
       "      <th>44</th>\n",
       "      <td>30.40</td>\n",
       "      <td>5.60</td>\n",
       "      <td>Male</td>\n",
       "      <td>No</td>\n",
       "      <td>Sun</td>\n",
       "      <td>Dinner</td>\n",
       "      <td>4</td>\n",
       "      <td>weekend</td>\n",
       "      <td>31-40</td>\n",
       "    </tr>\n",
       "    <tr>\n",
       "      <th>47</th>\n",
       "      <td>32.40</td>\n",
       "      <td>6.00</td>\n",
       "      <td>Male</td>\n",
       "      <td>No</td>\n",
       "      <td>Sun</td>\n",
       "      <td>Dinner</td>\n",
       "      <td>4</td>\n",
       "      <td>weekend</td>\n",
       "      <td>31-40</td>\n",
       "    </tr>\n",
       "    <tr>\n",
       "      <th>52</th>\n",
       "      <td>34.81</td>\n",
       "      <td>5.20</td>\n",
       "      <td>Female</td>\n",
       "      <td>No</td>\n",
       "      <td>Sun</td>\n",
       "      <td>Dinner</td>\n",
       "      <td>4</td>\n",
       "      <td>weekend</td>\n",
       "      <td>31-40</td>\n",
       "    </tr>\n",
       "    <tr>\n",
       "      <th>59</th>\n",
       "      <td>48.27</td>\n",
       "      <td>6.73</td>\n",
       "      <td>Male</td>\n",
       "      <td>No</td>\n",
       "      <td>Sat</td>\n",
       "      <td>Dinner</td>\n",
       "      <td>4</td>\n",
       "      <td>weekend</td>\n",
       "      <td>41+</td>\n",
       "    </tr>\n",
       "    <tr>\n",
       "      <th>...</th>\n",
       "      <td>...</td>\n",
       "      <td>...</td>\n",
       "      <td>...</td>\n",
       "      <td>...</td>\n",
       "      <td>...</td>\n",
       "      <td>...</td>\n",
       "      <td>...</td>\n",
       "      <td>...</td>\n",
       "      <td>...</td>\n",
       "    </tr>\n",
       "    <tr>\n",
       "      <th>183</th>\n",
       "      <td>23.17</td>\n",
       "      <td>6.50</td>\n",
       "      <td>Male</td>\n",
       "      <td>Yes</td>\n",
       "      <td>Sun</td>\n",
       "      <td>Dinner</td>\n",
       "      <td>4</td>\n",
       "      <td>weekend</td>\n",
       "      <td>21-30</td>\n",
       "    </tr>\n",
       "    <tr>\n",
       "      <th>211</th>\n",
       "      <td>25.89</td>\n",
       "      <td>5.16</td>\n",
       "      <td>Male</td>\n",
       "      <td>Yes</td>\n",
       "      <td>Sat</td>\n",
       "      <td>Dinner</td>\n",
       "      <td>4</td>\n",
       "      <td>weekend</td>\n",
       "      <td>21-30</td>\n",
       "    </tr>\n",
       "    <tr>\n",
       "      <th>212</th>\n",
       "      <td>48.33</td>\n",
       "      <td>9.00</td>\n",
       "      <td>Male</td>\n",
       "      <td>No</td>\n",
       "      <td>Sat</td>\n",
       "      <td>Dinner</td>\n",
       "      <td>4</td>\n",
       "      <td>weekend</td>\n",
       "      <td>41+</td>\n",
       "    </tr>\n",
       "    <tr>\n",
       "      <th>214</th>\n",
       "      <td>28.17</td>\n",
       "      <td>6.50</td>\n",
       "      <td>Female</td>\n",
       "      <td>Yes</td>\n",
       "      <td>Sat</td>\n",
       "      <td>Dinner</td>\n",
       "      <td>3</td>\n",
       "      <td>weekend</td>\n",
       "      <td>21-30</td>\n",
       "    </tr>\n",
       "    <tr>\n",
       "      <th>239</th>\n",
       "      <td>29.03</td>\n",
       "      <td>5.92</td>\n",
       "      <td>Male</td>\n",
       "      <td>No</td>\n",
       "      <td>Sat</td>\n",
       "      <td>Dinner</td>\n",
       "      <td>3</td>\n",
       "      <td>weekend</td>\n",
       "      <td>21-30</td>\n",
       "    </tr>\n",
       "  </tbody>\n",
       "</table>\n",
       "<p>18 rows × 9 columns</p>\n",
       "</div>"
      ],
      "text/plain": [
       "     total_bill   tip     sex smoker  day    time  size  weekend bill_cat\n",
       "23        39.42  7.58    Male     No  Sat  Dinner     4  weekend    31-40\n",
       "44        30.40  5.60    Male     No  Sun  Dinner     4  weekend    31-40\n",
       "47        32.40  6.00    Male     No  Sun  Dinner     4  weekend    31-40\n",
       "52        34.81  5.20  Female     No  Sun  Dinner     4  weekend    31-40\n",
       "59        48.27  6.73    Male     No  Sat  Dinner     4  weekend      41+\n",
       "..          ...   ...     ...    ...  ...     ...   ...      ...      ...\n",
       "183       23.17  6.50    Male    Yes  Sun  Dinner     4  weekend    21-30\n",
       "211       25.89  5.16    Male    Yes  Sat  Dinner     4  weekend    21-30\n",
       "212       48.33  9.00    Male     No  Sat  Dinner     4  weekend      41+\n",
       "214       28.17  6.50  Female    Yes  Sat  Dinner     3  weekend    21-30\n",
       "239       29.03  5.92    Male     No  Sat  Dinner     3  weekend    21-30\n",
       "\n",
       "[18 rows x 9 columns]"
      ]
     },
     "execution_count": 56,
     "metadata": {},
     "output_type": "execute_result"
    }
   ],
   "source": [
    "tips[tips.tip > 5]"
   ]
  },
  {
   "cell_type": "markdown",
   "metadata": {},
   "source": [
    "- 何が起きているかを確認します。\n",
    "    - ここでは条件式がTrue, Falseを出力し、それが[]に入ることでデータが抽出される仕組みとなっています。\n"
   ]
  },
  {
   "cell_type": "code",
   "execution_count": 57,
   "metadata": {
    "colab": {
     "base_uri": "https://localhost:8080/"
    },
    "executionInfo": {
     "elapsed": 372,
     "status": "ok",
     "timestamp": 1682751383482,
     "user": {
      "displayName": "瀧川裕貴",
      "userId": "05752887510241032794"
     },
     "user_tz": -540
    },
    "id": "GtxRmV5ZfjDZ",
    "outputId": "436d4a58-d7fb-48ba-b978-32aeef6ae319",
    "tags": [
     "hide-output"
    ]
   },
   "outputs": [
    {
     "data": {
      "text/plain": [
       "0      False\n",
       "1      False\n",
       "2      False\n",
       "3      False\n",
       "4      False\n",
       "       ...  \n",
       "239     True\n",
       "240    False\n",
       "241    False\n",
       "242    False\n",
       "243    False\n",
       "Name: tip, Length: 244, dtype: bool"
      ]
     },
     "execution_count": 57,
     "metadata": {},
     "output_type": "execute_result"
    }
   ],
   "source": [
    "tips.tip > 5"
   ]
  },
  {
   "cell_type": "markdown",
   "metadata": {},
   "source": [
    "```{note}\n",
    "- 条件をつなげるときには、and条件の場合、()&()、or条件の場合()|()と書きます。\"and\"や\"or\"ではないので注意しましょう。"
   ]
  },
  {
   "cell_type": "code",
   "execution_count": 58,
   "metadata": {
    "colab": {
     "base_uri": "https://localhost:8080/",
     "height": 1000
    },
    "executionInfo": {
     "elapsed": 284,
     "status": "ok",
     "timestamp": 1682751487419,
     "user": {
      "displayName": "瀧川裕貴",
      "userId": "05752887510241032794"
     },
     "user_tz": -540
    },
    "id": "k1iRWFOfdRTq",
    "outputId": "5acabf42-3070-4853-c303-bd5a2fb4b088"
   },
   "outputs": [
    {
     "name": "stdout",
     "output_type": "stream",
     "text": [
      "     total_bill   tip     sex smoker   day    time  size  weekend bill_cat\n",
      "0         16.99  1.01  Female     No   Sun  Dinner     2  weekend    11-20\n",
      "1         10.34  1.66    Male     No   Sun  Dinner     3  weekend    11-20\n",
      "2         21.01  3.50    Male     No   Sun  Dinner     3  weekend    21-30\n",
      "3         23.68  3.31    Male     No   Sun  Dinner     2  weekend    21-30\n",
      "4         24.59  3.61  Female     No   Sun  Dinner     4  weekend    21-30\n",
      "..          ...   ...     ...    ...   ...     ...   ...      ...      ...\n",
      "235       10.07  1.25    Male     No   Sat  Dinner     2  weekend    11-20\n",
      "238       35.83  4.67  Female     No   Sat  Dinner     3  weekend    31-40\n",
      "239       29.03  5.92    Male     No   Sat  Dinner     3  weekend    21-30\n",
      "242       17.82  1.75    Male     No   Sat  Dinner     2  weekend    11-20\n",
      "243       18.78  3.00  Female     No  Thur  Dinner     2  weekday    11-20\n",
      "\n",
      "[157 rows x 9 columns]\n"
     ]
    }
   ],
   "source": [
    "print(tips[(tips.tip > 5) | (tips.smoker == 'No')])#()がないとエラー#&でないとエラー"
   ]
  },
  {
   "cell_type": "markdown",
   "metadata": {},
   "source": [
    "```{note}\n",
    "- []で条件を与える場合、query()と異なり、str.hoge()を使うときにengine = \"python\"と書く必要ありません。"
   ]
  },
  {
   "cell_type": "code",
   "execution_count": 59,
   "metadata": {
    "colab": {
     "base_uri": "https://localhost:8080/",
     "height": 1000
    },
    "executionInfo": {
     "elapsed": 606,
     "status": "ok",
     "timestamp": 1682751517587,
     "user": {
      "displayName": "瀧川裕貴",
      "userId": "05752887510241032794"
     },
     "user_tz": -540
    },
    "id": "xr_qMxkJe9Nb",
    "outputId": "90e09de1-3c11-47a0-c358-e7ef3054f705"
   },
   "outputs": [
    {
     "name": "stdout",
     "output_type": "stream",
     "text": [
      "     total_bill   tip     sex smoker  day    time  size  weekend bill_cat\n",
      "0         16.99  1.01  Female     No  Sun  Dinner     2  weekend    11-20\n",
      "1         10.34  1.66    Male     No  Sun  Dinner     3  weekend    11-20\n",
      "2         21.01  3.50    Male     No  Sun  Dinner     3  weekend    21-30\n",
      "3         23.68  3.31    Male     No  Sun  Dinner     2  weekend    21-30\n",
      "4         24.59  3.61  Female     No  Sun  Dinner     4  weekend    21-30\n",
      "..          ...   ...     ...    ...  ...     ...   ...      ...      ...\n",
      "238       35.83  4.67  Female     No  Sat  Dinner     3  weekend    31-40\n",
      "239       29.03  5.92    Male     No  Sat  Dinner     3  weekend    21-30\n",
      "240       27.18  2.00  Female    Yes  Sat  Dinner     2  weekend    21-30\n",
      "241       22.67  2.00    Male    Yes  Sat  Dinner     2  weekend    21-30\n",
      "242       17.82  1.75    Male     No  Sat  Dinner     2  weekend    11-20\n",
      "\n",
      "[163 rows x 9 columns]\n"
     ]
    }
   ],
   "source": [
    "print(tips[tips.day.str.contains('S')])"
   ]
  },
  {
   "cell_type": "markdown",
   "metadata": {
    "id": "ymN3bAMdfIXQ"
   },
   "source": [
    "```{adomonition} コメント\n",
    "- queryを使う方法の方が可読性が高いので基本的には推奨します。\n",
    "    - queryでは&, |の代わりにand, orを用いることもできます。\n",
    "- ただし、queryで表現できない条件もあるので、その場合は[]の中に条件を書くやり方を用います。\n",
    "```"
   ]
  },
  {
   "cell_type": "markdown",
   "metadata": {
    "id": "OmVPQzT4DLTs"
   },
   "source": [
    "### groupby（集団別操作）\n",
    "- カテゴリごとの集計や平均などを出力したいときはgroupbyを用います。\n",
    "- groupby('cat')['hoge'].mean()などとすると、catカテゴリの各メンバーのhoge変数の平均が出力されます。"
   ]
  },
  {
   "cell_type": "code",
   "execution_count": 60,
   "metadata": {
    "colab": {
     "base_uri": "https://localhost:8080/"
    },
    "executionInfo": {
     "elapsed": 315,
     "status": "ok",
     "timestamp": 1682751640377,
     "user": {
      "displayName": "瀧川裕貴",
      "userId": "05752887510241032794"
     },
     "user_tz": -540
    },
    "id": "tvRTYDE6EEPP",
    "outputId": "2cdcfbf4-b708-47b6-bed0-7f0fbdcb0e0b"
   },
   "outputs": [
    {
     "data": {
      "text/plain": [
       "sex\n",
       "Female    2.833448\n",
       "Male      3.089618\n",
       "Name: tip, dtype: float64"
      ]
     },
     "execution_count": 60,
     "metadata": {},
     "output_type": "execute_result"
    }
   ],
   "source": [
    "tips.groupby('sex')['tip'].mean()#groupbyメソッドを使って、sex列でグループ化し、tip列の平均値を求めています。"
   ]
  },
  {
   "cell_type": "code",
   "execution_count": 61,
   "metadata": {
    "colab": {
     "base_uri": "https://localhost:8080/"
    },
    "executionInfo": {
     "elapsed": 267,
     "status": "ok",
     "timestamp": 1682751648654,
     "user": {
      "displayName": "瀧川裕貴",
      "userId": "05752887510241032794"
     },
     "user_tz": -540
    },
    "id": "2LbJo9NNFg7I",
    "outputId": "01379655-58b6-4100-ac6a-32a9f08f00cd"
   },
   "outputs": [
    {
     "data": {
      "text/plain": [
       "sex\n",
       "Female     87\n",
       "Male      157\n",
       "Name: smoker, dtype: int64"
      ]
     },
     "execution_count": 61,
     "metadata": {},
     "output_type": "execute_result"
    }
   ],
   "source": [
    "tips.groupby('sex')['smoker'].count()#groupbyメソッドを使って、sex列でグループ化し、smoker列の値の数を求めています。"
   ]
  },
  {
   "cell_type": "code",
   "execution_count": 62,
   "metadata": {
    "colab": {
     "base_uri": "https://localhost:8080/",
     "height": 331
    },
    "executionInfo": {
     "elapsed": 391,
     "status": "ok",
     "timestamp": 1682751659412,
     "user": {
      "displayName": "瀧川裕貴",
      "userId": "05752887510241032794"
     },
     "user_tz": -540
    },
    "id": "96SV9rNAFtW-",
    "outputId": "61bc8342-cadb-49be-9ec8-6fc1835526a2"
   },
   "outputs": [
    {
     "data": {
      "text/html": [
       "<div>\n",
       "<style scoped>\n",
       "    .dataframe tbody tr th:only-of-type {\n",
       "        vertical-align: middle;\n",
       "    }\n",
       "\n",
       "    .dataframe tbody tr th {\n",
       "        vertical-align: top;\n",
       "    }\n",
       "\n",
       "    .dataframe thead tr th {\n",
       "        text-align: left;\n",
       "    }\n",
       "\n",
       "    .dataframe thead tr:last-of-type th {\n",
       "        text-align: right;\n",
       "    }\n",
       "</style>\n",
       "<table border=\"1\" class=\"dataframe\">\n",
       "  <thead>\n",
       "    <tr>\n",
       "      <th></th>\n",
       "      <th colspan=\"8\" halign=\"left\">total_bill</th>\n",
       "      <th colspan=\"5\" halign=\"left\">tip</th>\n",
       "      <th colspan=\"8\" halign=\"left\">size</th>\n",
       "    </tr>\n",
       "    <tr>\n",
       "      <th></th>\n",
       "      <th>count</th>\n",
       "      <th>mean</th>\n",
       "      <th>std</th>\n",
       "      <th>min</th>\n",
       "      <th>25%</th>\n",
       "      <th>50%</th>\n",
       "      <th>75%</th>\n",
       "      <th>max</th>\n",
       "      <th>count</th>\n",
       "      <th>mean</th>\n",
       "      <th>...</th>\n",
       "      <th>75%</th>\n",
       "      <th>max</th>\n",
       "      <th>count</th>\n",
       "      <th>mean</th>\n",
       "      <th>std</th>\n",
       "      <th>min</th>\n",
       "      <th>25%</th>\n",
       "      <th>50%</th>\n",
       "      <th>75%</th>\n",
       "      <th>max</th>\n",
       "    </tr>\n",
       "    <tr>\n",
       "      <th>day</th>\n",
       "      <th></th>\n",
       "      <th></th>\n",
       "      <th></th>\n",
       "      <th></th>\n",
       "      <th></th>\n",
       "      <th></th>\n",
       "      <th></th>\n",
       "      <th></th>\n",
       "      <th></th>\n",
       "      <th></th>\n",
       "      <th></th>\n",
       "      <th></th>\n",
       "      <th></th>\n",
       "      <th></th>\n",
       "      <th></th>\n",
       "      <th></th>\n",
       "      <th></th>\n",
       "      <th></th>\n",
       "      <th></th>\n",
       "      <th></th>\n",
       "      <th></th>\n",
       "    </tr>\n",
       "  </thead>\n",
       "  <tbody>\n",
       "    <tr>\n",
       "      <th>Fri</th>\n",
       "      <td>19.0</td>\n",
       "      <td>17.151579</td>\n",
       "      <td>8.302660</td>\n",
       "      <td>5.75</td>\n",
       "      <td>12.0950</td>\n",
       "      <td>15.38</td>\n",
       "      <td>21.7500</td>\n",
       "      <td>40.17</td>\n",
       "      <td>19.0</td>\n",
       "      <td>2.734737</td>\n",
       "      <td>...</td>\n",
       "      <td>3.3650</td>\n",
       "      <td>4.73</td>\n",
       "      <td>19.0</td>\n",
       "      <td>2.105263</td>\n",
       "      <td>0.567131</td>\n",
       "      <td>1.0</td>\n",
       "      <td>2.0</td>\n",
       "      <td>2.0</td>\n",
       "      <td>2.0</td>\n",
       "      <td>4.0</td>\n",
       "    </tr>\n",
       "    <tr>\n",
       "      <th>Sat</th>\n",
       "      <td>87.0</td>\n",
       "      <td>20.441379</td>\n",
       "      <td>9.480419</td>\n",
       "      <td>3.07</td>\n",
       "      <td>13.9050</td>\n",
       "      <td>18.24</td>\n",
       "      <td>24.7400</td>\n",
       "      <td>50.81</td>\n",
       "      <td>87.0</td>\n",
       "      <td>2.993103</td>\n",
       "      <td>...</td>\n",
       "      <td>3.3700</td>\n",
       "      <td>10.00</td>\n",
       "      <td>87.0</td>\n",
       "      <td>2.517241</td>\n",
       "      <td>0.819275</td>\n",
       "      <td>1.0</td>\n",
       "      <td>2.0</td>\n",
       "      <td>2.0</td>\n",
       "      <td>3.0</td>\n",
       "      <td>5.0</td>\n",
       "    </tr>\n",
       "    <tr>\n",
       "      <th>Sun</th>\n",
       "      <td>76.0</td>\n",
       "      <td>21.410000</td>\n",
       "      <td>8.832122</td>\n",
       "      <td>7.25</td>\n",
       "      <td>14.9875</td>\n",
       "      <td>19.63</td>\n",
       "      <td>25.5975</td>\n",
       "      <td>48.17</td>\n",
       "      <td>76.0</td>\n",
       "      <td>3.255132</td>\n",
       "      <td>...</td>\n",
       "      <td>4.0000</td>\n",
       "      <td>6.50</td>\n",
       "      <td>76.0</td>\n",
       "      <td>2.842105</td>\n",
       "      <td>1.007341</td>\n",
       "      <td>2.0</td>\n",
       "      <td>2.0</td>\n",
       "      <td>2.0</td>\n",
       "      <td>4.0</td>\n",
       "      <td>6.0</td>\n",
       "    </tr>\n",
       "    <tr>\n",
       "      <th>Thur</th>\n",
       "      <td>62.0</td>\n",
       "      <td>17.682742</td>\n",
       "      <td>7.886170</td>\n",
       "      <td>7.51</td>\n",
       "      <td>12.4425</td>\n",
       "      <td>16.20</td>\n",
       "      <td>20.1550</td>\n",
       "      <td>43.11</td>\n",
       "      <td>62.0</td>\n",
       "      <td>2.771452</td>\n",
       "      <td>...</td>\n",
       "      <td>3.3625</td>\n",
       "      <td>6.70</td>\n",
       "      <td>62.0</td>\n",
       "      <td>2.451613</td>\n",
       "      <td>1.066285</td>\n",
       "      <td>1.0</td>\n",
       "      <td>2.0</td>\n",
       "      <td>2.0</td>\n",
       "      <td>2.0</td>\n",
       "      <td>6.0</td>\n",
       "    </tr>\n",
       "  </tbody>\n",
       "</table>\n",
       "<p>4 rows × 24 columns</p>\n",
       "</div>"
      ],
      "text/plain": [
       "     total_bill                                                             \\\n",
       "          count       mean       std   min      25%    50%      75%    max   \n",
       "day                                                                          \n",
       "Fri        19.0  17.151579  8.302660  5.75  12.0950  15.38  21.7500  40.17   \n",
       "Sat        87.0  20.441379  9.480419  3.07  13.9050  18.24  24.7400  50.81   \n",
       "Sun        76.0  21.410000  8.832122  7.25  14.9875  19.63  25.5975  48.17   \n",
       "Thur       62.0  17.682742  7.886170  7.51  12.4425  16.20  20.1550  43.11   \n",
       "\n",
       "       tip            ...                 size                                \\\n",
       "     count      mean  ...     75%    max count      mean       std  min  25%   \n",
       "day                   ...                                                      \n",
       "Fri   19.0  2.734737  ...  3.3650   4.73  19.0  2.105263  0.567131  1.0  2.0   \n",
       "Sat   87.0  2.993103  ...  3.3700  10.00  87.0  2.517241  0.819275  1.0  2.0   \n",
       "Sun   76.0  3.255132  ...  4.0000   6.50  76.0  2.842105  1.007341  2.0  2.0   \n",
       "Thur  62.0  2.771452  ...  3.3625   6.70  62.0  2.451613  1.066285  1.0  2.0   \n",
       "\n",
       "                     \n",
       "      50%  75%  max  \n",
       "day                  \n",
       "Fri   2.0  2.0  4.0  \n",
       "Sat   2.0  3.0  5.0  \n",
       "Sun   2.0  4.0  6.0  \n",
       "Thur  2.0  2.0  6.0  \n",
       "\n",
       "[4 rows x 24 columns]"
      ]
     },
     "execution_count": 62,
     "metadata": {},
     "output_type": "execute_result"
    }
   ],
   "source": [
    "tips.groupby('day').describe()#groupbyメソッドを使って、day列でグループ化し、describeメソッドを使って統計量を求めています。"
   ]
  },
  {
   "cell_type": "markdown",
   "metadata": {
    "id": "4rpEsw80F1xq"
   },
   "source": [
    "#### applyとagg\n",
    "- 自作関数を適用する場合はapply()を用います。\n",
    "- 例えば、不偏分散を計算する自作関数を作って適用したい場合は以下のようにします。"
   ]
  },
  {
   "cell_type": "code",
   "execution_count": 63,
   "metadata": {
    "colab": {
     "base_uri": "https://localhost:8080/"
    },
    "executionInfo": {
     "elapsed": 266,
     "status": "ok",
     "timestamp": 1682751764742,
     "user": {
      "displayName": "瀧川裕貴",
      "userId": "05752887510241032794"
     },
     "user_tz": -540
    },
    "id": "2dpE2-03DJI4",
    "outputId": "9258a106-88a5-4c17-9524-5dcb3b5539a1"
   },
   "outputs": [
    {
     "data": {
      "text/plain": [
       "day\n",
       "Fri     68.934158\n",
       "Sat     89.878338\n",
       "Sun     78.006376\n",
       "Thur    62.191683\n",
       "Name: total_bill, dtype: float64"
      ]
     },
     "execution_count": 63,
     "metadata": {},
     "output_type": "execute_result"
    }
   ],
   "source": [
    "import numpy as np\n",
    "def unbiased_variance(x):\n",
    "   y = sum((x - np.mean(x))**2)/(len(x) - 1)\n",
    "   return y\n",
    "tips.groupby('day')[\"total_bill\"].apply(unbiased_variance)"
   ]
  },
  {
   "cell_type": "markdown",
   "metadata": {},
   "source": [
    "- agg()で変数ごとに異なる関数を適用することもできます。agg(\"var1\":\"hoge1\",\"var2\":\"hoge2\")と書きます。"
   ]
  },
  {
   "cell_type": "code",
   "execution_count": 64,
   "metadata": {
    "colab": {
     "base_uri": "https://localhost:8080/",
     "height": 206
    },
    "executionInfo": {
     "elapsed": 263,
     "status": "ok",
     "timestamp": 1682751824324,
     "user": {
      "displayName": "瀧川裕貴",
      "userId": "05752887510241032794"
     },
     "user_tz": -540
    },
    "id": "Dfbt2RvTEJV8",
    "outputId": "cd8a02bd-4ceb-4298-faf1-bd8f21132b88"
   },
   "outputs": [
    {
     "data": {
      "text/html": [
       "<div>\n",
       "<style scoped>\n",
       "    .dataframe tbody tr th:only-of-type {\n",
       "        vertical-align: middle;\n",
       "    }\n",
       "\n",
       "    .dataframe tbody tr th {\n",
       "        vertical-align: top;\n",
       "    }\n",
       "\n",
       "    .dataframe thead th {\n",
       "        text-align: right;\n",
       "    }\n",
       "</style>\n",
       "<table border=\"1\" class=\"dataframe\">\n",
       "  <thead>\n",
       "    <tr style=\"text-align: right;\">\n",
       "      <th></th>\n",
       "      <th>total_bill</th>\n",
       "      <th>tip</th>\n",
       "    </tr>\n",
       "    <tr>\n",
       "      <th>day</th>\n",
       "      <th></th>\n",
       "      <th></th>\n",
       "    </tr>\n",
       "  </thead>\n",
       "  <tbody>\n",
       "    <tr>\n",
       "      <th>Fri</th>\n",
       "      <td>68.934158</td>\n",
       "      <td>2.734737</td>\n",
       "    </tr>\n",
       "    <tr>\n",
       "      <th>Sat</th>\n",
       "      <td>89.878338</td>\n",
       "      <td>2.993103</td>\n",
       "    </tr>\n",
       "    <tr>\n",
       "      <th>Sun</th>\n",
       "      <td>78.006376</td>\n",
       "      <td>3.255132</td>\n",
       "    </tr>\n",
       "    <tr>\n",
       "      <th>Thur</th>\n",
       "      <td>62.191683</td>\n",
       "      <td>2.771452</td>\n",
       "    </tr>\n",
       "  </tbody>\n",
       "</table>\n",
       "</div>"
      ],
      "text/plain": [
       "      total_bill       tip\n",
       "day                       \n",
       "Fri    68.934158  2.734737\n",
       "Sat    89.878338  2.993103\n",
       "Sun    78.006376  3.255132\n",
       "Thur   62.191683  2.771452"
      ]
     },
     "execution_count": 64,
     "metadata": {},
     "output_type": "execute_result"
    }
   ],
   "source": [
    "tips.groupby('day').agg({\"total_bill\":unbiased_variance,\"tip\":\"mean\"})#備え付けの関数は\"\"で囲む"
   ]
  },
  {
   "cell_type": "markdown",
   "metadata": {
    "id": "vnhzo1p3KoGv"
   },
   "source": [
    "### 問題2\n",
    "- 引き続き、gapminderデータセットを使ってデータフレームの操作の練習をする。"
   ]
  },
  {
   "cell_type": "code",
   "execution_count": 65,
   "metadata": {
    "executionInfo": {
     "elapsed": 440,
     "status": "ok",
     "timestamp": 1682751866621,
     "user": {
      "displayName": "瀧川裕貴",
      "userId": "05752887510241032794"
     },
     "user_tz": -540
    },
    "id": "mKwtcjfKK0J0"
   },
   "outputs": [],
   "source": [
    "gapminder = px.data.gapminder()"
   ]
  },
  {
   "cell_type": "markdown",
   "metadata": {
    "id": "h4BbKHvVKqtt"
   },
   "source": [
    "#### 問題2-1\n",
    "データセットの国別の平均GDP（gdpPercap）を求めてください。\n",
    "\n"
   ]
  },
  {
   "cell_type": "code",
   "execution_count": 66,
   "metadata": {
    "colab": {
     "base_uri": "https://localhost:8080/"
    },
    "executionInfo": {
     "elapsed": 7,
     "status": "ok",
     "timestamp": 1682752287184,
     "user": {
      "displayName": "瀧川裕貴",
      "userId": "05752887510241032794"
     },
     "user_tz": -540
    },
    "id": "wUKksJOQ2c1g",
    "outputId": "1446fc3d-354e-4f10-c9cb-20c35b8b81d1",
    "tags": [
     "remove-input",
     "hide-output"
    ]
   },
   "outputs": [
    {
     "data": {
      "text/plain": [
       "country\n",
       "Afghanistan            802.674598\n",
       "Albania               3255.366633\n",
       "Algeria               4426.025973\n",
       "Angola                3607.100529\n",
       "Argentina             8955.553783\n",
       "                         ...     \n",
       "Vietnam               1017.712615\n",
       "West Bank and Gaza    3759.996781\n",
       "Yemen, Rep.           1569.274672\n",
       "Zambia                1358.199409\n",
       "Zimbabwe               635.858042\n",
       "Name: gdpPercap, Length: 142, dtype: float64"
      ]
     },
     "execution_count": 66,
     "metadata": {},
     "output_type": "execute_result"
    }
   ],
   "source": [
    "gapminder.groupby('country')['gdpPercap'].mean()"
   ]
  },
  {
   "cell_type": "markdown",
   "metadata": {
    "id": "pb6F_96KLMVl"
   },
   "source": [
    "#### 問題2-2\n",
    "データセットから2007年のデータだけを抽出し、人口（pop）が上位10位の国をリストアップしてください。"
   ]
  },
  {
   "cell_type": "code",
   "execution_count": 67,
   "metadata": {
    "executionInfo": {
     "elapsed": 395,
     "status": "ok",
     "timestamp": 1682752331592,
     "user": {
      "displayName": "瀧川裕貴",
      "userId": "05752887510241032794"
     },
     "user_tz": -540
    },
    "id": "7ZVgmyUw2nfa",
    "tags": [
     "remove-input"
    ]
   },
   "outputs": [
    {
     "data": {
      "text/plain": [
       "299             China\n",
       "707             India\n",
       "1619    United States\n",
       "719         Indonesia\n",
       "179            Brazil\n",
       "1175         Pakistan\n",
       "107        Bangladesh\n",
       "1139          Nigeria\n",
       "803             Japan\n",
       "995            Mexico\n",
       "Name: country, dtype: object"
      ]
     },
     "execution_count": 67,
     "metadata": {},
     "output_type": "execute_result"
    }
   ],
   "source": [
    "gapminder.query('year==2007').nlargest(10,'pop')['country']"
   ]
  },
  {
   "cell_type": "markdown",
   "metadata": {
    "id": "cdJI2VrxLtxH"
   },
   "source": [
    "#### 問題2-3\n",
    "データセットから、アジア（continentが'Asia'）の国のデータを抽出し、GDP（gdpPercap）が上位5位の国を2007年のデータに基づいてリストアップしてください。\n",
    "\n"
   ]
  },
  {
   "cell_type": "code",
   "execution_count": 68,
   "metadata": {
    "executionInfo": {
     "elapsed": 311,
     "status": "ok",
     "timestamp": 1682752451663,
     "user": {
      "displayName": "瀧川裕貴",
      "userId": "05752887510241032794"
     },
     "user_tz": -540
    },
    "id": "ZGj_b7743Ax5",
    "tags": [
     "remove-input"
    ]
   },
   "outputs": [
    {
     "data": {
      "text/plain": [
       "863               Kuwait\n",
       "1367           Singapore\n",
       "671     Hong Kong, China\n",
       "803                Japan\n",
       "95               Bahrain\n",
       "Name: country, dtype: object"
      ]
     },
     "execution_count": 68,
     "metadata": {},
     "output_type": "execute_result"
    }
   ],
   "source": [
    "gapminder.query('continent == \"Asia\"').query('year == 2007').nlargest(5,'gdpPercap')['country']"
   ]
  },
  {
   "cell_type": "markdown",
   "metadata": {
    "id": "nlyY-m_TLzih"
   },
   "source": [
    "#### 問題2-4:\n",
    "データフレームgapminderを、'continent'ごとにグループ化し、各大陸の平均寿命（'lifeExp'）の最大値と最小値を求めてください。\n",
    "```{hint}\n",
    "- max, minという関数が使えます。"
   ]
  },
  {
   "cell_type": "code",
   "execution_count": 69,
   "metadata": {
    "colab": {
     "base_uri": "https://localhost:8080/",
     "height": 237
    },
    "executionInfo": {
     "elapsed": 421,
     "status": "ok",
     "timestamp": 1682752592371,
     "user": {
      "displayName": "瀧川裕貴",
      "userId": "05752887510241032794"
     },
     "user_tz": -540
    },
    "id": "wzwHyokq3gVd",
    "outputId": "27bd0c59-5c7f-4141-9b1d-377e4191dc2b",
    "tags": [
     "remove-input"
    ]
   },
   "outputs": [
    {
     "data": {
      "text/html": [
       "<div>\n",
       "<style scoped>\n",
       "    .dataframe tbody tr th:only-of-type {\n",
       "        vertical-align: middle;\n",
       "    }\n",
       "\n",
       "    .dataframe tbody tr th {\n",
       "        vertical-align: top;\n",
       "    }\n",
       "\n",
       "    .dataframe thead th {\n",
       "        text-align: right;\n",
       "    }\n",
       "</style>\n",
       "<table border=\"1\" class=\"dataframe\">\n",
       "  <thead>\n",
       "    <tr style=\"text-align: right;\">\n",
       "      <th></th>\n",
       "      <th>max</th>\n",
       "      <th>min</th>\n",
       "    </tr>\n",
       "    <tr>\n",
       "      <th>continent</th>\n",
       "      <th></th>\n",
       "      <th></th>\n",
       "    </tr>\n",
       "  </thead>\n",
       "  <tbody>\n",
       "    <tr>\n",
       "      <th>Africa</th>\n",
       "      <td>76.442</td>\n",
       "      <td>23.599</td>\n",
       "    </tr>\n",
       "    <tr>\n",
       "      <th>Americas</th>\n",
       "      <td>80.653</td>\n",
       "      <td>37.579</td>\n",
       "    </tr>\n",
       "    <tr>\n",
       "      <th>Asia</th>\n",
       "      <td>82.603</td>\n",
       "      <td>28.801</td>\n",
       "    </tr>\n",
       "    <tr>\n",
       "      <th>Europe</th>\n",
       "      <td>81.757</td>\n",
       "      <td>43.585</td>\n",
       "    </tr>\n",
       "    <tr>\n",
       "      <th>Oceania</th>\n",
       "      <td>81.235</td>\n",
       "      <td>69.120</td>\n",
       "    </tr>\n",
       "  </tbody>\n",
       "</table>\n",
       "</div>"
      ],
      "text/plain": [
       "              max     min\n",
       "continent                \n",
       "Africa     76.442  23.599\n",
       "Americas   80.653  37.579\n",
       "Asia       82.603  28.801\n",
       "Europe     81.757  43.585\n",
       "Oceania    81.235  69.120"
      ]
     },
     "execution_count": 69,
     "metadata": {},
     "output_type": "execute_result"
    }
   ],
   "source": [
    "gapminder.groupby('continent')['lifeExp'].agg([\"max\",\"min\"])"
   ]
  },
  {
   "cell_type": "markdown",
   "metadata": {
    "id": "oV4thbFws-wO"
   },
   "source": [
    "#### 例題\n",
    "データフレームgapminderを、'year'ごとにグループ化し、各年の人口（'pop'）が最も高い上位3つの国名（'country'）を求めてください。"
   ]
  },
  {
   "cell_type": "code",
   "execution_count": 70,
   "metadata": {
    "colab": {
     "base_uri": "https://localhost:8080/"
    },
    "executionInfo": {
     "elapsed": 264,
     "status": "ok",
     "timestamp": 1682752773490,
     "user": {
      "displayName": "瀧川裕貴",
      "userId": "05752887510241032794"
     },
     "user_tz": -540
    },
    "id": "_Fb_-K_UtC09",
    "outputId": "e7bffa69-30be-4c74-9c3b-a150c2951b7b"
   },
   "outputs": [
    {
     "name": "stdout",
     "output_type": "stream",
     "text": [
      "year\n",
      "1952     [China, India, United States, Japan, Indonesia]\n",
      "1957     [China, India, United States, Japan, Indonesia]\n",
      "1962     [China, India, United States, Indonesia, Japan]\n",
      "1967     [China, India, United States, Indonesia, Japan]\n",
      "1972     [China, India, United States, Indonesia, Japan]\n",
      "                              ...                       \n",
      "1987    [China, India, United States, Indonesia, Brazil]\n",
      "1992    [China, India, United States, Indonesia, Brazil]\n",
      "1997    [China, India, United States, Indonesia, Brazil]\n",
      "2002    [China, India, United States, Indonesia, Brazil]\n",
      "2007    [China, India, United States, Indonesia, Brazil]\n",
      "Length: 12, dtype: object\n"
     ]
    }
   ],
   "source": [
    "def top_5_countries_by_pop(group):\n",
    "    top_5_countries = group.nlargest(5, 'pop')['country']\n",
    "    return top_5_countries.tolist()\n",
    "\n",
    "top_5_countries_by_year = gapminder.groupby('year').apply(top_5_countries_by_pop)\n",
    "print(top_5_countries_by_year)\n"
   ]
  },
  {
   "cell_type": "markdown",
   "metadata": {
    "id": "-bxM7b52tEwk"
   },
   "source": [
    "#### 問題2-5\n",
    "データフレームgapminderを、'continent'ごとにグループ化し、各大陸のGDP（'gdpPercap'）が平均以上の国名（'country'）を求めてください。\n",
    "\n"
   ]
  },
  {
   "cell_type": "code",
   "execution_count": 71,
   "metadata": {
    "colab": {
     "base_uri": "https://localhost:8080/"
    },
    "executionInfo": {
     "elapsed": 315,
     "status": "ok",
     "timestamp": 1682753565023,
     "user": {
      "displayName": "瀧川裕貴",
      "userId": "05752887510241032794"
     },
     "user_tz": -540
    },
    "id": "jU3iGMgu6a4u",
    "outputId": "040d70c9-a0df-4537-dbac-0bddbc046963",
    "tags": [
     "remove-input"
    ]
   },
   "outputs": [
    {
     "data": {
      "text/plain": [
       "continent  year\n",
       "Africa     1952    [Algeria, Angola, Congo, Rep., Cote d'Ivoire, ...\n",
       "           1957    [Algeria, Angola, Congo, Rep., Cote d'Ivoire, ...\n",
       "           1962    [Algeria, Angola, Congo, Rep., Cote d'Ivoire, ...\n",
       "           1967    [Algeria, Angola, Congo, Rep., Cote d'Ivoire, ...\n",
       "           1972    [Algeria, Angola, Congo, Rep., Cote d'Ivoire, ...\n",
       "                                         ...                        \n",
       "Oceania    1987                                          [Australia]\n",
       "           1992                                          [Australia]\n",
       "           1997                                          [Australia]\n",
       "           2002                                          [Australia]\n",
       "           2007                                          [Australia]\n",
       "Length: 60, dtype: object"
      ]
     },
     "execution_count": 71,
     "metadata": {},
     "output_type": "execute_result"
    }
   ],
   "source": [
    "def countries_with_above_aberage_gdp(group):\n",
    "  avg_gdp = group['gdpPercap'].mean()\n",
    "  return group[group['gdpPercap']>avg_gdp]['country'].tolist()\n",
    "gapminder.groupby(['continent','year']).apply(countries_with_above_aberage_gdp)"
   ]
  },
  {
   "cell_type": "markdown",
   "metadata": {
    "id": "sRLZ2MBY-gnx"
   },
   "source": [
    "### データフレームの作成、列名の変更\n",
    "- データフレームの作成については、ディクショナリを使う方法と2次元リストから作る方法を紹介します。\n"
   ]
  },
  {
   "cell_type": "markdown",
   "metadata": {},
   "source": [
    "- ディクショナリから作る場合、valueはリストとします。"
   ]
  },
  {
   "cell_type": "code",
   "execution_count": 72,
   "metadata": {
    "executionInfo": {
     "elapsed": 2,
     "status": "ok",
     "timestamp": 1682753709208,
     "user": {
      "displayName": "瀧川裕貴",
      "userId": "05752887510241032794"
     },
     "user_tz": -540
    },
    "id": "jkxnisPb-gn1"
   },
   "outputs": [],
   "source": [
    "data = {'name':['マックス', 'エミール', 'ゲオルグ', 'タルコット', 'ロバート'], 'birthyear':['1864','1858','1858','1902','1910']}\n"
   ]
  },
  {
   "cell_type": "code",
   "execution_count": 73,
   "metadata": {
    "executionInfo": {
     "elapsed": 243,
     "status": "ok",
     "timestamp": 1682753732705,
     "user": {
      "displayName": "瀧川裕貴",
      "userId": "05752887510241032794"
     },
     "user_tz": -540
    },
    "id": "K6YIcZwJh6Gp"
   },
   "outputs": [
    {
     "data": {
      "text/html": [
       "<div>\n",
       "<style scoped>\n",
       "    .dataframe tbody tr th:only-of-type {\n",
       "        vertical-align: middle;\n",
       "    }\n",
       "\n",
       "    .dataframe tbody tr th {\n",
       "        vertical-align: top;\n",
       "    }\n",
       "\n",
       "    .dataframe thead th {\n",
       "        text-align: right;\n",
       "    }\n",
       "</style>\n",
       "<table border=\"1\" class=\"dataframe\">\n",
       "  <thead>\n",
       "    <tr style=\"text-align: right;\">\n",
       "      <th></th>\n",
       "      <th>name</th>\n",
       "      <th>birthyear</th>\n",
       "    </tr>\n",
       "  </thead>\n",
       "  <tbody>\n",
       "    <tr>\n",
       "      <th>0</th>\n",
       "      <td>マックス</td>\n",
       "      <td>1864</td>\n",
       "    </tr>\n",
       "    <tr>\n",
       "      <th>1</th>\n",
       "      <td>エミール</td>\n",
       "      <td>1858</td>\n",
       "    </tr>\n",
       "    <tr>\n",
       "      <th>2</th>\n",
       "      <td>ゲオルグ</td>\n",
       "      <td>1858</td>\n",
       "    </tr>\n",
       "    <tr>\n",
       "      <th>3</th>\n",
       "      <td>タルコット</td>\n",
       "      <td>1902</td>\n",
       "    </tr>\n",
       "    <tr>\n",
       "      <th>4</th>\n",
       "      <td>ロバート</td>\n",
       "      <td>1910</td>\n",
       "    </tr>\n",
       "  </tbody>\n",
       "</table>\n",
       "</div>"
      ],
      "text/plain": [
       "    name birthyear\n",
       "0   マックス      1864\n",
       "1   エミール      1858\n",
       "2   ゲオルグ      1858\n",
       "3  タルコット      1902\n",
       "4   ロバート      1910"
      ]
     },
     "execution_count": 73,
     "metadata": {},
     "output_type": "execute_result"
    }
   ],
   "source": [
    "df = pd.DataFrame(data)\n",
    "df"
   ]
  },
  {
   "cell_type": "markdown",
   "metadata": {},
   "source": [
    "- リストから作る場合、2次元のリストを元とします。\n"
   ]
  },
  {
   "cell_type": "code",
   "execution_count": 74,
   "metadata": {
    "executionInfo": {
     "elapsed": 271,
     "status": "ok",
     "timestamp": 1682753751725,
     "user": {
      "displayName": "瀧川裕貴",
      "userId": "05752887510241032794"
     },
     "user_tz": -540
    },
    "id": "PMewWt4KkQ_l"
   },
   "outputs": [],
   "source": [
    "data = [['マックス','1864'],\n",
    "        ['エミール','1858'],\n",
    "        ['ゲオルグ','1858'],\n",
    "        ['タルコット','1902'],\n",
    "        ['ロバート','1910']\n",
    "         ]#リストのリストを作って…"
   ]
  },
  {
   "cell_type": "code",
   "execution_count": 75,
   "metadata": {
    "executionInfo": {
     "elapsed": 266,
     "status": "ok",
     "timestamp": 1682753773324,
     "user": {
      "displayName": "瀧川裕貴",
      "userId": "05752887510241032794"
     },
     "user_tz": -540
    },
    "id": "r4IULwdXkqFa"
   },
   "outputs": [
    {
     "data": {
      "text/html": [
       "<div>\n",
       "<style scoped>\n",
       "    .dataframe tbody tr th:only-of-type {\n",
       "        vertical-align: middle;\n",
       "    }\n",
       "\n",
       "    .dataframe tbody tr th {\n",
       "        vertical-align: top;\n",
       "    }\n",
       "\n",
       "    .dataframe thead th {\n",
       "        text-align: right;\n",
       "    }\n",
       "</style>\n",
       "<table border=\"1\" class=\"dataframe\">\n",
       "  <thead>\n",
       "    <tr style=\"text-align: right;\">\n",
       "      <th></th>\n",
       "      <th>name</th>\n",
       "      <th>birthyear</th>\n",
       "    </tr>\n",
       "  </thead>\n",
       "  <tbody>\n",
       "    <tr>\n",
       "      <th>0</th>\n",
       "      <td>マックス</td>\n",
       "      <td>1864</td>\n",
       "    </tr>\n",
       "    <tr>\n",
       "      <th>1</th>\n",
       "      <td>エミール</td>\n",
       "      <td>1858</td>\n",
       "    </tr>\n",
       "    <tr>\n",
       "      <th>2</th>\n",
       "      <td>ゲオルグ</td>\n",
       "      <td>1858</td>\n",
       "    </tr>\n",
       "    <tr>\n",
       "      <th>3</th>\n",
       "      <td>タルコット</td>\n",
       "      <td>1902</td>\n",
       "    </tr>\n",
       "    <tr>\n",
       "      <th>4</th>\n",
       "      <td>ロバート</td>\n",
       "      <td>1910</td>\n",
       "    </tr>\n",
       "  </tbody>\n",
       "</table>\n",
       "</div>"
      ],
      "text/plain": [
       "    name birthyear\n",
       "0   マックス      1864\n",
       "1   エミール      1858\n",
       "2   ゲオルグ      1858\n",
       "3  タルコット      1902\n",
       "4   ロバート      1910"
      ]
     },
     "execution_count": 75,
     "metadata": {},
     "output_type": "execute_result"
    }
   ],
   "source": [
    "df = pd.DataFrame(data, columns = ['name','birthyear'])#columnsで列名を指定してデータフレームを作成\n",
    "df"
   ]
  },
  {
   "cell_type": "markdown",
   "metadata": {},
   "source": [
    "-  列名の変更はcolumnsに直接代入するか、renameを用います。\n",
    "-  例として次の列名をcolumnsに直接代入してみます。"
   ]
  },
  {
   "cell_type": "code",
   "execution_count": 76,
   "metadata": {
    "executionInfo": {
     "elapsed": 358,
     "status": "ok",
     "timestamp": 1682753828277,
     "user": {
      "displayName": "瀧川裕貴",
      "userId": "05752887510241032794"
     },
     "user_tz": -540
    },
    "id": "6uESsjtD8YUk"
   },
   "outputs": [
    {
     "data": {
      "text/html": [
       "<div>\n",
       "<style scoped>\n",
       "    .dataframe tbody tr th:only-of-type {\n",
       "        vertical-align: middle;\n",
       "    }\n",
       "\n",
       "    .dataframe tbody tr th {\n",
       "        vertical-align: top;\n",
       "    }\n",
       "\n",
       "    .dataframe thead th {\n",
       "        text-align: right;\n",
       "    }\n",
       "</style>\n",
       "<table border=\"1\" class=\"dataframe\">\n",
       "  <thead>\n",
       "    <tr style=\"text-align: right;\">\n",
       "      <th></th>\n",
       "      <th>名前</th>\n",
       "      <th>誕生年</th>\n",
       "    </tr>\n",
       "  </thead>\n",
       "  <tbody>\n",
       "    <tr>\n",
       "      <th>0</th>\n",
       "      <td>マックス</td>\n",
       "      <td>1864</td>\n",
       "    </tr>\n",
       "    <tr>\n",
       "      <th>1</th>\n",
       "      <td>エミール</td>\n",
       "      <td>1858</td>\n",
       "    </tr>\n",
       "    <tr>\n",
       "      <th>2</th>\n",
       "      <td>ゲオルグ</td>\n",
       "      <td>1858</td>\n",
       "    </tr>\n",
       "    <tr>\n",
       "      <th>3</th>\n",
       "      <td>タルコット</td>\n",
       "      <td>1902</td>\n",
       "    </tr>\n",
       "    <tr>\n",
       "      <th>4</th>\n",
       "      <td>ロバート</td>\n",
       "      <td>1910</td>\n",
       "    </tr>\n",
       "  </tbody>\n",
       "</table>\n",
       "</div>"
      ],
      "text/plain": [
       "      名前   誕生年\n",
       "0   マックス  1864\n",
       "1   エミール  1858\n",
       "2   ゲオルグ  1858\n",
       "3  タルコット  1902\n",
       "4   ロバート  1910"
      ]
     },
     "execution_count": 76,
     "metadata": {},
     "output_type": "execute_result"
    }
   ],
   "source": [
    "df.columns = ['名前','誕生年']\n",
    "df\n"
   ]
  },
  {
   "cell_type": "markdown",
   "metadata": {},
   "source": [
    "-　いったんもとにもどして。"
   ]
  },
  {
   "cell_type": "code",
   "execution_count": 77,
   "metadata": {
    "colab": {
     "base_uri": "https://localhost:8080/",
     "height": 206
    },
    "executionInfo": {
     "elapsed": 250,
     "status": "ok",
     "timestamp": 1682753837457,
     "user": {
      "displayName": "瀧川裕貴",
      "userId": "05752887510241032794"
     },
     "user_tz": -540
    },
    "id": "uzKVFzMgj7M7",
    "outputId": "0ab18edf-f36f-4916-a3c0-ef9380254060"
   },
   "outputs": [
    {
     "data": {
      "text/html": [
       "<div>\n",
       "<style scoped>\n",
       "    .dataframe tbody tr th:only-of-type {\n",
       "        vertical-align: middle;\n",
       "    }\n",
       "\n",
       "    .dataframe tbody tr th {\n",
       "        vertical-align: top;\n",
       "    }\n",
       "\n",
       "    .dataframe thead th {\n",
       "        text-align: right;\n",
       "    }\n",
       "</style>\n",
       "<table border=\"1\" class=\"dataframe\">\n",
       "  <thead>\n",
       "    <tr style=\"text-align: right;\">\n",
       "      <th></th>\n",
       "      <th>name</th>\n",
       "      <th>birthyear</th>\n",
       "    </tr>\n",
       "  </thead>\n",
       "  <tbody>\n",
       "    <tr>\n",
       "      <th>0</th>\n",
       "      <td>マックス</td>\n",
       "      <td>1864</td>\n",
       "    </tr>\n",
       "    <tr>\n",
       "      <th>1</th>\n",
       "      <td>エミール</td>\n",
       "      <td>1858</td>\n",
       "    </tr>\n",
       "    <tr>\n",
       "      <th>2</th>\n",
       "      <td>ゲオルグ</td>\n",
       "      <td>1858</td>\n",
       "    </tr>\n",
       "    <tr>\n",
       "      <th>3</th>\n",
       "      <td>タルコット</td>\n",
       "      <td>1902</td>\n",
       "    </tr>\n",
       "    <tr>\n",
       "      <th>4</th>\n",
       "      <td>ロバート</td>\n",
       "      <td>1910</td>\n",
       "    </tr>\n",
       "  </tbody>\n",
       "</table>\n",
       "</div>"
      ],
      "text/plain": [
       "    name birthyear\n",
       "0   マックス      1864\n",
       "1   エミール      1858\n",
       "2   ゲオルグ      1858\n",
       "3  タルコット      1902\n",
       "4   ロバート      1910"
      ]
     },
     "execution_count": 77,
     "metadata": {},
     "output_type": "execute_result"
    }
   ],
   "source": [
    "df.columns = ['name','birthyear']\n",
    "df"
   ]
  },
  {
   "cell_type": "markdown",
   "metadata": {},
   "source": [
    "- renameを使うと特定の列の名前だけを変更できます。"
   ]
  },
  {
   "cell_type": "code",
   "execution_count": 78,
   "metadata": {
    "colab": {
     "base_uri": "https://localhost:8080/",
     "height": 206
    },
    "executionInfo": {
     "elapsed": 277,
     "status": "ok",
     "timestamp": 1682753848679,
     "user": {
      "displayName": "瀧川裕貴",
      "userId": "05752887510241032794"
     },
     "user_tz": -540
    },
    "id": "y0rDX3H--gn0",
    "outputId": "bcd358a1-0be9-406e-9d35-4a0eeb4fbf4e"
   },
   "outputs": [
    {
     "data": {
      "text/html": [
       "<div>\n",
       "<style scoped>\n",
       "    .dataframe tbody tr th:only-of-type {\n",
       "        vertical-align: middle;\n",
       "    }\n",
       "\n",
       "    .dataframe tbody tr th {\n",
       "        vertical-align: top;\n",
       "    }\n",
       "\n",
       "    .dataframe thead th {\n",
       "        text-align: right;\n",
       "    }\n",
       "</style>\n",
       "<table border=\"1\" class=\"dataframe\">\n",
       "  <thead>\n",
       "    <tr style=\"text-align: right;\">\n",
       "      <th></th>\n",
       "      <th>名前</th>\n",
       "      <th>birthyear</th>\n",
       "    </tr>\n",
       "  </thead>\n",
       "  <tbody>\n",
       "    <tr>\n",
       "      <th>0</th>\n",
       "      <td>マックス</td>\n",
       "      <td>1864</td>\n",
       "    </tr>\n",
       "    <tr>\n",
       "      <th>1</th>\n",
       "      <td>エミール</td>\n",
       "      <td>1858</td>\n",
       "    </tr>\n",
       "    <tr>\n",
       "      <th>2</th>\n",
       "      <td>ゲオルグ</td>\n",
       "      <td>1858</td>\n",
       "    </tr>\n",
       "    <tr>\n",
       "      <th>3</th>\n",
       "      <td>タルコット</td>\n",
       "      <td>1902</td>\n",
       "    </tr>\n",
       "    <tr>\n",
       "      <th>4</th>\n",
       "      <td>ロバート</td>\n",
       "      <td>1910</td>\n",
       "    </tr>\n",
       "  </tbody>\n",
       "</table>\n",
       "</div>"
      ],
      "text/plain": [
       "      名前 birthyear\n",
       "0   マックス      1864\n",
       "1   エミール      1858\n",
       "2   ゲオルグ      1858\n",
       "3  タルコット      1902\n",
       "4   ロバート      1910"
      ]
     },
     "execution_count": 78,
     "metadata": {},
     "output_type": "execute_result"
    }
   ],
   "source": [
    "df.rename(columns = {'name':'名前'})#renameメソッドを使って列名を変更"
   ]
  },
  {
   "cell_type": "markdown",
   "metadata": {
    "id": "5Eoj3JQn-gn7"
   },
   "source": [
    "### インデックスの設定と解除\n",
    "- df.indexに直接代入してインデックス名の変更ができます。"
   ]
  },
  {
   "cell_type": "code",
   "execution_count": 79,
   "metadata": {
    "executionInfo": {
     "elapsed": 267,
     "status": "ok",
     "timestamp": 1682753871571,
     "user": {
      "displayName": "瀧川裕貴",
      "userId": "05752887510241032794"
     },
     "user_tz": -540
    },
    "id": "_Pfu13ed-gn7"
   },
   "outputs": [
    {
     "data": {
      "text/html": [
       "<div>\n",
       "<style scoped>\n",
       "    .dataframe tbody tr th:only-of-type {\n",
       "        vertical-align: middle;\n",
       "    }\n",
       "\n",
       "    .dataframe tbody tr th {\n",
       "        vertical-align: top;\n",
       "    }\n",
       "\n",
       "    .dataframe thead th {\n",
       "        text-align: right;\n",
       "    }\n",
       "</style>\n",
       "<table border=\"1\" class=\"dataframe\">\n",
       "  <thead>\n",
       "    <tr style=\"text-align: right;\">\n",
       "      <th></th>\n",
       "      <th>name</th>\n",
       "      <th>birthyear</th>\n",
       "    </tr>\n",
       "  </thead>\n",
       "  <tbody>\n",
       "    <tr>\n",
       "      <th>A</th>\n",
       "      <td>マックス</td>\n",
       "      <td>1864</td>\n",
       "    </tr>\n",
       "    <tr>\n",
       "      <th>B</th>\n",
       "      <td>エミール</td>\n",
       "      <td>1858</td>\n",
       "    </tr>\n",
       "    <tr>\n",
       "      <th>C</th>\n",
       "      <td>ゲオルグ</td>\n",
       "      <td>1858</td>\n",
       "    </tr>\n",
       "    <tr>\n",
       "      <th>D</th>\n",
       "      <td>タルコット</td>\n",
       "      <td>1902</td>\n",
       "    </tr>\n",
       "    <tr>\n",
       "      <th>E</th>\n",
       "      <td>ロバート</td>\n",
       "      <td>1910</td>\n",
       "    </tr>\n",
       "  </tbody>\n",
       "</table>\n",
       "</div>"
      ],
      "text/plain": [
       "    name birthyear\n",
       "A   マックス      1864\n",
       "B   エミール      1858\n",
       "C   ゲオルグ      1858\n",
       "D  タルコット      1902\n",
       "E   ロバート      1910"
      ]
     },
     "execution_count": 79,
     "metadata": {},
     "output_type": "execute_result"
    }
   ],
   "source": [
    "df.index = ['A','B','C','D','E']\n",
    "df"
   ]
  },
  {
   "cell_type": "markdown",
   "metadata": {},
   "source": [
    "- set_index()を使うと、既存の列名をインデックスに使えます。"
   ]
  },
  {
   "cell_type": "code",
   "execution_count": 80,
   "metadata": {
    "executionInfo": {
     "elapsed": 534,
     "status": "ok",
     "timestamp": 1682753892425,
     "user": {
      "displayName": "瀧川裕貴",
      "userId": "05752887510241032794"
     },
     "user_tz": -540
    },
    "id": "2iDdwRE3-gn8"
   },
   "outputs": [
    {
     "data": {
      "text/html": [
       "<div>\n",
       "<style scoped>\n",
       "    .dataframe tbody tr th:only-of-type {\n",
       "        vertical-align: middle;\n",
       "    }\n",
       "\n",
       "    .dataframe tbody tr th {\n",
       "        vertical-align: top;\n",
       "    }\n",
       "\n",
       "    .dataframe thead th {\n",
       "        text-align: right;\n",
       "    }\n",
       "</style>\n",
       "<table border=\"1\" class=\"dataframe\">\n",
       "  <thead>\n",
       "    <tr style=\"text-align: right;\">\n",
       "      <th></th>\n",
       "      <th>birthyear</th>\n",
       "    </tr>\n",
       "    <tr>\n",
       "      <th>name</th>\n",
       "      <th></th>\n",
       "    </tr>\n",
       "  </thead>\n",
       "  <tbody>\n",
       "    <tr>\n",
       "      <th>マックス</th>\n",
       "      <td>1864</td>\n",
       "    </tr>\n",
       "    <tr>\n",
       "      <th>エミール</th>\n",
       "      <td>1858</td>\n",
       "    </tr>\n",
       "    <tr>\n",
       "      <th>ゲオルグ</th>\n",
       "      <td>1858</td>\n",
       "    </tr>\n",
       "    <tr>\n",
       "      <th>タルコット</th>\n",
       "      <td>1902</td>\n",
       "    </tr>\n",
       "    <tr>\n",
       "      <th>ロバート</th>\n",
       "      <td>1910</td>\n",
       "    </tr>\n",
       "  </tbody>\n",
       "</table>\n",
       "</div>"
      ],
      "text/plain": [
       "      birthyear\n",
       "name           \n",
       "マックス       1864\n",
       "エミール       1858\n",
       "ゲオルグ       1858\n",
       "タルコット      1902\n",
       "ロバート       1910"
      ]
     },
     "execution_count": 80,
     "metadata": {},
     "output_type": "execute_result"
    }
   ],
   "source": [
    "df = df.set_index('name')\n",
    "df"
   ]
  },
  {
   "cell_type": "markdown",
   "metadata": {},
   "source": [
    "- reset_index()使うと、indexが数字になり、元のインデックス名は列変数になります。"
   ]
  },
  {
   "cell_type": "code",
   "execution_count": 81,
   "metadata": {
    "executionInfo": {
     "elapsed": 271,
     "status": "ok",
     "timestamp": 1682753913404,
     "user": {
      "displayName": "瀧川裕貴",
      "userId": "05752887510241032794"
     },
     "user_tz": -540
    },
    "id": "C3pUPCTF-gn9"
   },
   "outputs": [
    {
     "data": {
      "text/html": [
       "<div>\n",
       "<style scoped>\n",
       "    .dataframe tbody tr th:only-of-type {\n",
       "        vertical-align: middle;\n",
       "    }\n",
       "\n",
       "    .dataframe tbody tr th {\n",
       "        vertical-align: top;\n",
       "    }\n",
       "\n",
       "    .dataframe thead th {\n",
       "        text-align: right;\n",
       "    }\n",
       "</style>\n",
       "<table border=\"1\" class=\"dataframe\">\n",
       "  <thead>\n",
       "    <tr style=\"text-align: right;\">\n",
       "      <th></th>\n",
       "      <th>name</th>\n",
       "      <th>birthyear</th>\n",
       "    </tr>\n",
       "  </thead>\n",
       "  <tbody>\n",
       "    <tr>\n",
       "      <th>0</th>\n",
       "      <td>マックス</td>\n",
       "      <td>1864</td>\n",
       "    </tr>\n",
       "    <tr>\n",
       "      <th>1</th>\n",
       "      <td>エミール</td>\n",
       "      <td>1858</td>\n",
       "    </tr>\n",
       "    <tr>\n",
       "      <th>2</th>\n",
       "      <td>ゲオルグ</td>\n",
       "      <td>1858</td>\n",
       "    </tr>\n",
       "    <tr>\n",
       "      <th>3</th>\n",
       "      <td>タルコット</td>\n",
       "      <td>1902</td>\n",
       "    </tr>\n",
       "    <tr>\n",
       "      <th>4</th>\n",
       "      <td>ロバート</td>\n",
       "      <td>1910</td>\n",
       "    </tr>\n",
       "  </tbody>\n",
       "</table>\n",
       "</div>"
      ],
      "text/plain": [
       "    name birthyear\n",
       "0   マックス      1864\n",
       "1   エミール      1858\n",
       "2   ゲオルグ      1858\n",
       "3  タルコット      1902\n",
       "4   ロバート      1910"
      ]
     },
     "execution_count": 81,
     "metadata": {},
     "output_type": "execute_result"
    }
   ],
   "source": [
    "df = df.reset_index()\n",
    "df"
   ]
  },
  {
   "cell_type": "markdown",
   "metadata": {
    "id": "Aw7RCvu5-goB"
   },
   "source": [
    "### データフレームの結合\n",
    "- ２つの異なるデータフレームを結合する方法をみてみます。\n",
    "- まず、2つデータフレームを用意します。\n"
   ]
  },
  {
   "cell_type": "code",
   "execution_count": 82,
   "metadata": {
    "executionInfo": {
     "elapsed": 260,
     "status": "ok",
     "timestamp": 1682753959300,
     "user": {
      "displayName": "瀧川裕貴",
      "userId": "05752887510241032794"
     },
     "user_tz": -540
    },
    "id": "0tROxh2--goB"
   },
   "outputs": [],
   "source": [
    "name = ['マックス', 'エミール', 'ゲオルグ', 'タルコット', 'ロバート']\n",
    "birthyear = ['1864','1858','1858','1902','1910']\n",
    "last_name = ['ウェーバー','デュルケム','ジンメル','パーソンズ','マートン']\n",
    "df1 = pd.DataFrame({'name':name,'birthyear':birthyear})\n",
    "df2 = pd.DataFrame({'name':name,'last_name':last_name})"
   ]
  },
  {
   "cell_type": "code",
   "execution_count": 83,
   "metadata": {
    "colab": {
     "base_uri": "https://localhost:8080/",
     "height": 206
    },
    "executionInfo": {
     "elapsed": 483,
     "status": "ok",
     "timestamp": 1682753961841,
     "user": {
      "displayName": "瀧川裕貴",
      "userId": "05752887510241032794"
     },
     "user_tz": -540
    },
    "id": "yUfoylFF-goB",
    "outputId": "5ba35d85-fe08-4923-ccad-7111b47cb5e5"
   },
   "outputs": [
    {
     "data": {
      "text/html": [
       "<div>\n",
       "<style scoped>\n",
       "    .dataframe tbody tr th:only-of-type {\n",
       "        vertical-align: middle;\n",
       "    }\n",
       "\n",
       "    .dataframe tbody tr th {\n",
       "        vertical-align: top;\n",
       "    }\n",
       "\n",
       "    .dataframe thead th {\n",
       "        text-align: right;\n",
       "    }\n",
       "</style>\n",
       "<table border=\"1\" class=\"dataframe\">\n",
       "  <thead>\n",
       "    <tr style=\"text-align: right;\">\n",
       "      <th></th>\n",
       "      <th>name</th>\n",
       "      <th>birthyear</th>\n",
       "    </tr>\n",
       "  </thead>\n",
       "  <tbody>\n",
       "    <tr>\n",
       "      <th>0</th>\n",
       "      <td>マックス</td>\n",
       "      <td>1864</td>\n",
       "    </tr>\n",
       "    <tr>\n",
       "      <th>1</th>\n",
       "      <td>エミール</td>\n",
       "      <td>1858</td>\n",
       "    </tr>\n",
       "    <tr>\n",
       "      <th>2</th>\n",
       "      <td>ゲオルグ</td>\n",
       "      <td>1858</td>\n",
       "    </tr>\n",
       "    <tr>\n",
       "      <th>3</th>\n",
       "      <td>タルコット</td>\n",
       "      <td>1902</td>\n",
       "    </tr>\n",
       "    <tr>\n",
       "      <th>4</th>\n",
       "      <td>ロバート</td>\n",
       "      <td>1910</td>\n",
       "    </tr>\n",
       "  </tbody>\n",
       "</table>\n",
       "</div>"
      ],
      "text/plain": [
       "    name birthyear\n",
       "0   マックス      1864\n",
       "1   エミール      1858\n",
       "2   ゲオルグ      1858\n",
       "3  タルコット      1902\n",
       "4   ロバート      1910"
      ]
     },
     "execution_count": 83,
     "metadata": {},
     "output_type": "execute_result"
    }
   ],
   "source": [
    "df1"
   ]
  },
  {
   "cell_type": "code",
   "execution_count": 84,
   "metadata": {
    "colab": {
     "base_uri": "https://localhost:8080/",
     "height": 206
    },
    "executionInfo": {
     "elapsed": 279,
     "status": "ok",
     "timestamp": 1682753965470,
     "user": {
      "displayName": "瀧川裕貴",
      "userId": "05752887510241032794"
     },
     "user_tz": -540
    },
    "id": "OZyZ98fp-goB",
    "outputId": "76eeada5-1b76-4e3f-de7b-a2cdb2c705bd"
   },
   "outputs": [
    {
     "data": {
      "text/html": [
       "<div>\n",
       "<style scoped>\n",
       "    .dataframe tbody tr th:only-of-type {\n",
       "        vertical-align: middle;\n",
       "    }\n",
       "\n",
       "    .dataframe tbody tr th {\n",
       "        vertical-align: top;\n",
       "    }\n",
       "\n",
       "    .dataframe thead th {\n",
       "        text-align: right;\n",
       "    }\n",
       "</style>\n",
       "<table border=\"1\" class=\"dataframe\">\n",
       "  <thead>\n",
       "    <tr style=\"text-align: right;\">\n",
       "      <th></th>\n",
       "      <th>name</th>\n",
       "      <th>last_name</th>\n",
       "    </tr>\n",
       "  </thead>\n",
       "  <tbody>\n",
       "    <tr>\n",
       "      <th>0</th>\n",
       "      <td>マックス</td>\n",
       "      <td>ウェーバー</td>\n",
       "    </tr>\n",
       "    <tr>\n",
       "      <th>1</th>\n",
       "      <td>エミール</td>\n",
       "      <td>デュルケム</td>\n",
       "    </tr>\n",
       "    <tr>\n",
       "      <th>2</th>\n",
       "      <td>ゲオルグ</td>\n",
       "      <td>ジンメル</td>\n",
       "    </tr>\n",
       "    <tr>\n",
       "      <th>3</th>\n",
       "      <td>タルコット</td>\n",
       "      <td>パーソンズ</td>\n",
       "    </tr>\n",
       "    <tr>\n",
       "      <th>4</th>\n",
       "      <td>ロバート</td>\n",
       "      <td>マートン</td>\n",
       "    </tr>\n",
       "  </tbody>\n",
       "</table>\n",
       "</div>"
      ],
      "text/plain": [
       "    name last_name\n",
       "0   マックス     ウェーバー\n",
       "1   エミール     デュルケム\n",
       "2   ゲオルグ      ジンメル\n",
       "3  タルコット     パーソンズ\n",
       "4   ロバート      マートン"
      ]
     },
     "execution_count": 84,
     "metadata": {},
     "output_type": "execute_result"
    }
   ],
   "source": [
    "df2"
   ]
  },
  {
   "cell_type": "markdown",
   "metadata": {},
   "source": [
    "- 横に結語するには、pd.merge()として、結合したいデータフレームを引数に与え、'on'にkeyとして使う列名を指定します。"
   ]
  },
  {
   "cell_type": "code",
   "execution_count": 85,
   "metadata": {
    "colab": {
     "base_uri": "https://localhost:8080/",
     "height": 206
    },
    "executionInfo": {
     "elapsed": 528,
     "status": "ok",
     "timestamp": 1682753998528,
     "user": {
      "displayName": "瀧川裕貴",
      "userId": "05752887510241032794"
     },
     "user_tz": -540
    },
    "id": "-c-G9Nlj-goB",
    "outputId": "f56cf164-ecc9-4e56-f661-5210e4d25fce"
   },
   "outputs": [
    {
     "data": {
      "text/html": [
       "<div>\n",
       "<style scoped>\n",
       "    .dataframe tbody tr th:only-of-type {\n",
       "        vertical-align: middle;\n",
       "    }\n",
       "\n",
       "    .dataframe tbody tr th {\n",
       "        vertical-align: top;\n",
       "    }\n",
       "\n",
       "    .dataframe thead th {\n",
       "        text-align: right;\n",
       "    }\n",
       "</style>\n",
       "<table border=\"1\" class=\"dataframe\">\n",
       "  <thead>\n",
       "    <tr style=\"text-align: right;\">\n",
       "      <th></th>\n",
       "      <th>name</th>\n",
       "      <th>birthyear</th>\n",
       "      <th>last_name</th>\n",
       "    </tr>\n",
       "  </thead>\n",
       "  <tbody>\n",
       "    <tr>\n",
       "      <th>0</th>\n",
       "      <td>マックス</td>\n",
       "      <td>1864</td>\n",
       "      <td>ウェーバー</td>\n",
       "    </tr>\n",
       "    <tr>\n",
       "      <th>1</th>\n",
       "      <td>エミール</td>\n",
       "      <td>1858</td>\n",
       "      <td>デュルケム</td>\n",
       "    </tr>\n",
       "    <tr>\n",
       "      <th>2</th>\n",
       "      <td>ゲオルグ</td>\n",
       "      <td>1858</td>\n",
       "      <td>ジンメル</td>\n",
       "    </tr>\n",
       "    <tr>\n",
       "      <th>3</th>\n",
       "      <td>タルコット</td>\n",
       "      <td>1902</td>\n",
       "      <td>パーソンズ</td>\n",
       "    </tr>\n",
       "    <tr>\n",
       "      <th>4</th>\n",
       "      <td>ロバート</td>\n",
       "      <td>1910</td>\n",
       "      <td>マートン</td>\n",
       "    </tr>\n",
       "  </tbody>\n",
       "</table>\n",
       "</div>"
      ],
      "text/plain": [
       "    name birthyear last_name\n",
       "0   マックス      1864     ウェーバー\n",
       "1   エミール      1858     デュルケム\n",
       "2   ゲオルグ      1858      ジンメル\n",
       "3  タルコット      1902     パーソンズ\n",
       "4   ロバート      1910      マートン"
      ]
     },
     "execution_count": 85,
     "metadata": {},
     "output_type": "execute_result"
    }
   ],
   "source": [
    "pd.merge(df1,df2,on = 'name')"
   ]
  },
  {
   "cell_type": "markdown",
   "metadata": {},
   "source": [
    "```{tips}\n",
    "- df1.merge(df2)のような書き方も可能です。"
   ]
  },
  {
   "cell_type": "code",
   "execution_count": 86,
   "metadata": {
    "colab": {
     "base_uri": "https://localhost:8080/",
     "height": 206
    },
    "executionInfo": {
     "elapsed": 251,
     "status": "ok",
     "timestamp": 1682754011067,
     "user": {
      "displayName": "瀧川裕貴",
      "userId": "05752887510241032794"
     },
     "user_tz": -540
    },
    "id": "y_Z43gEc3cSp",
    "outputId": "c3cd9774-2475-4196-9fbb-59fc30bfa438"
   },
   "outputs": [
    {
     "data": {
      "text/html": [
       "<div>\n",
       "<style scoped>\n",
       "    .dataframe tbody tr th:only-of-type {\n",
       "        vertical-align: middle;\n",
       "    }\n",
       "\n",
       "    .dataframe tbody tr th {\n",
       "        vertical-align: top;\n",
       "    }\n",
       "\n",
       "    .dataframe thead th {\n",
       "        text-align: right;\n",
       "    }\n",
       "</style>\n",
       "<table border=\"1\" class=\"dataframe\">\n",
       "  <thead>\n",
       "    <tr style=\"text-align: right;\">\n",
       "      <th></th>\n",
       "      <th>name</th>\n",
       "      <th>birthyear</th>\n",
       "      <th>last_name</th>\n",
       "    </tr>\n",
       "  </thead>\n",
       "  <tbody>\n",
       "    <tr>\n",
       "      <th>0</th>\n",
       "      <td>マックス</td>\n",
       "      <td>1864</td>\n",
       "      <td>ウェーバー</td>\n",
       "    </tr>\n",
       "    <tr>\n",
       "      <th>1</th>\n",
       "      <td>エミール</td>\n",
       "      <td>1858</td>\n",
       "      <td>デュルケム</td>\n",
       "    </tr>\n",
       "    <tr>\n",
       "      <th>2</th>\n",
       "      <td>ゲオルグ</td>\n",
       "      <td>1858</td>\n",
       "      <td>ジンメル</td>\n",
       "    </tr>\n",
       "    <tr>\n",
       "      <th>3</th>\n",
       "      <td>タルコット</td>\n",
       "      <td>1902</td>\n",
       "      <td>パーソンズ</td>\n",
       "    </tr>\n",
       "    <tr>\n",
       "      <th>4</th>\n",
       "      <td>ロバート</td>\n",
       "      <td>1910</td>\n",
       "      <td>マートン</td>\n",
       "    </tr>\n",
       "  </tbody>\n",
       "</table>\n",
       "</div>"
      ],
      "text/plain": [
       "    name birthyear last_name\n",
       "0   マックス      1864     ウェーバー\n",
       "1   エミール      1858     デュルケム\n",
       "2   ゲオルグ      1858      ジンメル\n",
       "3  タルコット      1902     パーソンズ\n",
       "4   ロバート      1910      マートン"
      ]
     },
     "execution_count": 86,
     "metadata": {},
     "output_type": "execute_result"
    }
   ],
   "source": [
    "df1.merge(df2, on = 'name')#こっちでも可"
   ]
  },
  {
   "cell_type": "markdown",
   "metadata": {},
   "source": [
    "- 縦に結合するには、concat()を使いますが、まず練習用の別のデータフレームを作ります。"
   ]
  },
  {
   "cell_type": "code",
   "execution_count": 87,
   "metadata": {
    "executionInfo": {
     "elapsed": 403,
     "status": "ok",
     "timestamp": 1682754019037,
     "user": {
      "displayName": "瀧川裕貴",
      "userId": "05752887510241032794"
     },
     "user_tz": -540
    },
    "id": "1iUVR-V5-goC"
   },
   "outputs": [
    {
     "data": {
      "text/html": [
       "<div>\n",
       "<style scoped>\n",
       "    .dataframe tbody tr th:only-of-type {\n",
       "        vertical-align: middle;\n",
       "    }\n",
       "\n",
       "    .dataframe tbody tr th {\n",
       "        vertical-align: top;\n",
       "    }\n",
       "\n",
       "    .dataframe thead th {\n",
       "        text-align: right;\n",
       "    }\n",
       "</style>\n",
       "<table border=\"1\" class=\"dataframe\">\n",
       "  <thead>\n",
       "    <tr style=\"text-align: right;\">\n",
       "      <th></th>\n",
       "      <th>name</th>\n",
       "      <th>birthyear</th>\n",
       "    </tr>\n",
       "  </thead>\n",
       "  <tbody>\n",
       "    <tr>\n",
       "      <th>0</th>\n",
       "      <td>ガブリエル</td>\n",
       "      <td>1843</td>\n",
       "    </tr>\n",
       "  </tbody>\n",
       "</table>\n",
       "</div>"
      ],
      "text/plain": [
       "    name birthyear\n",
       "0  ガブリエル      1843"
      ]
     },
     "execution_count": 87,
     "metadata": {},
     "output_type": "execute_result"
    }
   ],
   "source": [
    "df3 = pd.DataFrame({'name':['ガブリエル'],'birthyear':['1843']})\n",
    "df3"
   ]
  },
  {
   "cell_type": "markdown",
   "metadata": {},
   "source": [
    "- concat()で結合します。引数はリスト([])となるので注意してください。"
   ]
  },
  {
   "cell_type": "code",
   "execution_count": 88,
   "metadata": {
    "colab": {
     "base_uri": "https://localhost:8080/",
     "height": 237
    },
    "executionInfo": {
     "elapsed": 369,
     "status": "ok",
     "timestamp": 1682754036113,
     "user": {
      "displayName": "瀧川裕貴",
      "userId": "05752887510241032794"
     },
     "user_tz": -540
    },
    "id": "1IOaiyU6-goC",
    "outputId": "ebd9a40d-0d53-4a57-d43e-c18280e542fa",
    "scrolled": false
   },
   "outputs": [
    {
     "data": {
      "text/html": [
       "<div>\n",
       "<style scoped>\n",
       "    .dataframe tbody tr th:only-of-type {\n",
       "        vertical-align: middle;\n",
       "    }\n",
       "\n",
       "    .dataframe tbody tr th {\n",
       "        vertical-align: top;\n",
       "    }\n",
       "\n",
       "    .dataframe thead th {\n",
       "        text-align: right;\n",
       "    }\n",
       "</style>\n",
       "<table border=\"1\" class=\"dataframe\">\n",
       "  <thead>\n",
       "    <tr style=\"text-align: right;\">\n",
       "      <th></th>\n",
       "      <th>name</th>\n",
       "      <th>birthyear</th>\n",
       "    </tr>\n",
       "  </thead>\n",
       "  <tbody>\n",
       "    <tr>\n",
       "      <th>0</th>\n",
       "      <td>マックス</td>\n",
       "      <td>1864</td>\n",
       "    </tr>\n",
       "    <tr>\n",
       "      <th>1</th>\n",
       "      <td>エミール</td>\n",
       "      <td>1858</td>\n",
       "    </tr>\n",
       "    <tr>\n",
       "      <th>2</th>\n",
       "      <td>ゲオルグ</td>\n",
       "      <td>1858</td>\n",
       "    </tr>\n",
       "    <tr>\n",
       "      <th>3</th>\n",
       "      <td>タルコット</td>\n",
       "      <td>1902</td>\n",
       "    </tr>\n",
       "    <tr>\n",
       "      <th>4</th>\n",
       "      <td>ロバート</td>\n",
       "      <td>1910</td>\n",
       "    </tr>\n",
       "    <tr>\n",
       "      <th>0</th>\n",
       "      <td>ガブリエル</td>\n",
       "      <td>1843</td>\n",
       "    </tr>\n",
       "  </tbody>\n",
       "</table>\n",
       "</div>"
      ],
      "text/plain": [
       "    name birthyear\n",
       "0   マックス      1864\n",
       "1   エミール      1858\n",
       "2   ゲオルグ      1858\n",
       "3  タルコット      1902\n",
       "4   ロバート      1910\n",
       "0  ガブリエル      1843"
      ]
     },
     "execution_count": 88,
     "metadata": {},
     "output_type": "execute_result"
    }
   ],
   "source": [
    "pd.concat([df1,df3])"
   ]
  },
  {
   "cell_type": "markdown",
   "metadata": {
    "id": "llzEUphYvS2o"
   },
   "source": [
    "## データフレームの結合（続き）\n",
    "- キー（onに用いる変数）の値の集合が一致しないデータフレームを結合する場合、結合の仕方をいくつか指定する必要があります。"
   ]
  },
  {
   "cell_type": "code",
   "execution_count": 89,
   "metadata": {
    "executionInfo": {
     "elapsed": 290,
     "status": "ok",
     "timestamp": 1682754050586,
     "user": {
      "displayName": "瀧川裕貴",
      "userId": "05752887510241032794"
     },
     "user_tz": -540
    },
    "id": "E_gAc141ttxr"
   },
   "outputs": [
    {
     "data": {
      "text/html": [
       "<div>\n",
       "<style scoped>\n",
       "    .dataframe tbody tr th:only-of-type {\n",
       "        vertical-align: middle;\n",
       "    }\n",
       "\n",
       "    .dataframe tbody tr th {\n",
       "        vertical-align: top;\n",
       "    }\n",
       "\n",
       "    .dataframe thead th {\n",
       "        text-align: right;\n",
       "    }\n",
       "</style>\n",
       "<table border=\"1\" class=\"dataframe\">\n",
       "  <thead>\n",
       "    <tr style=\"text-align: right;\">\n",
       "      <th></th>\n",
       "      <th>Name</th>\n",
       "      <th>Age</th>\n",
       "    </tr>\n",
       "  </thead>\n",
       "  <tbody>\n",
       "    <tr>\n",
       "      <th>0</th>\n",
       "      <td>Alice</td>\n",
       "      <td>25</td>\n",
       "    </tr>\n",
       "    <tr>\n",
       "      <th>1</th>\n",
       "      <td>Bob</td>\n",
       "      <td>30</td>\n",
       "    </tr>\n",
       "    <tr>\n",
       "      <th>2</th>\n",
       "      <td>Charlie</td>\n",
       "      <td>35</td>\n",
       "    </tr>\n",
       "    <tr>\n",
       "      <th>3</th>\n",
       "      <td>David</td>\n",
       "      <td>40</td>\n",
       "    </tr>\n",
       "    <tr>\n",
       "      <th>4</th>\n",
       "      <td>Eve</td>\n",
       "      <td>45</td>\n",
       "    </tr>\n",
       "  </tbody>\n",
       "</table>\n",
       "</div>"
      ],
      "text/plain": [
       "      Name  Age\n",
       "0    Alice   25\n",
       "1      Bob   30\n",
       "2  Charlie   35\n",
       "3    David   40\n",
       "4      Eve   45"
      ]
     },
     "execution_count": 89,
     "metadata": {},
     "output_type": "execute_result"
    }
   ],
   "source": [
    "import pandas as pd\n",
    "\n",
    "data1 = {\n",
    "         'Name': ['Alice', 'Bob', 'Charlie', 'David', 'Eve'],\n",
    "         'Age': [25, 30, 35, 40, 45]}\n",
    "\n",
    "data2 = {\n",
    "         'Name': ['Charlie', 'David', 'Eve', 'Frank', 'Grace'],\n",
    "         'Salary': [50000, 60000, 70000, 80000, 90000]}\n",
    "\n",
    "\n",
    "df1 = pd.DataFrame(data1)\n",
    "df2 = pd.DataFrame(data2)\n",
    "df1\n"
   ]
  },
  {
   "cell_type": "code",
   "execution_count": 90,
   "metadata": {},
   "outputs": [
    {
     "data": {
      "text/html": [
       "<div>\n",
       "<style scoped>\n",
       "    .dataframe tbody tr th:only-of-type {\n",
       "        vertical-align: middle;\n",
       "    }\n",
       "\n",
       "    .dataframe tbody tr th {\n",
       "        vertical-align: top;\n",
       "    }\n",
       "\n",
       "    .dataframe thead th {\n",
       "        text-align: right;\n",
       "    }\n",
       "</style>\n",
       "<table border=\"1\" class=\"dataframe\">\n",
       "  <thead>\n",
       "    <tr style=\"text-align: right;\">\n",
       "      <th></th>\n",
       "      <th>Name</th>\n",
       "      <th>Salary</th>\n",
       "    </tr>\n",
       "  </thead>\n",
       "  <tbody>\n",
       "    <tr>\n",
       "      <th>0</th>\n",
       "      <td>Charlie</td>\n",
       "      <td>50000</td>\n",
       "    </tr>\n",
       "    <tr>\n",
       "      <th>1</th>\n",
       "      <td>David</td>\n",
       "      <td>60000</td>\n",
       "    </tr>\n",
       "    <tr>\n",
       "      <th>2</th>\n",
       "      <td>Eve</td>\n",
       "      <td>70000</td>\n",
       "    </tr>\n",
       "    <tr>\n",
       "      <th>3</th>\n",
       "      <td>Frank</td>\n",
       "      <td>80000</td>\n",
       "    </tr>\n",
       "    <tr>\n",
       "      <th>4</th>\n",
       "      <td>Grace</td>\n",
       "      <td>90000</td>\n",
       "    </tr>\n",
       "  </tbody>\n",
       "</table>\n",
       "</div>"
      ],
      "text/plain": [
       "      Name  Salary\n",
       "0  Charlie   50000\n",
       "1    David   60000\n",
       "2      Eve   70000\n",
       "3    Frank   80000\n",
       "4    Grace   90000"
      ]
     },
     "execution_count": 90,
     "metadata": {},
     "output_type": "execute_result"
    }
   ],
   "source": [
    "df2\n"
   ]
  },
  {
   "cell_type": "markdown",
   "metadata": {},
   "source": [
    "\n",
    "- 内部結合（inner join）:\n",
    "    - 内部結合は、2つのデータフレームに共通のキーを持つ行だけを結果のデータフレームに含めます。"
   ]
  },
  {
   "cell_type": "code",
   "execution_count": 91,
   "metadata": {
    "colab": {
     "base_uri": "https://localhost:8080/"
    },
    "id": "_VlTYg2nv3zN",
    "outputId": "d430778d-baaf-4b25-afac-db08097aba80"
   },
   "outputs": [
    {
     "name": "stdout",
     "output_type": "stream",
     "text": [
      "      Name  Age  Salary\n",
      "0  Charlie   35   50000\n",
      "1    David   40   60000\n",
      "2      Eve   45   70000\n"
     ]
    }
   ],
   "source": [
    "merged_df1 = pd.merge(df1, df2, on='Name', how='inner')\n",
    "print(merged_df1)\n"
   ]
  },
  {
   "cell_type": "markdown",
   "metadata": {},
   "source": [
    "```{tip}\n",
    "- merge()のデフォルトで何も指定しないと内部結合となります。"
   ]
  },
  {
   "cell_type": "code",
   "execution_count": 92,
   "metadata": {},
   "outputs": [
    {
     "name": "stdout",
     "output_type": "stream",
     "text": [
      "      Name  Age  Salary\n",
      "0  Charlie   35   50000\n",
      "1    David   40   60000\n",
      "2      Eve   45   70000\n"
     ]
    }
   ],
   "source": [
    "merged_df1 = pd.merge(df1, df2, on='Name')\n",
    "print(merged_df1)\n"
   ]
  },
  {
   "cell_type": "markdown",
   "metadata": {},
   "source": [
    "- 外部結合（outer join）:\n",
    "    - 外部結合は、2つのデータフレームのすべての行を結果のデータフレームに含めます。\n",
    "    - キーが一致しない場合、キーの存在しない方のデータフレームの列変数の値は欠損となるため、欠損値（NaN）が結果のデータフレームに挿入されます。"
   ]
  },
  {
   "cell_type": "code",
   "execution_count": 93,
   "metadata": {
    "colab": {
     "base_uri": "https://localhost:8080/"
    },
    "id": "Gf-K9VHov9yT",
    "outputId": "cbabdf3b-aff1-499e-8278-d42bc1cb959b"
   },
   "outputs": [
    {
     "name": "stdout",
     "output_type": "stream",
     "text": [
      "      Name   Age   Salary\n",
      "0    Alice  25.0      NaN\n",
      "1      Bob  30.0      NaN\n",
      "2  Charlie  35.0  50000.0\n",
      "3    David  40.0  60000.0\n",
      "4      Eve  45.0  70000.0\n",
      "5    Frank   NaN  80000.0\n",
      "6    Grace   NaN  90000.0\n"
     ]
    }
   ],
   "source": [
    "merged_df2 = pd.merge(df1, df2, on='Name', how=\"outer\")\n",
    "print(merged_df2)\n"
   ]
  },
  {
   "cell_type": "markdown",
   "metadata": {},
   "source": [
    "- 左のデータフレームのキーに限ってすべて含める場合はleft join,右の場合はright joinといいます。"
   ]
  },
  {
   "cell_type": "code",
   "execution_count": 94,
   "metadata": {
    "colab": {
     "base_uri": "https://localhost:8080/"
    },
    "id": "aJs2HXH-yW4-",
    "outputId": "3f2aef4c-ee3b-49dc-aa2d-7f21c0b46a5b"
   },
   "outputs": [
    {
     "name": "stdout",
     "output_type": "stream",
     "text": [
      "      Name  Age   Salary\n",
      "0    Alice   25      NaN\n",
      "1      Bob   30      NaN\n",
      "2  Charlie   35  50000.0\n",
      "3    David   40  60000.0\n",
      "4      Eve   45  70000.0\n"
     ]
    }
   ],
   "source": [
    "merged_df2 = pd.merge(df1, df2, on='Name', how=\"left\")\n",
    "print(merged_df2)\n"
   ]
  },
  {
   "cell_type": "code",
   "execution_count": 95,
   "metadata": {
    "colab": {
     "base_uri": "https://localhost:8080/"
    },
    "id": "QOdKmYvRyeTw",
    "outputId": "26e2de97-a592-48a5-dce0-a979b22acf7d"
   },
   "outputs": [
    {
     "name": "stdout",
     "output_type": "stream",
     "text": [
      "      Name   Age  Salary\n",
      "0  Charlie  35.0   50000\n",
      "1    David  40.0   60000\n",
      "2      Eve  45.0   70000\n",
      "3    Frank   NaN   80000\n",
      "4    Grace   NaN   90000\n"
     ]
    }
   ],
   "source": [
    "merged_df2 = pd.merge(df1, df2, on='Name', how=\"right\")\n",
    "print(merged_df2)\n"
   ]
  },
  {
   "cell_type": "markdown",
   "metadata": {},
   "source": [
    "```{note}\n",
    "- 結合後に名前の重複したコラムには接尾辞suffixesが自動で付与されます。\n"
   ]
  },
  {
   "cell_type": "markdown",
   "metadata": {},
   "source": [
    "- 以下は、Nameという列名が重複する二つのデータフレームです。"
   ]
  },
  {
   "cell_type": "code",
   "execution_count": 96,
   "metadata": {
    "executionInfo": {
     "elapsed": 339,
     "status": "ok",
     "timestamp": 1682754179808,
     "user": {
      "displayName": "瀧川裕貴",
      "userId": "05752887510241032794"
     },
     "user_tz": -540
    },
    "id": "ZCGjtn-jzBwH"
   },
   "outputs": [],
   "source": [
    "data1 = {'ID': [1, 2, 3, 4, 5],\n",
    "         'Name': ['Alice', 'Bob', 'Charlie', 'David', 'Eve'],\n",
    "         'Age': [25, 30, 35, 40, 45]}\n",
    "\n",
    "data2 = {'ID': [3, 4, 5, 6, 7],\n",
    "         'Name': ['Charlie', 'David', 'Eve', 'Frank', 'Grace'],\n",
    "         'Salary': [50000, 60000, 70000, 80000, 90000]}\n",
    "\n",
    "df1 = pd.DataFrame(data1)\n",
    "df2 = pd.DataFrame(data2)"
   ]
  },
  {
   "cell_type": "markdown",
   "metadata": {},
   "source": [
    "- 結語すると、_x, _yのようなSuffixesがつきます。"
   ]
  },
  {
   "cell_type": "code",
   "execution_count": 97,
   "metadata": {
    "colab": {
     "base_uri": "https://localhost:8080/"
    },
    "executionInfo": {
     "elapsed": 263,
     "status": "ok",
     "timestamp": 1682754182870,
     "user": {
      "displayName": "瀧川裕貴",
      "userId": "05752887510241032794"
     },
     "user_tz": -540
    },
    "id": "NfyvmsIVzVrX",
    "outputId": "0161079f-bdca-490d-aa40-dafab0027e77"
   },
   "outputs": [
    {
     "name": "stdout",
     "output_type": "stream",
     "text": [
      "   ID   Name_x  Age   Name_y  Salary\n",
      "0   3  Charlie   35  Charlie   50000\n",
      "1   4    David   40    David   60000\n",
      "2   5      Eve   45      Eve   70000\n"
     ]
    }
   ],
   "source": [
    "merged_df1 = pd.merge(df1, df2, on='ID')\n",
    "print(merged_df1)\n"
   ]
  },
  {
   "cell_type": "markdown",
   "metadata": {},
   "source": [
    "  - suffixes = ()で変更もできます。"
   ]
  },
  {
   "cell_type": "code",
   "execution_count": 98,
   "metadata": {
    "colab": {
     "base_uri": "https://localhost:8080/"
    },
    "id": "496Yvu44zcHO",
    "outputId": "18f76209-4ade-4b62-ae44-9affd2c3d204"
   },
   "outputs": [
    {
     "name": "stdout",
     "output_type": "stream",
     "text": [
      "   ID Name_left  Age Name_right  Salary\n",
      "0   3   Charlie   35    Charlie   50000\n",
      "1   4     David   40      David   60000\n",
      "2   5       Eve   45        Eve   70000\n"
     ]
    }
   ],
   "source": [
    "merged_df1 = pd.merge(df1, df2, on='ID', suffixes = ('_left','_right'))\n",
    "print(merged_df1)\n"
   ]
  },
  {
   "cell_type": "markdown",
   "metadata": {
    "id": "I4v_lNlHLSK-"
   },
   "source": [
    "## 問題3\n",
    "### 例題　\n",
    "gapminderデータセットから2002年と2007年のデータを抽出し、その期間でGDP（gdpPercap）が最も大きく増加した上位5位の国をリストアップしてください。\n",
    "\n"
   ]
  },
  {
   "cell_type": "code",
   "execution_count": 99,
   "metadata": {
    "colab": {
     "base_uri": "https://localhost:8080/"
    },
    "executionInfo": {
     "elapsed": 7,
     "status": "ok",
     "timestamp": 1682754355892,
     "user": {
      "displayName": "瀧川裕貴",
      "userId": "05752887510241032794"
     },
     "user_tz": -540
    },
    "id": "7-47PavKLf1u",
    "outputId": "f9da4449-ad6f-45ad-e4e1-3275847be476"
   },
   "outputs": [
    {
     "data": {
      "text/plain": [
       "['Kuwait', 'Singapore', 'Hong Kong, China', 'Ireland', 'Trinidad and Tobago']"
      ]
     },
     "execution_count": 99,
     "metadata": {},
     "output_type": "execute_result"
    }
   ],
   "source": [
    "gapminder_2002 = gapminder[gapminder['year'] == 2002]\n",
    "gapminder_2007 = gapminder[gapminder['year'] == 2007]\n",
    "\n",
    "gdp_growth = gapminder_2007[['country', 'gdpPercap']].merge(gapminder_2002[['country', 'gdpPercap']], on='country', suffixes=('_2007', '_2002'))\n",
    "gdp_growth['gdp_increase'] = gdp_growth['gdpPercap_2007'] - gdp_growth['gdpPercap_2002']\n",
    "top_5_gdp_increase_countries = gdp_growth.nlargest(5, 'gdp_increase')['country'].tolist()\n",
    "top_5_gdp_increase_countries\n"
   ]
  },
  {
   "cell_type": "markdown",
   "metadata": {
    "id": "JRoJTPMz1BhK"
   },
   "source": [
    "#### 問題3-1\n",
    " 2007年のデータと、2002年のデータを抽出し、それぞれについて人口（pop）の上位10カ国を特定してください。次に、mergeを使用して、これらの2つの上位10カ国リストを比較し、両方のリストに含まれる国のデータを抽出してください。\n",
    "\n"
   ]
  },
  {
   "cell_type": "code",
   "execution_count": 100,
   "metadata": {
    "tags": [
     "remove-input",
     "remove-output"
    ]
   },
   "outputs": [
    {
     "name": "stdout",
     "output_type": "stream",
     "text": [
      "問題1:\n",
      "         country    pop_2007    pop_2002\n",
      "0          China  1318683096  1280400000\n",
      "1          India  1110396331  1034172547\n",
      "2  United States   301139947   287675526\n",
      "3      Indonesia   223547000   211060000\n",
      "4         Brazil   190010647   179914212\n",
      "5       Pakistan   169270617   153403524\n",
      "6     Bangladesh   150448339   135656790\n",
      "7        Nigeria   135031164   119901274\n",
      "8          Japan   127467972   127065841\n",
      "9         Mexico   108700891   102479927\n"
     ]
    }
   ],
   "source": [
    "# 問題1\n",
    "df_2007 = gapminder[gapminder['year'] == 2007]\n",
    "df_2002 = gapminder[gapminder['year'] == 2002]\n",
    "top_10_pop_2007 = df_2007.nlargest(10, 'pop')\n",
    "top_10_pop_2002 = df_2002.nlargest(10, 'pop')\n",
    "common_top_10 = top_10_pop_2007.merge(top_10_pop_2002, on='country', suffixes=('_2007', '_2002'))\n",
    "print(\"問題1:\")\n",
    "print(common_top_10[['country', 'pop_2007', 'pop_2002']])\n"
   ]
  },
  {
   "cell_type": "markdown",
   "metadata": {
    "id": "rn0l0nDf1PLt"
   },
   "source": [
    "#### 問題3-2\n",
    "2007年のデータから、各大陸のGDP（gdpPercap）の平均を計算し、新しいデータフレームに格納してください。同様に、2002年のデータから各大陸のGDPの平均を計算し、別の新しいデータフレームに格納してください。merge関数を使用して、これら2つのデータフレームを結合し、各大陸の2002年と2007年のGDP平均の比較が可能な新しいデータフレームを作成してください。"
   ]
  },
  {
   "cell_type": "code",
   "execution_count": 101,
   "metadata": {
    "tags": [
     "remove-input",
     "remove-output"
    ]
   },
   "outputs": [
    {
     "name": "stdout",
     "output_type": "stream",
     "text": [
      "\n",
      "問題3:\n",
      "  continent  gdpPercap_2007  gdpPercap_2002\n",
      "0    Africa     3089.032605     2599.385159\n",
      "1  Americas    11003.031625     9287.677107\n",
      "2      Asia    12473.026870    10174.090397\n",
      "3    Europe    25054.481636    21711.732422\n",
      "4   Oceania    29810.188275    26938.778040\n"
     ]
    }
   ],
   "source": [
    "# 問題3\n",
    "continent_gdp_2007 = df_2007.groupby('continent')['gdpPercap'].mean().reset_index()\n",
    "continent_gdp_2002 = df_2002.groupby('continent')['gdpPercap'].mean().reset_index()\n",
    "merged_continent_gdp = continent_gdp_2007.merge(continent_gdp_2002, on='continent', suffixes=('_2007', '_2002'))\n",
    "print(\"\\n問題3:\")\n",
    "print(merged_continent_gdp)\n"
   ]
  },
  {
   "cell_type": "markdown",
   "metadata": {
    "id": "qiyv3avjK6eu"
   },
   "source": [
    "#### 問題3-3\n",
    "gapminderデータセットから2002年と2007年のデータを抽出し、その期間でGDP（gdpPercap）が最も大きく増加した上位5位の国をリストアップしてください。\n"
   ]
  },
  {
   "cell_type": "code",
   "execution_count": 102,
   "metadata": {
    "tags": [
     "remove-input",
     "remove-output"
    ]
   },
   "outputs": [
    {
     "data": {
      "text/plain": [
       "['Kuwait', 'Saudi Arabia', 'Libya', 'Iraq', 'Gabon']"
      ]
     },
     "execution_count": 102,
     "metadata": {},
     "output_type": "execute_result"
    }
   ],
   "source": [
    "gapminder_1977 = gapminder[gapminder['year'] == 1977]\n",
    "gapminder_1997 = gapminder[gapminder['year'] == 1997]\n",
    "\n",
    "gdp_growth = gapminder_1997[['country', 'gdpPercap']].merge(gapminder_1977[['country', 'gdpPercap']], on='country', suffixes=('_1997', '_1977'))\n",
    "gdp_growth['gdp_decrease'] = gdp_growth['gdpPercap_1997'] - gdp_growth['gdpPercap_1977']\n",
    "top_5_gdp_decrease_countries = gdp_growth.sort_values('gdp_decrease')['country'].tolist()[:5]\n",
    "top_5_gdp_decrease_countries\n"
   ]
  }
 ],
 "metadata": {
  "anaconda-cloud": {},
  "colab": {
   "provenance": [],
   "toc_visible": true
  },
  "jupytext": {
   "encoding": "# -*- coding: utf-8 -*-",
   "formats": "ipynb,py"
  },
  "kernelspec": {
   "display_name": "Python 3",
   "language": "python",
   "name": "python3"
  },
  "language_info": {
   "codemirror_mode": {
    "name": "ipython",
    "version": 3
   },
   "file_extension": ".py",
   "mimetype": "text/x-python",
   "name": "python",
   "nbconvert_exporter": "python",
   "pygments_lexer": "ipython3",
   "version": "3.9.19"
  },
  "toc": {
   "base_numbering": 1,
   "nav_menu": {},
   "number_sections": true,
   "sideBar": true,
   "skip_h1_title": false,
   "title_cell": "Table of Contents",
   "title_sidebar": "Contents",
   "toc_cell": false,
   "toc_position": {
    "height": "calc(100% - 180px)",
    "left": "10px",
    "top": "150px",
    "width": "266.712px"
   },
   "toc_section_display": true,
   "toc_window_display": true
  }
 },
 "nbformat": 4,
 "nbformat_minor": 0
}
